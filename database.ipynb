{
 "cells": [
  {
   "cell_type": "code",
   "execution_count": 1,
   "metadata": {},
   "outputs": [],
   "source": [
    "import pandas as pd\n",
    "import numpy as np\n"
   ]
  },
  {
   "cell_type": "code",
   "execution_count": 2,
   "metadata": {},
   "outputs": [],
   "source": [
    "df = pd.read_csv('./csv/TODOS.csv')"
   ]
  },
  {
   "cell_type": "code",
   "execution_count": 3,
   "metadata": {},
   "outputs": [
    {
     "data": {
      "text/plain": [
       "np.int64(0)"
      ]
     },
     "execution_count": 3,
     "metadata": {},
     "output_type": "execute_result"
    }
   ],
   "source": [
    "df.duplicated().sum()"
   ]
  },
  {
   "cell_type": "code",
   "execution_count": 4,
   "metadata": {},
   "outputs": [
    {
     "data": {
      "text/plain": [
       "(3294, 6)"
      ]
     },
     "execution_count": 4,
     "metadata": {},
     "output_type": "execute_result"
    }
   ],
   "source": [
    "df.shape"
   ]
  },
  {
   "cell_type": "code",
   "execution_count": 5,
   "metadata": {},
   "outputs": [],
   "source": [
    "unique_values = {\n",
    "    'topic' : df.topic.unique(),\n",
    "    'subject' : df.subject.unique(),\n",
    "    'year' : df.year.unique(),\n",
    "    'exam' : df.exam.unique(),\n",
    "    'exercise' : df.exercise.unique()\n",
    "}\n",
    "    "
   ]
  },
  {
   "cell_type": "code",
   "execution_count": 6,
   "metadata": {},
   "outputs": [
    {
     "data": {
      "text/plain": [
       "{'topic': array(['Física cuántica y nuclear', 'Movimiento ondulatorio',\n",
       "        'Óptica geométrica', 'Campo electromagnético',\n",
       "        'Campo gravitatorio', 'Sistemas de ecuaciones lineales',\n",
       "        'Contraste De Hipótesis', 'Probabilidad', 'Inferencia Estadística',\n",
       "        'Funciones CCSS', 'Programación Lineal',\n",
       "        'Matrices y Determinantes', 'Equilibrio Químico', 'Ácido Base',\n",
       "        'Cantidad Química', 'Configuración Electrónica',\n",
       "        'Reacciones Redox', 'Reactividad Orgánica', 'Termoquímica',\n",
       "        'Formulación', 'Solubilidad', 'Enlace Químico'], dtype=object),\n",
       " 'subject': array(['Física', 'Mates CCSS', 'Química'], dtype=object),\n",
       " 'year': array([2016, 2017, 2018, 2019, 2020, 2021, 2022, 2023, 2024, 2001, 2002,\n",
       "        2003, 2004, 2005, 2006, 2007, 2009, 2010, 2011, 2012, 2013, 2014,\n",
       "        2015, 2008, 2000]),\n",
       " 'exam': array(['Junio', 'Reserva 2', 'Reserva 3', 'Reserva 4', 'Septiembre',\n",
       "        'Reserva 1', 'Julio', 'Ponencia', 'Modelo'], dtype=object),\n",
       " 'exercise': array(['Ejercicio 2, Opción B', 'Ejercicio 4, Opción A',\n",
       "        'Ejercicio 2, Opción A', 'Ejercicio 4, Opción B', 'Ejercicio 4',\n",
       "        'Ejercicio 8', 'Ejercicio D1', 'Ejercicio D2',\n",
       "        'Ejercicio 3, Opción A', 'Ejercicio 3, Opción B', 'Ejercicio 7',\n",
       "        'Ejercicio 3', 'Ejercicio C1', 'Ejercicio C2',\n",
       "        'Ejercicio 3, Parte I, Opción A', 'Ejercicio 1, Opción A',\n",
       "        'Ejercicio 1, Opción B', 'Ejercicio 2 Opcion A', 'Ejercicio 2',\n",
       "        'Ejercicio 6', 'Ejercicio B1', 'Ejercicio B2', 'Ejercicio 1',\n",
       "        'Ejercicio 5', 'Ejercicio A1', 'Ejercicio A2', 'Ejercicio 9',\n",
       "        'Ejercicio 10', 'Ejercicio 11', 'Ejercicio 12', 'Ejercicio 13',\n",
       "        'Ejercicio 14', 'Ejercicio 15', 'Ejercicio 16', 'Ejercicio 17',\n",
       "        'Ejercicio 18', 'Ejercicio 19', 'Ejercicio 20', 'Ejercicio 21',\n",
       "        'Ejercicio 22', 'Ejercicio 23', 'Ejercicio 24', 'Ejercicio 25',\n",
       "        'Ejercicio 26', 'Ejercicio 27', 'Ejercicio 3, Parte I, Opción B',\n",
       "        'Ejercicio 3, Parte 1, Opción B', 'Ejercicio C5', 'Ejercicio C6',\n",
       "        'Ejercicio 3, Parte II, Opción A',\n",
       "        'Ejercicio 3, Parte II, Opción B',\n",
       "        'Ejercicio 3, Parte III, Opción B',\n",
       "        'Ejercicio 3, Parte III, Opción A', 'Ejercicio D7', 'Ejercicio D8',\n",
       "        'Ejercicio B3', 'Ejercicio B4', 'Ejercicio 1B, Opción B',\n",
       "        'Ejercicio 5, Opción B', 'Ejercicio 6, Opción A',\n",
       "        'Ejercicio 6, Opción B', 'Ejercicio 5, Opción A', 'Ejercicio B5',\n",
       "        'Ejercicio C3', 'Ejercicio B6', 'Ejercicio C4'], dtype=object)}"
      ]
     },
     "execution_count": 6,
     "metadata": {},
     "output_type": "execute_result"
    }
   ],
   "source": [
    "unique_values"
   ]
  },
  {
   "cell_type": "code",
   "execution_count": 7,
   "metadata": {},
   "outputs": [],
   "source": [
    "def get_id(column: str, value:str) -> int:\n",
    "    return int(np.where(unique_values[column] == value)[0][0])"
   ]
  },
  {
   "cell_type": "code",
   "execution_count": 8,
   "metadata": {},
   "outputs": [],
   "source": [
    "for col in df.columns[:-1]:\n",
    "    df[f'{col}_id'] = df[col].apply(lambda x : get_id(column=col,value=x))"
   ]
  },
  {
   "cell_type": "code",
   "execution_count": 10,
   "metadata": {},
   "outputs": [],
   "source": [
    "df.to_csv('./csv/TODOS_id.csv',index=False)"
   ]
  },
  {
   "cell_type": "code",
   "execution_count": 9,
   "metadata": {},
   "outputs": [
    {
     "data": {
      "text/html": [
       "<div>\n",
       "<style scoped>\n",
       "    .dataframe tbody tr th:only-of-type {\n",
       "        vertical-align: middle;\n",
       "    }\n",
       "\n",
       "    .dataframe tbody tr th {\n",
       "        vertical-align: top;\n",
       "    }\n",
       "\n",
       "    .dataframe thead th {\n",
       "        text-align: right;\n",
       "    }\n",
       "</style>\n",
       "<table border=\"1\" class=\"dataframe\">\n",
       "  <thead>\n",
       "    <tr style=\"text-align: right;\">\n",
       "      <th></th>\n",
       "      <th>subject</th>\n",
       "      <th>year</th>\n",
       "      <th>topic</th>\n",
       "      <th>exam</th>\n",
       "      <th>exercise</th>\n",
       "      <th>statement</th>\n",
       "      <th>subject_id</th>\n",
       "      <th>year_id</th>\n",
       "      <th>topic_id</th>\n",
       "      <th>exam_id</th>\n",
       "      <th>exercise_id</th>\n",
       "    </tr>\n",
       "  </thead>\n",
       "  <tbody>\n",
       "    <tr>\n",
       "      <th>1583</th>\n",
       "      <td>Química</td>\n",
       "      <td>2002</td>\n",
       "      <td>Ácido Base</td>\n",
       "      <td>Septiembre</td>\n",
       "      <td>Ejercicio 4, Opción A</td>\n",
       "      <td>a) El pH de una disolución de un ácido monopró...</td>\n",
       "      <td>2</td>\n",
       "      <td>10</td>\n",
       "      <td>13</td>\n",
       "      <td>4</td>\n",
       "      <td>1</td>\n",
       "    </tr>\n",
       "    <tr>\n",
       "      <th>386</th>\n",
       "      <td>Mates CCSS</td>\n",
       "      <td>2002</td>\n",
       "      <td>Sistemas de ecuaciones lineales</td>\n",
       "      <td>Reserva 4</td>\n",
       "      <td>Ejercicio 1, Opción A</td>\n",
       "      <td>Un autobús transporta 90 viajeros con 3 tarifa...</td>\n",
       "      <td>1</td>\n",
       "      <td>10</td>\n",
       "      <td>5</td>\n",
       "      <td>3</td>\n",
       "      <td>15</td>\n",
       "    </tr>\n",
       "    <tr>\n",
       "      <th>1516</th>\n",
       "      <td>Mates CCSS</td>\n",
       "      <td>2023</td>\n",
       "      <td>Matrices y Determinantes</td>\n",
       "      <td>Reserva 4</td>\n",
       "      <td>Ejercicio A2</td>\n",
       "      <td>Se consideran las matrices A=|7 10 Z€4| B=1-2 ...</td>\n",
       "      <td>1</td>\n",
       "      <td>7</td>\n",
       "      <td>11</td>\n",
       "      <td>3</td>\n",
       "      <td>25</td>\n",
       "    </tr>\n",
       "    <tr>\n",
       "      <th>481</th>\n",
       "      <td>Mates CCSS</td>\n",
       "      <td>2002</td>\n",
       "      <td>Probabilidad</td>\n",
       "      <td>Reserva 3</td>\n",
       "      <td>Ejercicio 3, Parte I, Opción A</td>\n",
       "      <td>En un colectivo de personas, el 80 % tiene más...</td>\n",
       "      <td>1</td>\n",
       "      <td>10</td>\n",
       "      <td>7</td>\n",
       "      <td>2</td>\n",
       "      <td>14</td>\n",
       "    </tr>\n",
       "    <tr>\n",
       "      <th>108</th>\n",
       "      <td>Física</td>\n",
       "      <td>2017</td>\n",
       "      <td>Movimiento ondulatorio</td>\n",
       "      <td>Reserva 3</td>\n",
       "      <td>Ejercicio 3, Opción A</td>\n",
       "      <td>a) Considere la siguiente ecuación de las onda...</td>\n",
       "      <td>0</td>\n",
       "      <td>1</td>\n",
       "      <td>1</td>\n",
       "      <td>2</td>\n",
       "      <td>8</td>\n",
       "    </tr>\n",
       "  </tbody>\n",
       "</table>\n",
       "</div>"
      ],
      "text/plain": [
       "         subject  year                            topic        exam  \\\n",
       "1583     Química  2002                       Ácido Base  Septiembre   \n",
       "386   Mates CCSS  2002  Sistemas de ecuaciones lineales   Reserva 4   \n",
       "1516  Mates CCSS  2023         Matrices y Determinantes   Reserva 4   \n",
       "481   Mates CCSS  2002                     Probabilidad   Reserva 3   \n",
       "108       Física  2017           Movimiento ondulatorio   Reserva 3   \n",
       "\n",
       "                            exercise  \\\n",
       "1583           Ejercicio 4, Opción A   \n",
       "386            Ejercicio 1, Opción A   \n",
       "1516                    Ejercicio A2   \n",
       "481   Ejercicio 3, Parte I, Opción A   \n",
       "108            Ejercicio 3, Opción A   \n",
       "\n",
       "                                              statement  subject_id  year_id  \\\n",
       "1583  a) El pH de una disolución de un ácido monopró...           2       10   \n",
       "386   Un autobús transporta 90 viajeros con 3 tarifa...           1       10   \n",
       "1516  Se consideran las matrices A=|7 10 Z€4| B=1-2 ...           1        7   \n",
       "481   En un colectivo de personas, el 80 % tiene más...           1       10   \n",
       "108   a) Considere la siguiente ecuación de las onda...           0        1   \n",
       "\n",
       "      topic_id  exam_id  exercise_id  \n",
       "1583        13        4            1  \n",
       "386          5        3           15  \n",
       "1516        11        3           25  \n",
       "481          7        2           14  \n",
       "108          1        2            8  "
      ]
     },
     "execution_count": 9,
     "metadata": {},
     "output_type": "execute_result"
    }
   ],
   "source": [
    "df.sample(5)"
   ]
  }
 ],
 "metadata": {
  "kernelspec": {
   "display_name": "Python 3",
   "language": "python",
   "name": "python3"
  },
  "language_info": {
   "codemirror_mode": {
    "name": "ipython",
    "version": 3
   },
   "file_extension": ".py",
   "mimetype": "text/x-python",
   "name": "python",
   "nbconvert_exporter": "python",
   "pygments_lexer": "ipython3",
   "version": "3.12.1"
  }
 },
 "nbformat": 4,
 "nbformat_minor": 2
}
