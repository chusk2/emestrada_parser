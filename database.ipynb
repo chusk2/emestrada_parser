{
 "cells": [
  {
   "cell_type": "code",
   "execution_count": 9,
   "metadata": {},
   "outputs": [],
   "source": [
    "import pandas as pd\n",
    "import numpy as np\n",
    "import mysql.connector\n",
    "import json"
   ]
  },
  {
   "cell_type": "markdown",
   "metadata": {},
   "source": [
    "## Create database connection"
   ]
  },
  {
   "cell_type": "markdown",
   "metadata": {},
   "source": [
    "### Read database credentials from file"
   ]
  },
  {
   "cell_type": "code",
   "execution_count": 21,
   "metadata": {},
   "outputs": [],
   "source": [
    "db_credentials = json.load(open('db_credentials.json'))"
   ]
  },
  {
   "cell_type": "code",
   "execution_count": 24,
   "metadata": {},
   "outputs": [
    {
     "name": "stdout",
     "output_type": "stream",
     "text": [
      "Connected successfully!\n"
     ]
    }
   ],
   "source": [
    "# Configuración de la conexión\n",
    "conn = mysql.connector.connect(**db_credentials)\n",
    "cursor = conn.cursor()\n",
    "if cursor:\n",
    "    print(\"Connected successfully!\")"
   ]
  },
  {
   "cell_type": "markdown",
   "metadata": {},
   "source": [
    "## Load dataframe from csv file"
   ]
  },
  {
   "cell_type": "code",
   "execution_count": 36,
   "metadata": {},
   "outputs": [],
   "source": [
    "df = pd.read_csv('./csv/TODOS.csv')"
   ]
  },
  {
   "cell_type": "code",
   "execution_count": 28,
   "metadata": {},
   "outputs": [
    {
     "data": {
      "text/plain": [
       "Index(['subject', 'year', 'topic', 'exam', 'exercise_number', 'statement',\n",
       "       'subject_id', 'year_id', 'topic_id', 'exam_id', 'exercise_id'],\n",
       "      dtype='object')"
      ]
     },
     "execution_count": 28,
     "metadata": {},
     "output_type": "execute_result"
    }
   ],
   "source": [
    "df.columns"
   ]
  },
  {
   "cell_type": "code",
   "execution_count": 38,
   "metadata": {},
   "outputs": [
    {
     "data": {
      "text/plain": [
       "(3294, 6)"
      ]
     },
     "execution_count": 38,
     "metadata": {},
     "output_type": "execute_result"
    }
   ],
   "source": [
    "df.shape"
   ]
  },
  {
   "cell_type": "code",
   "execution_count": 39,
   "metadata": {},
   "outputs": [
    {
     "data": {
      "text/html": [
       "<div>\n",
       "<style scoped>\n",
       "    .dataframe tbody tr th:only-of-type {\n",
       "        vertical-align: middle;\n",
       "    }\n",
       "\n",
       "    .dataframe tbody tr th {\n",
       "        vertical-align: top;\n",
       "    }\n",
       "\n",
       "    .dataframe thead th {\n",
       "        text-align: right;\n",
       "    }\n",
       "</style>\n",
       "<table border=\"1\" class=\"dataframe\">\n",
       "  <thead>\n",
       "    <tr style=\"text-align: right;\">\n",
       "      <th></th>\n",
       "      <th>subject</th>\n",
       "      <th>year</th>\n",
       "      <th>topic</th>\n",
       "      <th>exam</th>\n",
       "      <th>exercise_number</th>\n",
       "      <th>statement</th>\n",
       "    </tr>\n",
       "  </thead>\n",
       "  <tbody>\n",
       "    <tr>\n",
       "      <th>0</th>\n",
       "      <td>Física</td>\n",
       "      <td>2016</td>\n",
       "      <td>Física cuántica y nuclear</td>\n",
       "      <td>Junio</td>\n",
       "      <td>Ejercicio 2, Opción B</td>\n",
       "      <td>a) Teoría de Einstein del efecto fotoeléctrico...</td>\n",
       "    </tr>\n",
       "    <tr>\n",
       "      <th>1</th>\n",
       "      <td>Física</td>\n",
       "      <td>2016</td>\n",
       "      <td>Física cuántica y nuclear</td>\n",
       "      <td>Junio</td>\n",
       "      <td>Ejercicio 4, Opción A</td>\n",
       "      <td>El * Pb emite dos partículas beta y se transfo...</td>\n",
       "    </tr>\n",
       "  </tbody>\n",
       "</table>\n",
       "</div>"
      ],
      "text/plain": [
       "  subject  year                      topic   exam        exercise_number  \\\n",
       "0  Física  2016  Física cuántica y nuclear  Junio  Ejercicio 2, Opción B   \n",
       "1  Física  2016  Física cuántica y nuclear  Junio  Ejercicio 4, Opción A   \n",
       "\n",
       "                                           statement  \n",
       "0  a) Teoría de Einstein del efecto fotoeléctrico...  \n",
       "1  El * Pb emite dos partículas beta y se transfo...  "
      ]
     },
     "execution_count": 39,
     "metadata": {},
     "output_type": "execute_result"
    }
   ],
   "source": [
    "df.head(2)"
   ]
  },
  {
   "cell_type": "markdown",
   "metadata": {},
   "source": [
    "## Insert values into db tables"
   ]
  },
  {
   "cell_type": "code",
   "execution_count": 44,
   "metadata": {},
   "outputs": [],
   "source": [
    "for col in df.columns[:-1]:\n",
    "    if col == 'year':\n",
    "        data = sorted([int(value) for value in df[col].unique()])\n",
    "    else:\n",
    "        data = sorted(list(df[col].unique()))  # Extract unique values\n",
    "    # truncate table\n",
    "    cursor.execute(f\"TRUNCATE TABLE {col}s\")\n",
    "    # insert data\n",
    "    cursor.executemany(f\"INSERT INTO {col}s ({col}) VALUES (%s)\", [(value,) for value in data])\n",
    "    conn.commit()"
   ]
  }
 ],
 "metadata": {
  "kernelspec": {
   "display_name": "venv",
   "language": "python",
   "name": "python3"
  },
  "language_info": {
   "codemirror_mode": {
    "name": "ipython",
    "version": 3
   },
   "file_extension": ".py",
   "mimetype": "text/x-python",
   "name": "python",
   "nbconvert_exporter": "python",
   "pygments_lexer": "ipython3",
   "version": "3.13.2"
  }
 },
 "nbformat": 4,
 "nbformat_minor": 2
}
