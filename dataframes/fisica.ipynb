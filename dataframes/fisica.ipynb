{
 "cells": [
  {
   "cell_type": "code",
   "execution_count": 1,
   "metadata": {},
   "outputs": [],
   "source": [
    "import pandas as pd\n",
    "import numpy as np"
   ]
  },
  {
   "cell_type": "code",
   "execution_count": 2,
   "metadata": {},
   "outputs": [],
   "source": [
    "df = pd.read_csv('/home/daniel/git_code/emestrada/csv/QUIMICA/QUIMICA.csv')"
   ]
  },
  {
   "cell_type": "code",
   "execution_count": null,
   "metadata": {},
   "outputs": [],
   "source": [
    "# df.to_csv('/home/daniel/git_code/emestrada/csv/QUIMICA/QUIMICA.csv', index = False)"
   ]
  },
  {
   "cell_type": "code",
   "execution_count": 3,
   "metadata": {},
   "outputs": [
    {
     "data": {
      "text/html": [
       "<div>\n",
       "<style scoped>\n",
       "    .dataframe tbody tr th:only-of-type {\n",
       "        vertical-align: middle;\n",
       "    }\n",
       "\n",
       "    .dataframe tbody tr th {\n",
       "        vertical-align: top;\n",
       "    }\n",
       "\n",
       "    .dataframe thead th {\n",
       "        text-align: right;\n",
       "    }\n",
       "</style>\n",
       "<table border=\"1\" class=\"dataframe\">\n",
       "  <thead>\n",
       "    <tr style=\"text-align: right;\">\n",
       "      <th></th>\n",
       "      <th>subject</th>\n",
       "      <th>year</th>\n",
       "      <th>topic</th>\n",
       "      <th>exam</th>\n",
       "      <th>exercise</th>\n",
       "      <th>statement</th>\n",
       "    </tr>\n",
       "  </thead>\n",
       "  <tbody>\n",
       "    <tr>\n",
       "      <th>669</th>\n",
       "      <td>Química</td>\n",
       "      <td>2003</td>\n",
       "      <td>Conf. Electrónica</td>\n",
       "      <td>Reserva 2</td>\n",
       "      <td>Ejercicio 2 Opción B</td>\n",
       "      <td>Dadas las siguientes configuraciones electróni...</td>\n",
       "    </tr>\n",
       "    <tr>\n",
       "      <th>418</th>\n",
       "      <td>Química</td>\n",
       "      <td>2015</td>\n",
       "      <td>Cantidad Química</td>\n",
       "      <td>Reserva 1</td>\n",
       "      <td>Ejercicio 5 Opción A</td>\n",
       "      <td>En la reacción del carbonato de calcio con el ...</td>\n",
       "    </tr>\n",
       "    <tr>\n",
       "      <th>717</th>\n",
       "      <td>Química</td>\n",
       "      <td>2011</td>\n",
       "      <td>Conf. Electrónica</td>\n",
       "      <td>Reserva 2</td>\n",
       "      <td>Ejercicio 3 Opción B</td>\n",
       "      <td>Un átomo X en estado excitado presenta la sigu...</td>\n",
       "    </tr>\n",
       "    <tr>\n",
       "      <th>1069</th>\n",
       "      <td>Química</td>\n",
       "      <td>2007</td>\n",
       "      <td>Reactividad Orgánica</td>\n",
       "      <td>Reserva 2</td>\n",
       "      <td>Ejercicio 4 Opción B</td>\n",
       "      <td>Indique los productos que se obtienen en cada ...</td>\n",
       "    </tr>\n",
       "    <tr>\n",
       "      <th>988</th>\n",
       "      <td>Química</td>\n",
       "      <td>2020</td>\n",
       "      <td>Reacciones Redox</td>\n",
       "      <td>Reserva 2</td>\n",
       "      <td>Ejercicio B4</td>\n",
       "      <td>Se desea construir una pila en la que el cátod...</td>\n",
       "    </tr>\n",
       "  </tbody>\n",
       "</table>\n",
       "</div>"
      ],
      "text/plain": [
       "      subject  year                 topic       exam              exercise  \\\n",
       "669   Química  2003     Conf. Electrónica  Reserva 2  Ejercicio 2 Opción B   \n",
       "418   Química  2015      Cantidad Química  Reserva 1  Ejercicio 5 Opción A   \n",
       "717   Química  2011     Conf. Electrónica  Reserva 2  Ejercicio 3 Opción B   \n",
       "1069  Química  2007  Reactividad Orgánica  Reserva 2  Ejercicio 4 Opción B   \n",
       "988   Química  2020      Reacciones Redox  Reserva 2          Ejercicio B4   \n",
       "\n",
       "                                              statement  \n",
       "669   Dadas las siguientes configuraciones electróni...  \n",
       "418   En la reacción del carbonato de calcio con el ...  \n",
       "717   Un átomo X en estado excitado presenta la sigu...  \n",
       "1069  Indique los productos que se obtienen en cada ...  \n",
       "988   Se desea construir una pila en la que el cátod...  "
      ]
     },
     "execution_count": 3,
     "metadata": {},
     "output_type": "execute_result"
    }
   ],
   "source": [
    "df.sample(5)"
   ]
  },
  {
   "cell_type": "code",
   "execution_count": 12,
   "metadata": {},
   "outputs": [
    {
     "name": "stdout",
     "output_type": "stream",
     "text": [
      "subject: Química\n",
      "year: 2012, 2014, 2015, 2017, 2018, 2000, 2001, 2002, 2003, 2004, 2005, 2006, 2007, 2008, 2009, 2010, 2011, 2013, 2016, 2019, 2020, 2021, 2022, 2023, 2024\n",
      "topic: Equilibrio Químico, Ácido Base, Cantidad Química, Configuración Electrónica, Reacciones Redox, Reactividad Orgánica, Termoquímica, Formulación, Solubilidad, Enlace Químico\n",
      "exam: Junio, Reserva 1, Reserva 2, Reserva 3, Septiembre, Reserva 4, Julio\n",
      "exercise: Ejercicio 5, Opción B, Ejercicio 6, Opción A, Ejercicio 3, Opción A, Ejercicio 6, Opción B, Ejercicio 3, Opción B, Ejercicio 4, Opción A, Ejercicio 5, Opción A, Ejercicio 4, Opción B, B5, C3, Ejercicio B4, Ejercicio C3, Ejercicio B5, Ejercicio 2, Opción A, Ejercicio 2, Opción B, B2, C1, Ejercicio C1, Ejercicio B2, B6, Ejercicio B6, B1, B4, Ejercicio B1, C4, Ejercicio C4, Ejercicio C2, Ejercicio 1, Opción A, Ejercicio 1, Opción B, Ejercicio A1, Ejercicio A2, C2, Ejercicio Bs, B3, Ejercicio B3\n"
     ]
    }
   ],
   "source": [
    "for col in df.columns[:-1]:\n",
    "    print(col, end=': ')\n",
    "    print(*df[col].unique(), sep=', ')"
   ]
  },
  {
   "cell_type": "code",
   "execution_count": 5,
   "metadata": {},
   "outputs": [],
   "source": [
    "df.loc[df.topic == 'Conf. Electrónica', 'topic'] = 'Configuración Electrónica'"
   ]
  },
  {
   "cell_type": "code",
   "execution_count": 6,
   "metadata": {},
   "outputs": [],
   "source": [
    "df.subject = 'Química'"
   ]
  },
  {
   "cell_type": "code",
   "execution_count": 23,
   "metadata": {},
   "outputs": [
    {
     "name": "stdout",
     "output_type": "stream",
     "text": [
      "Ejercicio 1, Opción A\n",
      "Ejercicio 1, Opción B\n",
      "Ejercicio 2, Opción A\n",
      "Ejercicio 2, Opción B\n",
      "Ejercicio 3, Opción A\n",
      "Ejercicio 3, Opción B\n",
      "Ejercicio 4, Opción A\n",
      "Ejercicio 4, Opción B\n",
      "Ejercicio 5, Opción A\n",
      "Ejercicio 5, Opción B\n",
      "Ejercicio 6, Opción A\n",
      "Ejercicio 6, Opción B\n",
      "Ejercicio A1\n",
      "Ejercicio A2\n",
      "Ejercicio B1\n",
      "Ejercicio B2\n",
      "Ejercicio B3\n",
      "Ejercicio B4\n",
      "Ejercicio B5\n",
      "Ejercicio B6\n",
      "Ejercicio C1\n",
      "Ejercicio C2\n",
      "Ejercicio C3\n",
      "Ejercicio C4\n"
     ]
    }
   ],
   "source": [
    "print(*df.exercise.sort_values().unique(), sep='\\n')"
   ]
  },
  {
   "cell_type": "code",
   "execution_count": 8,
   "metadata": {},
   "outputs": [],
   "source": [
    "exercises = df.exercise"
   ]
  },
  {
   "cell_type": "code",
   "execution_count": 21,
   "metadata": {},
   "outputs": [],
   "source": [
    "df.loc[df.exercise == 'Ejercicio Bs', 'exercise' ] = 'Ejercicio B5'"
   ]
  },
  {
   "cell_type": "code",
   "execution_count": 9,
   "metadata": {},
   "outputs": [],
   "source": [
    "def add_comma_before(string: str) -> str:\n",
    "    if 'Opci' in string:\n",
    "        string = (string.replace(' Opción', ', Opción')\n",
    "                  .replace(' Opcion', ', Opción')\n",
    "                  .replace(' Opcióon', ', Opción')\n",
    "                  .replace(' Parte', ', Parte')\n",
    "                  .replace('Ii', 'II')\n",
    "                  .replace('Il', 'II')\n",
    "                  .replace('Iil', 'III')\n",
    "                  .replace('It', 'II')\n",
    "        )\n",
    "    return string"
   ]
  },
  {
   "cell_type": "code",
   "execution_count": 10,
   "metadata": {},
   "outputs": [],
   "source": [
    "df.exercise = df.exercise.apply(add_comma_before)"
   ]
  },
  {
   "cell_type": "code",
   "execution_count": 15,
   "metadata": {},
   "outputs": [],
   "source": [
    "indexes = df.loc[~df.exercise.str.startswith('Ejercicio'), 'exercise'].index"
   ]
  },
  {
   "cell_type": "code",
   "execution_count": 25,
   "metadata": {},
   "outputs": [],
   "source": [
    "files = ['../csv/FISICA/FISICA.csv', '../csv/MATES CCSS/MATES_CCSS.csv', '../csv/QUIMICA/QUIMICA.csv']\n",
    "DF = pd.DataFrame()\n",
    "for f in files:\n",
    "    dataframe = pd.read_csv(f)\n",
    "    DF = pd.concat([DF, dataframe], axis = 0)"
   ]
  },
  {
   "cell_type": "code",
   "execution_count": 26,
   "metadata": {},
   "outputs": [
    {
     "data": {
      "text/html": [
       "<div>\n",
       "<style scoped>\n",
       "    .dataframe tbody tr th:only-of-type {\n",
       "        vertical-align: middle;\n",
       "    }\n",
       "\n",
       "    .dataframe tbody tr th {\n",
       "        vertical-align: top;\n",
       "    }\n",
       "\n",
       "    .dataframe thead th {\n",
       "        text-align: right;\n",
       "    }\n",
       "</style>\n",
       "<table border=\"1\" class=\"dataframe\">\n",
       "  <thead>\n",
       "    <tr style=\"text-align: right;\">\n",
       "      <th></th>\n",
       "      <th>subject</th>\n",
       "      <th>year</th>\n",
       "      <th>topic</th>\n",
       "      <th>exam</th>\n",
       "      <th>exercise</th>\n",
       "      <th>statement</th>\n",
       "    </tr>\n",
       "  </thead>\n",
       "  <tbody>\n",
       "    <tr>\n",
       "      <th>1049</th>\n",
       "      <td>Mates CCSS</td>\n",
       "      <td>2011</td>\n",
       "      <td>Matrices y Determinantes</td>\n",
       "      <td>Junio</td>\n",
       "      <td>Ejercicio 1, Opción A</td>\n",
       "      <td>, 2 —5 3—2\\nSean las matrices A = , , B= &gt;\\n—3...</td>\n",
       "    </tr>\n",
       "    <tr>\n",
       "      <th>224</th>\n",
       "      <td>Mates CCSS</td>\n",
       "      <td>2013</td>\n",
       "      <td>Probabilidad</td>\n",
       "      <td>Reserva 1</td>\n",
       "      <td>Ejercicio 3, Opción A</td>\n",
       "      <td>Una granja avícola dedicada a la producción de...</td>\n",
       "    </tr>\n",
       "    <tr>\n",
       "      <th>390</th>\n",
       "      <td>Química</td>\n",
       "      <td>2012</td>\n",
       "      <td>Cantidad Química</td>\n",
       "      <td>Junio</td>\n",
       "      <td>Ejercicio 2, Opción B</td>\n",
       "      <td>Se dispone de tres recipientes que contienen e...</td>\n",
       "    </tr>\n",
       "    <tr>\n",
       "      <th>1090</th>\n",
       "      <td>Química</td>\n",
       "      <td>2011</td>\n",
       "      <td>Reactividad Orgánica</td>\n",
       "      <td>Reserva 4</td>\n",
       "      <td>Ejercicio 4, Opción A</td>\n",
       "      <td>Escriba un compuesto que se ajuste a las sigui...</td>\n",
       "    </tr>\n",
       "    <tr>\n",
       "      <th>1329</th>\n",
       "      <td>Química</td>\n",
       "      <td>2003</td>\n",
       "      <td>Formulación</td>\n",
       "      <td>Reserva 1</td>\n",
       "      <td>Ejercicio 1, Opción A</td>\n",
       "      <td>Formule o nombre los compuestos siguientes: a)...</td>\n",
       "    </tr>\n",
       "  </tbody>\n",
       "</table>\n",
       "</div>"
      ],
      "text/plain": [
       "         subject  year                     topic       exam  \\\n",
       "1049  Mates CCSS  2011  Matrices y Determinantes      Junio   \n",
       "224   Mates CCSS  2013              Probabilidad  Reserva 1   \n",
       "390      Química  2012          Cantidad Química      Junio   \n",
       "1090     Química  2011      Reactividad Orgánica  Reserva 4   \n",
       "1329     Química  2003               Formulación  Reserva 1   \n",
       "\n",
       "                   exercise                                          statement  \n",
       "1049  Ejercicio 1, Opción A  , 2 —5 3—2\\nSean las matrices A = , , B= >\\n—3...  \n",
       "224   Ejercicio 3, Opción A  Una granja avícola dedicada a la producción de...  \n",
       "390   Ejercicio 2, Opción B  Se dispone de tres recipientes que contienen e...  \n",
       "1090  Ejercicio 4, Opción A  Escriba un compuesto que se ajuste a las sigui...  \n",
       "1329  Ejercicio 1, Opción A  Formule o nombre los compuestos siguientes: a)...  "
      ]
     },
     "execution_count": 26,
     "metadata": {},
     "output_type": "execute_result"
    }
   ],
   "source": [
    "DF.sample(5)"
   ]
  },
  {
   "cell_type": "code",
   "execution_count": 28,
   "metadata": {},
   "outputs": [
    {
     "name": "stdout",
     "output_type": "stream",
     "text": [
      "subject : ['Física' 'Mates CCSS' 'Química']\n",
      "year : [2016 2017 2018 2019 2020 2021 2022 2023 2024 2001 2002 2003 2004 2005\n",
      " 2006 2007 2009 2010 2011 2012 2013 2014 2015 2008 2000]\n",
      "topic : ['Física cuántica y nuclear' 'Movimiento ondulatorio' 'Óptica geométrica'\n",
      " 'Campo electromagnético' 'Campo gravitatorio'\n",
      " 'Sistemas de ecuaciones lineales' 'Contraste De Hipótesis' 'Probabilidad'\n",
      " 'Inferencia Estadística' 'Funciones CCSS' 'Programación Lineal'\n",
      " 'Matrices y Determinantes' 'Equilibrio Químico' 'Ácido Base'\n",
      " 'Cantidad Química' 'Configuración Electrónica' 'Reacciones Redox'\n",
      " 'Reactividad Orgánica' 'Termoquímica' 'Formulación' 'Solubilidad'\n",
      " 'Enlace Químico']\n",
      "exam : ['Junio' 'Reserva 2' 'Reserva 3' 'Reserva 4' 'Septiembre' 'Reserva 1'\n",
      " 'Julio' 'Ponencia' 'Modelo']\n"
     ]
    }
   ],
   "source": [
    "for col in DF.columns[:-2]:\n",
    "    print(f'{col} : {DF[col].unique()}')"
   ]
  },
  {
   "cell_type": "code",
   "execution_count": 41,
   "metadata": {},
   "outputs": [
    {
     "name": "stdout",
     "output_type": "stream",
     "text": [
      "Ejercicio 2, Opción B\n",
      "Ejercicio 4, Opción A\n",
      "Ejercicio 2, Opción A\n",
      "Ejercicio 4, Opción B\n",
      "Ejercicio 4\n",
      "Ejercicio 8\n",
      "Ejercicio D1\n",
      "Ejercicio D2\n",
      "Ejercicio 3, Opción A\n",
      "Ejercicio 3, Opción B\n",
      "Ejercicio 7\n",
      "Ejercicio 3\n",
      "Ejercicio C1\n",
      "Ejercicio C2\n",
      "Ejercicio 3, Parte I, Opción A\n",
      "Ejercicio 1, Opción A\n",
      "Ejercicio 1, Opción B\n",
      "Ejercicio 2 Opcion A\n",
      "Ejercicio 2\n",
      "Ejercicio 6\n",
      "Ejercicio B1\n",
      "Ejercicio B2\n",
      "Ejercicio 1\n",
      "Ejercicio 5\n",
      "Ejercicio A1\n",
      "Ejercicio A2\n",
      "Ejercicio 9\n",
      "Ejercicio 10\n",
      "Ejercicio 11\n",
      "Ejercicio 12\n",
      "Ejercicio 13\n",
      "Ejercicio 14\n",
      "Ejercicio 15\n",
      "Ejercicio 16\n",
      "Ejercicio 17\n",
      "Ejercicio 18\n",
      "Ejercicio 19\n",
      "Ejercicio 20\n",
      "Ejercicio 21\n",
      "Ejercicio 22\n",
      "Ejercicio 23\n",
      "Ejercicio 24\n",
      "Ejercicio 25\n",
      "Ejercicio 26\n",
      "Ejercicio 27\n",
      "Ejercicio 3, Parte I, Opción B\n",
      "Ejercicio 3, Parte 1, Opción B\n",
      "Ejercicio C5\n",
      "Ejercicio C6\n",
      "Ejercicio 3, Parte II, Opción A\n",
      "Ejercicio 3, Parte II, Opción B\n",
      "Ejercicio 3, Parte III, Opción B\n",
      "Ejercicio 3, Parte III, Opción A\n",
      "Ejercicio D7\n",
      "Ejercicio D8\n",
      "Ejercicio B3\n",
      "Ejercicio B4\n",
      "Ejercicio 1B, Opción B\n",
      "Ejercicio 5, Opción B\n",
      "Ejercicio 6, Opción A\n",
      "Ejercicio 6, Opción B\n",
      "Ejercicio 5, Opción A\n",
      "Ejercicio B5\n",
      "Ejercicio C3\n",
      "Ejercicio B6\n",
      "Ejercicio C4\n"
     ]
    }
   ],
   "source": [
    "print(*DF.exercise.unique(), sep='\\n')"
   ]
  },
  {
   "cell_type": "code",
   "execution_count": 40,
   "metadata": {},
   "outputs": [],
   "source": [
    "DF.loc[DF.exercise == 'Ejercicio $', 'exercise'] = 'Ejercicio 8'"
   ]
  },
  {
   "cell_type": "code",
   "execution_count": 33,
   "metadata": {},
   "outputs": [],
   "source": [
    "DF.loc[174, 'exercise'] = 'Ejercicio 3, Parte I, Opción A'\n",
    "DF.loc[1067, 'exercise'] = 'Ejercicio 1, Opción A'"
   ]
  },
  {
   "cell_type": "code",
   "execution_count": 42,
   "metadata": {},
   "outputs": [],
   "source": [
    "DF.to_csv('../csv/TODOS.csv', index = False)"
   ]
  }
 ],
 "metadata": {
  "kernelspec": {
   "display_name": "venv",
   "language": "python",
   "name": "python3"
  },
  "language_info": {
   "codemirror_mode": {
    "name": "ipython",
    "version": 3
   },
   "file_extension": ".py",
   "mimetype": "text/x-python",
   "name": "python",
   "nbconvert_exporter": "python",
   "pygments_lexer": "ipython3",
   "version": "3.13.2"
  }
 },
 "nbformat": 4,
 "nbformat_minor": 2
}
