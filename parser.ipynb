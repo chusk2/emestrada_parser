{
 "cells": [
  {
   "cell_type": "code",
   "execution_count": 7,
   "metadata": {},
   "outputs": [
    {
     "name": "stdout",
     "output_type": "stream",
     "text": [
      "Collecting PyMuPDF\n",
      "  Downloading pymupdf-1.25.3-cp39-abi3-manylinux2014_x86_64.manylinux_2_17_x86_64.whl.metadata (3.4 kB)\n",
      "Downloading pymupdf-1.25.3-cp39-abi3-manylinux2014_x86_64.manylinux_2_17_x86_64.whl (20.0 MB)\n",
      "\u001b[2K   \u001b[90m━━━━━━━━━━━━━━━━━━━━━━━━━━━━━━━━━━━━━━━━\u001b[0m \u001b[32m20.0/20.0 MB\u001b[0m \u001b[31m11.3 MB/s\u001b[0m eta \u001b[36m0:00:00\u001b[0ma \u001b[36m0:00:01\u001b[0m\n",
      "\u001b[?25hInstalling collected packages: PyMuPDF\n",
      "Successfully installed PyMuPDF-1.25.3\n"
     ]
    }
   ],
   "source": [
    "!pip install PyMuPDF"
   ]
  },
  {
   "cell_type": "code",
   "execution_count": 8,
   "metadata": {},
   "outputs": [],
   "source": [
    "import fitz"
   ]
  },
  {
   "cell_type": "code",
   "execution_count": 9,
   "metadata": {},
   "outputs": [],
   "source": [
    "def extract_text_from_pdf(pdf_path, output_txt_path=None):\n",
    "    \"\"\"Extracts text from a PDF and optionally saves it to a text file.\"\"\"\n",
    "    doc = fitz.open(pdf_path)\n",
    "    text = \"\\n\".join(page.get_text(\"text\") for page in doc)\n",
    "\n",
    "    if output_txt_path:\n",
    "        with open(output_txt_path, \"w\", encoding=\"utf-8\") as f:\n",
    "            f.write(text)\n",
    "    \n",
    "    return text"
   ]
  },
  {
   "cell_type": "code",
   "execution_count": 19,
   "metadata": {},
   "outputs": [],
   "source": [
    "import fitz  # PyMuPDF\n",
    "\n",
    "def extract_text_with_box(pdf_path, output_txt_path=None):\n",
    "    doc = fitz.open(pdf_path)\n",
    "    text = \"\"\n",
    "    \n",
    "    # Extracting text using the \"dict\" option\n",
    "    for page in doc:\n",
    "        blocks = page.get_text(\"dict\")[\"blocks\"]\n",
    "        \n",
    "        for block in blocks:\n",
    "            # Each block is a dictionary containing 'type', 'bbox', and 'lines'\n",
    "            if block['type'] == 0:  # Text block\n",
    "                text += \"\".join([line[\"spans\"][0][\"text\"] for line in block[\"lines\"]]) + \"\\n\"\n",
    "    \n",
    "    if output_txt_path:\n",
    "        with open(output_txt_path, \"w\", encoding=\"utf-8\") as f:\n",
    "            f.write(text)\n",
    "    return text\n"
   ]
  },
  {
   "cell_type": "code",
   "execution_count": 20,
   "metadata": {},
   "outputs": [
    {
     "data": {
      "text/plain": [
       "' \\nwww.emestrada.org \\nPROBLEMAS RESUELTOS  SELECTIVIDAD ANDALUCÍA \\n2024  \\n \\nMATEMÁTICAS II \\nTEMA 1: MATRICES Y DETERMINANTES \\n \\n•\\n•\\n•\\n•\\n•\\n•\\n•\\n \\n \\n \\n \\n \\n \\n \\n \\n \\n \\n \\n \\n \\n \\n \\n \\n \\n \\n \\n \\nwww.emestrada.org \\n              R  E  S  O  L  U  C  I  Ó  N  \\na) Calculamos: 2\\n11112211111188888844010010010010\\n001001001001\\nA\\n\\uf0e6\\uf0f6\\uf0e6\\uf0f6\\uf0e6\\uf0f6\\uf0e6\\uf0f6\\uf0e7\\uf0f7\\uf0e7\\uf0f7\\uf0e7\\uf0f7\\uf0e7\\uf0f7\\uf0e7\\uf0f7\\uf0e7\\uf0f7\\uf0e7\\uf0f7\\uf0e7\\uf0f7=\\uf0d7==\\uf0e7\\uf0f7\\uf0e7\\uf0f7\\uf0e7\\uf0f7\\uf0e7\\uf0f7\\uf0e7\\uf0f7\\uf0e7\\uf0f7\\uf0e7\\uf0f7\\uf0e7\\uf0f7\\uf0e7\\uf0f7\\uf0e7\\uf0f7\\uf0e7\\uf0f7\\uf0e7\\uf0f7\\uf0e8\\uf0f8\\uf0e8\\uf0f8\\uf0e8\\uf0f8\\uf0e8\\uf0f8\\n \\n             3\\n113311111888844010010010\\n001001001\\nA\\n\\uf0e6\\uf0f6\\uf0e6\\uf0f6\\uf0e6\\uf0f6\\uf0e7\\uf0f7\\uf0e7\\uf0f7\\uf0e7\\uf0f7\\uf0e7\\uf0f7\\uf0e7\\uf0f7\\uf0e7\\uf0f7=\\uf0d7=\\uf0e7\\uf0f7\\uf0e7\\uf0f7\\uf0e7\\uf0f7\\uf0e7\\uf0f7\\uf0e7\\uf0f7\\uf0e7\\uf0f7\\uf0e7\\uf0f7\\uf0e7\\uf0f7\\uf0e7\\uf0f7\\uf0e8\\uf0f8\\uf0e8\\uf0f8\\uf0e8\\uf0f8\\n \\n             4\\n44111111111188444422010010010010\\n001001001001\\nA\\n\\uf0e6\\uf0f6\\uf0e6\\uf0f6\\uf0e6\\uf0f6\\uf0e6\\uf0f6\\n\\uf0e7\\uf0f7\\uf0e7\\uf0f7\\uf0e7\\uf0f7\\uf0e7\\uf0f7\\n\\uf0e7\\uf0f7\\uf0e7\\uf0f7\\uf0e7\\uf0f7\\uf0e7\\uf0f7=\\uf0d7== \\uf0e7\\uf0f7\\uf0e7\\uf0f7\\uf0e7\\uf0f7\\uf0e7\\uf0f7\\n\\uf0e7\\uf0f7\\uf0e7\\uf0f7\\uf0e7\\uf0f7\\uf0e7\\uf0f7\\n\\uf0e7\\uf0f7\\uf0e7\\uf0f7\\uf0e7\\uf0f7\\uf0e7\\uf0f7\\uf0e8\\uf0f8\\uf0e8\\uf0f8\\uf0e8\\uf0f8\\uf0e8\\uf0f8\\n \\nPor lo tanto: 2024\\n202420241112532538888010010010\\n001001001\\nn\\nnn\\nAA\\n\\uf0e6\\uf0f6\\uf0e6\\uf0f6\\uf0e7\\uf0f7\\uf0e7\\uf0f7\\uf0e6\\uf0f6\\uf0e7\\uf0f7\\uf0e7\\uf0f7\\uf0e7\\uf0f7=\\uf0de==\\uf0e7\\uf0f7\\uf0e7\\uf0f7\\uf0e7\\uf0f7\\uf0e7\\uf0f7\\uf0e7\\uf0f7\\uf0e7\\uf0f7\\uf0e8\\uf0f8\\uf0e7\\uf0f7\\uf0e7\\uf0f7\\uf0e8\\uf0f8\\uf0e8\\uf0f8\\n \\n b) Despejamos la matriz  \\n()\\n22111\\n31111113AX AIOAX AIAA A X AI AA X AA\\nAA X A AAAAXAA\\n−−−\\n−−−−−−−\\uf0d7\\uf0d7+=\\uf0de\\uf0d7\\uf0d7= −\\uf0de\\uf0d7\\uf0d7\\uf0d7\\uf0d7= −\\uf0d7\\uf0de\\uf0d7\\uf0d7= −\\uf0de\\n\\uf0de\\uf0d7\\uf0d7\\uf0d7\\uf0d7= −\\uf0d7\\uf0d7\\uf0de= −= −\\n \\nLuego, 3\\n3333118888010010\\n001001\\nXA\\n−−\\uf0e6\\uf0f6\\uf0e6\\uf0f6−\\uf0e7\\uf0f7\\uf0e7\\uf0f7\\uf0e7\\uf0f7\\uf0e7\\uf0f7= −= −=−\\uf0e7\\uf0f7\\uf0e7\\uf0f7\\uf0e7\\uf0f7\\uf0e7\\uf0f7−\\uf0e7\\uf0f7\\uf0e7\\uf0f7\\uf0e8\\uf0f8\\uf0e8\\uf0f8\\n \\nConsidera la matriz \\n11188010\\n001\\nA\\n\\uf0e6\\uf0f6\\uf0e7\\uf0f7\\uf0e7\\uf0f7= \\uf0e7\\uf0f7\\uf0e7\\uf0f7\\uf0e7\\uf0f7\\uf0e8\\uf0f8\\n \\na) Calcula 2024A b) Halla la matriz 2AX AIO\\uf0d7\\uf0d7+=, donde identidad y la matriz nula de orden 3, respectivamente. MATEMÁTICAS II. 2024. JUNIO. EJERCICIO 5\\n \\nwww.emestrada.org \\n         \\n   R  E  S  O  L  U  C  I  Ó  N  a) Calculamos la matriz 2A\\n2\\n101101213101021112112335Ammmmm\\n−\\uf0e6\\uf0f6\\uf0e6\\uf0f6\\uf0e6\\uf0f6\\uf0e7\\uf0f7\\uf0e7\\uf0f7\\uf0e7\\uf0f7=\\uf0d7=\\uf0e7\\uf0f7\\uf0e7\\uf0f7\\uf0e7\\uf0f7\\uf0e7\\uf0f7\\uf0e7\\uf0f7\\uf0e7\\uf0f7−−−−\\uf0e8\\uf0f8\\uf0e8\\uf0f8\\uf0e8\\uf0f8\\n \\n Calculamos su determinante: \\n22213212101335Ammmmmm\\n−==−+ =\\uf0de=−−\\n \\n Luego, tiene inversa para 1m b) Calculamos la inversa para 0m \\n221\\n2\\n503\\n413543302()()0101332\\nt\\nadjtAA\\nA\\n−\\n−\\uf0e6\\uf0f6\\uf0e7\\uf0f7−\\uf0e7\\uf0f7−−\\uf0e6\\uf0f6\\uf0e7\\uf0f7−\\uf0e7\\uf0f7\\uf0e8\\uf0f8=== \\uf0e7\\uf0f7\\uf0e7\\uf0f7−\\uf0e8\\uf0f8\\n \\n Calculamos la matriz  \\n22111()()()22A XABXAAB−=+\\uf0de=\\uf0d7+=\\n5431014801010010044233211241220\\n543381301377110100540542233251122191353\\n−−\\uf0e9−\\uf0f9\\uf0e6\\uf0f6\\uf0e6\\uf0f6\\uf0e6\\uf0f6\\uf0ea\\uf0fa\\uf0e7\\uf0f7\\uf0e7\\uf0f7\\uf0e7\\uf0f7=\\uf0d7+=\\uf0ea\\uf0fa\\uf0e7\\uf0f7\\uf0e7\\uf0f7\\uf0e7\\uf0f7\\uf0e7\\uf0f7\\uf0e7\\uf0f7\\uf0e7\\uf0f7\\uf0ea\\uf0fa−−\\uf0e8\\uf0f8\\uf0e8\\uf0f8\\uf0e8\\uf0f8\\uf0eb\\uf0fb−−−−−−\\uf0e6\\uf0f6\\uf0e6\\uf0f6\\uf0e6\\uf0f6\\uf0e7\\uf0f7\\uf0e7\\uf0f7\\uf0e7\\uf0f7=\\uf0d7=\\uf0e7\\uf0f7\\uf0e7\\uf0f7\\uf0e7\\uf0f7\\uf0e7\\uf0f7\\uf0e7\\uf0f7\\uf0e7\\uf0f7−\\uf0e8\\uf0f8\\uf0e8\\uf0f8\\uf0e8\\uf0f8\\n \\n \\nConsidera las matrices  \\n101\\n10\\n112\\n\\uf0e6\\uf0f6\\uf0e7\\uf0f7= \\uf0e7\\uf0f7\\uf0e7\\uf0f7−\\uf0e8\\uf0f8\\nAm    y   \\n480\\n044\\n41220\\n−\\uf0e6\\uf0f6\\uf0e7\\uf0f7= \\uf0e7\\uf0f7\\uf0e7\\uf0f7\\uf0e8\\uf0f8\\nB \\na) Determina los valores de 2A\\nb) Para 0=m calcula, si es posible, la matriz 21 ()2=+A XAB\\nMATEMÁTICAS II. 2024. RESERVA 1. EJERCICIO 5\\n \\nwww.emestrada.org \\n         \\nR  E  S  O  L  U  C  I  Ó  N  a) Calculamos los valores de  \\n2\\n2\\n2\\n2\\n1301300()2502500\\n131300126331532525002210262510\\n25\\n412\\naabAa Ib Iaab\\naabbaaaaaabbaaaa\\naab\\na\\n\\uf0e6\\uf0f6\\uf0e6\\uf0f6\\uf0e6\\uf0f6\\uf0e6\\uf0f6\\uf0e6\\uf0f6\\uf0e6\\uf0f6\\uf0e6\\uf0f6+=\\uf0de+\\uf0d7+=\\uf0de\\uf0e7\\uf0f7\\uf0e7\\uf0f7\\uf0e7\\uf0f7\\uf0e7\\uf0f7\\uf0e7\\uf0f7\\uf0e7\\uf0f7\\uf0e7\\uf0f7−−\\uf0e8\\uf0f8\\uf0e8\\uf0f8\\uf0e8\\uf0f8\\uf0e8\\uf0f8\\uf0e8\\uf0f8\\uf0e8\\uf0f8\\uf0e8\\uf0f8++\\uf0e6\\uf0f6++−+++\\uf0e6\\uf0f6\\uf0e6\\uf0f6\\uf0e6\\uf0f6\\uf0e6\\uf0f6\\uf0de\\uf0d7=\\uf0de=\\uf0de\\uf0e7\\uf0f7\\uf0e7\\uf0f7\\uf0e7\\uf0f7\\uf0e7\\uf0f7\\uf0e7\\uf0f7−+−+−−−−−+++\\uf0e8\\uf0f8\\uf0e8\\uf0f8\\uf0e8\\uf0f8\\uf0e8\\uf0f8\\uf0e8\\uf0f8\\n+−=\\n−−\\uf0de\\n2\\n03 ;26180\\n1019\\naba\\naab\\n\\uf0ec\\uf0ef=\\uf0ef\\uf0de= −= −\\uf0ed+=\\uf0ef\\uf0ef++=\\uf0ee\\n b) 2211212()()M XMIM XIMMM XMIMXMIM−−−+=\\uf0de=−\\uf0de\\uf0d7\\uf0d7=\\uf0d7−\\uf0de=\\uf0d7−  \\nCalculamos 2100101101101()011111011211IM−\\uf0e6\\uf0f6\\uf0e6\\uf0f6\\uf0e6\\uf0f6\\uf0e6\\uf0f6\\uf0e6\\uf0f6\\uf0e6\\uf0f6−=−\\uf0d7=−=\\uf0e7\\uf0f7\\uf0e7\\uf0f7\\uf0e7\\uf0f7\\uf0e7\\uf0f7\\uf0e7\\uf0f7\\uf0e7\\uf0f7−−\\uf0e8\\uf0f8\\uf0e8\\uf0f8\\uf0e8\\uf0f8\\uf0e8\\uf0f8\\uf0e8\\uf0f8\\uf0e8\\uf0f8\\n \\n \\nCalculamos: 1\\n1111\\n111010()\\n1011\\nt\\nadjtMMM\\n−\\n−−\\uf0e6\\uf0f6\\uf0e6\\uf0f6\\uf0e7\\uf0f7\\uf0e7\\uf0f7−−−\\uf0e6\\uf0f6\\uf0e8\\uf0f8\\uf0e8\\uf0f8==== \\uf0e7\\uf0f7−−\\uf0e8\\uf0f8\\n \\n \\nLuego, 12110110()101101XMIM−−−−\\uf0e6\\uf0f6\\uf0e6\\uf0f6\\uf0e6\\uf0f6=\\uf0d7−=\\uf0d7=\\uf0e7\\uf0f7\\uf0e7\\uf0f7\\uf0e7\\uf0f7−−−\\uf0e8\\uf0f8\\uf0e8\\uf0f8\\uf0e8\\uf0f8\\n \\n           \\nConsidera las matrices 13\\n25A\\uf0e6\\uf0f6= \\uf0e7\\uf0f7−\\uf0e8\\uf0f8\\n, 0111M\\uf0e6\\uf0f6= \\uf0e7\\uf0f7\\uf0e8\\uf0f8\\n e \\na) Sabiendo que 2()Aa Ib I+=, halla b) Resuelve la ecuación 2M XMI+=. MATEMÁTICAS II. 2024. RESERVA 2. EJERCICIO 6\\n \\nwww.emestrada.org \\n              \\nR  E  S  O  L  U  C  I  Ó  N  a)  \\n(1)(2)\\n(3)\\n111111111111111111413413413413\\n1115302\\nxyzxyzxyz\\nxyz\\n−−−\\n⎯⎯→=+⎯⎯→=\\n⎯⎯→== −\\n \\n Propiedades aplicadas \\n(1) Si una línea de una determinante es suma de dos sumandos, dicho determinante se puede descomponer en suma de dos determinantes. En el primero ponemos el primer sumando y en el segundo el segundo sumando.  (2) Si un determinante tiene dos líneas iguales, el determinante vale 0. (3) Si a los elementos de una línea se les suman los elementos de otra paralela a ella, multiplicados previamente por un número real, el valor del determinante no varía.  b) Planteamos y resolvemos el sistema  \\n()()()()130230032300111\\n33323300220\\nxyzB ACyzxyzyzzyz\\nxyzxtxyzyzytyzyzzt\\n\\uf0e6\\uf0f6\\uf0e7\\uf0f7\\uf0d7=\\uf0de\\uf0d7=\\uf0de+++++=\\uf0de\\uf0e7\\uf0f7\\uf0e7\\uf0f7\\uf0e8\\uf0f8++==+\\uf0fc\\uf0ec++= \\uf0fc\\uf0ef\\uf0ef\\uf0de+=\\uf0de\\uf0de= −\\uf0fd\\uf0fd\\uf0ed+= \\uf0fe\\uf0ef\\uf0ef+==\\uf0fe\\uf0ee\\n \\n       \\nConsidera las matrices 302111\\nxyzA\\n\\uf0e6\\uf0f6\\uf0e7\\uf0f7= \\uf0e7\\uf0f7\\uf0e7\\uf0f7\\uf0e8\\uf0f8\\n, ()1Byz= y ()300C. \\na) Sabiendo que el determinante de \\n111111413\\nxyz−−−\\n , indicando las \\npropiedades que utilizas. b) Calcula los valores x y zC\\uf0d7= MATEMÁTICAS II. 2024. RESERVA 3. EJERCICIO 5. \\n \\nwww.emestrada.org \\n            R  E  S  O  L  U  C  I  Ó  N  a) Calculamos el valor de los determinantes de las matrices \\n279A+=         19B              1919A BAB\\uf0e6\\uf0f6\\uf0d7=\\uf0d7= \\uf0d7−= −\\uf0e7\\uf0f7\\uf0e8\\uf0f8\\n \\nCalculamos los determinantes que nos piden \\n()\\n15\\n5111()1( 1) ( 1) ( 1) ( 1) ( 1)()ABABABABABABAB\\n−==== −\\uf0d7\\uf0d7\\uf0d7\\uf0d7−\\uf0d7−\\uf0d7−\\uf0d7−\\uf0d7− \\n611663\\n121312727279933ABAB\\uf0e6\\uf0f6=\\uf0d7=\\uf0d7\\uf0d7−==\\uf0e7\\uf0f7\\uf0e8\\uf0f8\\n \\nb) 111111999A X BIAA X B BAI BXAB−−−−−−\\uf0d7\\uf0d7=\\uf0de\\uf0d7\\uf0d7\\uf0d7\\uf0d7=\\uf0d7\\uf0d7\\uf0de=\\uf0d7 Calculamos las matrices inversas \\n1\\n27021021011071099009009()7109999001\\nt\\nadjtAAA\\n−\\n−\\uf0e6\\uf0f6\\uf0e6\\uf0f6\\uf0e6\\uf0f6\\uf0e7\\uf0f7\\uf0e7\\uf0f7\\uf0e7\\uf0f7−\\uf0e7\\uf0f7\\uf0e7\\uf0f7\\uf0e7\\uf0f7\\uf0e7\\uf0f7\\uf0e7\\uf0f7\\uf0e8\\uf0f8\\uf0e8\\uf0f8\\uf0e7\\uf0f7==== −\\uf0e7\\uf0f7\\uf0e7\\uf0f7\\uf0e7\\uf0f7\\uf0e7\\uf0f7\\uf0e8\\uf0f8\\n \\n1\\n100001911000099102100902()901011\\n101899\\nt\\nadjtBBB\\n−\\n\\uf0e6\\uf0f6\\uf0e6\\uf0f6−\\uf0e7\\uf0f7\\uf0e7\\uf0f7−\\uf0e7\\uf0f7\\uf0e7\\uf0f7\\uf0e7\\uf0f7\\uf0e7\\uf0f7−−\\uf0e7\\uf0f7\\uf0e7\\uf0f7\\uf0e7\\uf0f7\\uf0e7\\uf0f7−\\uf0e7\\uf0f7\\uf0e6\\uf0f6\\uf0e7\\uf0f7−\\uf0e7\\uf0f7\\uf0e7\\uf0f7\\uf0e8\\uf0f8\\uf0e8\\uf0f8==== \\uf0e7\\uf0f7\\uf0e7\\uf0f7−−−\\uf0e8\\uf0f8\\n \\nCalculamos la matriz 11\\n21099019011871990010016399101890162001\\nXAB−−\\n\\uf0e6\\uf0f6\\uf0e7\\uf0f7\\n\\uf0e6\\uf0f6\\uf0e6\\uf0f6\\uf0e7\\uf0f7\\n\\uf0e7\\uf0f7\\uf0e7\\uf0f7\\uf0e7\\uf0f7=\\uf0d7\\uf0d7=\\uf0d7−\\uf0d7=−\\uf0e7\\uf0f7\\uf0e7\\uf0f7\\uf0e7\\uf0f7\\uf0e7\\uf0f7\\uf0e7\\uf0f7−−\\uf0e7\\uf0f7\\uf0e8\\uf0f8\\uf0e8\\uf0f8\\uf0e7\\uf0f7\\uf0e7\\uf0f7\\uf0e8\\uf0f8\\n \\nConsidera las matrices \\n110\\n720\\n001\\nA\\n−\\uf0e6\\uf0f6\\uf0e7\\uf0f7= \\uf0e7\\uf0f7\\uf0e7\\uf0f7\\uf0e8\\uf0f8\\n y \\n201\\n0101009\\nB\\n\\uf0e6\\uf0f6\\uf0e7\\uf0f7\\uf0e7\\uf0f7= \\uf0e7\\uf0f7\\uf0e7\\uf0f7\\uf0e7\\uf0f7\\uf0e8\\uf0f8\\n \\na) Calcula los determinantes de las matrices )\\n15()AB\\n−627\\nposible, que verifica que 9A X BI\\uf0d7\\uf0d7=, donde MATEMÁTICAS II. 2024. RESERVA 4. EJERCICIO 5\\n \\nwww.emestrada.org \\n           \\nR  E  S  O  L  U  C  I  Ó  N  \\na) Llamamos abXcd\\uf0e6\\uf0f6= \\uf0e7\\uf0f7\\uf0e8\\uf0f8\\n \\n \\n0101000101\\nt\\naabacabacX AA Xdcdbdcdbdbc\\n=\\uf0ec−−−\\uf0e6\\uf0f6\\uf0e6\\uf0f6\\uf0e6\\uf0f6\\uf0e6\\uf0f6\\uf0e6\\uf0f6\\uf0e6\\uf0f6\\uf0ef\\uf0d7= −\\uf0d7\\uf0de\\uf0d7= −\\uf0d7\\uf0de=\\uf0de=\\uf0ed\\uf0e7\\uf0f7\\uf0e7\\uf0f7\\uf0e7\\uf0f7\\uf0e7\\uf0f7\\uf0e7\\uf0f7\\uf0e7\\uf0f7−−−\\uf0e8\\uf0f8\\uf0e8\\uf0f8\\uf0e8\\uf0f8\\uf0e8\\uf0f8\\uf0e8\\uf0f8\\uf0e8\\uf0f8\\uf0ef=\\uf0ee\\n \\n \\n22\\n21000101001010001010\\nababbbbXIbccdcdbbb\\n\\uf0e6\\uf0f6\\uf0e6\\uf0f6\\uf0e6\\uf0f6\\uf0e6\\uf0f6\\uf0e6\\uf0f6\\uf0e6\\uf0f6\\uf0e6\\uf0f6\\uf0e6\\uf0f6=\\uf0de\\uf0d7=\\uf0de\\uf0d7=\\uf0de=\\uf0de== \\uf0b1\\uf0e7\\uf0f7\\uf0e7\\uf0f7\\uf0e7\\uf0f7\\uf0e7\\uf0f7\\uf0e7\\uf0f7\\uf0e7\\uf0f7\\uf0e7\\uf0f7\\uf0e7\\uf0f7\\uf0e8\\uf0f8\\uf0e8\\uf0f8\\uf0e8\\uf0f8\\uf0e8\\uf0f8\\uf0e8\\uf0f8\\uf0e8\\uf0f8\\uf0e8\\uf0f8\\uf0e8\\uf0f8 \\nLuego: 01011010XóX−\\uf0e6\\uf0f6\\uf0e6\\uf0f6==\\uf0e7\\uf0f7\\uf0e7\\uf0f7−\\uf0e8\\uf0f8\\uf0e8\\uf0f8\\n \\n \\nb) Llamamos abYcd\\uf0e6\\uf0f6= \\uf0e7\\uf0f7\\uf0e8\\uf0f8\\n \\n \\n1010001010ababababbY AA Ycdcdcdcdc−−−−−=\\uf0e6\\uf0f6\\uf0e6\\uf0f6\\uf0e6\\uf0f6\\uf0e6\\uf0f6\\uf0e6\\uf0f6\\uf0e6\\uf0f6\\uf0ec\\uf0d7=\\uf0d7\\uf0de\\uf0d7=\\uf0d7\\uf0de=\\uf0de\\uf0ed\\uf0e7\\uf0f7\\uf0e7\\uf0f7\\uf0e7\\uf0f7\\uf0e7\\uf0f7\\uf0e7\\uf0f7\\uf0e7\\uf0f7−=\\uf0e8\\uf0f8\\uf0e8\\uf0f8\\uf0e8\\uf0f8\\uf0e8\\uf0f8\\uf0e8\\uf0f8\\uf0e8\\uf0f8\\uf0ee\\n \\n \\n0adad+=\\uf0de= −  \\n2011 ;10dddad−= −= −\\uf0de= \\uf0b1=\\n \\n \\nLuego: 10100101YóY−\\uf0e6\\uf0f6\\uf0e6\\uf0f6==\\uf0e7\\uf0f7\\uf0e7\\uf0f7−\\uf0e8\\uf0f8\\uf0e8\\uf0f8\\n \\n      \\nConsidera la matriz 10\\n01A−\\uf0e6\\uf0f6= \\uf0e7\\uf0f7\\uf0e8\\uf0f8\\n \\na) Halla todas las matrices tX AA X\\uf0d7= −\\uf0d7 y 2XI=, donde identidad de orden 2. b) Halla todas las matrices Y que cumplen A Y\\uf0d7=\\uf0d7, la suma de los elementos de su diagonal principal es cero y tienen determinante 1−MATEMÁTICAS II. 2024. JULIO. EJERCICIO 5\\n \\nwww.emestrada.org \\n           \\nR  E  S  O  L  U  C  I  Ó  N   a)  \\n2\\n00000000000000000000\\nabababAbb−−\\uf0e6\\uf0f6\\uf0e6\\uf0f6\\uf0e6\\uf0f6\\uf0e7\\uf0f7\\uf0e7\\uf0f7\\uf0e7\\uf0f7=\\uf0d7=\\uf0e7\\uf0f7\\uf0e7\\uf0f7\\uf0e7\\uf0f7\\uf0e7\\uf0f7\\uf0e7\\uf0f7\\uf0e7\\uf0f7\\uf0e8\\uf0f8\\uf0e8\\uf0f8\\uf0e8\\uf0f8\\n \\n3\\n00000000000000000000000\\nababAb−\\uf0e6\\uf0f6\\uf0e6\\uf0f6\\uf0e6\\uf0f6\\uf0e7\\uf0f7\\uf0e7\\uf0f7\\uf0e7\\uf0f7=\\uf0d7=\\uf0e7\\uf0f7\\uf0e7\\uf0f7\\uf0e7\\uf0f7\\uf0e7\\uf0f7\\uf0e7\\uf0f7\\uf0e7\\uf0f7\\uf0e8\\uf0f8\\uf0e8\\uf0f8\\uf0e8\\uf0f8\\n \\n10333\\n000000000000000000000000000000000000000000\\nabAAAAAb−\\uf0e6\\uf0f6\\uf0e6\\uf0f6\\uf0e6\\uf0f6\\uf0e6\\uf0f6\\uf0e6\\uf0f6\\uf0e7\\uf0f7\\uf0e7\\uf0f7\\uf0e7\\uf0f7\\uf0e7\\uf0f7\\uf0e7\\uf0f7=\\uf0d7\\uf0d7\\uf0d7=\\uf0d7\\uf0d7\\uf0d7=\\uf0e7\\uf0f7\\uf0e7\\uf0f7\\uf0e7\\uf0f7\\uf0e7\\uf0f7\\uf0e7\\uf0f7\\uf0e7\\uf0f7\\uf0e7\\uf0f7\\uf0e7\\uf0f7\\uf0e7\\uf0f7\\uf0e7\\uf0f7\\uf0e8\\uf0f8\\uf0e8\\uf0f8\\uf0e8\\uf0f8\\uf0e8\\uf0f8\\uf0e8\\uf0f8\\n \\nb) Calculamos la matriz 2BIAA=++  \\n2\\n10000010100000001001000000001\\nababababBIAAbb−−+\\uf0e6\\uf0f6\\uf0e6\\uf0f6\\uf0e6\\uf0f6\\uf0e6\\uf0f6\\uf0e7\\uf0f7\\uf0e7\\uf0f7\\uf0e7\\uf0f7\\uf0e7\\uf0f7=++=++=\\uf0e7\\uf0f7\\uf0e7\\uf0f7\\uf0e7\\uf0f7\\uf0e7\\uf0f7\\uf0e7\\uf0f7\\uf0e7\\uf0f7\\uf0e7\\uf0f7\\uf0e7\\uf0f7\\uf0e8\\uf0f8\\uf0e8\\uf0f8\\uf0e8\\uf0f8\\uf0e8\\uf0f8\\n \\n Calculamos el determinante  \\n2\\n1011001\\nababBIAAb−+=++==\\n Calculamos la inversa  \\n()1\\n100\\n1011011001\\nt\\naabbbAdj BBbB\\n−\\n\\uf0e6\\uf0f6\\uf0e7\\uf0f7−\\uf0e7\\uf0f7−\\uf0e6\\uf0f6\\uf0e7\\uf0f7−\\uf0e7\\uf0f7\\uf0e8\\uf0f8===−\\uf0e7\\uf0f7\\uf0e7\\uf0f7\\uf0e8\\uf0f8\\n \\n \\nConsidera la matriz \\n0\\n00\\n000\\nab\\nAb\\n−\\uf0e6\\uf0f6\\uf0e7\\uf0f7= \\uf0e7\\uf0f7\\uf0e7\\uf0f7\\uf0e8\\uf0f8\\n \\na) Calcula 10A. b) Calcula, si es posible, la matriz inversa de 2IAA++, donde orden 3.  MATEMÁTICAS II. 2024. MODELO. EJERCICIO 4\\n'"
      ]
     },
     "execution_count": 20,
     "metadata": {},
     "output_type": "execute_result"
    }
   ],
   "source": [
    "extract_text_with_box('matrices.pdf', 'matrices.txt')"
   ]
  },
  {
   "cell_type": "code",
   "execution_count": 42,
   "metadata": {},
   "outputs": [
    {
     "name": "stdout",
     "output_type": "stream",
     "text": [
      "1388\n"
     ]
    }
   ],
   "source": [
    "quimica = extract_text_with_box('quimica.pdf', 'quimica.txt')\n",
    "quimica_tokens = [i for i in quimica.strip().replace('\\n', ' ').split(' ') if i != '']\n",
    "print(len(quimica_tokens))\n",
    "quimica = ' '.join(quimica_tokens)"
   ]
  },
  {
   "cell_type": "code",
   "execution_count": 40,
   "metadata": {},
   "outputs": [
    {
     "data": {
      "text/plain": [
       "\"www.emestrada.org PROBLEMAS RESUELTOS SELECTIVIDAD ANDALUCÍA 2024 QUÍMICA TEMA 7: REACCIONES REDOX • • • • • • • • • www.emestrada.org R E S O L U C I Ó N a) 2422 (MnO8H5eMn4H O)−+−+\\uf0d7++→+ Reducción 25 (2Cl2eCl )−−\\uf0d7−→ Oxidación 24222 MnO16H10Cl2 Mn8H O5Cl−+−+++→++ Una vez que tenemos la ecuación iónica ajustada, añadimos los iones espectadores necesarios hasta completar la ecuación molecular ajustada, que será: 42222 KMnO16HCl2 MnCl8H O5Cl2KCl+→+++ b) Tenemos que ver cuál es el reactivo limitante 34 42 moles KMnO0'25 moles HCl50 mL HCl1'5625 10moles KMnO1000 mL16 moles HCl −\\uf0d7\\uf0d7=\\uf0d7 Luego, el reactivo limitante es el HCl Por la estequiometría de la reacción vemos que: 2 22 5 moles Cl0'25 moles HCl22'4 L50 mL HCl0'0875 L Cl1000 mL16 moles HCl 1molCl\\uf0d7\\uf0d7\\uf0d7= El 2Cl reacción: 4222KMnO (ac)HCl(ac)KCl(ac)MnCl (ac)H O(l)Cl+→+++ a) Ajuste las ecuaciones iónica y molecular por el método del ión-electrón. b) Calcule el volumen de 2Cl disolución 0’5 M de 4KMnO Dato: 11R0'082 atm L Kmol−−=\\uf0d7\\uf0d7\\uf0d7 QUÍMICA. 2024. JUNIO. EJERCICIO C4 www.emestrada.org R E S O L U C I Ó N a) 322 (NO4H3eNO2H O)−+−\\uf0d7++→+ 23 (Ni2eNi)−+\\uf0d7−→ 2322 NO8H3Ni2 NO4H O3 Ni−++++→++ Una vez que ya tenemos ajustada la ecuación iónica, añadimos los iones espectadores necesarios para obtener la ecuación molecular. 32328HNO3Ni2 NO4H O3 Ni(NO )+→++ b) 33 33 70 g HNO1 mol HNO1'42 g disol3 moles Ni58'7 g Ni1 mL0'347 g Ni1 mL100 g disol63 g HNO8 moles HNO1 mol Ni\\uf0d7\\uf0d7\\uf0d7\\uf0d7\\uf0d7= El níquel metálico reacciona con ácido nítrico concentrado según la reacción: 3322NiHNONi(NO )NOH O+→++ a) Ajuste las ecuaciones iónica y molecular por el método del ion-electrón. b) Calcule la masa de níquel que podrá oxidarse con 1 mL de ácido nítrico comercial del 70% de riqueza en masa y densidad 11'42 g mL\\uf0d7. Datos: Masas atómicas relativas: 58'7 ; N14 ; O16 ; H1==== QUÍMICA. 2024. RESERVA 1. EJERCICIO C4 www.emestrada.org R E S O L U C I Ó N a) El ánodo es el electrodo de aluminio que es donde se produce la reacción de oxidación 3Al3eAl−+−→ El cátodo es el electrodo de cobre que es donde se produce la reacción de reducción 2Cu2eCu+−+→ b) Calculamos el potencial de la pila: Oxidación: 3 12(Al3eAl)E1'66 v−+−→= Reducción: 2 23(Cu2eCu)E0'34+−+→= 232Al3Cu2Al3Cufem1'660'342 V+++→+=+= c) Oxidación: 2 1Cu2eCuE0'34−+−→= − (Ánodo) Reducción: 22Ag2eAgE0'80+−+→= (Cátodo) 2Cu2 AgCu2 Agfem0'340'800'46 V+++→+=−+= Dada la pila: 32Al(s) Al(ac)Cu(ac) Cu(s)++ a) Justifique, escribiendo la semirreacción que tiene lugar en cada uno, cuál es el ánodo y cuál el cátodo. b) Calcule el potencial estándar de la pila. c) Razone qué ocurriría si se sustituyera el electrodo de aluminio por uno de plata. Datos: 03E (Al/ Al)1'66 V+= −; 02E (Cu/ Cu)0'34 V+=; 0E (Ag / Ag)0'80 V+= QUÍMICA. 2024. RESERVA 2. EJERCICIO B4 www.emestrada.org R E S O L U C I Ó N a) 324 (NO4H3eNO2H O)−+−\\uf0d7++→+ 223 (Sn2H O4eSnO4H )−+\\uf0d7+−→+ 32224 NO16H3Sn6H O4 NO8H O3SnO12H−+++++→+++ Simplificamos: 3224 NO4H3Sn4 NO2H O3SnO−+++→++ Una vez que ya tenemos ajustada la ecuación iónica, pasamos a la ecuación molecular. 3224HNO3Sn4 NO2H O3SnO+→++ b) Calculamos los moles de NO 785 6'75P V760n0'28 moles de NOR T0'082 301 \\uf0d7\\uf0d7===\\uf0d7\\uf0d7 Por la estequiometría de la reacción, vemos que: 3 moles Sn 118'7 g Sn0'28 moles NO24'93 g Sn4 moles NO1 mol Sn\\uf0d7\\uf0d7= Luego, el porcentaje de Sn en la muestra es: 10024'9349'86% de Sn50\\uf0d7= El estaño reacciona con ácido nítrico y se forma dióxido de estaño, monóxido de nitrógeno y agua. 322SnHNOSnONOH O+→++ a) Ajuste las ecuaciones iónica y molecular por el método del ion-electrón. b) Se dispone de una aleación de estaño empleada para soldar componentes electrónicos. Para determinar su pureza se hacen reaccionar 50 g con ácido nítrico en exceso. Calcule el porcentaje de Sn en la aleación si en el proceso se obtienen 6,75 L de NO a 785 mmHg y 28 ºC. Datos: Masa atómica relativa: 118'7=; 11R0'082 atm L Kmol−−=\\uf0d7\\uf0d7\\uf0d7 QUÍMICA. 2024. RESERVA 2. EJERCICIO C4 www.emestrada.org R E S O L U C I Ó N a) Es una reacción redox 242MnO8H5eMn4H O−+−+++→+ El 4MnO 2242C O2e2CO−−−→ El 224C O− b) No es una reacción redox, ya que no cambian los estados de oxidación c) Es una reacción redox 22Br2eBr−−−→ El 2Cl2e2Cl−−+→ El 2Cl Para cada una de las reacciones siguientes justifique si se trata de reacciones redox o no. Indique, en su caso, el agente oxidante y el reductor. a) 424224422242KMnO8H SO5K C O2MnSO8H O10CO6K SO++→+++ b) 333222CaCO2HNOCa(NO )COH O+→++ c) 222NaBrCl2NaClBr+→+ QUÍMICA. 2024. RESERVA 3. EJERCICIO B5 www.emestrada.org R E S O L U C I Ó N a) La reacción que tiene lugar es: 2Cu2eCu+−+→ Calculamos el número de equivalentes-gramo que se depositarán de cobre a partir de los datos de la disolución: 0'1 0'250'025 moles0'025 63'5 g1'5875 g\\uf0d7==\\uf0d7= Aplicamos la 2ª ley de Faraday. 63'5 1'5 t21'5875t3217 segundos96500 \\uf0d7\\uf0d7=\\uf0de= b) La reacción que tiene lugar es: 3Au3eAu+−+→ Como antes, se calculan los equivalentes-gramo que hay en el gramo de oro, con éstos la carga necesaria y con ella y el tiempo se calcula intensidad: 197 I 18003 9650031I0'82 Amperios96500197 1800 \\uf0d7\\uf0d7\\uf0d7=\\uf0de==\\uf0d7 Basándose en las semirreacciones correspondientes, calcule: a) El tiempo necesario para que todo el cobre contenido en 250 mL de una disolución acuosa 0,1 M de iones 2Cu+eléctrica de 1,5 A. b) La intensidad de corriente eléctrica que se debe hacer pasar a través de una disolución acuosa de iones 3Au+Datos: 1F96500 C mol=\\uf0d7. Masas atómicas relativas: 197 ; Cu63'5== QUÍMICA. 2024. RESERVA 3. EJERCICIO C2 www.emestrada.org R E S O L U C I Ó N a) El ánodo es el electrodo de cobre que es donde se produce la reacción de oxidación. El cobre 2(Cu)+ 2Cu2eCu−+−→ El cátodo es el electrodo de plata que es donde se produce la reacción de reducción. La plata es el oxidante, ya que gana electrons. Ag1eAg+−+→ b) Para escribir la notación de la pila se empieza siempre escribiendo a la izquierda el proceso de oxidación (ánodo) y a continuación el de reducción (cátodo). La doble barra indica que los dos semielementos están separados por un puente salino. 2Cu(s) Cu(1M)Ag (1M) Ag(s)++ El sentido de circulación de los electrones es del ánodo al cátodo c) Calculamos el potencial de la pila: Oxidación: 2 1Cu2eCuE0'34−+−→= − Reducción: 22(Ag1eAg)E0'80 v+−+→= 2Cu2AgCu2Agfem0'340'80'46 v+++→+=−+= Se construye una pila galvánica con un electrodo de cobre, un electrodo de plata, una disolución 1 M de 4CuSO3AgNO a) Indique, razonadamente, cuál es el cátodo y cuál es el ánodo de la pila. b) Escriba la notación de la pila y establezca cuál es el sentido de circulación de los electrones en la misma. c) Determine el potencial estándar de la pila. Datos: 0E (Ag / Ag)0'80 V+= ; 02E (Cu/ Cu)0'34 V+= QUÍMICA. 2024. RESERVA 4. EJERCICIO B5 www.emestrada.org R E S O L U C I Ó N a) Aplicamos la 2ª ley de Faraday. 40 0'5 30 60Eqg I t2m0'187 g de Ca9650096500 \\uf0d7\\uf0d7\\uf0d7−\\uf0d7\\uf0d7=== b) 2 71 0'5 30 60Eqg I t2m0'331 g de Cl9650096500 \\uf0d7\\uf0d7\\uf0d7−\\uf0d7\\uf0d7=== Calculamos el volumen: 2 0'331 0'082 298n R T71V0'117 L de Cl740P 760 \\uf0d7\\uf0d7\\uf0d7\\uf0d7=== En una cuba se electroliza 2CaCl calcule: a) Los gramos de calcio que se depositarán si se hace pasar por la cuba una corriente de 0,5 A durante 30 min. b) El volumen de 2Cl (g) Datos: Masas atómicas relativas: 35'5 ; Ca40==; 1F96.500 C mol=\\uf0d7; 11R0'082 atm L Kmol−−=\\uf0d7\\uf0d7\\uf0d7 QUÍMICA. 2024. RESERVA 4. EJERCICIO C4 www.emestrada.org R E S O L U C I Ó N a) 32242 (Cr4H O3eCrO8H )+−−+\\uf0d7+−→+ 32ClO6H6eCl3H O−+−−++→+ 3223422Cr8H OClO6H2CrO16HCl3H O+−+−+−+++→+++ Simplificando, tenemos: 322342Cr5H OClO2CrO10HCl+−−+−++→++. Esta es la ecuación iónica ajustada en medio ácido, pero el problema nos dice que estamos en medio básico ( 322342Cr5H OClO10OH2CrO10HCl10OH+−−−+−−+++→+++ Simplificando, nos queda: 323422CrClO10OH2CrOCl5H O+−−−−++→++ Una vez que ya tenemos ajustada la ecuación iónica en medio básico, pasamos a la molecular, sumando en los dos términos los iones que faltan. 332422Cr(OH)KClO4KOH2K CrO5H OKCl++→++ b) Calculamos los gramos de 3Cr(OH) Por la estequiometría de la reacción, vemos que: 33333333 1 mol KClO2 moles Cr(OH)103 g Cr(OH)50 mL KClO10'3 g Cr(OH)1000 mL KClO1 mol KClO1 mol de Cr(OH)\\uf0d7\\uf0d7\\uf0d7=puros Luego: 310010'3g11'44 g Cr(OH)90\\uf0d7= El clorato de potasio reacciona con hidróxido de cromo(III) en medio básico: 3324KClOCr(OH)KOHKClK CrO++→+ a) Ajuste las ecuaciones iónica y molecular por el método del ion-electrón. b) ¿Cuántos gramos de 3Cr(OH) completamente con 50 mL de una disolución de 3KClO Masas atómicas relativas: 52 ; O16 ; H1===QUÍMICA. 2024. JULIO. EJERCICIO C4\""
      ]
     },
     "execution_count": 40,
     "metadata": {},
     "output_type": "execute_result"
    }
   ],
   "source": [
    "quimica_tokens"
   ]
  },
  {
   "cell_type": "code",
   "execution_count": null,
   "metadata": {},
   "outputs": [],
   "source": [
    "pdf_text = extract_text_with_box(\"example.pdf\")\n",
    "print(pdf_text[:1000])  # Print the first 1000 characters for preview"
   ]
  }
 ],
 "metadata": {
  "kernelspec": {
   "display_name": "datavenv",
   "language": "python",
   "name": "python3"
  },
  "language_info": {
   "codemirror_mode": {
    "name": "ipython",
    "version": 3
   },
   "file_extension": ".py",
   "mimetype": "text/x-python",
   "name": "python",
   "nbconvert_exporter": "python",
   "pygments_lexer": "ipython3",
   "version": "3.13.1"
  }
 },
 "nbformat": 4,
 "nbformat_minor": 2
}
