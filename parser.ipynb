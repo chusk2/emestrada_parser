{
 "cells": [
  {
   "cell_type": "markdown",
   "metadata": {},
   "source": [
    "# Selectividad Exams Parser"
   ]
  },
  {
   "cell_type": "markdown",
   "metadata": {},
   "source": [
    "## Libraries import"
   ]
  },
  {
   "cell_type": "markdown",
   "metadata": {},
   "source": [
    "### Required packages for OCR processing:\n",
    "**Ubuntu based:**\n",
    "- tesseract-ocr\n",
    "- tesseract-ocr-spa\n",
    "- poppler-utils\n",
    "\n",
    "**Archlinux based:**\n",
    "- tesseract\n",
    "- tesseract-data-spa"
   ]
  },
  {
   "cell_type": "code",
   "execution_count": null,
   "metadata": {},
   "outputs": [],
   "source": [
    "# !pip install pdf2image\n",
    "# !pip install pytesseract"
   ]
  },
  {
   "cell_type": "code",
   "execution_count": 9,
   "metadata": {},
   "outputs": [],
   "source": [
    "from pdf2image import convert_from_path\n",
    "import pytesseract\n",
    "import pandas as pd\n",
    "from pathlib import Path\n",
    "from multiprocessing import Pool\n",
    "import os\n",
    "import requests"
   ]
  },
  {
   "cell_type": "markdown",
   "metadata": {},
   "source": [
    "## Functions"
   ]
  },
  {
   "cell_type": "markdown",
   "metadata": {},
   "source": [
    "### Telegram bot"
   ]
  },
  {
   "cell_type": "code",
   "execution_count": 10,
   "metadata": {},
   "outputs": [],
   "source": [
    "# Replace with your bot's token and chat ID\n",
    "from bot_credentials import *\n",
    "\n",
    "def send_telegram_message(message):\n",
    "    url = f\"https://api.telegram.org/bot{BOT_TOKEN}/sendMessage\"\n",
    "    params = {\"chat_id\": CHAT_ID, \"text\": message}\n",
    "    response = requests.get(url, params=params)\n",
    "    return response.json()"
   ]
  },
  {
   "cell_type": "markdown",
   "metadata": {},
   "source": [
    "### Parse pdf pages into images"
   ]
  },
  {
   "cell_type": "code",
   "execution_count": 11,
   "metadata": {},
   "outputs": [],
   "source": [
    "def pdf_to_text(file_path):\n",
    "    images = convert_from_path(file_path)[1:]\n",
    "    # parse each page\n",
    "    pages = []\n",
    "    for i, page in enumerate(images):\n",
    "        pages.append(pytesseract.image_to_string(page, lang='spa'))\n",
    "    return pages"
   ]
  },
  {
   "cell_type": "markdown",
   "metadata": {},
   "source": [
    "### Extract statement text from page text"
   ]
  },
  {
   "cell_type": "code",
   "execution_count": 12,
   "metadata": {},
   "outputs": [],
   "source": [
    "def extract_statement(page):\n",
    "    # split the content into lines\n",
    "    text = page.split('\\n')\n",
    "    # list to store the processed lines\n",
    "    final_text = []\n",
    "    # start from the 4th line\n",
    "    for line in text[4:]:\n",
    "        # stop at RESOLUCION\n",
    "        if line.startswith('RESOLUCIÓN'):\n",
    "            break\n",
    "        # add the line to final_text\n",
    "        else:\n",
    "            if not line == '':\n",
    "                final_text.append(line.strip())\n",
    "    # join the list into a single string\n",
    "    final_text = '\\n'.join(final_text)\n",
    "\n",
    "    return final_text"
   ]
  },
  {
   "cell_type": "markdown",
   "metadata": {},
   "source": [
    "### Extract exam datails from statement"
   ]
  },
  {
   "cell_type": "code",
   "execution_count": 13,
   "metadata": {},
   "outputs": [],
   "source": [
    "def extract_exam_details(statement):\n",
    "    # get last line with exam details\n",
    "    lines = [i for i in statement.split('\\n') if i != '']\n",
    "    exam_details = lines[-1]\n",
    "    # split the words by ' '\n",
    "    exam_details = exam_details.split(' ')\n",
    "    # strip whitespaces\n",
    "    exam_details = [i.replace('.', '')\n",
    "                    .replace(',', '').strip()\n",
    "                    for i in exam_details]\n",
    "\n",
    "    # exam dictionary\n",
    "    exam_dict = {}\n",
    "\n",
    "    # fill dictionary with values\n",
    "    exam_dict['subject'] = exam_details[0].title()\n",
    "    exam_dict['year'] = int(exam_details[1])\n",
    "\n",
    "    # parse the exam string\n",
    "    if exam_details[2].startswith('RESERVA'):\n",
    "        exam_dict['exam'] = ' '.join(exam_details[2:4]).title()\n",
    "        exam_index_start = 4\n",
    "    else:\n",
    "        exam_dict['exam'] = exam_details[2].title()\n",
    "        exam_index_start = 3\n",
    "    \n",
    "    exam_dict['exercise'] = ' '.join(exam_details[exam_index_start:]).title()\n",
    "    \n",
    "    return exam_dict"
   ]
  },
  {
   "cell_type": "code",
   "execution_count": null,
   "metadata": {},
   "outputs": [],
   "source": [
    "import time\n",
    "def what_time():\n",
    "    now = time.localtime()\n",
    "    time_formated = time.strftime(\"%H:%M:%S on %Y-%m-%d \", now)\n",
    "    return now, time_formated\n",
    "\n",
    "def elapsed_time_minutes(start, end):\n",
    "    start_seconds = time.mktime(start)\n",
    "    end_seconds = time.mktime(end)\n",
    "    return (end_seconds - start_seconds) / 60"
   ]
  },
  {
   "cell_type": "markdown",
   "metadata": {},
   "source": [
    "## Process the pdf files"
   ]
  },
  {
   "cell_type": "code",
   "execution_count": 14,
   "metadata": {},
   "outputs": [],
   "source": [
    "def process_file(file):\n",
    "    exercises_dict = {}\n",
    "    topic = file.stem.split(' - ')[-1]   \n",
    "    \n",
    "    # lists to store the values\n",
    "    subjects = []\n",
    "    years = []\n",
    "    exams = []\n",
    "    exercises = []\n",
    "    statements = []\n",
    "    pages = pdf_to_text(file)\n",
    "\n",
    "    try:\n",
    "        for index, page in enumerate(pages):\n",
    "            statement = extract_statement(page)\n",
    "            details = extract_exam_details(statement)\n",
    "            subjects.append(details['subject'])\n",
    "            years.append(details['year'])\n",
    "            exams.append(details['exam'])\n",
    "            exercises.append(details['exercise'])\n",
    "            statements.append(statement)\n",
    "        \n",
    "        print(f'Success parsing file: {file.stem}')\n",
    "    except:\n",
    "        # safe errors to log file\n",
    "        with open('errors.log', 'a') as f:\n",
    "            string = f'Error in {file.name} at page {index+2}.\\n'\n",
    "            f.write(string)\n",
    "            \n",
    "            print('\\n' + '*' * 10)\n",
    "            print(f'Error in {file.name} at page {index+2}')\n",
    "            print('*' * 10 + '\\n')\n",
    "\n",
    "            send_telegram_message(f'Error in {file.name} at page {index+2}')\n",
    "            return\n",
    "\n",
    "    # generate the key and content for the exercises dictionary\n",
    "    key = details['subject'] + ' ' + str(details['year']) + ' ' + topic\n",
    "    exercises_dict[key] = {\n",
    "        'subject' : subjects,\n",
    "        'year' : years,\n",
    "        'topic' : [topic] * len(subjects),\n",
    "        'exam' : exams,\n",
    "        'exercise' : exercises,\n",
    "        'statement' : statements\n",
    "    }\n",
    "\n",
    "    return exercises_dict"
   ]
  },
  {
   "cell_type": "markdown",
   "metadata": {},
   "source": [
    "## Save the parsed content into a dataframe"
   ]
  },
  {
   "cell_type": "code",
   "execution_count": 15,
   "metadata": {},
   "outputs": [],
   "source": [
    "def create_content_dict():\n",
    "    # create the dict from keys\n",
    "    keys = ['subject', 'year', 'topic', 'exam', 'exercise', 'statement']\n",
    "    #content = dict.fromkeys(exercises_dict[first_processed_file].keys())\n",
    "    content = dict.fromkeys(keys)\n",
    "    # fill the dict with empty lists\n",
    "    for key in content.keys():\n",
    "        content[key] = []\n",
    "\n",
    "    return content"
   ]
  },
  {
   "cell_type": "code",
   "execution_count": 16,
   "metadata": {},
   "outputs": [],
   "source": [
    "folders = sorted( [i for i in Path.iterdir(Path('pdf_files'))] )"
   ]
  },
  {
   "cell_type": "code",
   "execution_count": 17,
   "metadata": {},
   "outputs": [],
   "source": [
    "def process_folder(folder):\n",
    "    df = pd.DataFrame()\n",
    "    files = sorted( [i for i in Path.iterdir(folder)\n",
    "                        if i.suffix == '.pdf'] )\n",
    "    for file in files:\n",
    "        try:\n",
    "            exercises_dict = process_file(file)\n",
    "            # each year contains a dictionary with keys containing lists of values\n",
    "            for year, dict_ in exercises_dict.items():\n",
    "                df = pd.concat([df, pd.DataFrame(dict_)], axis = 0)\n",
    "\n",
    "        except:\n",
    "            pass\n",
    "        \n",
    "    # correct wrong subjects\n",
    "    df.subject = df.subject.apply(lambda x: 'Química'\n",
    "                                    if x.endswith('mica') else x)\n",
    "    df.to_csv(f'./csv/exercises_{folder.stem}.csv', index=False)"
   ]
  },
  {
   "cell_type": "code",
   "execution_count": null,
   "metadata": {},
   "outputs": [],
   "source": [
    "start, start_formatted = what_time()\n",
    "send_telegram_message(f'Parsing process started at: {start_formatted}')\n",
    "\n",
    "for folder in folders:\n",
    "    try:\n",
    "        process_folder(folder)\n",
    "        print(f'Success processing folder: {folder.stem}')\n",
    "        send_telegram_message(f'Success processing folder: {folder.stem}')\n",
    "    except Exception as e:\n",
    "        send_telegram_message(f'Error processing folder: {folder.stem}' \\\n",
    "                              f'\\n{e}')\n",
    "end, end_formatted = what_time()\n",
    "\n",
    "send_telegram_message(f'Parsing process finished at: {end_formatted}'\\\n",
    "                      f'\\nTime elapsed in minutes: {elapsed_time_minutes(start, end)}')\n",
    "send_telegram_message('✅ Your files have been processed!')\n"
   ]
  },
  {
   "cell_type": "code",
   "execution_count": null,
   "metadata": {},
   "outputs": [],
   "source": [
    "# # Create a pool of worker processes (adjust number as needed)\n",
    "# with Pool(processes=os.cpu_count()) as pool:\n",
    "#     pool.map(process_folder, folders)"
   ]
  },
  {
   "cell_type": "markdown",
   "metadata": {},
   "source": [
    "Create the pandas dataframe"
   ]
  },
  {
   "cell_type": "code",
   "execution_count": 31,
   "metadata": {},
   "outputs": [],
   "source": [
    "csv_files = [i for i in Path.iterdir(Path('./csv')) if i.suffix == '.csv']"
   ]
  },
  {
   "cell_type": "code",
   "execution_count": 43,
   "metadata": {},
   "outputs": [
    {
     "data": {
      "text/html": [
       "<div>\n",
       "<style scoped>\n",
       "    .dataframe tbody tr th:only-of-type {\n",
       "        vertical-align: middle;\n",
       "    }\n",
       "\n",
       "    .dataframe tbody tr th {\n",
       "        vertical-align: top;\n",
       "    }\n",
       "\n",
       "    .dataframe thead th {\n",
       "        text-align: right;\n",
       "    }\n",
       "</style>\n",
       "<table border=\"1\" class=\"dataframe\">\n",
       "  <thead>\n",
       "    <tr style=\"text-align: right;\">\n",
       "      <th></th>\n",
       "      <th>subject</th>\n",
       "      <th>year</th>\n",
       "      <th>topic</th>\n",
       "      <th>exam</th>\n",
       "      <th>exercise</th>\n",
       "      <th>statement</th>\n",
       "    </tr>\n",
       "  </thead>\n",
       "  <tbody>\n",
       "    <tr>\n",
       "      <th>194</th>\n",
       "      <td>Química</td>\n",
       "      <td>2017</td>\n",
       "      <td>Formulación</td>\n",
       "      <td>Reserva 2</td>\n",
       "      <td>Ejercicio 1 Opción A</td>\n",
       "      <td>Formule o nombre los siguientes compuestos: a)...</td>\n",
       "    </tr>\n",
       "    <tr>\n",
       "      <th>114</th>\n",
       "      <td>Química</td>\n",
       "      <td>2022</td>\n",
       "      <td>Enlace Químico</td>\n",
       "      <td>Reserva 4</td>\n",
       "      <td>Ejercicio B3</td>\n",
       "      <td>Dadas las moléculas BeF, y CHC1:\\na) Determine...</td>\n",
       "    </tr>\n",
       "    <tr>\n",
       "      <th>75</th>\n",
       "      <td>Química</td>\n",
       "      <td>2007</td>\n",
       "      <td>Equilibrio Químico</td>\n",
       "      <td>Reserva 4</td>\n",
       "      <td>Ejercicio 6 Opción B</td>\n",
       "      <td>siguiente equilibrio: 2NaHCO ,(s) 72 Na,CO,(s)...</td>\n",
       "    </tr>\n",
       "    <tr>\n",
       "      <th>16</th>\n",
       "      <td>Química</td>\n",
       "      <td>2001</td>\n",
       "      <td>Ácido Base</td>\n",
       "      <td>Reserva 4</td>\n",
       "      <td>Ejercicio 5 Opcion A</td>\n",
       "      <td>Calcule: a) El pH de una disolución 0%03 M de ...</td>\n",
       "    </tr>\n",
       "    <tr>\n",
       "      <th>193</th>\n",
       "      <td>Química</td>\n",
       "      <td>2021</td>\n",
       "      <td>Equilibrio Químico</td>\n",
       "      <td>Julio</td>\n",
       "      <td>Ejercicio C1</td>\n",
       "      <td>En un recipiente de 250 mL se introducen 0%46 ...</td>\n",
       "    </tr>\n",
       "    <tr>\n",
       "      <th>81</th>\n",
       "      <td>Química</td>\n",
       "      <td>2012</td>\n",
       "      <td>Termoquímica</td>\n",
       "      <td>Junio</td>\n",
       "      <td>Ejercicio 4 Opción A</td>\n",
       "      <td>Dadas las siguientes ecuaciones termoquímicas:...</td>\n",
       "    </tr>\n",
       "    <tr>\n",
       "      <th>77</th>\n",
       "      <td>Química</td>\n",
       "      <td>2015</td>\n",
       "      <td>Reactividad Orgánica</td>\n",
       "      <td>Reserva 1</td>\n",
       "      <td>Ejercicio 4 Opción B</td>\n",
       "      <td>Dada la molécula HC=CCH ,CH,CH;:\\na) Indique l...</td>\n",
       "    </tr>\n",
       "    <tr>\n",
       "      <th>207</th>\n",
       "      <td>Química</td>\n",
       "      <td>2018</td>\n",
       "      <td>Formulación</td>\n",
       "      <td>Reserva 2</td>\n",
       "      <td>Ejercicio 1 Opción B</td>\n",
       "      <td>Formule o nombre los siguientes compuestos: a)...</td>\n",
       "    </tr>\n",
       "    <tr>\n",
       "      <th>61</th>\n",
       "      <td>Química</td>\n",
       "      <td>2010</td>\n",
       "      <td>Conf. Electrónica</td>\n",
       "      <td>Reserva 1</td>\n",
       "      <td>Ejercicio 2 Opción B</td>\n",
       "      <td>Dos elementos A y B tienen de número atómico 1...</td>\n",
       "    </tr>\n",
       "    <tr>\n",
       "      <th>87</th>\n",
       "      <td>Química</td>\n",
       "      <td>2014</td>\n",
       "      <td>Conf. Electrónica</td>\n",
       "      <td>Reserva 3</td>\n",
       "      <td>Ejercicio 2 Opción B</td>\n",
       "      <td>El número atómico de dos elementos A y B es 17...</td>\n",
       "    </tr>\n",
       "  </tbody>\n",
       "</table>\n",
       "</div>"
      ],
      "text/plain": [
       "     subject  year                 topic       exam              exercise  \\\n",
       "194  Química  2017           Formulación  Reserva 2  Ejercicio 1 Opción A   \n",
       "114  Química  2022        Enlace Químico  Reserva 4          Ejercicio B3   \n",
       "75   Química  2007    Equilibrio Químico  Reserva 4  Ejercicio 6 Opción B   \n",
       "16   Química  2001            Ácido Base  Reserva 4  Ejercicio 5 Opcion A   \n",
       "193  Química  2021    Equilibrio Químico      Julio          Ejercicio C1   \n",
       "81   Química  2012          Termoquímica      Junio  Ejercicio 4 Opción A   \n",
       "77   Química  2015  Reactividad Orgánica  Reserva 1  Ejercicio 4 Opción B   \n",
       "207  Química  2018           Formulación  Reserva 2  Ejercicio 1 Opción B   \n",
       "61   Química  2010     Conf. Electrónica  Reserva 1  Ejercicio 2 Opción B   \n",
       "87   Química  2014     Conf. Electrónica  Reserva 3  Ejercicio 2 Opción B   \n",
       "\n",
       "                                             statement  \n",
       "194  Formule o nombre los siguientes compuestos: a)...  \n",
       "114  Dadas las moléculas BeF, y CHC1:\\na) Determine...  \n",
       "75   siguiente equilibrio: 2NaHCO ,(s) 72 Na,CO,(s)...  \n",
       "16   Calcule: a) El pH de una disolución 0%03 M de ...  \n",
       "193  En un recipiente de 250 mL se introducen 0%46 ...  \n",
       "81   Dadas las siguientes ecuaciones termoquímicas:...  \n",
       "77   Dada la molécula HC=CCH ,CH,CH;:\\na) Indique l...  \n",
       "207  Formule o nombre los siguientes compuestos: a)...  \n",
       "61   Dos elementos A y B tienen de número atómico 1...  \n",
       "87   El número atómico de dos elementos A y B es 17...  "
      ]
     },
     "execution_count": 43,
     "metadata": {},
     "output_type": "execute_result"
    }
   ],
   "source": [
    "df = pd.read_csv(csv_files[0])\n",
    "for file in csv_files[1:]:\n",
    "    df = pd.concat([df, pd.read_csv(file)], axis = 0)\n",
    "    df.to_csv('./csv/all_exercises.csv', index=False)\n",
    "\n",
    "df.sample(10)"
   ]
  },
  {
   "cell_type": "code",
   "execution_count": 44,
   "metadata": {},
   "outputs": [
    {
     "data": {
      "text/plain": [
       "(1468, 6)"
      ]
     },
     "execution_count": 44,
     "metadata": {},
     "output_type": "execute_result"
    }
   ],
   "source": [
    "df.shape"
   ]
  },
  {
   "cell_type": "code",
   "execution_count": 45,
   "metadata": {},
   "outputs": [
    {
     "data": {
      "text/plain": [
       "array(['Química'], dtype=object)"
      ]
     },
     "execution_count": 45,
     "metadata": {},
     "output_type": "execute_result"
    }
   ],
   "source": [
    "df.subject.unique()"
   ]
  },
  {
   "cell_type": "code",
   "execution_count": 52,
   "metadata": {},
   "outputs": [
    {
     "data": {
      "text/plain": [
       "array(['Ejercicio 3, Opción B', 'Ejercicio 5, Opción A',\n",
       "       'Ejercicio 4, Opción B', 'Ejercicio 6, Opción B',\n",
       "       'Ejercicio 6, Opción A', 'Ejercicio 6, Opcion A',\n",
       "       'Ejercicio 4, Opción A', 'Ejercicio 3, Opción A',\n",
       "       'Ejercicio 5, Opción B', 'Ejercicio 3, Opcion A', 'B2', 'C1',\n",
       "       'Ejercicio C1', 'Ejercicio B2', 'B6', 'Ejercicio B6',\n",
       "       'Ejercicio 2, Opcion A', 'Ejercicio 2, Opción A',\n",
       "       'Ejercicio 4, Opcion A', 'Ejercicio 2, Opción B',\n",
       "       'Ejercicio 6, Opcióon A', 'Ejercicio 5, Opcion A',\n",
       "       'Ejercicio 5, Opcióon A', 'B5', 'C3', 'Ejercicio B4',\n",
       "       'Ejercicio C3', 'Ejercicio B5', 'Ejercicio 4, Opcióon A',\n",
       "       'Ejercicio 2, Opcióon A', 'B1', 'B4', 'Ejercicio B1',\n",
       "       'Ejercicio C2', 'Ejercicio C4', 'B3', 'Ejercicio B3',\n",
       "       'Ejercicio 1, Opción A', 'Ejercicio 1, Opción B', 'Ejercicio A1',\n",
       "       'Ejercicio A2', 'Ejercicio 3, Opcióon A', 'C2', 'Ejercicio Bs',\n",
       "       'C4'], dtype=object)"
      ]
     },
     "execution_count": 52,
     "metadata": {},
     "output_type": "execute_result"
    }
   ],
   "source": [
    "df.exercise.unique()"
   ]
  },
  {
   "cell_type": "code",
   "execution_count": 51,
   "metadata": {},
   "outputs": [
    {
     "name": "stderr",
     "output_type": "stream",
     "text": [
      "/tmp/ipykernel_40784/2143414261.py:1: FutureWarning: A value is trying to be set on a copy of a DataFrame or Series through chained assignment using an inplace method.\n",
      "The behavior will change in pandas 3.0. This inplace method will never work because the intermediate object on which we are setting values always behaves as a copy.\n",
      "\n",
      "For example, when doing 'df[col].method(value, inplace=True)', try using 'df.method({col: value}, inplace=True)' or df[col] = df[col].method(value) instead, to perform the operation inplace on the original object.\n",
      "\n",
      "\n",
      "  df.exercise.replace('Opcióon', 'Opción', inplace=True)\n"
     ]
    }
   ],
   "source": [
    "df.exercise.replace('Opcióon', 'Opción', inplace=True)"
   ]
  },
  {
   "cell_type": "code",
   "execution_count": 48,
   "metadata": {},
   "outputs": [],
   "source": [
    "def add_comma(string):\n",
    "    if len(string.split(' ')) == 4:\n",
    "        words = string.split(' ')\n",
    "        return f'{words[0]} {words[1]}, {words[2]} {words[3]}'\n",
    "    else:\n",
    "        return string"
   ]
  },
  {
   "cell_type": "code",
   "execution_count": 49,
   "metadata": {},
   "outputs": [],
   "source": [
    "df.exercise = df.exercise.apply(add_comma)"
   ]
  },
  {
   "cell_type": "code",
   "execution_count": 53,
   "metadata": {},
   "outputs": [],
   "source": [
    "df.to_csv(f'./csv/all_exercises_{df.subject.unique()[0]}.csv', index=False)"
   ]
  }
 ],
 "metadata": {
  "kernelspec": {
   "display_name": "venv",
   "language": "python",
   "name": "python3"
  },
  "language_info": {
   "codemirror_mode": {
    "name": "ipython",
    "version": 3
   },
   "file_extension": ".py",
   "mimetype": "text/x-python",
   "name": "python",
   "nbconvert_exporter": "python",
   "pygments_lexer": "ipython3",
   "version": "3.13.2"
  }
 },
 "nbformat": 4,
 "nbformat_minor": 2
}
