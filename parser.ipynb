{
 "cells": [
  {
   "cell_type": "markdown",
   "metadata": {},
   "source": [
    "# Selectividad Exams Parser"
   ]
  },
  {
   "cell_type": "markdown",
   "metadata": {},
   "source": [
    "## Libraries import"
   ]
  },
  {
   "cell_type": "code",
   "execution_count": 8,
   "metadata": {},
   "outputs": [],
   "source": [
    "from pdf2image import convert_from_path\n",
    "import pytesseract\n",
    "import pandas as pd\n",
    "import numpy as np\n",
    "from pathlib import Path\n",
    "import json\n",
    "import os"
   ]
  },
  {
   "cell_type": "markdown",
   "metadata": {},
   "source": [
    "## Files management"
   ]
  },
  {
   "cell_type": "code",
   "execution_count": 9,
   "metadata": {},
   "outputs": [],
   "source": [
    "def find_files(directory, pattern):\n",
    "    path = Path(directory)\n",
    "    return path.rglob(pattern)"
   ]
  },
  {
   "cell_type": "code",
   "execution_count": 21,
   "metadata": {},
   "outputs": [],
   "source": [
    "file_paths = sorted( [i for i in find_files(directory='./pdf_files',\n",
    "                                            pattern='*.pdf') \n",
    "              if i.name.startswith('2')\n",
    "              ] )"
   ]
  },
  {
   "cell_type": "code",
   "execution_count": 22,
   "metadata": {},
   "outputs": [
    {
     "data": {
      "text/plain": [
       "227"
      ]
     },
     "execution_count": 22,
     "metadata": {},
     "output_type": "execute_result"
    }
   ],
   "source": [
    "len(file_paths)"
   ]
  },
  {
   "cell_type": "markdown",
   "metadata": {},
   "source": [
    "## Functions"
   ]
  },
  {
   "cell_type": "markdown",
   "metadata": {},
   "source": [
    "### Parse pdf pages into images"
   ]
  },
  {
   "cell_type": "code",
   "execution_count": 23,
   "metadata": {},
   "outputs": [],
   "source": [
    "def parse_pages_ocr(file_path):\n",
    "    images = convert_from_path(file_path)[1:]\n",
    "    # parse each page\n",
    "    pages = []\n",
    "    for i, page in enumerate(images):\n",
    "        pages.append(pytesseract.image_to_string(page, lang='spa'))\n",
    "    return pages"
   ]
  },
  {
   "cell_type": "markdown",
   "metadata": {},
   "source": [
    "### Extract statement text from page text"
   ]
  },
  {
   "cell_type": "code",
   "execution_count": 24,
   "metadata": {},
   "outputs": [],
   "source": [
    "def extract_statement(page):\n",
    "    # split the content into lines\n",
    "    text = page.split('\\n')\n",
    "    # list to store the processed lines\n",
    "    final_text = []\n",
    "    # start from the 4th line\n",
    "    for line in text[4:]:\n",
    "        # stop at RESOLUCION\n",
    "        if line.startswith('RESOLUCIÓN'):\n",
    "            break\n",
    "        # add the line to final_text\n",
    "        else:\n",
    "            if not line == '':\n",
    "                final_text.append(line.strip())\n",
    "    # join the list into a single string\n",
    "    final_text = '\\n'.join(final_text)\n",
    "\n",
    "    return final_text"
   ]
  },
  {
   "cell_type": "markdown",
   "metadata": {},
   "source": [
    "### Extract exame datails from statement"
   ]
  },
  {
   "cell_type": "code",
   "execution_count": 25,
   "metadata": {},
   "outputs": [],
   "source": [
    "def extract_exam_details(statement):\n",
    "    # get last line with exam details\n",
    "    exam_details = statement.split('\\n')[-1]\n",
    "    # split the words by ' '\n",
    "    exam_details = exam_details.split(' ')\n",
    "    # strip whitespaces\n",
    "    exam_details = [i.replace('.', '').strip() for i in exam_details]\n",
    "\n",
    "    # exam dictionary\n",
    "    exam_dict = {}\n",
    "\n",
    "    # fill dictionary with values\n",
    "    exam_dict['subject'] = exam_details[0].title()\n",
    "    exam_dict['year'] = int(exam_details[1])\n",
    "\n",
    "    # parse the exam string\n",
    "    if exam_details[2].startswith('RESERVA'):\n",
    "        exam_dict['exam'] = ' '.join(exam_details[2:4]).title()\n",
    "        exam_index_start = 4\n",
    "    else:\n",
    "        exam_dict['exam'] = exam_details[2].title()\n",
    "        exam_index_start = 3\n",
    "    \n",
    "    exam_dict['exercise'] = ' '.join(exam_details[exam_index_start:]).title()\n",
    "    \n",
    "    return exam_dict"
   ]
  },
  {
   "cell_type": "markdown",
   "metadata": {},
   "source": [
    "## Process the pdf files"
   ]
  },
  {
   "cell_type": "code",
   "execution_count": null,
   "metadata": {},
   "outputs": [
    {
     "name": "stdout",
     "output_type": "stream",
     "text": [
      "Success parsing file: 2000 - Cantidad Química\n",
      "Success parsing file: 2001 - Cantidad Química\n",
      "Success parsing file: 2002 - Cantidad Química\n",
      "Success parsing file: 2003 - Cantidad Química\n",
      "Success parsing file: 2004 - Cantidad Química\n",
      "Success parsing file: 2005 - Cantidad Química\n",
      "Success parsing file: 2006 - Cantidad Química\n",
      "Success parsing file: 2007 - Cantidad Química\n",
      "Success parsing file: 2008 - Cantidad Química\n",
      "Success parsing file: 2009 - Cantidad Química\n",
      "Success parsing file: 2010 - Cantidad Química\n",
      "Success parsing file: 2011 - Cantidad Química\n",
      "Success parsing file: 2012 - Cantidad Química\n",
      "Success parsing file: 2013 - Cantidad Química\n",
      "Success parsing file: 2014 - Cantidad Química\n",
      "Success parsing file: 2015 - Cantidad Química\n",
      "Success parsing file: 2000 - Conf. Electrónica\n",
      "Success parsing file: 2001 - Conf. Electrónica\n",
      "Success parsing file: 2002 - Conf. Electrónica\n",
      "Success parsing file: 2003 - Conf. Electrónica\n",
      "Success parsing file: 2004 - Conf. Electrónica\n",
      "Success parsing file: 2005 - Conf. Electrónica\n",
      "Success parsing file: 2006 - Conf. Electrónica\n",
      "Success parsing file: 2007 - Conf. Electrónica\n",
      "Success parsing file: 2008 - Conf. Electrónica\n",
      "Success parsing file: 2009 - Conf. Electrónica\n",
      "Success parsing file: 2010 - Conf. Electrónica\n",
      "Success parsing file: 2011 - Conf. Electrónica\n",
      "Success parsing file: 2012 - Conf. Electrónica\n",
      "Success parsing file: 2013 - Conf. Electrónica\n",
      "Success parsing file: 2014 - Conf. Electrónica\n",
      "Success parsing file: 2015 - Conf. Electrónica\n",
      "Success parsing file: 2016 - Conf. Electrónica\n",
      "Success parsing file: 2017 - Conf. Electrónica\n",
      "Success parsing file: 2018 - Conf. Electrónica\n",
      "Success parsing file: 2019 - Conf. Electrónica\n",
      "Success parsing file: 2020 - Conf. Electrónica\n",
      "Success parsing file: 2021 - Conf. Electrónica\n",
      "Success parsing file: 2022 - Conf. Electrónica\n",
      "Success parsing file: 2023 - Conf. Electrónica\n",
      "Success parsing file: 2024 - Conf. Electrónica\n",
      "Success parsing file: 2000 - Enlace Químico\n",
      "Success parsing file: 2001 - Enlace Químico\n",
      "Success parsing file: 2002 - Enlace Químico\n",
      "Success parsing file: 2003 - Enlace Químico\n",
      "Success parsing file: 2004 - Enlace Químico\n",
      "Success parsing file: 2005 - Enlace Químico\n",
      "Success parsing file: 2006 - Enlace Químico\n",
      "Success parsing file: 2007 - Enlace Químico\n",
      "Error in 2008 - Enlace Químico.pdf: page 3\n",
      "Success parsing file: 2009 - Enlace Químico\n",
      "Success parsing file: 2010 - Enlace Químico\n",
      "Success parsing file: 2011 - Enlace Químico\n",
      "Success parsing file: 2012 - Enlace Químico\n",
      "Success parsing file: 2013 - Enlace Químico\n",
      "Success parsing file: 2014 - Enlace Químico\n",
      "Success parsing file: 2015 - Enlace Químico\n"
     ]
    }
   ],
   "source": [
    "exercises_dict = {}\n",
    "for file in file_paths:\n",
    "    topic = file.stem.split(' - ')[-1]   \n",
    "    \n",
    "    # lists to store the values\n",
    "    subjects = []\n",
    "    years = []\n",
    "    exams = []\n",
    "    exercises = []\n",
    "    statements = []\n",
    "    pages = parse_pages_ocr(file)\n",
    "\n",
    "    try:\n",
    "        for index, page in enumerate(pages):\n",
    "            statement = extract_statement(page)\n",
    "            details = extract_exam_details(statement)\n",
    "            subjects.append(details['subject'])\n",
    "            years.append(details['year'])\n",
    "            exams.append(details['exam'])\n",
    "            exercises.append(details['exercise'])\n",
    "            statements.append(statement)\n",
    "        \n",
    "        print(f'Success parsing file: {file.stem}')\n",
    "    except:\n",
    "        print(f'Error in {file.name}: page {index+1}')\n",
    "        continue\n",
    "\n",
    "    # generate the key and content for the exercises dictionary\n",
    "    key = details['subject'] + ' ' + str(details['year']) + ' ' + topic\n",
    "    exercises_dict[key] = {\n",
    "        'subject' : subjects,\n",
    "        'year' : years,\n",
    "        'topic' : [topic] * len(subjects),\n",
    "        'exam' : exams,\n",
    "        'exercise' : exercises,\n",
    "        'statement' : statements\n",
    "    }"
   ]
  },
  {
   "cell_type": "code",
   "execution_count": 15,
   "metadata": {},
   "outputs": [
    {
     "data": {
      "text/plain": [
       "dict_keys(['Química 2000 Redox', 'Química 2001 Redox'])"
      ]
     },
     "execution_count": 15,
     "metadata": {},
     "output_type": "execute_result"
    }
   ],
   "source": [
    "exercises_dict.keys()"
   ]
  },
  {
   "cell_type": "markdown",
   "metadata": {},
   "source": [
    "## Save the parsed content into a dataframe"
   ]
  },
  {
   "cell_type": "markdown",
   "metadata": {},
   "source": [
    "Create a dictionary to store the information"
   ]
  },
  {
   "cell_type": "code",
   "execution_count": 16,
   "metadata": {},
   "outputs": [
    {
     "data": {
      "text/plain": [
       "{'subject': [],\n",
       " 'year': [],\n",
       " 'topic': [],\n",
       " 'exam': [],\n",
       " 'exercise': [],\n",
       " 'statement': []}"
      ]
     },
     "execution_count": 16,
     "metadata": {},
     "output_type": "execute_result"
    }
   ],
   "source": [
    "# get dictionary keys from the first processed file\n",
    "first_processed_file = list(exercises_dict.keys())[0]\n",
    "# create the dict from keys\n",
    "content = dict.fromkeys(exercises_dict[first_processed_file].keys())\n",
    "# fill the dict with empty lists\n",
    "for key in content.keys():\n",
    "    content[key] = []\n",
    "content"
   ]
  },
  {
   "cell_type": "markdown",
   "metadata": {},
   "source": [
    "Extract values from the dictionary for each subject/year/topic file\n"
   ]
  },
  {
   "cell_type": "code",
   "execution_count": 17,
   "metadata": {},
   "outputs": [],
   "source": [
    "# each year contains a dictionary with keys containing lists of values\n",
    "for year, dict_ in exercises_dict.items():\n",
    "    # loop through the dictionary\n",
    "    for key, value in dict_.items():\n",
    "        content[key].extend(value)"
   ]
  },
  {
   "cell_type": "markdown",
   "metadata": {},
   "source": [
    "Create the pandas dataframe"
   ]
  },
  {
   "cell_type": "code",
   "execution_count": 18,
   "metadata": {},
   "outputs": [],
   "source": [
    "df = pd.DataFrame(content)"
   ]
  },
  {
   "cell_type": "code",
   "execution_count": 19,
   "metadata": {},
   "outputs": [
    {
     "data": {
      "text/html": [
       "<div>\n",
       "<style scoped>\n",
       "    .dataframe tbody tr th:only-of-type {\n",
       "        vertical-align: middle;\n",
       "    }\n",
       "\n",
       "    .dataframe tbody tr th {\n",
       "        vertical-align: top;\n",
       "    }\n",
       "\n",
       "    .dataframe thead th {\n",
       "        text-align: right;\n",
       "    }\n",
       "</style>\n",
       "<table border=\"1\" class=\"dataframe\">\n",
       "  <thead>\n",
       "    <tr style=\"text-align: right;\">\n",
       "      <th></th>\n",
       "      <th>subject</th>\n",
       "      <th>year</th>\n",
       "      <th>topic</th>\n",
       "      <th>exam</th>\n",
       "      <th>exercise</th>\n",
       "      <th>statement</th>\n",
       "    </tr>\n",
       "  </thead>\n",
       "  <tbody>\n",
       "    <tr>\n",
       "      <th>13</th>\n",
       "      <td>Química</td>\n",
       "      <td>2001</td>\n",
       "      <td>Redox</td>\n",
       "      <td>RESERVA 4</td>\n",
       "      <td>Ejercicio 3 Opción A</td>\n",
       "      <td>Se construye una pila, en condiciones estándar...</td>\n",
       "    </tr>\n",
       "    <tr>\n",
       "      <th>5</th>\n",
       "      <td>Química</td>\n",
       "      <td>2000</td>\n",
       "      <td>Redox</td>\n",
       "      <td>RESERVA 4</td>\n",
       "      <td>Ejercicio 6 Opción B</td>\n",
       "      <td>Al hacer la electrolisis del cloruro de sodio,...</td>\n",
       "    </tr>\n",
       "    <tr>\n",
       "      <th>14</th>\n",
       "      <td>Química</td>\n",
       "      <td>2001</td>\n",
       "      <td>Redox</td>\n",
       "      <td>RESERVA 4</td>\n",
       "      <td>Ejercicio 6 Opción B</td>\n",
       "      <td>En medio ácido sulfúrico, el permanganato de p...</td>\n",
       "    </tr>\n",
       "    <tr>\n",
       "      <th>11</th>\n",
       "      <td>Química</td>\n",
       "      <td>2001</td>\n",
       "      <td>Redox</td>\n",
       "      <td>RESERVA 3</td>\n",
       "      <td>Ejercicio 3 Opción A</td>\n",
       "      <td>Dadas las siguientes reacciones (sin ajustar):...</td>\n",
       "    </tr>\n",
       "    <tr>\n",
       "      <th>16</th>\n",
       "      <td>Química</td>\n",
       "      <td>2001</td>\n",
       "      <td>Redox</td>\n",
       "      <td>Septiembre</td>\n",
       "      <td>Ejercicio 3 Opción B</td>\n",
       "      <td>Sabiendo que:\\nZa(s) | Zn”(1M) || H*(1M) | H,(...</td>\n",
       "    </tr>\n",
       "  </tbody>\n",
       "</table>\n",
       "</div>"
      ],
      "text/plain": [
       "    subject  year  topic        exam              exercise  \\\n",
       "13  Química  2001  Redox   RESERVA 4  Ejercicio 3 Opción A   \n",
       "5   Química  2000  Redox   RESERVA 4  Ejercicio 6 Opción B   \n",
       "14  Química  2001  Redox   RESERVA 4  Ejercicio 6 Opción B   \n",
       "11  Química  2001  Redox   RESERVA 3  Ejercicio 3 Opción A   \n",
       "16  Química  2001  Redox  Septiembre  Ejercicio 3 Opción B   \n",
       "\n",
       "                                            statement  \n",
       "13  Se construye una pila, en condiciones estándar...  \n",
       "5   Al hacer la electrolisis del cloruro de sodio,...  \n",
       "14  En medio ácido sulfúrico, el permanganato de p...  \n",
       "11  Dadas las siguientes reacciones (sin ajustar):...  \n",
       "16  Sabiendo que:\\nZa(s) | Zn”(1M) || H*(1M) | H,(...  "
      ]
     },
     "execution_count": 19,
     "metadata": {},
     "output_type": "execute_result"
    }
   ],
   "source": [
    "df.sample(5)"
   ]
  },
  {
   "cell_type": "markdown",
   "metadata": {},
   "source": [
    "## Extract information"
   ]
  },
  {
   "cell_type": "markdown",
   "metadata": {},
   "source": [
    "## Write to a JSON file\n"
   ]
  },
  {
   "cell_type": "code",
   "execution_count": 134,
   "metadata": {},
   "outputs": [],
   "source": [
    "with open('exercises.json', 'w', encoding='utf-8') as f:\n",
    "    json.dump(exercises, f, indent=4, ensure_ascii=False)"
   ]
  },
  {
   "cell_type": "markdown",
   "metadata": {},
   "source": [
    "## Export `exercises` to csv"
   ]
  },
  {
   "cell_type": "code",
   "execution_count": null,
   "metadata": {},
   "outputs": [],
   "source": [
    "for subject in df['subject'].unique():\n",
    "    df[df['subject'] == subject].to_csv(f'exercises_{subject}.csv', index=False)"
   ]
  }
 ],
 "metadata": {
  "kernelspec": {
   "display_name": "datavenv",
   "language": "python",
   "name": "python3"
  },
  "language_info": {
   "codemirror_mode": {
    "name": "ipython",
    "version": 3
   },
   "file_extension": ".py",
   "mimetype": "text/x-python",
   "name": "python",
   "nbconvert_exporter": "python",
   "pygments_lexer": "ipython3",
   "version": "3.12.3"
  }
 },
 "nbformat": 4,
 "nbformat_minor": 2
}
