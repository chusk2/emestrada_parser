{
 "cells": [
  {
   "cell_type": "code",
   "execution_count": 1,
   "metadata": {},
   "outputs": [
    {
     "name": "stdout",
     "output_type": "stream",
     "text": [
      "Collecting PyMuPDF\n",
      "  Downloading pymupdf-1.25.3-cp39-abi3-manylinux2014_x86_64.manylinux_2_17_x86_64.whl.metadata (3.4 kB)\n",
      "Downloading pymupdf-1.25.3-cp39-abi3-manylinux2014_x86_64.manylinux_2_17_x86_64.whl (20.0 MB)\n",
      "\u001b[2K   \u001b[90m━━━━━━━━━━━━━━━━━━━━━━━━━━━━━━━━━━━━━━━━\u001b[0m \u001b[32m20.0/20.0 MB\u001b[0m \u001b[31m9.6 MB/s\u001b[0m eta \u001b[36m0:00:00\u001b[0m:00:01\u001b[0m00:01\u001b[0m\n",
      "\u001b[?25hInstalling collected packages: PyMuPDF\n",
      "Successfully installed PyMuPDF-1.25.3\n"
     ]
    }
   ],
   "source": [
    "!pip install PyMuPDF"
   ]
  },
  {
   "cell_type": "code",
   "execution_count": 2,
   "metadata": {},
   "outputs": [],
   "source": [
    "import fitz"
   ]
  },
  {
   "cell_type": "code",
   "execution_count": null,
   "metadata": {},
   "outputs": [],
   "source": [
    "def extract_text_from_pdf(pdf_path, output_path=None):\n",
    "    \"\"\"Extracts text from a PDF and optionally saves it to a text file.\"\"\"\n",
    "    doc = fitz.open(pdf_path)\n",
    "    text = \"\\n\".join(page.get_text(\"text\") for page in doc)\n",
    "\n",
    "    if output_txt_path:\n",
    "        with open(output_txt_path, \"w\", encoding=\"utf-8\") as f:\n",
    "            f.write(text)\n",
    "    \n",
    "    return text"
   ]
  },
  {
   "cell_type": "code",
   "execution_count": 97,
   "metadata": {},
   "outputs": [],
   "source": [
    "doc = fitz.open(\"quimica.pdf\")"
   ]
  },
  {
   "cell_type": "code",
   "execution_count": 9,
   "metadata": {},
   "outputs": [
    {
     "name": "stdout",
     "output_type": "stream",
     "text": [
      "<class 'pymupdf.Page'>\n",
      "<class 'pymupdf.Page'>\n",
      "<class 'pymupdf.Page'>\n",
      "<class 'pymupdf.Page'>\n",
      "<class 'pymupdf.Page'>\n",
      "<class 'pymupdf.Page'>\n",
      "<class 'pymupdf.Page'>\n",
      "<class 'pymupdf.Page'>\n",
      "<class 'pymupdf.Page'>\n",
      "<class 'pymupdf.Page'>\n"
     ]
    }
   ],
   "source": [
    "for page in doc:\n",
    "    print(type(page))"
   ]
  },
  {
   "cell_type": "code",
   "execution_count": null,
   "metadata": {},
   "outputs": [
    {
     "name": "stdout",
     "output_type": "stream",
     "text": [
      "QUÍMICA. 2024. JUNIO. EJERCICIO C4\n",
      "QUÍMICA. 2024. RESERVA 1. EJERCICIO C4\n",
      "QUÍMICA. 2024. RESERVA 2. EJERCICIO B4\n",
      "QUÍMICA. 2024. RESERVA 2. EJERCICIO C4\n",
      "QUÍMICA. 2024. RESERVA 3. EJERCICIO B5\n",
      "QUÍMICA. 2024. RESERVA 3. EJERCICIO C2\n",
      "QUÍMICA. 2024. RESERVA 4. EJERCICIO B5\n",
      "QUÍMICA. 2024. RESERVA 4. EJERCICIO C4\n",
      "QUÍMICA. 2024. JULIO. EJERCICIO C4\n"
     ]
    }
   ],
   "source": [
    "SUBJECTS = ['QUÍMICA', 'MATEMÁTICAS II', 'FÍSICA']\n",
    "\n",
    "content = {}\n",
    "\n",
    "for page in doc[1:]:\n",
    "    page_dict = {}\n",
    "    # get content of the page\n",
    "    text = page.get_text(\"text\")\n",
    "    \n",
    "    # clean the content of page\n",
    "    \n",
    "    # replacements\n",
    "    replacements = {'www.emestrada.org' : '',\n",
    "                    'R  E  S  O  L  U  C  I  Ó  N': 'Resolucion',\n",
    "                    '\\n \\n \\n' : ''}\n",
    "\n",
    "    for subs, rep in replacements.items():\n",
    "        text =  text.replace(subs, rep)\n",
    "    \n",
    "    # remove whitespaces and create list of rows\n",
    "    text = text.strip().replace('  ', ' ').split('\\n')\n",
    "\n",
    "    # extract exam details\n",
    "    exam_details = text[-1]\n",
    "    text = text[:-1]\n",
    "\n",
    "    # extract only exercise statement\n",
    "    times_a_appeared = 0\n",
    "    for index, row in enumerate(text):\n",
    "        if 'a)' in row:\n",
    "            times_a_appeared += 1\n",
    "            # it's the second occurrence of a)\n",
    "            if times_a_appeared == 2:\n",
    "                text = text[index:]\n",
    "                break\n",
    "    \n",
    "    # clean relative masses\n",
    "    for index, row in enumerate(text):\n",
    "        if ('Masas atómicas relativas' in row) or ('Dato:' in row) :\n",
    "            text = text[:index]\n",
    "            break\n",
    "    \n",
    "    # remove the lines starting with just a number\n",
    "    text = [i for i in text if len(i) > 1]\n",
    "    \n",
    "    # join the lines of the statement\n",
    "    joined_text = ''\n",
    "    for row in text:\n",
    "\n",
    "        if row.startswith('b'):\n",
    "            joined_text += '\\n' + row\n",
    "        else:\n",
    "            joined_text += row\n",
    "\n",
    "    # extract the year and exam\n",
    "    for subj in SUBJECTS:\n",
    "        if subj in exam_details:\n",
    "            index = exam_details.find(subj)\n",
    "            page_dict['subject'] = subj\n",
    "            exam = exam_details[index:].split('. ')\n",
    "            page_dict['year'] = exam[1]\n",
    "            page_dict['exam'] = exam[2]\n",
    "            page_dict['exercise'] = exam[3]\n",
    "    page_dict['page_content'] = joined_text\n",
    "    page_dict['page_number'] = page.number + 1\n",
    "\n",
    "    content[f'page_{page.number + 1}'] = page_dict"
   ]
  },
  {
   "cell_type": "code",
   "execution_count": 113,
   "metadata": {},
   "outputs": [
    {
     "data": {
      "text/plain": [
       "dict_keys(['page_2', 'page_3', 'page_4', 'page_5', 'page_6', 'page_7', 'page_8', 'page_9', 'page_10'])"
      ]
     },
     "execution_count": 113,
     "metadata": {},
     "output_type": "execute_result"
    }
   ],
   "source": [
    "content.keys()"
   ]
  },
  {
   "cell_type": "code",
   "execution_count": 129,
   "metadata": {},
   "outputs": [
    {
     "data": {
      "text/plain": [
       "{'page_2': {'subject': 'QUÍMICA',\n",
       "  'year': '2024',\n",
       "  'exam': 'JUNIO',\n",
       "  'exercise': 'EJERCICIO C4',\n",
       "  'page_content': 'a) Ajuste las ecuaciones iónica y molecular por el método del ión-electrón. \\nb) Calcule el volumen de Cl obtenido a 0ºC y 1 atm de presión a partir de 30 mL de una disolución 0’5 M de KMnO y 50 mL de una disolución 0’25 M de HCl. ',\n",
       "  'page_number': 2},\n",
       " 'page_3': {'subject': 'QUÍMICA',\n",
       "  'year': '2024',\n",
       "  'exam': 'RESERVA 1',\n",
       "  'exercise': 'EJERCICIO C4',\n",
       "  'page_content': \"a) Ajuste las ecuaciones iónica y molecular por el método del ion-electrón. \\nb) Calcule la masa de níquel que podrá oxidarse con 1 mL de ácido nítrico comercial del 70% de riqueza en masa y densidad 1'42 g mL −. \",\n",
       "  'page_number': 3},\n",
       " 'page_4': {'subject': 'QUÍMICA',\n",
       "  'year': '2024',\n",
       "  'exam': 'RESERVA 2',\n",
       "  'exercise': 'EJERCICIO B4',\n",
       "  'page_content': \"a) Justifique, escribiendo la semirreacción que tiene lugar en cada uno, cuál es el ánodo y cuál el cátodo. \\nb) Calcule el potencial estándar de la pila. c) Razone qué ocurriría si se sustituyera el electrodo de aluminio por uno de plata. Datos: E (Al/ Al)1'66 V= −; E (Cu/ Cu)0'34 V; E (Ag / Ag)0'80 V\",\n",
       "  'page_number': 4},\n",
       " 'page_5': {'subject': 'QUÍMICA',\n",
       "  'year': '2024',\n",
       "  'exam': 'RESERVA 2',\n",
       "  'exercise': 'EJERCICIO C4',\n",
       "  'page_content': \"a) Ajuste las ecuaciones iónica y molecular por el método del ion-electrón. \\nb) Se dispone de una aleación de estaño empleada para soldar componentes electrónicos. Para determinar su pureza se hacen reaccionar 50 g con ácido nítrico en exceso. Calcule el porcentaje de Sn en la aleación si en el proceso se obtienen 6,75 L de NO a 785 mmHg y 28 ºC. Datos: Masa atómica relativa: Sn118'7; 0'082 atm L Kmol\",\n",
       "  'page_number': 5},\n",
       " 'page_6': {'subject': 'QUÍMICA',\n",
       "  'year': '2024',\n",
       "  'exam': 'RESERVA 3',\n",
       "  'exercise': 'EJERCICIO B5',\n",
       "  'page_content': 'a) 2KMnO8H SO5K C O2MnSO8H O10CO6K SO\\nb) CaCO2HNOCa(NO )COH Oc) 2NaBrCl2NaClBr',\n",
       "  'page_number': 6},\n",
       " 'page_7': {'subject': 'QUÍMICA',\n",
       "  'year': '2024',\n",
       "  'exam': 'RESERVA 3',\n",
       "  'exercise': 'EJERCICIO C2',\n",
       "  'page_content': 'a) El tiempo necesario para que todo el cobre contenido en 250 mL de una disolución acuosa 0,1 M de iones Cu+ se deposite como cobre metálico, cuando se hace pasar una corriente eléctrica de 1,5 A. \\nb) La intensidad de corriente eléctrica que se debe hacer pasar a través de una disolución acuosa de iones Au+ , si se quiere obtener 1 g de oro metálico en 30 minutos. Datos: 96500 C mol −',\n",
       "  'page_number': 7},\n",
       " 'page_8': {'subject': 'QUÍMICA',\n",
       "  'year': '2024',\n",
       "  'exam': 'RESERVA 4',\n",
       "  'exercise': 'EJERCICIO B5',\n",
       "  'page_content': \"a) Indique, razonadamente, cuál es el cátodo y cuál es el ánodo de la pila. \\nb) Escriba la notación de la pila y establezca cuál es el sentido de circulación de los electrones en la misma. c) Determine el potencial estándar de la pila. Datos: E (Ag / Ag)0'80 V ; E (Cu/ Cu)0'34 V\",\n",
       "  'page_number': 8},\n",
       " 'page_9': {'subject': 'QUÍMICA',\n",
       "  'year': '2024',\n",
       "  'exam': 'RESERVA 4',\n",
       "  'exercise': 'EJERCICIO C4',\n",
       "  'page_content': 'a) Los gramos de calcio que se depositarán si se hace pasar por la cuba una corriente de 0,5 A durante 30 min. \\nb) El volumen de Cl (g) , medido a 25 ºC y 740 mmHg, que se desprenderá. ',\n",
       "  'page_number': 9},\n",
       " 'page_10': {'subject': 'QUÍMICA',\n",
       "  'year': '2024',\n",
       "  'exam': 'JULIO',\n",
       "  'exercise': 'EJERCICIO C4',\n",
       "  'page_content': 'a) Ajuste las ecuaciones iónica y molecular por el método del ion-electrón. \\nb) ¿Cuántos gramos de Cr(OH) del 90% de riqueza se necesitan para reaccionar completamente con 50 mL de una disolución de KClO 0,55 M? ',\n",
       "  'page_number': 10}}"
      ]
     },
     "execution_count": 129,
     "metadata": {},
     "output_type": "execute_result"
    }
   ],
   "source": [
    "content"
   ]
  },
  {
   "cell_type": "code",
   "execution_count": 134,
   "metadata": {},
   "outputs": [
    {
     "name": "stdout",
     "output_type": "stream",
     "text": [
      "a) Ajuste las ecuaciones iónica y molecular por el método del ion-electrón. \n",
      "b) ¿Cuántos gramos de Cr(OH) del 90% de riqueza se necesitan para reaccionar completamente con 50 mL de una disolución de KClO 0,55 M? \n",
      "\n",
      "**********\n",
      "\n",
      "a) Ajuste las ecuaciones iónica y molecular por el método del ion-electrón. \n",
      "b) ¿Cuántos gramos de Cr(OH) del 90% de riqueza se necesitan para reaccionar completamente con 50 mL de una disolución de KClO 0,55 M? \n",
      "\n",
      "**********\n",
      "\n",
      "a) Ajuste las ecuaciones iónica y molecular por el método del ion-electrón. \n",
      "b) ¿Cuántos gramos de Cr(OH) del 90% de riqueza se necesitan para reaccionar completamente con 50 mL de una disolución de KClO 0,55 M? \n",
      "\n",
      "**********\n",
      "\n",
      "a) Ajuste las ecuaciones iónica y molecular por el método del ion-electrón. \n",
      "b) ¿Cuántos gramos de Cr(OH) del 90% de riqueza se necesitan para reaccionar completamente con 50 mL de una disolución de KClO 0,55 M? \n",
      "\n",
      "**********\n",
      "\n",
      "a) Ajuste las ecuaciones iónica y molecular por el método del ion-electrón. \n",
      "b) ¿Cuántos gramos de Cr(OH) del 90% de riqueza se necesitan para reaccionar completamente con 50 mL de una disolución de KClO 0,55 M? \n",
      "\n",
      "**********\n",
      "\n",
      "a) Ajuste las ecuaciones iónica y molecular por el método del ion-electrón. \n",
      "b) ¿Cuántos gramos de Cr(OH) del 90% de riqueza se necesitan para reaccionar completamente con 50 mL de una disolución de KClO 0,55 M? \n",
      "\n",
      "**********\n",
      "\n",
      "a) Ajuste las ecuaciones iónica y molecular por el método del ion-electrón. \n",
      "b) ¿Cuántos gramos de Cr(OH) del 90% de riqueza se necesitan para reaccionar completamente con 50 mL de una disolución de KClO 0,55 M? \n",
      "\n",
      "**********\n",
      "\n",
      "a) Ajuste las ecuaciones iónica y molecular por el método del ion-electrón. \n",
      "b) ¿Cuántos gramos de Cr(OH) del 90% de riqueza se necesitan para reaccionar completamente con 50 mL de una disolución de KClO 0,55 M? \n",
      "\n",
      "**********\n",
      "\n",
      "a) Ajuste las ecuaciones iónica y molecular por el método del ion-electrón. \n",
      "b) ¿Cuántos gramos de Cr(OH) del 90% de riqueza se necesitan para reaccionar completamente con 50 mL de una disolución de KClO 0,55 M? \n",
      "\n",
      "**********\n",
      "\n"
     ]
    }
   ],
   "source": [
    "for exam in content.values():\n",
    "    print(v['page_content'])\n",
    "    print('\\n' + '*' * 10 + '\\n')"
   ]
  },
  {
   "cell_type": "code",
   "execution_count": 135,
   "metadata": {},
   "outputs": [
    {
     "data": {
      "text/plain": [
       "'a) El tiempo necesario para que todo el cobre contenido en 250 mL de una disolución acuosa 0,1 M de iones Cu+ se deposite como cobre metálico, cuando se hace pasar una corriente eléctrica de 1,5 A. \\nb) La intensidad de corriente eléctrica que se debe hacer pasar a través de una disolución acuosa de iones Au+ , si se quiere obtener 1 g de oro metálico en 30 minutos. Datos: 96500 C mol −'"
      ]
     },
     "execution_count": 135,
     "metadata": {},
     "output_type": "execute_result"
    }
   ],
   "source": [
    "content['page_7']['page_content']"
   ]
  }
 ],
 "metadata": {
  "kernelspec": {
   "display_name": "datavenv",
   "language": "python",
   "name": "python3"
  },
  "language_info": {
   "codemirror_mode": {
    "name": "ipython",
    "version": 3
   },
   "file_extension": ".py",
   "mimetype": "text/x-python",
   "name": "python",
   "nbconvert_exporter": "python",
   "pygments_lexer": "ipython3",
   "version": "3.12.3"
  }
 },
 "nbformat": 4,
 "nbformat_minor": 2
}
