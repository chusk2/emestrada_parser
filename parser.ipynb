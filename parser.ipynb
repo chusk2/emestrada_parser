{
 "cells": [
  {
   "cell_type": "code",
   "execution_count": 210,
   "metadata": {},
   "outputs": [],
   "source": [
    "import fitz\n",
    "import pandas as pd\n",
    "from pathlib import Path\n",
    "import csv"
   ]
  },
  {
   "cell_type": "markdown",
   "metadata": {},
   "source": [
    "## Files management"
   ]
  },
  {
   "cell_type": "code",
   "execution_count": 166,
   "metadata": {},
   "outputs": [
    {
     "name": "stdout",
     "output_type": "stream",
     "text": [
      "pdf_files/2005 - Reacciones Redox.pdf\n",
      "pdf_files/2008 - Reacciones Redox.pdf\n",
      "pdf_files/2022 - Reacciones Redox.pdf\n",
      "pdf_files/2000 - Reacciones Redox.pdf\n",
      "pdf_files/2003 - Reacciones Redox.pdf\n",
      "pdf_files/2004 - Reacciones Redox.pdf\n",
      "pdf_files/2002 - Reacciones Redox.pdf\n",
      "pdf_files/2016 - Reacciones Redox.pdf\n",
      "pdf_files/2021 - Reacciones Redox.pdf\n",
      "pdf_files/2024 - Reacciones Redox.pdf\n",
      "pdf_files/2007 - Reacciones Redox.pdf\n",
      "pdf_files/2023 - Reacciones Redox.pdf\n",
      "pdf_files/2015 - Reacciones Redox.pdf\n",
      "pdf_files/2013 - Reacciones Redox.pdf\n",
      "pdf_files/2011 - Reacciones Redox.pdf\n",
      "pdf_files/2001 - Reacciones Redox.pdf\n",
      "pdf_files/2014 - Reacciones Redox.pdf\n",
      "pdf_files/2019 - Reacciones Redox.pdf\n",
      "pdf_files/2017 - Reacciones Redox.pdf\n",
      "pdf_files/2018 - Reacciones Redox.pdf\n",
      "pdf_files/2020 - Reacciones Redox.pdf\n",
      "pdf_files/2009 - Reacciones Redox.pdf\n",
      "pdf_files/2012 - Reacciones Redox.pdf\n",
      "pdf_files/2010 - Reacciones Redox.pdf\n",
      "pdf_files/2006 - Reacciones Redox.pdf\n"
     ]
    }
   ],
   "source": [
    "def find_files(directory, pattern):\n",
    "    path = Path(directory)\n",
    "    return path.rglob(pattern)\n",
    "\n",
    "# Example usage\n",
    "directory = \"./pdf_files\"\n",
    "pattern = \"*.pdf\"\n",
    "\n",
    "file_paths = [i for i in find_files(directory, pattern) \n",
    "              if i.name.startswith('2')\n",
    "              ]\n",
    "print(*file_paths, sep='\\n')"
   ]
  },
  {
   "cell_type": "code",
   "execution_count": null,
   "metadata": {},
   "outputs": [],
   "source": [
    "def extract_text_from_pdf(pdf_path, output_path=None):\n",
    "    \"\"\"Extracts text from a PDF and optionally saves it to a text file.\"\"\"\n",
    "    doc = fitz.open(pdf_path)\n",
    "    \n",
    "\n",
    "    if output_txt_path:\n",
    "        with open(output_txt_path, \"w\", encoding=\"utf-8\") as f:\n",
    "            f.write(text)\n",
    "    \n",
    "    return text"
   ]
  },
  {
   "cell_type": "code",
   "execution_count": 211,
   "metadata": {},
   "outputs": [],
   "source": [
    "def save_dict_to_csv(data, filename):\n",
    "    with open(filename, 'w', newline='') as csvfile:\n",
    "        writer = csv.writer(csvfile)\n",
    "        \n",
    "        # Write the header\n",
    "        writer.writerow(data.keys())\n",
    "        \n",
    "        # Write the values\n",
    "        writer.writerow(data.values())"
   ]
  },
  {
   "cell_type": "code",
   "execution_count": 225,
   "metadata": {},
   "outputs": [],
   "source": [
    "def extract_info(file_path):\n",
    "    \n",
    "    subjects = []\n",
    "    years = []\n",
    "    exams = []\n",
    "    exercises = []\n",
    "    statements = []\n",
    "    pages = []\n",
    "    \n",
    "    # open the pdf file\n",
    "    doc = fitz.open(file_path)\n",
    "\n",
    "    # process individual pages\n",
    "    for page in doc[1:]:\n",
    "        \n",
    "        # get content of the page\n",
    "        text = page.get_text(\"text\")\n",
    "        \n",
    "        # clean the content of page\n",
    "        \n",
    "        # replacements\n",
    "        replacements = {'www.emestrada.org' : '',\n",
    "                        'R  E  S  O  L  U  C  I  Ó  N': 'Resolucion',\n",
    "                        '\\n \\n \\n' : ''}\n",
    "\n",
    "        for subs, rep in replacements.items():\n",
    "            text =  text.replace(subs, rep)\n",
    "        \n",
    "        # remove whitespaces and create list of rows\n",
    "        text = text.strip().replace('  ', ' ').split('\\n')\n",
    "\n",
    "        # extract exam details\n",
    "        exam_details = text[-1]\n",
    "        text = text[:-1]\n",
    "\n",
    "        # extract only exercise statement\n",
    "        times_a_appeared = 0\n",
    "        for index, row in enumerate(text):\n",
    "            if 'a)' in row:\n",
    "                times_a_appeared += 1\n",
    "                # it's the second occurrence of a)\n",
    "                if times_a_appeared == 2:\n",
    "                    text = text[index:]\n",
    "                    break\n",
    "        \n",
    "        # clean relative masses\n",
    "        for index, row in enumerate(text):\n",
    "            if ('Masas atómicas relativas' in row) or ('Dato:' in row) :\n",
    "                text = text[:index]\n",
    "                break\n",
    "        \n",
    "        # remove the lines starting with just a number\n",
    "        text = [i for i in text if len(i) > 1]\n",
    "        \n",
    "        # join the lines of the statement\n",
    "        joined_text = ''\n",
    "        for row in text:\n",
    "\n",
    "            if row.startswith('b'):\n",
    "                joined_text += '\\n' + row\n",
    "            else:\n",
    "                joined_text += row\n",
    "\n",
    "        # extract the year and exam\n",
    "        try:\n",
    "            exam = exam_details.split(' ')\n",
    "            # extract subject\n",
    "            subjects.append(exam[0].replace('.', '').title())\n",
    "            \n",
    "            years.append(exam[1].replace('.', ''))\n",
    "            # get exam\n",
    "            if exam[2] == 'RESERVA':\n",
    "                exams.append(exam[2].title() +  ' ' + ' '.join(exam[3]))\n",
    "            else:\n",
    "                exams.append(exam[2].title())\n",
    "            # get exercise\n",
    "            if exam[2] == 'RESERVA':\n",
    "                exercises.append(' '.join(exam[4:]).title())\n",
    "            else:\n",
    "                exercises.append(' '.join(exam[3:]).title())\n",
    "        except:\n",
    "            print(f'Problems with exercise data in {file_path.name}' \\\n",
    "                  f' on page {page.number + 1}.')\n",
    "            print(exam_details)\n",
    "                   \n",
    "        statements.append(joined_text)\n",
    "        pages.append(page.number + 1)\n",
    "\n",
    "        # update the content with the page dict\n",
    "        # content[f'{file_path.name}_page_{page.number + 1}'] = page_dict\n",
    "\n",
    "    return {'subject' : subjects,   \n",
    "            'year': years,\n",
    "            'exam': exams,\n",
    "            'exercise': exercises,\n",
    "            'statement': statements,\n",
    "            'page': pages}"
   ]
  },
  {
   "cell_type": "code",
   "execution_count": 200,
   "metadata": {},
   "outputs": [
    {
     "data": {
      "text/plain": [
       "['QUÍMICA.', '2020.', 'JUNIO.', 'C4']"
      ]
     },
     "execution_count": 200,
     "metadata": {},
     "output_type": "execute_result"
    }
   ],
   "source": [
    "page_dict = {}\n",
    "exam_details = 'QUÍMICA. 2020. JUNIO. C4'\n",
    "exam = exam_details.split(' ')\n",
    "exam\n"
   ]
  },
  {
   "cell_type": "code",
   "execution_count": 201,
   "metadata": {},
   "outputs": [
    {
     "data": {
      "text/plain": [
       "{'subject': 'Química', 'year': '2020', 'exam': 'Junio.', 'exercise': 'C4'}"
      ]
     },
     "execution_count": 201,
     "metadata": {},
     "output_type": "execute_result"
    }
   ],
   "source": [
    "# extract subject\n",
    "page_dict['subject'] = (exam[0]\n",
    "                        .replace('.', '')\n",
    "                        .title()\n",
    ")\n",
    "page_dict['year'] = exam[1].replace('.', '')\n",
    "# get exam\n",
    "if exam[2] == 'RESERVA':\n",
    "    page_dict['exam'] = exam[2].title() +  ' ' + ' '.join(exam[3])\n",
    "else:\n",
    "    page_dict['exam'] = exam[2].title()\n",
    "# get exercise\n",
    "if exam[2] == 'RESERVA':\n",
    "    page_dict['exercise'] = ' '.join(exam[4:]).title()\n",
    "else:\n",
    "    page_dict['exercise'] = ' '.join(exam[3:]).title()\n",
    "\n",
    "page_dict"
   ]
  },
  {
   "cell_type": "code",
   "execution_count": 226,
   "metadata": {},
   "outputs": [
    {
     "name": "stdout",
     "output_type": "stream",
     "text": [
      "Problems with exercise data in 2020 - Reacciones Redox.pdf on page 2.\n",
      "\n"
     ]
    }
   ],
   "source": [
    "content = {}\n",
    "topic = 'Redox'\n",
    "for file in file_paths:\n",
    "    content.update(extract_info(file))"
   ]
  },
  {
   "cell_type": "code",
   "execution_count": 231,
   "metadata": {},
   "outputs": [
    {
     "data": {
      "text/plain": [
       "{'subject': ['Química',\n",
       "  'Química',\n",
       "  'Química',\n",
       "  'Química',\n",
       "  'Química',\n",
       "  'Química',\n",
       "  'Química',\n",
       "  'Química'],\n",
       " 'year': ['2006', '2006', '2006', '2006', '2006', '2006', '2006', '2006'],\n",
       " 'exam': ['Junio.',\n",
       "  'Junio.',\n",
       "  'Reserva 1 .',\n",
       "  'Reserva 1 .',\n",
       "  'Reserva 2 .',\n",
       "  'Reserva 3 .',\n",
       "  'Reserva 4 .',\n",
       "  'Septiembre.'],\n",
       " 'exercise': ['Ejercicio 3. Opción A',\n",
       "  'Ejercicio 6. Opción B',\n",
       "  'Ejercicio 3. Opción A',\n",
       "  'Ejercicio 6. Opción B',\n",
       "  'Ejercicio 5. Opción A',\n",
       "  'Ejercicio 6. Opción B',\n",
       "  'Ejercicio 3. Opción B',\n",
       "  'Ejercicio 5. Opción A'],\n",
       " 'statement': ['a) El número de oxidación del oxígeno pasa de  a 0. \\nb) El carbono se oxida a CO c) El HNO se reduce a NO. ',\n",
       "  'a) ¿Qué intensidad de corriente ha pasado a través de la cuba electrolítica?. \\nb) Calcule la molaridad de la disolución inicial de AgNO . Datos: F=96500 C. Masas atómicas: Ag108 ; N14 ; O16',\n",
       "  'a) Un elemento se reduce cuando pierde electrones. \\nb) Una especie química se oxida al mismo tiempo que otra se reduce. c) En una pila, la oxidación tiene lugar en el electrodo negativo. ',\n",
       "  'a) Ajuste la reacción iónica por el método del ión-electrón. \\nb) Calcule la riqueza de una muestra de cinc si 1 g de la misma reacciona con 25 mL de una disolución 0’1 M en iones BrO \\uf02d. Masa atómica: Zn = 65’4. ',\n",
       "  'a) Ajústela por el método del ión-electrón. \\nb) Calcule el volumen de NO, medido en condiciones normales, que se obtiene cuando reaccionan 7’5 g de Cu con 1 litro de disolución 0’2 M de HNO . Masa atómica: Cu = 63’5. ',\n",
       "  'a) La masa atómica del metal. \\nb) El volumen de Cl que se obtendrá en el ánodo, medido en condiciones normales. ',\n",
       "  \"Resolucion 3Al3eAl1'66Cu2eCu0'34\\uf0ae22Al3Cu2Al3Cufem 1'660'342 v\\uf03dEl oxidante es el que gana electrones (Cu\\uf02b y el reductor el que cede electrones (Al) La reacción es espontánea ya que la fem es positiva.     Cuando se introduce una lámina de aluminio en una disolución de nitrato de cobre (II), se deposita cobre sobre la lámina de aluminio y aparecen iones Al \\uf02b en la disolución. a) Escriba las semirreacciones de oxidación y de reducción que tienen lugar. \\nb) Escriba la reacción redox global indicando el agente oxidante y el reductor. c) ¿Por qué la reacción es espontánea? Datos: E (Cu/ Cu)0'34 V; E (Al/ Al)1'66 V\\uf03d\\uf02d. \",\n",
       "  'a) Ajuste por el método del ión-electrón esta reacción en su forma iónica. \\nb) Calcule el volumen deCO , medido a 700 mm de Hg y 30 ºC que se obtendrá cuando reaccionan 25’8 mL de una disolución de K Cr O 0’02 M con exceso de ión C O\\uf02d. '],\n",
       " 'page': [2, 3, 4, 5, 6, 7, 8, 9]}"
      ]
     },
     "execution_count": 231,
     "metadata": {},
     "output_type": "execute_result"
    }
   ],
   "source": [
    "content"
   ]
  },
  {
   "cell_type": "code",
   "execution_count": 230,
   "metadata": {},
   "outputs": [
    {
     "data": {
      "text/plain": [
       "(8, 6)"
      ]
     },
     "execution_count": 230,
     "metadata": {},
     "output_type": "execute_result"
    }
   ],
   "source": [
    "df = pd.DataFrame(content)\n",
    "df.shape"
   ]
  },
  {
   "cell_type": "code",
   "execution_count": null,
   "metadata": {},
   "outputs": [],
   "source": [
    "def save_dict_to_csv(data, filename):\n",
    "    \n",
    "    with open(filename, 'w', newline='') as csvfile:\n",
    "        writer = csv.writer(csvfile)\n",
    "        \n",
    "        # Write the header\n",
    "        writer.writerow(data.keys())\n",
    "        \n",
    "        # Write the values\n",
    "        writer.writerow(data.values())"
   ]
  },
  {
   "cell_type": "code",
   "execution_count": 221,
   "metadata": {},
   "outputs": [
    {
     "ename": "AttributeError",
     "evalue": "'dict_values' object has no attribute 'keys'",
     "output_type": "error",
     "traceback": [
      "\u001b[0;31m---------------------------------------------------------------------------\u001b[0m",
      "\u001b[0;31mAttributeError\u001b[0m                            Traceback (most recent call last)",
      "Cell \u001b[0;32mIn[221], line 2\u001b[0m\n\u001b[1;32m      1\u001b[0m \u001b[38;5;66;03m# export to csv\u001b[39;00m\n\u001b[0;32m----> 2\u001b[0m \u001b[43msave_dict_to_csv\u001b[49m\u001b[43m(\u001b[49m\u001b[43mcontent\u001b[49m\u001b[38;5;241;43m.\u001b[39;49m\u001b[43mvalues\u001b[49m\u001b[43m(\u001b[49m\u001b[43m)\u001b[49m\u001b[43m,\u001b[49m\u001b[43m \u001b[49m\u001b[38;5;124;43mf\u001b[39;49m\u001b[38;5;124;43m'\u001b[39;49m\u001b[38;5;132;43;01m{\u001b[39;49;00m\u001b[43mtopic\u001b[49m\u001b[38;5;132;43;01m}\u001b[39;49;00m\u001b[38;5;124;43m.csv\u001b[39;49m\u001b[38;5;124;43m'\u001b[39;49m\u001b[43m)\u001b[49m\n",
      "Cell \u001b[0;32mIn[211], line 6\u001b[0m, in \u001b[0;36msave_dict_to_csv\u001b[0;34m(data, filename)\u001b[0m\n\u001b[1;32m      3\u001b[0m writer \u001b[38;5;241m=\u001b[39m csv\u001b[38;5;241m.\u001b[39mwriter(csvfile)\n\u001b[1;32m      5\u001b[0m \u001b[38;5;66;03m# Write the header\u001b[39;00m\n\u001b[0;32m----> 6\u001b[0m writer\u001b[38;5;241m.\u001b[39mwriterow(\u001b[43mdata\u001b[49m\u001b[38;5;241;43m.\u001b[39;49m\u001b[43mkeys\u001b[49m())\n\u001b[1;32m      8\u001b[0m \u001b[38;5;66;03m# Write the values\u001b[39;00m\n\u001b[1;32m      9\u001b[0m writer\u001b[38;5;241m.\u001b[39mwriterow(data\u001b[38;5;241m.\u001b[39mvalues())\n",
      "\u001b[0;31mAttributeError\u001b[0m: 'dict_values' object has no attribute 'keys'"
     ]
    }
   ],
   "source": [
    "# export to csv\n",
    "save_dict_to_csv(content.values(), f'{topic}.csv')"
   ]
  },
  {
   "cell_type": "code",
   "execution_count": 215,
   "metadata": {},
   "outputs": [],
   "source": [
    "df = pd.read_csv('Redox.csv')"
   ]
  },
  {
   "cell_type": "code",
   "execution_count": 216,
   "metadata": {},
   "outputs": [
    {
     "data": {
      "text/html": [
       "<div>\n",
       "<style scoped>\n",
       "    .dataframe tbody tr th:only-of-type {\n",
       "        vertical-align: middle;\n",
       "    }\n",
       "\n",
       "    .dataframe tbody tr th {\n",
       "        vertical-align: top;\n",
       "    }\n",
       "\n",
       "    .dataframe thead th {\n",
       "        text-align: right;\n",
       "    }\n",
       "</style>\n",
       "<table border=\"1\" class=\"dataframe\">\n",
       "  <thead>\n",
       "    <tr style=\"text-align: right;\">\n",
       "      <th></th>\n",
       "      <th>2005 - Reacciones Redox.pdf_page_2</th>\n",
       "      <th>2005 - Reacciones Redox.pdf_page_3</th>\n",
       "      <th>2005 - Reacciones Redox.pdf_page_4</th>\n",
       "      <th>2005 - Reacciones Redox.pdf_page_5</th>\n",
       "      <th>2005 - Reacciones Redox.pdf_page_6</th>\n",
       "      <th>2005 - Reacciones Redox.pdf_page_7</th>\n",
       "      <th>2005 - Reacciones Redox.pdf_page_8</th>\n",
       "      <th>2005 - Reacciones Redox.pdf_page_9</th>\n",
       "      <th>2008 - Reacciones Redox.pdf_page_2</th>\n",
       "      <th>2008 - Reacciones Redox.pdf_page_3</th>\n",
       "      <th>...</th>\n",
       "      <th>2010 - Reacciones Redox.pdf_page_8</th>\n",
       "      <th>2010 - Reacciones Redox.pdf_page_9</th>\n",
       "      <th>2006 - Reacciones Redox.pdf_page_2</th>\n",
       "      <th>2006 - Reacciones Redox.pdf_page_3</th>\n",
       "      <th>2006 - Reacciones Redox.pdf_page_4</th>\n",
       "      <th>2006 - Reacciones Redox.pdf_page_5</th>\n",
       "      <th>2006 - Reacciones Redox.pdf_page_6</th>\n",
       "      <th>2006 - Reacciones Redox.pdf_page_7</th>\n",
       "      <th>2006 - Reacciones Redox.pdf_page_8</th>\n",
       "      <th>2006 - Reacciones Redox.pdf_page_9</th>\n",
       "    </tr>\n",
       "  </thead>\n",
       "  <tbody>\n",
       "    <tr>\n",
       "      <th>0</th>\n",
       "      <td>{'subject': 'Química', 'year': '2005', 'exam':...</td>\n",
       "      <td>{'subject': 'Quimica', 'year': '2005', 'exam':...</td>\n",
       "      <td>{'subject': 'Quimica', 'year': '2005', 'exam':...</td>\n",
       "      <td>{'subject': 'Quimica', 'year': '2005', 'exam':...</td>\n",
       "      <td>{'subject': 'Quimica', 'year': '2005', 'exam':...</td>\n",
       "      <td>{'subject': 'Quimica', 'year': '2005', 'exam':...</td>\n",
       "      <td>{'subject': 'Quimica', 'year': '2005', 'exam':...</td>\n",
       "      <td>{'subject': 'Química', 'year': '2005', 'exam':...</td>\n",
       "      <td>{'subject': 'Química', 'year': '2008', 'exam':...</td>\n",
       "      <td>{'subject': 'Química', 'year': '2008', 'exam':...</td>\n",
       "      <td>...</td>\n",
       "      <td>{'subject': 'Química', 'year': '2010', 'exam':...</td>\n",
       "      <td>{'subject': 'Química', 'year': '2010', 'exam':...</td>\n",
       "      <td>{'subject': 'Química', 'year': '2006', 'exam':...</td>\n",
       "      <td>{'subject': 'Química', 'year': '2006', 'exam':...</td>\n",
       "      <td>{'subject': 'Química', 'year': '2006', 'exam':...</td>\n",
       "      <td>{'subject': 'Química', 'year': '2006', 'exam':...</td>\n",
       "      <td>{'subject': 'Química', 'year': '2006', 'exam':...</td>\n",
       "      <td>{'subject': 'Química', 'year': '2006', 'exam':...</td>\n",
       "      <td>{'subject': 'Química', 'year': '2006', 'exam':...</td>\n",
       "      <td>{'subject': 'Química', 'year': '2006', 'exam':...</td>\n",
       "    </tr>\n",
       "  </tbody>\n",
       "</table>\n",
       "<p>1 rows × 214 columns</p>\n",
       "</div>"
      ],
      "text/plain": [
       "                  2005 - Reacciones Redox.pdf_page_2  \\\n",
       "0  {'subject': 'Química', 'year': '2005', 'exam':...   \n",
       "\n",
       "                  2005 - Reacciones Redox.pdf_page_3  \\\n",
       "0  {'subject': 'Quimica', 'year': '2005', 'exam':...   \n",
       "\n",
       "                  2005 - Reacciones Redox.pdf_page_4  \\\n",
       "0  {'subject': 'Quimica', 'year': '2005', 'exam':...   \n",
       "\n",
       "                  2005 - Reacciones Redox.pdf_page_5  \\\n",
       "0  {'subject': 'Quimica', 'year': '2005', 'exam':...   \n",
       "\n",
       "                  2005 - Reacciones Redox.pdf_page_6  \\\n",
       "0  {'subject': 'Quimica', 'year': '2005', 'exam':...   \n",
       "\n",
       "                  2005 - Reacciones Redox.pdf_page_7  \\\n",
       "0  {'subject': 'Quimica', 'year': '2005', 'exam':...   \n",
       "\n",
       "                  2005 - Reacciones Redox.pdf_page_8  \\\n",
       "0  {'subject': 'Quimica', 'year': '2005', 'exam':...   \n",
       "\n",
       "                  2005 - Reacciones Redox.pdf_page_9  \\\n",
       "0  {'subject': 'Química', 'year': '2005', 'exam':...   \n",
       "\n",
       "                  2008 - Reacciones Redox.pdf_page_2  \\\n",
       "0  {'subject': 'Química', 'year': '2008', 'exam':...   \n",
       "\n",
       "                  2008 - Reacciones Redox.pdf_page_3  ...  \\\n",
       "0  {'subject': 'Química', 'year': '2008', 'exam':...  ...   \n",
       "\n",
       "                  2010 - Reacciones Redox.pdf_page_8  \\\n",
       "0  {'subject': 'Química', 'year': '2010', 'exam':...   \n",
       "\n",
       "                  2010 - Reacciones Redox.pdf_page_9  \\\n",
       "0  {'subject': 'Química', 'year': '2010', 'exam':...   \n",
       "\n",
       "                  2006 - Reacciones Redox.pdf_page_2  \\\n",
       "0  {'subject': 'Química', 'year': '2006', 'exam':...   \n",
       "\n",
       "                  2006 - Reacciones Redox.pdf_page_3  \\\n",
       "0  {'subject': 'Química', 'year': '2006', 'exam':...   \n",
       "\n",
       "                  2006 - Reacciones Redox.pdf_page_4  \\\n",
       "0  {'subject': 'Química', 'year': '2006', 'exam':...   \n",
       "\n",
       "                  2006 - Reacciones Redox.pdf_page_5  \\\n",
       "0  {'subject': 'Química', 'year': '2006', 'exam':...   \n",
       "\n",
       "                  2006 - Reacciones Redox.pdf_page_6  \\\n",
       "0  {'subject': 'Química', 'year': '2006', 'exam':...   \n",
       "\n",
       "                  2006 - Reacciones Redox.pdf_page_7  \\\n",
       "0  {'subject': 'Química', 'year': '2006', 'exam':...   \n",
       "\n",
       "                  2006 - Reacciones Redox.pdf_page_8  \\\n",
       "0  {'subject': 'Química', 'year': '2006', 'exam':...   \n",
       "\n",
       "                  2006 - Reacciones Redox.pdf_page_9  \n",
       "0  {'subject': 'Química', 'year': '2006', 'exam':...  \n",
       "\n",
       "[1 rows x 214 columns]"
      ]
     },
     "execution_count": 216,
     "metadata": {},
     "output_type": "execute_result"
    }
   ],
   "source": [
    "df.head()"
   ]
  },
  {
   "cell_type": "code",
   "execution_count": 209,
   "metadata": {},
   "outputs": [
    {
     "data": {
      "text/html": [
       "<div>\n",
       "<style scoped>\n",
       "    .dataframe tbody tr th:only-of-type {\n",
       "        vertical-align: middle;\n",
       "    }\n",
       "\n",
       "    .dataframe tbody tr th {\n",
       "        vertical-align: top;\n",
       "    }\n",
       "\n",
       "    .dataframe thead th {\n",
       "        text-align: right;\n",
       "    }\n",
       "</style>\n",
       "<table border=\"1\" class=\"dataframe\">\n",
       "  <thead>\n",
       "    <tr style=\"text-align: right;\">\n",
       "      <th></th>\n",
       "      <th>subject</th>\n",
       "      <th>year</th>\n",
       "      <th>exam</th>\n",
       "      <th>exercise</th>\n",
       "      <th>statement</th>\n",
       "      <th>page</th>\n",
       "    </tr>\n",
       "  </thead>\n",
       "  <tbody>\n",
       "    <tr>\n",
       "      <th>0</th>\n",
       "      <td>Química</td>\n",
       "      <td>2024</td>\n",
       "      <td>Junio</td>\n",
       "      <td>Ejercicio C4</td>\n",
       "      <td>a) Ajuste las ecuaciones iónica y molecular po...</td>\n",
       "      <td>2</td>\n",
       "    </tr>\n",
       "    <tr>\n",
       "      <th>1</th>\n",
       "      <td>Química</td>\n",
       "      <td>2024</td>\n",
       "      <td>Reserva 1</td>\n",
       "      <td>Ejercicio C4</td>\n",
       "      <td>a) Ajuste las ecuaciones iónica y molecular po...</td>\n",
       "      <td>3</td>\n",
       "    </tr>\n",
       "    <tr>\n",
       "      <th>2</th>\n",
       "      <td>Química</td>\n",
       "      <td>2024</td>\n",
       "      <td>Reserva 2</td>\n",
       "      <td>Ejercicio B4</td>\n",
       "      <td>a) Justifique, escribiendo la semirreacción qu...</td>\n",
       "      <td>4</td>\n",
       "    </tr>\n",
       "    <tr>\n",
       "      <th>3</th>\n",
       "      <td>Química</td>\n",
       "      <td>2024</td>\n",
       "      <td>Reserva 2</td>\n",
       "      <td>Ejercicio C4</td>\n",
       "      <td>a) Ajuste las ecuaciones iónica y molecular po...</td>\n",
       "      <td>5</td>\n",
       "    </tr>\n",
       "    <tr>\n",
       "      <th>4</th>\n",
       "      <td>Química</td>\n",
       "      <td>2024</td>\n",
       "      <td>Reserva 3</td>\n",
       "      <td>Ejercicio B5</td>\n",
       "      <td>a) 2KMnO8H SO5K C O2MnSO8H O10CO6K SO\\nb) CaCO...</td>\n",
       "      <td>6</td>\n",
       "    </tr>\n",
       "    <tr>\n",
       "      <th>5</th>\n",
       "      <td>Química</td>\n",
       "      <td>2024</td>\n",
       "      <td>Reserva 3</td>\n",
       "      <td>Ejercicio C2</td>\n",
       "      <td>a) El tiempo necesario para que todo el cobre ...</td>\n",
       "      <td>7</td>\n",
       "    </tr>\n",
       "    <tr>\n",
       "      <th>6</th>\n",
       "      <td>Química</td>\n",
       "      <td>2024</td>\n",
       "      <td>Reserva 4</td>\n",
       "      <td>Ejercicio B5</td>\n",
       "      <td>a) Indique, razonadamente, cuál es el cátodo y...</td>\n",
       "      <td>8</td>\n",
       "    </tr>\n",
       "    <tr>\n",
       "      <th>7</th>\n",
       "      <td>Química</td>\n",
       "      <td>2024</td>\n",
       "      <td>Reserva 4</td>\n",
       "      <td>Ejercicio C4</td>\n",
       "      <td>a) Los gramos de calcio que se depositarán si ...</td>\n",
       "      <td>9</td>\n",
       "    </tr>\n",
       "    <tr>\n",
       "      <th>8</th>\n",
       "      <td>Química</td>\n",
       "      <td>2024</td>\n",
       "      <td>Julio</td>\n",
       "      <td>Ejercicio C4</td>\n",
       "      <td>a) Ajuste las ecuaciones iónica y molecular po...</td>\n",
       "      <td>10</td>\n",
       "    </tr>\n",
       "  </tbody>\n",
       "</table>\n",
       "</div>"
      ],
      "text/plain": [
       "   subject  year       exam      exercise  \\\n",
       "0  Química  2024      Junio  Ejercicio C4   \n",
       "1  Química  2024  Reserva 1  Ejercicio C4   \n",
       "2  Química  2024  Reserva 2  Ejercicio B4   \n",
       "3  Química  2024  Reserva 2  Ejercicio C4   \n",
       "4  Química  2024  Reserva 3  Ejercicio B5   \n",
       "5  Química  2024  Reserva 3  Ejercicio C2   \n",
       "6  Química  2024  Reserva 4  Ejercicio B5   \n",
       "7  Química  2024  Reserva 4  Ejercicio C4   \n",
       "8  Química  2024      Julio  Ejercicio C4   \n",
       "\n",
       "                                           statement  page  \n",
       "0  a) Ajuste las ecuaciones iónica y molecular po...     2  \n",
       "1  a) Ajuste las ecuaciones iónica y molecular po...     3  \n",
       "2  a) Justifique, escribiendo la semirreacción qu...     4  \n",
       "3  a) Ajuste las ecuaciones iónica y molecular po...     5  \n",
       "4  a) 2KMnO8H SO5K C O2MnSO8H O10CO6K SO\\nb) CaCO...     6  \n",
       "5  a) El tiempo necesario para que todo el cobre ...     7  \n",
       "6  a) Indique, razonadamente, cuál es el cátodo y...     8  \n",
       "7  a) Los gramos de calcio que se depositarán si ...     9  \n",
       "8  a) Ajuste las ecuaciones iónica y molecular po...    10  "
      ]
     },
     "execution_count": 209,
     "metadata": {},
     "output_type": "execute_result"
    }
   ],
   "source": [
    "pd.DataFrame(content.values(), columns=['subject', 'year', 'exam', 'exercise', 'statement', 'page'])"
   ]
  },
  {
   "cell_type": "code",
   "execution_count": 150,
   "metadata": {},
   "outputs": [
    {
     "data": {
      "text/plain": [
       "'Ejercicio C4'"
      ]
     },
     "execution_count": 150,
     "metadata": {},
     "output_type": "execute_result"
    }
   ],
   "source": [
    "'EJERCICIO C4'.replace('EJERCICIO', 'Ejercicio')"
   ]
  },
  {
   "cell_type": "code",
   "execution_count": 129,
   "metadata": {},
   "outputs": [
    {
     "data": {
      "text/plain": [
       "{'page_2': {'subject': 'QUÍMICA',\n",
       "  'year': '2024',\n",
       "  'exam': 'JUNIO',\n",
       "  'exercise': 'EJERCICIO C4',\n",
       "  'page_content': 'a) Ajuste las ecuaciones iónica y molecular por el método del ión-electrón. \\nb) Calcule el volumen de Cl obtenido a 0ºC y 1 atm de presión a partir de 30 mL de una disolución 0’5 M de KMnO y 50 mL de una disolución 0’25 M de HCl. ',\n",
       "  'page_number': 2},\n",
       " 'page_3': {'subject': 'QUÍMICA',\n",
       "  'year': '2024',\n",
       "  'exam': 'RESERVA 1',\n",
       "  'exercise': 'EJERCICIO C4',\n",
       "  'page_content': \"a) Ajuste las ecuaciones iónica y molecular por el método del ion-electrón. \\nb) Calcule la masa de níquel que podrá oxidarse con 1 mL de ácido nítrico comercial del 70% de riqueza en masa y densidad 1'42 g mL −. \",\n",
       "  'page_number': 3},\n",
       " 'page_4': {'subject': 'QUÍMICA',\n",
       "  'year': '2024',\n",
       "  'exam': 'RESERVA 2',\n",
       "  'exercise': 'EJERCICIO B4',\n",
       "  'page_content': \"a) Justifique, escribiendo la semirreacción que tiene lugar en cada uno, cuál es el ánodo y cuál el cátodo. \\nb) Calcule el potencial estándar de la pila. c) Razone qué ocurriría si se sustituyera el electrodo de aluminio por uno de plata. Datos: E (Al/ Al)1'66 V= −; E (Cu/ Cu)0'34 V; E (Ag / Ag)0'80 V\",\n",
       "  'page_number': 4},\n",
       " 'page_5': {'subject': 'QUÍMICA',\n",
       "  'year': '2024',\n",
       "  'exam': 'RESERVA 2',\n",
       "  'exercise': 'EJERCICIO C4',\n",
       "  'page_content': \"a) Ajuste las ecuaciones iónica y molecular por el método del ion-electrón. \\nb) Se dispone de una aleación de estaño empleada para soldar componentes electrónicos. Para determinar su pureza se hacen reaccionar 50 g con ácido nítrico en exceso. Calcule el porcentaje de Sn en la aleación si en el proceso se obtienen 6,75 L de NO a 785 mmHg y 28 ºC. Datos: Masa atómica relativa: Sn118'7; 0'082 atm L Kmol\",\n",
       "  'page_number': 5},\n",
       " 'page_6': {'subject': 'QUÍMICA',\n",
       "  'year': '2024',\n",
       "  'exam': 'RESERVA 3',\n",
       "  'exercise': 'EJERCICIO B5',\n",
       "  'page_content': 'a) 2KMnO8H SO5K C O2MnSO8H O10CO6K SO\\nb) CaCO2HNOCa(NO )COH Oc) 2NaBrCl2NaClBr',\n",
       "  'page_number': 6},\n",
       " 'page_7': {'subject': 'QUÍMICA',\n",
       "  'year': '2024',\n",
       "  'exam': 'RESERVA 3',\n",
       "  'exercise': 'EJERCICIO C2',\n",
       "  'page_content': 'a) El tiempo necesario para que todo el cobre contenido en 250 mL de una disolución acuosa 0,1 M de iones Cu+ se deposite como cobre metálico, cuando se hace pasar una corriente eléctrica de 1,5 A. \\nb) La intensidad de corriente eléctrica que se debe hacer pasar a través de una disolución acuosa de iones Au+ , si se quiere obtener 1 g de oro metálico en 30 minutos. Datos: 96500 C mol −',\n",
       "  'page_number': 7},\n",
       " 'page_8': {'subject': 'QUÍMICA',\n",
       "  'year': '2024',\n",
       "  'exam': 'RESERVA 4',\n",
       "  'exercise': 'EJERCICIO B5',\n",
       "  'page_content': \"a) Indique, razonadamente, cuál es el cátodo y cuál es el ánodo de la pila. \\nb) Escriba la notación de la pila y establezca cuál es el sentido de circulación de los electrones en la misma. c) Determine el potencial estándar de la pila. Datos: E (Ag / Ag)0'80 V ; E (Cu/ Cu)0'34 V\",\n",
       "  'page_number': 8},\n",
       " 'page_9': {'subject': 'QUÍMICA',\n",
       "  'year': '2024',\n",
       "  'exam': 'RESERVA 4',\n",
       "  'exercise': 'EJERCICIO C4',\n",
       "  'page_content': 'a) Los gramos de calcio que se depositarán si se hace pasar por la cuba una corriente de 0,5 A durante 30 min. \\nb) El volumen de Cl (g) , medido a 25 ºC y 740 mmHg, que se desprenderá. ',\n",
       "  'page_number': 9},\n",
       " 'page_10': {'subject': 'QUÍMICA',\n",
       "  'year': '2024',\n",
       "  'exam': 'JULIO',\n",
       "  'exercise': 'EJERCICIO C4',\n",
       "  'page_content': 'a) Ajuste las ecuaciones iónica y molecular por el método del ion-electrón. \\nb) ¿Cuántos gramos de Cr(OH) del 90% de riqueza se necesitan para reaccionar completamente con 50 mL de una disolución de KClO 0,55 M? ',\n",
       "  'page_number': 10}}"
      ]
     },
     "execution_count": 129,
     "metadata": {},
     "output_type": "execute_result"
    }
   ],
   "source": [
    "content"
   ]
  },
  {
   "cell_type": "code",
   "execution_count": 134,
   "metadata": {},
   "outputs": [
    {
     "name": "stdout",
     "output_type": "stream",
     "text": [
      "a) Ajuste las ecuaciones iónica y molecular por el método del ion-electrón. \n",
      "b) ¿Cuántos gramos de Cr(OH) del 90% de riqueza se necesitan para reaccionar completamente con 50 mL de una disolución de KClO 0,55 M? \n",
      "\n",
      "**********\n",
      "\n",
      "a) Ajuste las ecuaciones iónica y molecular por el método del ion-electrón. \n",
      "b) ¿Cuántos gramos de Cr(OH) del 90% de riqueza se necesitan para reaccionar completamente con 50 mL de una disolución de KClO 0,55 M? \n",
      "\n",
      "**********\n",
      "\n",
      "a) Ajuste las ecuaciones iónica y molecular por el método del ion-electrón. \n",
      "b) ¿Cuántos gramos de Cr(OH) del 90% de riqueza se necesitan para reaccionar completamente con 50 mL de una disolución de KClO 0,55 M? \n",
      "\n",
      "**********\n",
      "\n",
      "a) Ajuste las ecuaciones iónica y molecular por el método del ion-electrón. \n",
      "b) ¿Cuántos gramos de Cr(OH) del 90% de riqueza se necesitan para reaccionar completamente con 50 mL de una disolución de KClO 0,55 M? \n",
      "\n",
      "**********\n",
      "\n",
      "a) Ajuste las ecuaciones iónica y molecular por el método del ion-electrón. \n",
      "b) ¿Cuántos gramos de Cr(OH) del 90% de riqueza se necesitan para reaccionar completamente con 50 mL de una disolución de KClO 0,55 M? \n",
      "\n",
      "**********\n",
      "\n",
      "a) Ajuste las ecuaciones iónica y molecular por el método del ion-electrón. \n",
      "b) ¿Cuántos gramos de Cr(OH) del 90% de riqueza se necesitan para reaccionar completamente con 50 mL de una disolución de KClO 0,55 M? \n",
      "\n",
      "**********\n",
      "\n",
      "a) Ajuste las ecuaciones iónica y molecular por el método del ion-electrón. \n",
      "b) ¿Cuántos gramos de Cr(OH) del 90% de riqueza se necesitan para reaccionar completamente con 50 mL de una disolución de KClO 0,55 M? \n",
      "\n",
      "**********\n",
      "\n",
      "a) Ajuste las ecuaciones iónica y molecular por el método del ion-electrón. \n",
      "b) ¿Cuántos gramos de Cr(OH) del 90% de riqueza se necesitan para reaccionar completamente con 50 mL de una disolución de KClO 0,55 M? \n",
      "\n",
      "**********\n",
      "\n",
      "a) Ajuste las ecuaciones iónica y molecular por el método del ion-electrón. \n",
      "b) ¿Cuántos gramos de Cr(OH) del 90% de riqueza se necesitan para reaccionar completamente con 50 mL de una disolución de KClO 0,55 M? \n",
      "\n",
      "**********\n",
      "\n"
     ]
    }
   ],
   "source": [
    "for exam in content.values():\n",
    "    print(v['page_content'])\n",
    "    print('\\n' + '*' * 10 + '\\n')"
   ]
  },
  {
   "cell_type": "code",
   "execution_count": 135,
   "metadata": {},
   "outputs": [
    {
     "data": {
      "text/plain": [
       "'a) El tiempo necesario para que todo el cobre contenido en 250 mL de una disolución acuosa 0,1 M de iones Cu+ se deposite como cobre metálico, cuando se hace pasar una corriente eléctrica de 1,5 A. \\nb) La intensidad de corriente eléctrica que se debe hacer pasar a través de una disolución acuosa de iones Au+ , si se quiere obtener 1 g de oro metálico en 30 minutos. Datos: 96500 C mol −'"
      ]
     },
     "execution_count": 135,
     "metadata": {},
     "output_type": "execute_result"
    }
   ],
   "source": [
    "content['page_7']['page_content']"
   ]
  }
 ],
 "metadata": {
  "kernelspec": {
   "display_name": "datavenv",
   "language": "python",
   "name": "python3"
  },
  "language_info": {
   "codemirror_mode": {
    "name": "ipython",
    "version": 3
   },
   "file_extension": ".py",
   "mimetype": "text/x-python",
   "name": "python",
   "nbconvert_exporter": "python",
   "pygments_lexer": "ipython3",
   "version": "3.12.3"
  }
 },
 "nbformat": 4,
 "nbformat_minor": 2
}
