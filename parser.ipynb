{
 "cells": [
  {
   "cell_type": "markdown",
   "metadata": {},
   "source": [
    "# Selectividad Exams Parser"
   ]
  },
  {
   "cell_type": "markdown",
   "metadata": {},
   "source": [
    "## Libraries import"
   ]
  },
  {
   "cell_type": "code",
   "execution_count": null,
   "metadata": {},
   "outputs": [],
   "source": [
    "# !pip install pdf2image\n",
    "# !pip install pytesseract"
   ]
  },
  {
   "cell_type": "code",
   "execution_count": 8,
   "metadata": {},
   "outputs": [],
   "source": [
    "from pdf2image import convert_from_path\n",
    "import pytesseract\n",
    "import pandas as pd\n",
    "import numpy as np\n",
    "from pathlib import Path\n",
    "import json\n",
    "import os"
   ]
  },
  {
   "cell_type": "markdown",
   "metadata": {},
   "source": [
    "## Files management"
   ]
  },
  {
   "cell_type": "code",
   "execution_count": 9,
   "metadata": {},
   "outputs": [],
   "source": [
    "def find_files(directory, pattern):\n",
    "    path = Path(directory)\n",
    "    return path.rglob(pattern)"
   ]
  },
  {
   "cell_type": "code",
   "execution_count": 21,
   "metadata": {},
   "outputs": [],
   "source": [
    "file_paths = sorted( [i for i in find_files(directory='./pdf_files',\n",
    "                                            pattern='*.pdf') \n",
    "              if i.name.startswith('2')\n",
    "              ] )"
   ]
  },
  {
   "cell_type": "code",
   "execution_count": 22,
   "metadata": {},
   "outputs": [
    {
     "data": {
      "text/plain": [
       "227"
      ]
     },
     "execution_count": 22,
     "metadata": {},
     "output_type": "execute_result"
    }
   ],
   "source": [
    "len(file_paths)"
   ]
  },
  {
   "cell_type": "markdown",
   "metadata": {},
   "source": [
    "## Functions"
   ]
  },
  {
   "cell_type": "markdown",
   "metadata": {},
   "source": [
    "### Parse pdf pages into images"
   ]
  },
  {
   "cell_type": "code",
   "execution_count": 23,
   "metadata": {},
   "outputs": [],
   "source": [
    "def parse_pages_ocr(file_path):\n",
    "    images = convert_from_path(file_path)[1:]\n",
    "    # parse each page\n",
    "    pages = []\n",
    "    for i, page in enumerate(images):\n",
    "        pages.append(pytesseract.image_to_string(page, lang='spa'))\n",
    "    return pages"
   ]
  },
  {
   "cell_type": "markdown",
   "metadata": {},
   "source": [
    "### Extract statement text from page text"
   ]
  },
  {
   "cell_type": "code",
   "execution_count": 24,
   "metadata": {},
   "outputs": [],
   "source": [
    "def extract_statement(page):\n",
    "    # split the content into lines\n",
    "    text = page.split('\\n')\n",
    "    # list to store the processed lines\n",
    "    final_text = []\n",
    "    # start from the 4th line\n",
    "    for line in text[4:]:\n",
    "        # stop at RESOLUCION\n",
    "        if line.startswith('RESOLUCIÓN'):\n",
    "            break\n",
    "        # add the line to final_text\n",
    "        else:\n",
    "            if not line == '':\n",
    "                final_text.append(line.strip())\n",
    "    # join the list into a single string\n",
    "    final_text = '\\n'.join(final_text)\n",
    "\n",
    "    return final_text"
   ]
  },
  {
   "cell_type": "markdown",
   "metadata": {},
   "source": [
    "### Extract exame datails from statement"
   ]
  },
  {
   "cell_type": "code",
   "execution_count": 25,
   "metadata": {},
   "outputs": [],
   "source": [
    "def extract_exam_details(statement):\n",
    "    # get last line with exam details\n",
    "    exam_details = statement.split('\\n')[-1]\n",
    "    # split the words by ' '\n",
    "    exam_details = exam_details.split(' ')\n",
    "    # strip whitespaces\n",
    "    exam_details = [i.replace('.', '').strip() for i in exam_details]\n",
    "\n",
    "    # exam dictionary\n",
    "    exam_dict = {}\n",
    "\n",
    "    # fill dictionary with values\n",
    "    exam_dict['subject'] = exam_details[0].title()\n",
    "    exam_dict['year'] = int(exam_details[1])\n",
    "\n",
    "    # parse the exam string\n",
    "    if exam_details[2].startswith('RESERVA'):\n",
    "        exam_dict['exam'] = ' '.join(exam_details[2:4]).title()\n",
    "        exam_index_start = 4\n",
    "    else:\n",
    "        exam_dict['exam'] = exam_details[2].title()\n",
    "        exam_index_start = 3\n",
    "    \n",
    "    exam_dict['exercise'] = ' '.join(exam_details[exam_index_start:]).title()\n",
    "    \n",
    "    return exam_dict"
   ]
  },
  {
   "cell_type": "markdown",
   "metadata": {},
   "source": [
    "## Process the pdf files"
   ]
  },
  {
   "cell_type": "code",
   "execution_count": 26,
   "metadata": {},
   "outputs": [
    {
     "name": "stdout",
     "output_type": "stream",
     "text": [
      "Success parsing file: 2000 - Cantidad Química\n",
      "Success parsing file: 2001 - Cantidad Química\n",
      "Success parsing file: 2002 - Cantidad Química\n",
      "Success parsing file: 2003 - Cantidad Química\n",
      "Success parsing file: 2004 - Cantidad Química\n",
      "Success parsing file: 2005 - Cantidad Química\n",
      "Success parsing file: 2006 - Cantidad Química\n",
      "Success parsing file: 2007 - Cantidad Química\n",
      "Success parsing file: 2008 - Cantidad Química\n",
      "Success parsing file: 2009 - Cantidad Química\n",
      "Success parsing file: 2010 - Cantidad Química\n",
      "Success parsing file: 2011 - Cantidad Química\n",
      "Success parsing file: 2012 - Cantidad Química\n",
      "Success parsing file: 2013 - Cantidad Química\n",
      "Success parsing file: 2014 - Cantidad Química\n",
      "Success parsing file: 2015 - Cantidad Química\n",
      "Success parsing file: 2000 - Conf. Electrónica\n",
      "Success parsing file: 2001 - Conf. Electrónica\n",
      "Success parsing file: 2002 - Conf. Electrónica\n",
      "Success parsing file: 2003 - Conf. Electrónica\n",
      "Success parsing file: 2004 - Conf. Electrónica\n",
      "Success parsing file: 2005 - Conf. Electrónica\n",
      "Success parsing file: 2006 - Conf. Electrónica\n",
      "Success parsing file: 2007 - Conf. Electrónica\n",
      "Success parsing file: 2008 - Conf. Electrónica\n",
      "Success parsing file: 2009 - Conf. Electrónica\n",
      "Success parsing file: 2010 - Conf. Electrónica\n",
      "Success parsing file: 2011 - Conf. Electrónica\n",
      "Success parsing file: 2012 - Conf. Electrónica\n",
      "Success parsing file: 2013 - Conf. Electrónica\n",
      "Success parsing file: 2014 - Conf. Electrónica\n",
      "Success parsing file: 2015 - Conf. Electrónica\n",
      "Success parsing file: 2016 - Conf. Electrónica\n",
      "Success parsing file: 2017 - Conf. Electrónica\n",
      "Success parsing file: 2018 - Conf. Electrónica\n",
      "Success parsing file: 2019 - Conf. Electrónica\n",
      "Success parsing file: 2020 - Conf. Electrónica\n",
      "Success parsing file: 2021 - Conf. Electrónica\n",
      "Success parsing file: 2022 - Conf. Electrónica\n",
      "Success parsing file: 2023 - Conf. Electrónica\n",
      "Success parsing file: 2024 - Conf. Electrónica\n",
      "Success parsing file: 2000 - Enlace Químico\n",
      "Success parsing file: 2001 - Enlace Químico\n",
      "Success parsing file: 2002 - Enlace Químico\n",
      "Success parsing file: 2003 - Enlace Químico\n",
      "Success parsing file: 2004 - Enlace Químico\n",
      "Success parsing file: 2005 - Enlace Químico\n",
      "Success parsing file: 2006 - Enlace Químico\n",
      "Success parsing file: 2007 - Enlace Químico\n",
      "Error in 2008 - Enlace Químico.pdf: page 3\n",
      "Success parsing file: 2009 - Enlace Químico\n",
      "Success parsing file: 2010 - Enlace Químico\n",
      "Success parsing file: 2011 - Enlace Químico\n",
      "Success parsing file: 2012 - Enlace Químico\n",
      "Success parsing file: 2013 - Enlace Químico\n",
      "Success parsing file: 2014 - Enlace Químico\n",
      "Success parsing file: 2015 - Enlace Químico\n",
      "Success parsing file: 2016 - Enlace Químico\n",
      "Success parsing file: 2017 - Enlace Químico\n",
      "Success parsing file: 2018 - Enlace Químico\n",
      "Success parsing file: 2019 - Enlace Químico\n",
      "Success parsing file: 2020 - Enlace Químico\n",
      "Error in 2021 - Enlace Químico.pdf: page 2\n",
      "Success parsing file: 2022 - Enlace Químico\n",
      "Success parsing file: 2023 - Enlace Químico\n",
      "Success parsing file: 2024 - Enlace Químico\n",
      "Success parsing file: 2000 - Equilibrio Químico\n",
      "Success parsing file: 2001 - Equilibrio Químico\n",
      "Success parsing file: 2002 - Equilibrio Químico\n",
      "Success parsing file: 2003 - Equilibrio Químico\n",
      "Success parsing file: 2004 - Equilibrio Químico\n",
      "Success parsing file: 2005 - Equilibrio Químico\n",
      "Success parsing file: 2006 - Equilibrio Químico\n",
      "Success parsing file: 2007 - Equilibrio Químico\n",
      "Success parsing file: 2008 - Equilibrio Químico\n",
      "Success parsing file: 2009 - Equilibrio Químico\n",
      "Success parsing file: 2010 - Equilibrio Químico\n",
      "Success parsing file: 2011 - Equilibrio Químico\n",
      "Success parsing file: 2012 - Equilibrio Químico\n",
      "Success parsing file: 2013 - Equilibrio Químico\n",
      "Success parsing file: 2014 - Equilibrio Químico\n",
      "Success parsing file: 2015 - Equilibrio Químico\n",
      "Success parsing file: 2016 - Equilibrio Químico\n",
      "Success parsing file: 2017 - Equilibrio Químico\n",
      "Success parsing file: 2018 - Equilibrio Químico\n",
      "Success parsing file: 2019 - Equilibrio Químico\n",
      "Success parsing file: 2020 - Equilibrio Químico\n",
      "Success parsing file: 2021 - Equilibrio Químico\n",
      "Success parsing file: 2022 - Equilibrio Químico\n",
      "Success parsing file: 2023 - Equilibrio Químico\n",
      "Success parsing file: 2024 - Equilibrio Químico\n",
      "Error in 2000 - Formulación.pdf: page 1\n",
      "Success parsing file: 2001 - Formulación\n",
      "Success parsing file: 2002 - Formulación\n",
      "Success parsing file: 2003 - Formulación\n",
      "Success parsing file: 2004 - Formulación\n",
      "Success parsing file: 2005 - Formulación\n",
      "Success parsing file: 2006 - Formulación\n",
      "Success parsing file: 2007 - Formulación\n",
      "Success parsing file: 2008 - Formulación\n",
      "Success parsing file: 2009 - Formulación\n",
      "Success parsing file: 2010 - Formulación\n",
      "Success parsing file: 2011 - Formulación\n",
      "Success parsing file: 2012 - Formulación\n",
      "Success parsing file: 2013 - Formulación\n",
      "Success parsing file: 2014 - Formulación\n",
      "Success parsing file: 2015 - Formulación\n",
      "Success parsing file: 2016 - Formulación\n",
      "Success parsing file: 2017 - Formulación\n",
      "Success parsing file: 2018 - Formulación\n",
      "Success parsing file: 2019 - Formulación\n",
      "Success parsing file: 2020 - Formulación\n",
      "Error in 2021 - Formulación.pdf: page 5\n",
      "Error in 2022 - Formulación.pdf: page 8\n",
      "Success parsing file: 2023 - Formulación\n",
      "Success parsing file: 2024 - Formulación\n",
      "Success parsing file: 2000 - Redox\n",
      "Success parsing file: 2001 - Redox\n",
      "Success parsing file: 2002 - Redox\n",
      "Success parsing file: 2003 - Redox\n",
      "Success parsing file: 2004 - Redox\n",
      "Success parsing file: 2005 - Redox\n",
      "Success parsing file: 2006 - Redox\n",
      "Success parsing file: 2007 - Redox\n",
      "Success parsing file: 2008 - Redox\n",
      "Success parsing file: 2009 - Redox\n",
      "Success parsing file: 2010 - Redox\n",
      "Success parsing file: 2011 - Redox\n",
      "Success parsing file: 2012 - Redox\n",
      "Success parsing file: 2013 - Redox\n",
      "Success parsing file: 2014 - Redox\n",
      "Success parsing file: 2015 - Redox\n",
      "Success parsing file: 2016 - Redox\n",
      "Success parsing file: 2017 - Redox\n",
      "Success parsing file: 2018 - Redox\n",
      "Success parsing file: 2019 - Redox\n",
      "Success parsing file: 2020 - Redox\n",
      "Success parsing file: 2021 - Redox\n",
      "Success parsing file: 2022 - Redox\n",
      "Success parsing file: 2023 - Redox\n",
      "Success parsing file: 2024 - Redox\n",
      "Success parsing file: 2000 - Reactividad Orgánica\n",
      "Success parsing file: 2001 - Reactividad Orgánica\n",
      "Success parsing file: 2002 - Reactividad Orgánica\n",
      "Success parsing file: 2003 - Reactividad Orgánica\n",
      "Success parsing file: 2004 - Reactividad Orgánica\n",
      "Success parsing file: 2005 - Reactividad Orgánica\n",
      "Success parsing file: 2006 - Reactividad Orgánica\n",
      "Success parsing file: 2007 - Reactividad Orgánica\n",
      "Success parsing file: 2008 - Reactividad Orgánica\n",
      "Success parsing file: 2009 - Reactividad Orgánica\n",
      "Success parsing file: 2010 - Reactividad Orgánica\n",
      "Success parsing file: 2011 - Reactividad Orgánica\n",
      "Success parsing file: 2012 - Reactividad Orgánica\n",
      "Success parsing file: 2013 - Reactividad Orgánica\n",
      "Success parsing file: 2014 - Reactividad Orgánica\n",
      "Success parsing file: 2015 - Reactividad Orgánica\n",
      "Success parsing file: 2016 - Reactividad Orgánica\n",
      "Success parsing file: 2017 - Reactividad Orgánica\n",
      "Error in 2018 - Reactividad Orgánica.pdf: page 4\n",
      "Success parsing file: 2019 - Reactividad Orgánica\n",
      "Success parsing file: 2020 - Reactividad Orgánica\n",
      "Success parsing file: 2021 - Reactividad Orgánica\n",
      "Success parsing file: 2022 - Reactividad Orgánica\n",
      "Success parsing file: 2023 - Reactividad Orgánica\n",
      "Success parsing file: 2024 - Reactividad Orgánica\n",
      "Success parsing file: 2000 - Solubilidad\n",
      "Success parsing file: 2001 - Solubilidad\n",
      "Success parsing file: 2002 - Solubilidad\n",
      "Success parsing file: 2010 - Solubilidad\n",
      "Success parsing file: 2011 - Solubilidad\n",
      "Success parsing file: 2012 - Solubilidad\n",
      "Success parsing file: 2013 - Solubilidad\n",
      "Success parsing file: 2014 - Solubilidad\n",
      "Success parsing file: 2015 - Solubilidad\n",
      "Success parsing file: 2016 - Solubilidad\n",
      "Success parsing file: 2017 - Solubilidad\n",
      "Success parsing file: 2018 - Solubilidad\n",
      "Success parsing file: 2019 - Solubilidad\n",
      "Success parsing file: 2020 - Solubilidad\n",
      "Success parsing file: 2021 - Solubilidad\n",
      "Success parsing file: 2022 - Solubilidad\n",
      "Success parsing file: 2023 - Solubilidad\n",
      "Success parsing file: 2024 - Solubilidad\n",
      "Success parsing file: 2000 - Termoquímica\n",
      "Success parsing file: 2001 - Termoquímica\n",
      "Success parsing file: 2002 - Termoquímica\n",
      "Success parsing file: 2003 - Termoquímica\n",
      "Success parsing file: 2004 - Termoquímica\n",
      "Success parsing file: 2005 - Termoquímica\n",
      "Success parsing file: 2006 - Termoquímica\n",
      "Success parsing file: 2007 - Termoquímica\n",
      "Success parsing file: 2008 - Termoquímica\n",
      "Success parsing file: 2009 - Termoquímica\n",
      "Success parsing file: 2010 - Termoquímica\n",
      "Success parsing file: 2011 - Termoquímica\n",
      "Success parsing file: 2012 - Termoquímica\n",
      "Success parsing file: 2013 - Termoquímica\n",
      "Success parsing file: 2014 - Termoquímica\n",
      "Success parsing file: 2015 - Termoquímica\n",
      "Success parsing file: 2016 - Termoquímica\n",
      "Success parsing file: 2024 - Termoquímica\n",
      "Success parsing file: 2000 - Ácido Base\n",
      "Success parsing file: 2001 - Ácido Base\n",
      "Success parsing file: 2002 - Ácido Base\n",
      "Success parsing file: 2003 - Ácido Base\n",
      "Success parsing file: 2004 - Ácido Base\n",
      "Success parsing file: 2005 - Ácido Base\n",
      "Success parsing file: 2006 - Ácido Base\n",
      "Success parsing file: 2007 - Ácido Base\n",
      "Success parsing file: 2008 - Ácido Base\n",
      "Error in 2009 - Ácido Base.pdf: page 2\n",
      "Success parsing file: 2010 - Ácido Base\n",
      "Success parsing file: 2011 - Ácido Base\n",
      "Success parsing file: 2012 - Ácido Base\n",
      "Success parsing file: 2013 - Ácido Base\n",
      "Success parsing file: 2014 - Ácido Base\n",
      "Success parsing file: 2015 - Ácido Base\n",
      "Success parsing file: 2016 - Ácido Base\n",
      "Success parsing file: 2017 - Ácido Base\n",
      "Success parsing file: 2018 - Ácido Base\n",
      "Success parsing file: 2019 - Ácido Base\n",
      "Success parsing file: 2020 - Ácido Base\n",
      "Success parsing file: 2021 - Ácido Base\n",
      "Success parsing file: 2022 - Ácido Base\n",
      "Success parsing file: 2023 - Ácido Base\n",
      "Success parsing file: 2024 - Ácido Base\n"
     ]
    }
   ],
   "source": [
    "exercises_dict = {}\n",
    "for file in file_paths:\n",
    "    topic = file.stem.split(' - ')[-1]   \n",
    "    \n",
    "    # lists to store the values\n",
    "    subjects = []\n",
    "    years = []\n",
    "    exams = []\n",
    "    exercises = []\n",
    "    statements = []\n",
    "    pages = parse_pages_ocr(file)\n",
    "\n",
    "    try:\n",
    "        for index, page in enumerate(pages):\n",
    "            statement = extract_statement(page)\n",
    "            details = extract_exam_details(statement)\n",
    "            subjects.append(details['subject'])\n",
    "            years.append(details['year'])\n",
    "            exams.append(details['exam'])\n",
    "            exercises.append(details['exercise'])\n",
    "            statements.append(statement)\n",
    "        \n",
    "        print(f'Success parsing file: {file.stem}')\n",
    "    except:\n",
    "        print(f'Error in {file.name}: page {index+1}')\n",
    "        continue\n",
    "\n",
    "    # generate the key and content for the exercises dictionary\n",
    "    key = details['subject'] + ' ' + str(details['year']) + ' ' + topic\n",
    "    exercises_dict[key] = {\n",
    "        'subject' : subjects,\n",
    "        'year' : years,\n",
    "        'topic' : [topic] * len(subjects),\n",
    "        'exam' : exams,\n",
    "        'exercise' : exercises,\n",
    "        'statement' : statements\n",
    "    }"
   ]
  },
  {
   "cell_type": "code",
   "execution_count": 27,
   "metadata": {},
   "outputs": [
    {
     "data": {
      "text/plain": [
       "dict_keys(['Química 2000 Cantidad Química', 'Química 2001 Cantidad Química', 'Química 2002 Cantidad Química', 'Química 2003 Cantidad Química', 'Química 2004 Cantidad Química', 'Química 2005 Cantidad Química', 'Química 2006 Cantidad Química', 'Química 2007 Cantidad Química', 'Química 2008 Cantidad Química', 'Química 2009 Cantidad Química', 'Química 2010 Cantidad Química', 'Química 2011 Cantidad Química', 'Química 2012 Cantidad Química', 'Química 2013 Cantidad Química', 'Química 2014 Cantidad Química', 'Química 2015 Cantidad Química', 'Química 2000 Conf. Electrónica', 'Química 2001 Conf. Electrónica', 'Química 2002 Conf. Electrónica', 'Química 2003 Conf. Electrónica', 'Química 2004 Conf. Electrónica', 'Química 2005 Conf. Electrónica', 'Química 2006 Conf. Electrónica', 'Química 2007 Conf. Electrónica', 'Química 2008 Conf. Electrónica', 'Química 2009 Conf. Electrónica', 'Química 2010 Conf. Electrónica', 'Química 2011 Conf. Electrónica', 'Química 2012 Conf. Electrónica', 'Química 2013 Conf. Electrónica', 'Química 2014 Conf. Electrónica', 'Quimica 2015 Conf. Electrónica', 'Quimica 2016 Conf. Electrónica', 'Quimica 2017 Conf. Electrónica', 'Química 2018 Conf. Electrónica', 'Química 2019 Conf. Electrónica', 'Química 2020 Conf. Electrónica', 'Química 2021 Conf. Electrónica', 'Química 2022 Conf. Electrónica', 'Química 2023 Conf. Electrónica', 'Química 2024 Conf. Electrónica', 'Química 2000 Enlace Químico', 'Química 2001 Enlace Químico', 'Química 2002 Enlace Químico', 'Química 2003 Enlace Químico', 'Química 2004 Enlace Químico', 'Quimica 2005 Enlace Químico', 'Química 2006 Enlace Químico', 'Química 2007 Enlace Químico', 'Química 2009 Enlace Químico', 'Química 2010 Enlace Químico', 'Química 2011 Enlace Químico', 'Química 2012 Enlace Químico', 'Química 2013 Enlace Químico', 'Química 2014 Enlace Químico', 'Química 2015 Enlace Químico', 'Química 2016 Enlace Químico', 'Química 2017 Enlace Químico', 'Química 2018 Enlace Químico', 'Química 2019 Enlace Químico', 'Química 2020 Enlace Químico', 'Química 2022 Enlace Químico', 'Química 2023 Enlace Químico', 'Química 2024 Enlace Químico', 'Química 2000 Equilibrio Químico', 'Química 2001 Equilibrio Químico', 'Química 2002 Equilibrio Químico', 'Química 2003 Equilibrio Químico', 'Química 2004 Equilibrio Químico', 'Química 2005 Equilibrio Químico', 'Química 2006 Equilibrio Químico', 'Química 2007 Equilibrio Químico', 'Química 2008 Equilibrio Químico', 'Química 2009 Equilibrio Químico', 'Química 2010 Equilibrio Químico', 'Química 2011 Equilibrio Químico', 'Quimica 2012 Equilibrio Químico', 'Química 2013 Equilibrio Químico', 'Química 2014 Equilibrio Químico', 'Química 2015 Equilibrio Químico', 'Quimica 2016 Equilibrio Químico', 'Quimica 2017 Equilibrio Químico', 'Quimica 2018 Equilibrio Químico', 'Química 2019 Equilibrio Químico', 'Química 2020 Equilibrio Químico', 'Química 2021 Equilibrio Químico', 'Química 2022 Equilibrio Químico', 'Química 2023 Equilibrio Químico', 'Química 2024 Equilibrio Químico', 'Química 2001 Formulación', 'Química 2002 Formulación', 'Química 2003 Formulación', 'Química 2004 Formulación', 'Química 2005 Formulación', 'Química 2006 Formulación', 'Química 2007 Formulación', 'Química 2008 Formulación', 'Química 2009 Formulación', 'Química 2010 Formulación', 'Química 2011 Formulación', 'Química 2012 Formulación', 'Química 2013 Formulación', 'Química 2014 Formulación', 'Química 2015 Formulación', 'Química 2016 Formulación', 'Química 2017 Formulación', 'Química 2018 Formulación', 'Química 2019 Formulación', 'Química 2020 Formulación', 'Química 2023 Formulación', 'Química 2024 Formulación', 'Química 2000 Redox', 'Química 2001 Redox', 'Química 2002 Redox', 'Química 2003 Redox', 'Química 2004 Redox', 'Química 2005 Redox', 'Química 2006 Redox', 'Química 2007 Redox', 'Química 2008 Redox', 'Química 2009 Redox', 'Química 2010 Redox', 'Química 2011 Redox', 'Química 2012 Redox', 'Química 2013 Redox', 'Ouímica 2014 Redox', 'Química 2015 Redox', 'Química 2016 Redox', 'Química 2017 Redox', 'Química 2018 Redox', 'Química 2019 Redox', 'Química 2020 Redox', 'Química 2021 Redox', 'Química 2022 Redox', 'Química 2023 Redox', 'Química 2024 Redox', 'Química 2000 Reactividad Orgánica', 'Química 2001 Reactividad Orgánica', 'Química 2002 Reactividad Orgánica', 'Química 2003 Reactividad Orgánica', 'Química 2004 Reactividad Orgánica', 'Química 2005 Reactividad Orgánica', 'Química 2006 Reactividad Orgánica', 'Química 2007 Reactividad Orgánica', 'Química 2008 Reactividad Orgánica', 'Química 2009 Reactividad Orgánica', 'Química 2010 Reactividad Orgánica', 'Química 2011 Reactividad Orgánica', 'Química 2012 Reactividad Orgánica', 'Química 2013 Reactividad Orgánica', 'Química 2014 Reactividad Orgánica', 'Quimica 2015 Reactividad Orgánica', 'Quimica 2016 Reactividad Orgánica', 'Quimica 2017 Reactividad Orgánica', 'Química 2019 Reactividad Orgánica', 'Química 2020 Reactividad Orgánica', 'Química 2021 Reactividad Orgánica', 'Química 2022 Reactividad Orgánica', 'Química 2023 Reactividad Orgánica', 'Química 2024 Reactividad Orgánica', 'Química 2010 Solubilidad', 'Química 2011 Solubilidad', 'Química 2012 Solubilidad', 'Química 2013 Solubilidad', 'Química 2014 Solubilidad', 'Química 2015 Solubilidad', 'Química 2016 Solubilidad', 'Química 2017 Solubilidad', 'Química 2018 Solubilidad', 'Química 2019 Solubilidad', 'Química 2020 Solubilidad', 'Química 2021 Solubilidad', 'Química 2022 Solubilidad', 'Química 2023 Solubilidad', 'Química 2024 Solubilidad', 'Química 2000 Termoquímica', 'Química 2001 Termoquímica', 'Química 2002 Termoquímica', 'Química 2003 Termoquímica', 'Química 2004 Termoquímica', 'Química 2005 Termoquímica', 'Química 2006 Termoquímica', 'Química 2007 Termoquímica', 'Química 2008 Termoquímica', 'Química 2009 Termoquímica', 'Química 2010 Termoquímica', 'Química 2011 Termoquímica', 'Quimica 2012 Termoquímica', 'Química 2013 Termoquímica', 'Química 2014 Termoquímica', 'Química 2015 Termoquímica', 'Química 2016 Termoquímica', 'Quimica 2024 Termoquímica', 'Química 2000 Ácido Base', 'Química 2001 Ácido Base', 'Química 2002 Ácido Base', 'Química 2003 Ácido Base', 'Química 2004 Ácido Base', 'Química 2005 Ácido Base', 'Química 2006 Ácido Base', 'Química 2007 Ácido Base', 'Química 2008 Ácido Base', 'Química 2010 Ácido Base', 'Química 2011 Ácido Base', 'Quimica 2012 Ácido Base', 'Química 2013 Ácido Base', 'Química 2014 Ácido Base', 'Química 2015 Ácido Base', 'Química 2016 Ácido Base', 'Química 2017 Ácido Base', 'Química 2018 Ácido Base', 'Química 2019 Ácido Base', 'Quimica 2020 Ácido Base', 'Química 2021 Ácido Base', 'Química 2022 Ácido Base', 'Química 2023 Ácido Base', 'Química 2024 Ácido Base'])"
      ]
     },
     "execution_count": 27,
     "metadata": {},
     "output_type": "execute_result"
    }
   ],
   "source": [
    "exercises_dict.keys()"
   ]
  },
  {
   "cell_type": "markdown",
   "metadata": {},
   "source": [
    "## Save the parsed content into a dataframe"
   ]
  },
  {
   "cell_type": "markdown",
   "metadata": {},
   "source": [
    "Create a dictionary to store the information"
   ]
  },
  {
   "cell_type": "code",
   "execution_count": 28,
   "metadata": {},
   "outputs": [
    {
     "data": {
      "text/plain": [
       "{'subject': [],\n",
       " 'year': [],\n",
       " 'topic': [],\n",
       " 'exam': [],\n",
       " 'exercise': [],\n",
       " 'statement': []}"
      ]
     },
     "execution_count": 28,
     "metadata": {},
     "output_type": "execute_result"
    }
   ],
   "source": [
    "# get dictionary keys from the first processed file\n",
    "first_processed_file = list(exercises_dict.keys())[0]\n",
    "# create the dict from keys\n",
    "content = dict.fromkeys(exercises_dict[first_processed_file].keys())\n",
    "# fill the dict with empty lists\n",
    "for key in content.keys():\n",
    "    content[key] = []\n",
    "content"
   ]
  },
  {
   "cell_type": "markdown",
   "metadata": {},
   "source": [
    "Extract values from the dictionary for each subject/year/topic file\n"
   ]
  },
  {
   "cell_type": "code",
   "execution_count": 29,
   "metadata": {},
   "outputs": [],
   "source": [
    "# each year contains a dictionary with keys containing lists of values\n",
    "for year, dict_ in exercises_dict.items():\n",
    "    # loop through the dictionary\n",
    "    for key, value in dict_.items():\n",
    "        content[key].extend(value)"
   ]
  },
  {
   "cell_type": "markdown",
   "metadata": {},
   "source": [
    "Create the pandas dataframe"
   ]
  },
  {
   "cell_type": "code",
   "execution_count": null,
   "metadata": {},
   "outputs": [],
   "source": [
    "df = pd.DataFrame(content)"
   ]
  },
  {
   "cell_type": "code",
   "execution_count": 31,
   "metadata": {},
   "outputs": [
    {
     "data": {
      "text/plain": [
       "(1665, 6)"
      ]
     },
     "execution_count": 31,
     "metadata": {},
     "output_type": "execute_result"
    }
   ],
   "source": [
    "df.shape"
   ]
  },
  {
   "cell_type": "code",
   "execution_count": 37,
   "metadata": {},
   "outputs": [
    {
     "data": {
      "text/html": [
       "<div>\n",
       "<style scoped>\n",
       "    .dataframe tbody tr th:only-of-type {\n",
       "        vertical-align: middle;\n",
       "    }\n",
       "\n",
       "    .dataframe tbody tr th {\n",
       "        vertical-align: top;\n",
       "    }\n",
       "\n",
       "    .dataframe thead th {\n",
       "        text-align: right;\n",
       "    }\n",
       "</style>\n",
       "<table border=\"1\" class=\"dataframe\">\n",
       "  <thead>\n",
       "    <tr style=\"text-align: right;\">\n",
       "      <th></th>\n",
       "      <th>subject</th>\n",
       "      <th>year</th>\n",
       "      <th>topic</th>\n",
       "      <th>exam</th>\n",
       "      <th>exercise</th>\n",
       "      <th>statement</th>\n",
       "    </tr>\n",
       "  </thead>\n",
       "  <tbody>\n",
       "    <tr>\n",
       "      <th>463</th>\n",
       "      <td>Química</td>\n",
       "      <td>2003</td>\n",
       "      <td>Equilibrio Químico</td>\n",
       "      <td>Reserva 1</td>\n",
       "      <td>Ejercicio 3 Opción A</td>\n",
       "      <td>a) Describa el efecto de un catalizador sobre ...</td>\n",
       "    </tr>\n",
       "    <tr>\n",
       "      <th>44</th>\n",
       "      <td>Química</td>\n",
       "      <td>2005</td>\n",
       "      <td>Cantidad Química</td>\n",
       "      <td>Reserva 1</td>\n",
       "      <td>Ejercicio 2 Opción B</td>\n",
       "      <td>Para 2 moles de SO, calcule:\\na) El número de ...</td>\n",
       "    </tr>\n",
       "    <tr>\n",
       "      <th>468</th>\n",
       "      <td>Química</td>\n",
       "      <td>2003</td>\n",
       "      <td>Equilibrio Químico</td>\n",
       "      <td>Reserva 4</td>\n",
       "      <td>Ejercicio 3 Opción A</td>\n",
       "      <td>a) Explique cómo aumentaría el número de moles...</td>\n",
       "    </tr>\n",
       "    <tr>\n",
       "      <th>288</th>\n",
       "      <td>Química</td>\n",
       "      <td>2021</td>\n",
       "      <td>Conf. Electrónica</td>\n",
       "      <td>Reserva 2</td>\n",
       "      <td>Ejercicio B1</td>\n",
       "      <td>Dadas las siguientes configuraciones electróni...</td>\n",
       "    </tr>\n",
       "    <tr>\n",
       "      <th>769</th>\n",
       "      <td>Química</td>\n",
       "      <td>2011</td>\n",
       "      <td>Formulación</td>\n",
       "      <td>Reserva 1</td>\n",
       "      <td>Ejercicio 1 Opción B</td>\n",
       "      <td>Formule o nombre los compuestos siguientes: a)...</td>\n",
       "    </tr>\n",
       "  </tbody>\n",
       "</table>\n",
       "</div>"
      ],
      "text/plain": [
       "     subject  year               topic       exam              exercise  \\\n",
       "463  Química  2003  Equilibrio Químico  Reserva 1  Ejercicio 3 Opción A   \n",
       "44   Química  2005    Cantidad Química  Reserva 1  Ejercicio 2 Opción B   \n",
       "468  Química  2003  Equilibrio Químico  Reserva 4  Ejercicio 3 Opción A   \n",
       "288  Química  2021   Conf. Electrónica  Reserva 2          Ejercicio B1   \n",
       "769  Química  2011         Formulación  Reserva 1  Ejercicio 1 Opción B   \n",
       "\n",
       "                                             statement  \n",
       "463  a) Describa el efecto de un catalizador sobre ...  \n",
       "44   Para 2 moles de SO, calcule:\\na) El número de ...  \n",
       "468  a) Explique cómo aumentaría el número de moles...  \n",
       "288  Dadas las siguientes configuraciones electróni...  \n",
       "769  Formule o nombre los compuestos siguientes: a)...  "
      ]
     },
     "execution_count": 37,
     "metadata": {},
     "output_type": "execute_result"
    }
   ],
   "source": [
    "df.sample(5)"
   ]
  },
  {
   "cell_type": "code",
   "execution_count": 35,
   "metadata": {},
   "outputs": [],
   "source": [
    "df.subject = 'Química'"
   ]
  },
  {
   "cell_type": "markdown",
   "metadata": {},
   "source": [
    "## Extract information"
   ]
  },
  {
   "cell_type": "markdown",
   "metadata": {},
   "source": [
    "## Write to a JSON file\n"
   ]
  },
  {
   "cell_type": "code",
   "execution_count": 134,
   "metadata": {},
   "outputs": [],
   "source": [
    "with open('exercises.json', 'w', encoding='utf-8') as f:\n",
    "    json.dump(exercises, f, indent=4, ensure_ascii=False)"
   ]
  },
  {
   "cell_type": "markdown",
   "metadata": {},
   "source": [
    "## Export `exercises` to csv"
   ]
  },
  {
   "cell_type": "code",
   "execution_count": 38,
   "metadata": {},
   "outputs": [],
   "source": [
    "for subject in df['subject'].unique():\n",
    "    df[df['subject'] == subject].to_csv(f'exercises_{subject}.csv', index=False)"
   ]
  },
  {
   "cell_type": "code",
   "execution_count": 39,
   "metadata": {},
   "outputs": [],
   "source": [
    "with open('errors2.log', 'w') as write_file:\n",
    "    with open('errors.log', 'r') as read_file:\n",
    "        for line in read_file.readlines():\n",
    "            if line.startswith('Error'):\n",
    "                write_file.write(line)"
   ]
  },
  {
   "cell_type": "code",
   "execution_count": null,
   "metadata": {},
   "outputs": [],
   "source": []
  }
 ],
 "metadata": {
  "kernelspec": {
   "display_name": "datavenv",
   "language": "python",
   "name": "python3"
  },
  "language_info": {
   "codemirror_mode": {
    "name": "ipython",
    "version": 3
   },
   "file_extension": ".py",
   "mimetype": "text/x-python",
   "name": "python",
   "nbconvert_exporter": "python",
   "pygments_lexer": "ipython3",
   "version": "3.12.3"
  }
 },
 "nbformat": 4,
 "nbformat_minor": 2
}
