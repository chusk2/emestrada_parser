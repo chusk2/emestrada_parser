{
 "cells": [
  {
   "cell_type": "markdown",
   "metadata": {},
   "source": [
    "# Selectividad Exams Parser"
   ]
  },
  {
   "cell_type": "markdown",
   "metadata": {},
   "source": [
    "## Libraries import"
   ]
  },
  {
   "cell_type": "code",
   "execution_count": 165,
   "metadata": {},
   "outputs": [],
   "source": [
    "import fitz\n",
    "import pandas as pd\n",
    "import numpy as np\n",
    "from pathlib import Path\n",
    "import json"
   ]
  },
  {
   "cell_type": "markdown",
   "metadata": {},
   "source": [
    "## Files management"
   ]
  },
  {
   "cell_type": "code",
   "execution_count": 166,
   "metadata": {},
   "outputs": [],
   "source": [
    "def find_files(directory, pattern):\n",
    "    path = Path(directory)\n",
    "    return path.rglob(pattern)"
   ]
  },
  {
   "cell_type": "code",
   "execution_count": 167,
   "metadata": {},
   "outputs": [],
   "source": [
    "file_paths = sorted( [i for i in find_files(directory='./pdf_files', pattern='*.pdf') \n",
    "              if i.name.startswith('2')\n",
    "              ] )"
   ]
  },
  {
   "cell_type": "markdown",
   "metadata": {},
   "source": [
    "### Get a sample of the files\n",
    "Check if the extraction of the pdf paths was successful"
   ]
  },
  {
   "cell_type": "code",
   "execution_count": 168,
   "metadata": {},
   "outputs": [
    {
     "name": "stdout",
     "output_type": "stream",
     "text": [
      "pdf_files/QUÍMICA/Conf. Electrónica/2005 - Conf. Electrónica.pdf\n",
      "pdf_files/QUÍMICA/Cantidad Química/2004 - Cantidad Química.pdf\n",
      "pdf_files/QUÍMICA/REDOX/2020 - Reacciones Redox.pdf\n",
      "pdf_files/QUÍMICA/Solubilidad/2021 - Solubilidad.pdf\n",
      "pdf_files/QUÍMICA/Reactividad Orgánica/2016 - Reactividad Orgánica.pdf\n"
     ]
    }
   ],
   "source": [
    "print(*np.random.choice(file_paths, 5, replace=False), sep = '\\n')"
   ]
  },
  {
   "cell_type": "markdown",
   "metadata": {},
   "source": [
    "## Parsing function"
   ]
  },
  {
   "cell_type": "code",
   "execution_count": 169,
   "metadata": {},
   "outputs": [],
   "source": [
    "def extract_info(file_path):\n",
    "    \"\"\"\n",
    "    Extract relevant information from a single PDF file.\n",
    "\n",
    "    Parameters\n",
    "    ----------\n",
    "    file_path : str\n",
    "        Path to the PDF file\n",
    "\n",
    "    Returns\n",
    "    -------\n",
    "    dict\n",
    "        A dictionary containing the extracted information. The keys are:\n",
    "            - subject\n",
    "            - topic\n",
    "            - year\n",
    "            - exam_name\n",
    "            - exercise\n",
    "            - statement\n",
    "            - page\n",
    "            - exam_details\n",
    "    \"\"\"\n",
    "\n",
    "    # define keys for the content dictionary\n",
    "    content = {\n",
    "        'subject': [],\n",
    "        'topic' : [],\n",
    "        'year': [],\n",
    "        'page': [],\n",
    "        'exam_details': [],\n",
    "        'exam_name': [],\n",
    "        'exercise': [],\n",
    "        'statement': [],\n",
    "    }\n",
    "\n",
    "    # open the pdf file to be parsed\n",
    "    doc = fitz.open(file_path)\n",
    "\n",
    "    # process individual pages\n",
    "    for page in doc[1:]:\n",
    "        \n",
    "        # get content of the page\n",
    "        text = page.get_text(\"text\")\n",
    "        \n",
    "        ### clean the content of page\n",
    "        # replacements\n",
    "        replacements = {'www.emestrada.org' : '',\n",
    "                        'R  E  S  O  L  U  C  I  Ó  N': 'Resolucion',\n",
    "                        '\\n \\n \\n' : ''}\n",
    "\n",
    "        for subs, rep in replacements.items():\n",
    "            text =  text.replace(subs, rep)\n",
    "        \n",
    "        # remove whitespaces and create list of rows\n",
    "        text = text.strip().replace('  ', ' ').split('\\n')\n",
    "        ###\n",
    "\n",
    "        # extract exam details\n",
    "        exam_details = text[-1]\n",
    "\n",
    "        ### parse the text of the page\n",
    "        # extract text of the page\n",
    "        text = text[:-1]\n",
    "\n",
    "        # extract only exercise statement\n",
    "        times_a_appeared = 0\n",
    "        for index, row in enumerate(text):\n",
    "            if 'a)' in row:\n",
    "                times_a_appeared += 1\n",
    "                # it's the second occurrence of a)\n",
    "                if times_a_appeared == 2:\n",
    "                    text = text[index:]\n",
    "                    # remove any text before \"a)\"\n",
    "                    text[0] = 'a)' + text[0].split('a)')[1]\n",
    "                    break\n",
    "        \n",
    "        # remove relative masses part\n",
    "        for index, row in enumerate(text):\n",
    "            if 'dato' in row.lower() :\n",
    "                if not row.lower().startswith('dato'):\n",
    "                    dato_index = row.lower().find('dato')\n",
    "                    text[index] = row[:dato_index]\n",
    "                    text = text[:index+1]\n",
    "                # row starts with \"Dato:\"\n",
    "                else:\n",
    "                    text = text[:index]\n",
    "                break\n",
    "        \n",
    "        # remove the lines starting with just a number\n",
    "        text = [i for i in text if len(i) > 1]\n",
    "        \n",
    "        # join the lines of the statement\n",
    "        joined_text = ''\n",
    "        for row in text:\n",
    "\n",
    "            if ' b) ' in row:\n",
    "                row = row.split('b)')\n",
    "                joined_text += row[0] + '\\n' + 'b) ' + row[1]\n",
    "            elif row.startswith('b'):\n",
    "                joined_text += '\\n' + row\n",
    "            else:\n",
    "                joined_text += row\n",
    "\n",
    "        # finally remove double whitespases\n",
    "        statement = joined_text.replace('  ', ' ')\n",
    "        ### end of parsing text\n",
    "\n",
    "        ### extract: year, exam name and exercise\n",
    "\n",
    "        # create empty values for exam details\n",
    "        # that will be filled with proper values\n",
    "        # if the exam details can be parsed\n",
    "        subject, year, exam_name, exercise = ['-'] * 4\n",
    "\n",
    "        # parse the exam details\n",
    "        try:\n",
    "            exam = exam_details.split(' ')\n",
    "            # extract subject\n",
    "            subject = exam[0].replace('.', '').title()\n",
    "            # extract year\n",
    "            year = exam[1].replace('.', '')\n",
    "            # get exam\n",
    "            if exam[2] == 'RESERVA':\n",
    "                exam_name = exam[2].title() +  ' ' + ' '.join(exam[3]).replace('.', '').strip()\n",
    "            else:\n",
    "                exam_name = exam[2].title().replace('.', '').strip()\n",
    "            # get exercise\n",
    "            if exam[2] == 'RESERVA':\n",
    "                exercise = ' '.join(exam[4:]).title().replace('.', '').strip()\n",
    "            else:\n",
    "                exercise = ' '.join(exam[3:]).title().replace('.', '').strip()\n",
    "        \n",
    "        # if there were errors, generate error message and log it\n",
    "        except:\n",
    "            error_message = f'Failed parsing exercise details: {file_path.name} - page {page.number + 1}'\n",
    "            print(error_message)\n",
    "            # add to error log\n",
    "            with open('errors.txt', 'a') as f:\n",
    "                f.write(error_message + '\\n')      \n",
    "        \n",
    "        ### end of parsing exam details\n",
    "\n",
    "        # update the content dict\n",
    "        content['subject'].append(subject)\n",
    "        content['topic'].append(file_path.stem.split(' - ')[-1])\n",
    "        content['year'].append(year)\n",
    "        content['exam_name'].append(exam_name)\n",
    "        content['exercise'].append(exercise)\n",
    "        content['statement'].append(statement)\n",
    "        content['page'].append(page.number + 1)\n",
    "        content['exam_details'].append(exam_details)\n",
    "        \n",
    "    return content"
   ]
  },
  {
   "cell_type": "markdown",
   "metadata": {},
   "source": [
    "## Check exam string\n",
    "\n",
    "Function to check exam details strings for exercises whose information couldn't be parsed correctly."
   ]
  },
  {
   "cell_type": "code",
   "execution_count": 170,
   "metadata": {},
   "outputs": [],
   "source": [
    "def check_exam_string(exam_details):\n",
    "    page_dict = {}\n",
    "    exam = exam_details.split(' ')\n",
    "\n",
    "    # extract subject\n",
    "    page_dict['subject'] = (exam[0]\n",
    "                            .replace('.', '')\n",
    "                            .title()\n",
    "    )\n",
    "    page_dict['year'] = exam[1].replace('.', '')\n",
    "    # get exam\n",
    "    if exam[2] == 'RESERVA':\n",
    "        page_dict['exam'] = exam[2].title() +  ' ' + ' '.join(exam[3])\n",
    "    else:\n",
    "        page_dict['exam'] = exam[2].title()\n",
    "    # get exercise\n",
    "    if exam[2] == 'RESERVA':\n",
    "        page_dict['exercise'] = ' '.join(exam[4:]).title()\n",
    "    else:\n",
    "        page_dict['exercise'] = ' '.join(exam[3:]).title()\n",
    "\n",
    "    return page_dict"
   ]
  },
  {
   "cell_type": "code",
   "execution_count": 171,
   "metadata": {},
   "outputs": [
    {
     "data": {
      "text/plain": [
       "{'subject': 'Quimica',\n",
       " 'year': '2005',\n",
       " 'exam': 'Reserva 1 .',\n",
       " 'exercise': 'Ejercicio 5. Opción A'}"
      ]
     },
     "execution_count": 171,
     "metadata": {},
     "output_type": "execute_result"
    }
   ],
   "source": [
    "check_exam_string('QUIMICA. 2005. RESERVA 1. EJERCICIO 5. OPCIÓN A')"
   ]
  },
  {
   "cell_type": "markdown",
   "metadata": {},
   "source": [
    "## Extract information"
   ]
  },
  {
   "cell_type": "code",
   "execution_count": 172,
   "metadata": {},
   "outputs": [
    {
     "name": "stdout",
     "output_type": "stream",
     "text": [
      "Failed parsing exercise details: 2000 - Enlace Químico.pdf - page 3\n",
      "Failed parsing exercise details: 2004 - Enlace Químico.pdf - page 6\n",
      "Failed parsing exercise details: 2005 - Enlace Químico.pdf - page 4\n",
      "Failed parsing exercise details: 2006 - Enlace Químico.pdf - page 2\n",
      "Failed parsing exercise details: 2006 - Enlace Químico.pdf - page 3\n",
      "Failed parsing exercise details: 2006 - Enlace Químico.pdf - page 4\n",
      "Failed parsing exercise details: 2006 - Enlace Químico.pdf - page 6\n",
      "Failed parsing exercise details: 2010 - Enlace Químico.pdf - page 2\n",
      "Failed parsing exercise details: 2011 - Enlace Químico.pdf - page 4\n",
      "Failed parsing exercise details: 2013 - Enlace Químico.pdf - page 4\n",
      "Failed parsing exercise details: 2021 - Enlace Químico.pdf - page 4\n",
      "Failed parsing exercise details: 2021 - Enlace Químico.pdf - page 5\n",
      "Failed parsing exercise details: 2001 - Equilibrio Químico.pdf - page 10\n",
      "Failed parsing exercise details: 2018 - Equilibrio Químico.pdf - page 6\n",
      "Failed parsing exercise details: 2022 - Equilibrio Químico.pdf - page 4\n",
      "Failed parsing exercise details: 2023 - Equilibrio Químico.pdf - page 11\n",
      "Failed parsing exercise details: 2020 - Reacciones Redox.pdf - page 2\n",
      "Failed parsing exercise details: 2023 - Solubilidad.pdf - page 3\n",
      "Failed parsing exercise details: 2023 - Ácido Base.pdf - page 6\n",
      "Failed parsing exercise details: 2023 - Ácido Base.pdf - page 9\n"
     ]
    }
   ],
   "source": [
    "exercises = {}\n",
    "\n",
    "for file in file_paths:\n",
    "    exam = file.stem\n",
    "    exercises[exam] = extract_info(file)"
   ]
  },
  {
   "cell_type": "markdown",
   "metadata": {},
   "source": [
    "## Write to a JSON file\n"
   ]
  },
  {
   "cell_type": "code",
   "execution_count": 173,
   "metadata": {},
   "outputs": [],
   "source": [
    "with open('exercises.json', 'w', encoding='utf-8') as f:\n",
    "    json.dump(exercises, f, indent=4, ensure_ascii=False)"
   ]
  },
  {
   "cell_type": "markdown",
   "metadata": {},
   "source": [
    "## Conversion to pandas DataFrame"
   ]
  },
  {
   "cell_type": "markdown",
   "metadata": {},
   "source": [
    "### Get columns"
   ]
  },
  {
   "cell_type": "code",
   "execution_count": 174,
   "metadata": {},
   "outputs": [
    {
     "data": {
      "text/plain": [
       "['subject',\n",
       " 'topic',\n",
       " 'year',\n",
       " 'page',\n",
       " 'exam_details',\n",
       " 'exam_name',\n",
       " 'exercise',\n",
       " 'statement']"
      ]
     },
     "execution_count": 174,
     "metadata": {},
     "output_type": "execute_result"
    }
   ],
   "source": [
    "first_exercise = exercises[ list( exercises.keys() )[0] ]\n",
    "columns = list(first_exercise.keys())\n",
    "columns"
   ]
  },
  {
   "cell_type": "markdown",
   "metadata": {},
   "source": [
    "### Create dictionary\n",
    "Dictionary keys: subject, topic, year, exam_name, exercise, statement, page, exam_details"
   ]
  },
  {
   "cell_type": "code",
   "execution_count": 175,
   "metadata": {},
   "outputs": [],
   "source": [
    "# initialize the dictionary\n",
    "content_dict = dict.fromkeys(columns)\n",
    "for key in content_dict.keys():\n",
    "    content_dict[key] = []"
   ]
  },
  {
   "cell_type": "code",
   "execution_count": 176,
   "metadata": {},
   "outputs": [],
   "source": [
    "for exercise, content in exercises.items():\n",
    "    for key, value in content.items():\n",
    "        content_dict[key].extend(value)"
   ]
  },
  {
   "cell_type": "markdown",
   "metadata": {},
   "source": [
    "### Create the DataFrame"
   ]
  },
  {
   "cell_type": "code",
   "execution_count": 177,
   "metadata": {},
   "outputs": [],
   "source": [
    "exercises_df = pd.DataFrame(content_dict)\n",
    "# replace '-' with NaN\n",
    "exercises_df.replace('-', np.nan, inplace=True)"
   ]
  },
  {
   "cell_type": "code",
   "execution_count": 178,
   "metadata": {},
   "outputs": [
    {
     "name": "stdout",
     "output_type": "stream",
     "text": [
      "<class 'pandas.core.frame.DataFrame'>\n",
      "RangeIndex: 1464 entries, 0 to 1463\n",
      "Data columns (total 8 columns):\n",
      " #   Column        Non-Null Count  Dtype \n",
      "---  ------        --------------  ----- \n",
      " 0   subject       1464 non-null   object\n",
      " 1   topic         1464 non-null   object\n",
      " 2   year          1447 non-null   object\n",
      " 3   page          1464 non-null   int64 \n",
      " 4   exam_details  1464 non-null   object\n",
      " 5   exam_name     1444 non-null   object\n",
      " 6   exercise      1444 non-null   object\n",
      " 7   statement     1464 non-null   object\n",
      "dtypes: int64(1), object(7)\n",
      "memory usage: 91.6+ KB\n"
     ]
    }
   ],
   "source": [
    "exercises_df.info()"
   ]
  },
  {
   "cell_type": "code",
   "execution_count": 179,
   "metadata": {},
   "outputs": [
    {
     "data": {
      "text/html": [
       "<div>\n",
       "<style scoped>\n",
       "    .dataframe tbody tr th:only-of-type {\n",
       "        vertical-align: middle;\n",
       "    }\n",
       "\n",
       "    .dataframe tbody tr th {\n",
       "        vertical-align: top;\n",
       "    }\n",
       "\n",
       "    .dataframe thead th {\n",
       "        text-align: right;\n",
       "    }\n",
       "</style>\n",
       "<table border=\"1\" class=\"dataframe\">\n",
       "  <thead>\n",
       "    <tr style=\"text-align: right;\">\n",
       "      <th></th>\n",
       "      <th>subject</th>\n",
       "      <th>topic</th>\n",
       "      <th>year</th>\n",
       "      <th>page</th>\n",
       "      <th>exam_details</th>\n",
       "      <th>exam_name</th>\n",
       "      <th>exercise</th>\n",
       "      <th>statement</th>\n",
       "    </tr>\n",
       "  </thead>\n",
       "  <tbody>\n",
       "    <tr>\n",
       "      <th>546</th>\n",
       "      <td>Química</td>\n",
       "      <td>Equilibrio Químico</td>\n",
       "      <td>2011</td>\n",
       "      <td>3</td>\n",
       "      <td>QUÍMICA. 2011. JUNIO. EJERCICIO 6. OPCIÓN B</td>\n",
       "      <td>Junio</td>\n",
       "      <td>Ejercicio 6 Opción B</td>\n",
       "      <td>a) La concentración de cada especie en el equi...</td>\n",
       "    </tr>\n",
       "    <tr>\n",
       "      <th>1226</th>\n",
       "      <td>Química</td>\n",
       "      <td>Ácido Base</td>\n",
       "      <td>2000</td>\n",
       "      <td>8</td>\n",
       "      <td>QUÍMICA. 2000. RESERVA 3. EJERCICIO 3. OPCIÓN B</td>\n",
       "      <td>Reserva 3</td>\n",
       "      <td>Ejercicio 3 Opción B</td>\n",
       "      <td>a) ¿Cuál es la concentración de iones OH?. \\n...</td>\n",
       "    </tr>\n",
       "    <tr>\n",
       "      <th>323</th>\n",
       "      <td>Química</td>\n",
       "      <td>Enlace Químico</td>\n",
       "      <td>2002</td>\n",
       "      <td>2</td>\n",
       "      <td>QUÍMICA. 2002. RESERVA 1. EJERCICIO 5. OPCIÓN A</td>\n",
       "      <td>Reserva 1</td>\n",
       "      <td>Ejercicio 5 Opción A</td>\n",
       "      <td>a) Represente el ciclo de Born-Haber para el f...</td>\n",
       "    </tr>\n",
       "    <tr>\n",
       "      <th>894</th>\n",
       "      <td>Química</td>\n",
       "      <td>Reactividad Orgánica</td>\n",
       "      <td>2004</td>\n",
       "      <td>2</td>\n",
       "      <td>QUÍMICA. 2004. JUNIO. EJERCICIO 4. OPCIÓN B</td>\n",
       "      <td>Junio</td>\n",
       "      <td>Ejercicio 4 Opción B</td>\n",
       "      <td>a) Isomería de función. \\nb) Isomería de posic...</td>\n",
       "    </tr>\n",
       "    <tr>\n",
       "      <th>1258</th>\n",
       "      <td>Química</td>\n",
       "      <td>Ácido Base</td>\n",
       "      <td>2003</td>\n",
       "      <td>11</td>\n",
       "      <td>QUÍMICA. 2003. SEPTIEMBRE. EJERCICIO 4. OPCIÓN B</td>\n",
       "      <td>Septiembre</td>\n",
       "      <td>Ejercicio 4 Opción B</td>\n",
       "      <td>a) Escriba sus reacciones de disociación en ag...</td>\n",
       "    </tr>\n",
       "    <tr>\n",
       "      <th>250</th>\n",
       "      <td>Química</td>\n",
       "      <td>Conf. Electrónica</td>\n",
       "      <td>2017</td>\n",
       "      <td>6</td>\n",
       "      <td>QUÍMICA. 2017. RESERVA 3. EJERCICIO 2. OPCIÓN B</td>\n",
       "      <td>Reserva 3</td>\n",
       "      <td>Ejercicio 2 Opción B</td>\n",
       "      <td>a) Escriba las configuraciones electrónicas de...</td>\n",
       "    </tr>\n",
       "    <tr>\n",
       "      <th>1122</th>\n",
       "      <td>Química</td>\n",
       "      <td>Termoquímica</td>\n",
       "      <td>2003</td>\n",
       "      <td>4</td>\n",
       "      <td>QUÍMICA. 2003. RESERVA 2. EJERCICIO 3. OPCIÓN B</td>\n",
       "      <td>Reserva 2</td>\n",
       "      <td>Ejercicio 3 Opción B</td>\n",
       "      <td>a) Disolución de nitrato de potasio, KNO , en ...</td>\n",
       "    </tr>\n",
       "    <tr>\n",
       "      <th>1113</th>\n",
       "      <td>Química</td>\n",
       "      <td>Termoquímica</td>\n",
       "      <td>2001</td>\n",
       "      <td>8</td>\n",
       "      <td>QUÍMICA. 2001. SEPTIEMBRE. EJERCICIO 5. OPCIÓN B</td>\n",
       "      <td>Septiembre</td>\n",
       "      <td>Ejercicio 5 Opción B</td>\n",
       "      <td>a) ¿Cuál será el calor, a presión constante de...</td>\n",
       "    </tr>\n",
       "    <tr>\n",
       "      <th>1088</th>\n",
       "      <td>Química</td>\n",
       "      <td>Solubilidad</td>\n",
       "      <td>2022</td>\n",
       "      <td>5</td>\n",
       "      <td>QUÍMICA. 2022. RESERVA 1. EJERCICIO C2</td>\n",
       "      <td>Reserva 1</td>\n",
       "      <td>Ejercicio C2</td>\n",
       "      <td>a) La solubilidad en mg/L del AgCl en agua. \\n...</td>\n",
       "    </tr>\n",
       "    <tr>\n",
       "      <th>172</th>\n",
       "      <td>Química</td>\n",
       "      <td>Conf. Electrónica</td>\n",
       "      <td>2004</td>\n",
       "      <td>5</td>\n",
       "      <td>QUÍMICA. 2004. RESERVA 3. EJERCICIO 2. OPCIÓN A</td>\n",
       "      <td>Reserva 3</td>\n",
       "      <td>Ejercicio 2 Opción A</td>\n",
       "      <td>a) Escriba la configuración electrónica de cad...</td>\n",
       "    </tr>\n",
       "  </tbody>\n",
       "</table>\n",
       "</div>"
      ],
      "text/plain": [
       "      subject                 topic  year  page  \\\n",
       "546   Química    Equilibrio Químico  2011     3   \n",
       "1226  Química            Ácido Base  2000     8   \n",
       "323   Química        Enlace Químico  2002     2   \n",
       "894   Química  Reactividad Orgánica  2004     2   \n",
       "1258  Química            Ácido Base  2003    11   \n",
       "250   Química     Conf. Electrónica  2017     6   \n",
       "1122  Química          Termoquímica  2003     4   \n",
       "1113  Química          Termoquímica  2001     8   \n",
       "1088  Química           Solubilidad  2022     5   \n",
       "172   Química     Conf. Electrónica  2004     5   \n",
       "\n",
       "                                          exam_details   exam_name  \\\n",
       "546        QUÍMICA. 2011. JUNIO. EJERCICIO 6. OPCIÓN B       Junio   \n",
       "1226   QUÍMICA. 2000. RESERVA 3. EJERCICIO 3. OPCIÓN B   Reserva 3   \n",
       "323    QUÍMICA. 2002. RESERVA 1. EJERCICIO 5. OPCIÓN A   Reserva 1   \n",
       "894        QUÍMICA. 2004. JUNIO. EJERCICIO 4. OPCIÓN B       Junio   \n",
       "1258  QUÍMICA. 2003. SEPTIEMBRE. EJERCICIO 4. OPCIÓN B  Septiembre   \n",
       "250    QUÍMICA. 2017. RESERVA 3. EJERCICIO 2. OPCIÓN B   Reserva 3   \n",
       "1122   QUÍMICA. 2003. RESERVA 2. EJERCICIO 3. OPCIÓN B   Reserva 2   \n",
       "1113  QUÍMICA. 2001. SEPTIEMBRE. EJERCICIO 5. OPCIÓN B  Septiembre   \n",
       "1088            QUÍMICA. 2022. RESERVA 1. EJERCICIO C2   Reserva 1   \n",
       "172    QUÍMICA. 2004. RESERVA 3. EJERCICIO 2. OPCIÓN A   Reserva 3   \n",
       "\n",
       "                  exercise                                          statement  \n",
       "546   Ejercicio 6 Opción B  a) La concentración de cada especie en el equi...  \n",
       "1226  Ejercicio 3 Opción B  a) ¿Cuál es la concentración de iones OH?. \\n...  \n",
       "323   Ejercicio 5 Opción A  a) Represente el ciclo de Born-Haber para el f...  \n",
       "894   Ejercicio 4 Opción B  a) Isomería de función. \\nb) Isomería de posic...  \n",
       "1258  Ejercicio 4 Opción B  a) Escriba sus reacciones de disociación en ag...  \n",
       "250   Ejercicio 2 Opción B  a) Escriba las configuraciones electrónicas de...  \n",
       "1122  Ejercicio 3 Opción B  a) Disolución de nitrato de potasio, KNO , en ...  \n",
       "1113  Ejercicio 5 Opción B  a) ¿Cuál será el calor, a presión constante de...  \n",
       "1088          Ejercicio C2  a) La solubilidad en mg/L del AgCl en agua. \\n...  \n",
       "172   Ejercicio 2 Opción A  a) Escriba la configuración electrónica de cad...  "
      ]
     },
     "execution_count": 179,
     "metadata": {},
     "output_type": "execute_result"
    }
   ],
   "source": [
    "exercises_df.sample(10)"
   ]
  },
  {
   "cell_type": "code",
   "execution_count": 188,
   "metadata": {},
   "outputs": [
    {
     "data": {
      "text/html": [
       "<div>\n",
       "<style scoped>\n",
       "    .dataframe tbody tr th:only-of-type {\n",
       "        vertical-align: middle;\n",
       "    }\n",
       "\n",
       "    .dataframe tbody tr th {\n",
       "        vertical-align: top;\n",
       "    }\n",
       "\n",
       "    .dataframe thead th {\n",
       "        text-align: right;\n",
       "    }\n",
       "</style>\n",
       "<table border=\"1\" class=\"dataframe\">\n",
       "  <thead>\n",
       "    <tr style=\"text-align: right;\">\n",
       "      <th></th>\n",
       "      <th>year</th>\n",
       "      <th>page</th>\n",
       "    </tr>\n",
       "  </thead>\n",
       "  <tbody>\n",
       "    <tr>\n",
       "      <th>313</th>\n",
       "      <td>F</td>\n",
       "      <td>3</td>\n",
       "    </tr>\n",
       "    <tr>\n",
       "      <th>338</th>\n",
       "      <td>NaN</td>\n",
       "      <td>6</td>\n",
       "    </tr>\n",
       "    <tr>\n",
       "      <th>341</th>\n",
       "      <td>NaN</td>\n",
       "      <td>4</td>\n",
       "    </tr>\n",
       "    <tr>\n",
       "      <th>343</th>\n",
       "      <td>NaN</td>\n",
       "      <td>2</td>\n",
       "    </tr>\n",
       "    <tr>\n",
       "      <th>344</th>\n",
       "      <td>NaN</td>\n",
       "      <td>3</td>\n",
       "    </tr>\n",
       "    <tr>\n",
       "      <th>345</th>\n",
       "      <td>NaN</td>\n",
       "      <td>4</td>\n",
       "    </tr>\n",
       "    <tr>\n",
       "      <th>347</th>\n",
       "      <td>NaN</td>\n",
       "      <td>6</td>\n",
       "    </tr>\n",
       "    <tr>\n",
       "      <th>363</th>\n",
       "      <td>F</td>\n",
       "      <td>2</td>\n",
       "    </tr>\n",
       "    <tr>\n",
       "      <th>370</th>\n",
       "      <td>NaN</td>\n",
       "      <td>4</td>\n",
       "    </tr>\n",
       "    <tr>\n",
       "      <th>380</th>\n",
       "      <td>NaN</td>\n",
       "      <td>4</td>\n",
       "    </tr>\n",
       "    <tr>\n",
       "      <th>423</th>\n",
       "      <td></td>\n",
       "      <td>3</td>\n",
       "    </tr>\n",
       "    <tr>\n",
       "      <th>424</th>\n",
       "      <td>NaN</td>\n",
       "      <td>4</td>\n",
       "    </tr>\n",
       "    <tr>\n",
       "      <th>425</th>\n",
       "      <td>F</td>\n",
       "      <td>5</td>\n",
       "    </tr>\n",
       "    <tr>\n",
       "      <th>459</th>\n",
       "      <td>NaN</td>\n",
       "      <td>10</td>\n",
       "    </tr>\n",
       "    <tr>\n",
       "      <th>470</th>\n",
       "      <td>DE</td>\n",
       "      <td>8</td>\n",
       "    </tr>\n",
       "    <tr>\n",
       "      <th>600</th>\n",
       "      <td>NaN</td>\n",
       "      <td>6</td>\n",
       "    </tr>\n",
       "    <tr>\n",
       "      <th>638</th>\n",
       "      <td>NaN</td>\n",
       "      <td>4</td>\n",
       "    </tr>\n",
       "    <tr>\n",
       "      <th>655</th>\n",
       "      <td>NaN</td>\n",
       "      <td>11</td>\n",
       "    </tr>\n",
       "    <tr>\n",
       "      <th>827</th>\n",
       "      <td>NaN</td>\n",
       "      <td>2</td>\n",
       "    </tr>\n",
       "    <tr>\n",
       "      <th>1094</th>\n",
       "      <td>NaN</td>\n",
       "      <td>3</td>\n",
       "    </tr>\n",
       "    <tr>\n",
       "      <th>1262</th>\n",
       "      <td>2004</td>\n",
       "      <td>5</td>\n",
       "    </tr>\n",
       "    <tr>\n",
       "      <th>1449</th>\n",
       "      <td>NaN</td>\n",
       "      <td>6</td>\n",
       "    </tr>\n",
       "    <tr>\n",
       "      <th>1452</th>\n",
       "      <td>NaN</td>\n",
       "      <td>9</td>\n",
       "    </tr>\n",
       "  </tbody>\n",
       "</table>\n",
       "</div>"
      ],
      "text/plain": [
       "      year  page\n",
       "313      F     3\n",
       "338    NaN     6\n",
       "341    NaN     4\n",
       "343    NaN     2\n",
       "344    NaN     3\n",
       "345    NaN     4\n",
       "347    NaN     6\n",
       "363      F     2\n",
       "370    NaN     4\n",
       "380    NaN     4\n",
       "423            3\n",
       "424    NaN     4\n",
       "425      F     5\n",
       "459    NaN    10\n",
       "470     DE     8\n",
       "600    NaN     6\n",
       "638    NaN     4\n",
       "655    NaN    11\n",
       "827    NaN     2\n",
       "1094   NaN     3\n",
       "1262  2004     5\n",
       "1449   NaN     6\n",
       "1452   NaN     9"
      ]
     },
     "execution_count": 188,
     "metadata": {},
     "output_type": "execute_result"
    }
   ],
   "source": [
    "exercises_df[~exercises_df.subject.isin(['Química', 'Quimica'])][['year', 'page']]"
   ]
  },
  {
   "cell_type": "markdown",
   "metadata": {},
   "source": [
    "## Export `exercises` to csv"
   ]
  },
  {
   "cell_type": "code",
   "execution_count": 181,
   "metadata": {},
   "outputs": [],
   "source": [
    "for subject in exercises_df['subject'].unique():\n",
    "    exercises_df[exercises_df['subject'] == subject].to_csv(f'exercises_{subject}.csv', index=False)"
   ]
  }
 ],
 "metadata": {
  "kernelspec": {
   "display_name": "datavenv",
   "language": "python",
   "name": "python3"
  },
  "language_info": {
   "codemirror_mode": {
    "name": "ipython",
    "version": 3
   },
   "file_extension": ".py",
   "mimetype": "text/x-python",
   "name": "python",
   "nbconvert_exporter": "python",
   "pygments_lexer": "ipython3",
   "version": "3.13.1"
  }
 },
 "nbformat": 4,
 "nbformat_minor": 2
}
