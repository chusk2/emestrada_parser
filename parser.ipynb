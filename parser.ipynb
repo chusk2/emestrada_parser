{
 "cells": [
  {
   "cell_type": "code",
   "execution_count": 4,
   "metadata": {},
   "outputs": [],
   "source": [
    "import fitz\n",
    "import pandas as pd\n",
    "from pathlib import Path\n",
    "import csv"
   ]
  },
  {
   "cell_type": "markdown",
   "metadata": {},
   "source": [
    "## Files management"
   ]
  },
  {
   "cell_type": "code",
   "execution_count": 5,
   "metadata": {},
   "outputs": [
    {
     "name": "stdout",
     "output_type": "stream",
     "text": [
      "pdf_files/2005 - Reacciones Redox.pdf\n",
      "pdf_files/2008 - Reacciones Redox.pdf\n",
      "pdf_files/2022 - Reacciones Redox.pdf\n",
      "pdf_files/2000 - Reacciones Redox.pdf\n",
      "pdf_files/2003 - Reacciones Redox.pdf\n",
      "pdf_files/2004 - Reacciones Redox.pdf\n",
      "pdf_files/2002 - Reacciones Redox.pdf\n",
      "pdf_files/2016 - Reacciones Redox.pdf\n",
      "pdf_files/2021 - Reacciones Redox.pdf\n",
      "pdf_files/2024 - Reacciones Redox.pdf\n",
      "pdf_files/2007 - Reacciones Redox.pdf\n",
      "pdf_files/2023 - Reacciones Redox.pdf\n",
      "pdf_files/2015 - Reacciones Redox.pdf\n",
      "pdf_files/2013 - Reacciones Redox.pdf\n",
      "pdf_files/2011 - Reacciones Redox.pdf\n",
      "pdf_files/2001 - Reacciones Redox.pdf\n",
      "pdf_files/2014 - Reacciones Redox.pdf\n",
      "pdf_files/2019 - Reacciones Redox.pdf\n",
      "pdf_files/2017 - Reacciones Redox.pdf\n",
      "pdf_files/2018 - Reacciones Redox.pdf\n",
      "pdf_files/2020 - Reacciones Redox.pdf\n",
      "pdf_files/2009 - Reacciones Redox.pdf\n",
      "pdf_files/2012 - Reacciones Redox.pdf\n",
      "pdf_files/2010 - Reacciones Redox.pdf\n",
      "pdf_files/2006 - Reacciones Redox.pdf\n"
     ]
    }
   ],
   "source": [
    "def find_files(directory, pattern):\n",
    "    path = Path(directory)\n",
    "    return path.rglob(pattern)\n",
    "\n",
    "# Example usage\n",
    "directory = \"./pdf_files\"\n",
    "pattern = \"*.pdf\"\n",
    "\n",
    "file_paths = [i for i in find_files(directory, pattern) \n",
    "              if i.name.startswith('2')\n",
    "              ]\n",
    "print(*file_paths, sep='\\n')"
   ]
  },
  {
   "cell_type": "code",
   "execution_count": 7,
   "metadata": {},
   "outputs": [],
   "source": [
    "def save_dict_to_csv(data, filename):\n",
    "    with open(filename, 'w', newline='') as csvfile:\n",
    "        writer = csv.writer(csvfile)\n",
    "        \n",
    "        # Write the header\n",
    "        writer.writerow(data.keys())\n",
    "        \n",
    "        # Write the values\n",
    "        writer.writerow(data.values())"
   ]
  },
  {
   "cell_type": "code",
   "execution_count": 28,
   "metadata": {},
   "outputs": [],
   "source": [
    "def extract_info(file_path):\n",
    "    \n",
    "    content = {\n",
    "        'subject': [],\n",
    "        'year': [],\n",
    "        'exam': [],\n",
    "        'exercise': [],\n",
    "        'statement': [],\n",
    "        'page': [],\n",
    "        'exam_details': []\n",
    "    }\n",
    "    # open the pdf file\n",
    "    doc = fitz.open(file_path)\n",
    "\n",
    "    # process individual pages\n",
    "    for page in doc[1:]:\n",
    "        \n",
    "        # get content of the page\n",
    "        text = page.get_text(\"text\")\n",
    "        \n",
    "        # clean the content of page\n",
    "        \n",
    "        # replacements\n",
    "        replacements = {'www.emestrada.org' : '',\n",
    "                        'R  E  S  O  L  U  C  I  Ó  N': 'Resolucion',\n",
    "                        '\\n \\n \\n' : ''}\n",
    "\n",
    "        for subs, rep in replacements.items():\n",
    "            text =  text.replace(subs, rep)\n",
    "        \n",
    "        # remove whitespaces and create list of rows\n",
    "        text = text.strip().replace('  ', ' ').split('\\n')\n",
    "\n",
    "        # extract exam details\n",
    "        exam_details = text[-1]\n",
    "        text = text[:-1]\n",
    "\n",
    "        # extract only exercise statement\n",
    "        times_a_appeared = 0\n",
    "        for index, row in enumerate(text):\n",
    "            if 'a)' in row:\n",
    "                times_a_appeared += 1\n",
    "                # it's the second occurrence of a)\n",
    "                if times_a_appeared == 2:\n",
    "                    text = text[index:]\n",
    "                    break\n",
    "        \n",
    "        # clean relative masses\n",
    "        for index, row in enumerate(text):\n",
    "            if ('Masas atómicas relativas' in row) or ('Dato:' in row) :\n",
    "                text = text[:index]\n",
    "                break\n",
    "        \n",
    "        # remove the lines starting with just a number\n",
    "        text = [i for i in text if len(i) > 1]\n",
    "        \n",
    "        # join the lines of the statement\n",
    "        joined_text = ''\n",
    "        for row in text:\n",
    "\n",
    "            if row.startswith('b'):\n",
    "                joined_text += '\\n' + row\n",
    "            else:\n",
    "                joined_text += row\n",
    "        statement = joined_text\n",
    "\n",
    "        # extract the year and exam\n",
    "        try:\n",
    "            exam = exam_details.split(' ')\n",
    "            # extract subject\n",
    "            subject = exam[0].replace('.', '').title()\n",
    "            # extract year\n",
    "            year = exam[1].replace('.', '')\n",
    "            # get exam\n",
    "            if exam[2] == 'RESERVA':\n",
    "                exam = exam[2].title() +  ' ' + ' '.join(exam[3])\n",
    "            else:\n",
    "                exam = exam[2].title()\n",
    "            # get exercise\n",
    "            if exam[2] == 'RESERVA':\n",
    "                exercise = ' '.join(exam[4:]).title()\n",
    "            else:\n",
    "                exercise = ' '.join(exam[3:]).title()\n",
    "        except:\n",
    "            print(f'Problems with exercise data in {file_path.name}' \\\n",
    "                  f' on page {page.number + 1}.')\n",
    "            print(exam_details)\n",
    "            continue\n",
    "                   \n",
    "        \n",
    "        page =page.number + 1\n",
    "\n",
    "        # update the content dict\n",
    "        content['subject'].append(subject)\n",
    "        content['year'].append(year)\n",
    "        content['exam'].append(exam)\n",
    "        content['exercise'].append(exercise)\n",
    "        content['statement'].append(statement)\n",
    "        content['page'].append(page)\n",
    "        content['exam_details'].append(exam_details)\n",
    "        \n",
    "        # content[f'{file_path.name}_page_{page.number + 1}'] = page_dict\n",
    "\n",
    "    return content"
   ]
  },
  {
   "cell_type": "markdown",
   "metadata": {},
   "source": [
    "### Check exam string"
   ]
  },
  {
   "cell_type": "code",
   "execution_count": 25,
   "metadata": {},
   "outputs": [],
   "source": [
    "def check_exam_string(exam_details):\n",
    "    page_dict = {}\n",
    "    exam = exam_details.split(' ')\n",
    "\n",
    "    # extract subject\n",
    "    page_dict['subject'] = (exam[0]\n",
    "                            .replace('.', '')\n",
    "                            .title()\n",
    "    )\n",
    "    page_dict['year'] = exam[1].replace('.', '')\n",
    "    # get exam\n",
    "    if exam[2] == 'RESERVA':\n",
    "        page_dict['exam'] = exam[2].title() +  ' ' + ' '.join(exam[3])\n",
    "    else:\n",
    "        page_dict['exam'] = exam[2].title()\n",
    "    # get exercise\n",
    "    if exam[2] == 'RESERVA':\n",
    "        page_dict['exercise'] = ' '.join(exam[4:]).title()\n",
    "    else:\n",
    "        page_dict['exercise'] = ' '.join(exam[3:]).title()\n",
    "\n",
    "    return page_dict"
   ]
  },
  {
   "cell_type": "code",
   "execution_count": 30,
   "metadata": {},
   "outputs": [
    {
     "data": {
      "text/plain": [
       "{'subject': ['Química',\n",
       "  'Quimica',\n",
       "  'Quimica',\n",
       "  'Quimica',\n",
       "  'Quimica',\n",
       "  'Quimica',\n",
       "  'Quimica',\n",
       "  'Química'],\n",
       " 'year': ['2005', '2005', '2005', '2005', '2005', '2005', '2005', '2005'],\n",
       " 'exam': ['Junio.',\n",
       "  'Reserva 1 .',\n",
       "  'Reserva 2',\n",
       "  'Reserva 3',\n",
       "  'Reserva 3',\n",
       "  'Reserva 4',\n",
       "  'Reserva 4',\n",
       "  'Septiembre.'],\n",
       " 'exercise': ['I O .',\n",
       "  'E R V A   1   .',\n",
       "  'E R V A   2',\n",
       "  'E R V A   3',\n",
       "  'E R V A   3',\n",
       "  'E R V A   4',\n",
       "  'E R V A   4',\n",
       "  'T I E M B R E .'],\n",
       " 'statement': [\"a) Ajuste por el método del ión-electrón esta reacción en sus formas iónica y molecular. \\nb) Calcule la masa de cobre que se necesita para obtener 5 litros de NO medidos a 750 mm de Hg y 40ºC Datos: R = 0’082atm L Kmol. Masa atómica: Cu63'5\",\n",
       "  'a) Ajuste la reacción iónica por el método del ión-electrón. \\nb) Calcule la molaridad de una disolución de KMnO , sabiendo que a partir de 50 mL de la misma se pueden obtener 0’34 moles deFe \\uf02b. ',\n",
       "  'normales. Calcule: a) El tiempo que ha durado la electrolisis. b) La masa de sodio depositado en el cátodo durante ese tiempo. Datos: F = 96500 C. Masa atómica: Na = 23. ',\n",
       "  \"\\uf02b  a) ¿Tiene el Zn \\uf02b capacidad para oxidar el Br \\uf02d a Br en condiciones estándar? Razone la respuesta. Datos: E (Zn/ Zn)0'76 v\\uf03d\\uf02d; E (Br / Br )1'06 v\\uf02d\\uf03d. \\nb) Escriba, según el convenio establecido, la notación simbólica de la pila que se puede formar con los siguientes electrodos: Zn/ Zn (E0'76 v)\\uf03d\\uf02d; Cu/ Cu (E0'34 v). \",\n",
       "  'a) Ajuste la reacción por el método del ión-electrón. \\nb) Calcule los moles de I que se obtienen cuando 1 L de una disolución 2 M de KI se ponen a reaccionar con 2 L de una disolución 0’5 M de H SO ',\n",
       "  'SnI . Calcule: a) La masa de estaño metálico depositado en el cátodo. \\nb) Los moles de I liberados en el ánodo. Datos: F = 96500 C. Masa atómica: Sn = 118’7. ',\n",
       "  'Justifique la veracidad o falsedad de las afirmaciones siguientes: a) El Cu acepta electrones experimentando, por tanto, una reducción. b) El número de oxidación del nitrógeno en el ácido nítrico es +5. c) El ácido nítrico es el reductor y el cobre el oxidante. ',\n",
       "  \"siguientes: a) El electrodo de plata es el cátodo y el de cobre el ánodo. b) El potencial de la pila es 0’46 V. c) En el ánodo de la pila tiene lugar la reducción del oxidante. Datos: E (Ag / Ag)0'80 V; E (Cu/ Cu)0'34 V\"],\n",
       " 'page': [2, 3, 4, 5, 6, 7, 8, 9],\n",
       " 'exam_details': ['QUÍMICA. 2005. JUNIO. EJERCICIO 5. OPCIÓN A',\n",
       "  'QUIMICA. 2005. RESERVA 1. EJERCICIO 5. OPCIÓN A',\n",
       "  'QUIMICA. 2005. RESERVA 2 EJERCICIO 6 OPCIÓN B',\n",
       "  'QUIMICA. 2005. RESERVA 3 EJERCICIO 3 OPCIÓN A',\n",
       "  'QUIMICA. 2005. RESERVA 3 EJERCICIO 6 OPCIÓN B',\n",
       "  'QUIMICA. 2005. RESERVA 4 EJERCICIO 6 OPCIÓN A',\n",
       "  'QUIMICA. 2005. RESERVA 4 EJERCICIO 3 OPCIÓN B',\n",
       "  'QUÍMICA. 2005. SEPTIEMBRE. EJERCICIO 3. OPCIÓN B']}"
      ]
     },
     "execution_count": 30,
     "metadata": {},
     "output_type": "execute_result"
    }
   ],
   "source": [
    "extract_info(file_paths[0])"
   ]
  },
  {
   "cell_type": "code",
   "execution_count": 33,
   "metadata": {},
   "outputs": [
    {
     "name": "stdout",
     "output_type": "stream",
     "text": [
      "Problems with 2005 - Reacciones Redox.pdf\n",
      "Problems with exercise data in 2020 - Reacciones Redox.pdf on page 2.\n",
      "\n"
     ]
    }
   ],
   "source": [
    "content = {}\n",
    "topic = 'Redox'\n",
    "run = 1\n",
    "for file in file_paths:\n",
    "    if run == 1:\n",
    "        content = extract_info(file)\n",
    "        run += 1\n",
    "    else:\n",
    "        new_content = extract_info(file)\n",
    "    try:\n",
    "        for key in content.keys():\n",
    "            content[key].extend(new_content[key])\n",
    "    except:\n",
    "        print(f'Problems with {file.name}')"
   ]
  },
  {
   "cell_type": "code",
   "execution_count": null,
   "metadata": {},
   "outputs": [],
   "source": [
    "def save_dict_to_csv(data, filename):\n",
    "    \n",
    "    with open(filename, 'w', newline='') as csvfile:\n",
    "        writer = csv.writer(csvfile)\n",
    "        \n",
    "        # Write the header\n",
    "        writer.writerow(data.keys())\n",
    "        \n",
    "        # Write the values\n",
    "        writer.writerow(data.values())"
   ]
  },
  {
   "cell_type": "code",
   "execution_count": 221,
   "metadata": {},
   "outputs": [
    {
     "ename": "AttributeError",
     "evalue": "'dict_values' object has no attribute 'keys'",
     "output_type": "error",
     "traceback": [
      "\u001b[0;31m---------------------------------------------------------------------------\u001b[0m",
      "\u001b[0;31mAttributeError\u001b[0m                            Traceback (most recent call last)",
      "Cell \u001b[0;32mIn[221], line 2\u001b[0m\n\u001b[1;32m      1\u001b[0m \u001b[38;5;66;03m# export to csv\u001b[39;00m\n\u001b[0;32m----> 2\u001b[0m \u001b[43msave_dict_to_csv\u001b[49m\u001b[43m(\u001b[49m\u001b[43mcontent\u001b[49m\u001b[38;5;241;43m.\u001b[39;49m\u001b[43mvalues\u001b[49m\u001b[43m(\u001b[49m\u001b[43m)\u001b[49m\u001b[43m,\u001b[49m\u001b[43m \u001b[49m\u001b[38;5;124;43mf\u001b[39;49m\u001b[38;5;124;43m'\u001b[39;49m\u001b[38;5;132;43;01m{\u001b[39;49;00m\u001b[43mtopic\u001b[49m\u001b[38;5;132;43;01m}\u001b[39;49;00m\u001b[38;5;124;43m.csv\u001b[39;49m\u001b[38;5;124;43m'\u001b[39;49m\u001b[43m)\u001b[49m\n",
      "Cell \u001b[0;32mIn[211], line 6\u001b[0m, in \u001b[0;36msave_dict_to_csv\u001b[0;34m(data, filename)\u001b[0m\n\u001b[1;32m      3\u001b[0m writer \u001b[38;5;241m=\u001b[39m csv\u001b[38;5;241m.\u001b[39mwriter(csvfile)\n\u001b[1;32m      5\u001b[0m \u001b[38;5;66;03m# Write the header\u001b[39;00m\n\u001b[0;32m----> 6\u001b[0m writer\u001b[38;5;241m.\u001b[39mwriterow(\u001b[43mdata\u001b[49m\u001b[38;5;241;43m.\u001b[39;49m\u001b[43mkeys\u001b[49m())\n\u001b[1;32m      8\u001b[0m \u001b[38;5;66;03m# Write the values\u001b[39;00m\n\u001b[1;32m      9\u001b[0m writer\u001b[38;5;241m.\u001b[39mwriterow(data\u001b[38;5;241m.\u001b[39mvalues())\n",
      "\u001b[0;31mAttributeError\u001b[0m: 'dict_values' object has no attribute 'keys'"
     ]
    }
   ],
   "source": [
    "# export to csv\n",
    "save_dict_to_csv(content.values(), f'{topic}.csv')"
   ]
  }
 ],
 "metadata": {
  "kernelspec": {
   "display_name": "datavenv",
   "language": "python",
   "name": "python3"
  },
  "language_info": {
   "codemirror_mode": {
    "name": "ipython",
    "version": 3
   },
   "file_extension": ".py",
   "mimetype": "text/x-python",
   "name": "python",
   "nbconvert_exporter": "python",
   "pygments_lexer": "ipython3",
   "version": "3.12.3"
  }
 },
 "nbformat": 4,
 "nbformat_minor": 2
}
