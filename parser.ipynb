{
 "cells": [
  {
   "cell_type": "markdown",
   "metadata": {},
   "source": [
    "# Selectividad Exams Parser"
   ]
  },
  {
   "cell_type": "markdown",
   "metadata": {},
   "source": [
    "## Libraries import"
   ]
  },
  {
   "cell_type": "markdown",
   "metadata": {},
   "source": [
    "### Required packages for OCR processing:\n",
    "**Ubuntu based:**\n",
    "- tesseract-ocr\n",
    "- tesseract-ocr-spa\n",
    "- poppler-utils\n",
    "\n",
    "**Archlinux based:**\n",
    "- tesseract\n",
    "- tesseract-data-spa"
   ]
  },
  {
   "cell_type": "code",
   "execution_count": 1,
   "metadata": {},
   "outputs": [],
   "source": [
    "# !pip install pdf2image\n",
    "# !pip install pytesseract"
   ]
  },
  {
   "cell_type": "code",
   "execution_count": 2,
   "metadata": {},
   "outputs": [],
   "source": [
    "from pdf2image import convert_from_path\n",
    "import pytesseract\n",
    "import pandas as pd\n",
    "from pathlib import Path\n",
    "from multiprocessing import Pool\n",
    "import os\n",
    "import requests"
   ]
  },
  {
   "cell_type": "markdown",
   "metadata": {},
   "source": [
    "## Functions"
   ]
  },
  {
   "cell_type": "markdown",
   "metadata": {},
   "source": [
    "### Telegram bot\n",
    "\n",
    "Function to generate messages to a telegram bot"
   ]
  },
  {
   "cell_type": "code",
   "execution_count": 3,
   "metadata": {},
   "outputs": [],
   "source": [
    "# Replace with your bot's token and chat ID\n",
    "from bot_credentials import *\n",
    "\n",
    "def send_telegram_message(message):\n",
    "    url = f\"https://api.telegram.org/bot{BOT_TOKEN}/sendMessage\"\n",
    "    params = {\"chat_id\": CHAT_ID, \"text\": message}\n",
    "    response = requests.get(url, params=params)\n",
    "    return response.json()"
   ]
  },
  {
   "cell_type": "markdown",
   "metadata": {},
   "source": [
    "### *pdf_to_text*: parse pdf pages into images\n",
    "\n",
    "Extract the text from pdf files, page by page"
   ]
  },
  {
   "cell_type": "code",
   "execution_count": 4,
   "metadata": {},
   "outputs": [],
   "source": [
    "def pdf_to_text(file_path):\n",
    "    images = convert_from_path(file_path)[1:]\n",
    "    # parse each page\n",
    "    pages = []\n",
    "    for i, page in enumerate(images):\n",
    "        pages.append(pytesseract.image_to_string(page, lang='spa'))\n",
    "    return pages"
   ]
  },
  {
   "cell_type": "markdown",
   "metadata": {},
   "source": [
    "### *extract_statement*: extract statement text from page text\n",
    "\n",
    "Extract the statement from a page in text format"
   ]
  },
  {
   "cell_type": "code",
   "execution_count": 5,
   "metadata": {},
   "outputs": [],
   "source": [
    "def extract_statement(page):\n",
    "    # split the content into lines\n",
    "    text = page.split('\\n')\n",
    "    # list to store the processed lines\n",
    "    final_text = []\n",
    "    # start from the 4th line\n",
    "    for line in text[4:]:\n",
    "        # stop at RESOLUCION\n",
    "        if line.startswith('RESOLUCIÓN') or line.startswith('SOCIALES'):\n",
    "            final_text.append(line.strip())\n",
    "            break\n",
    "        # add the line to final_text\n",
    "        else:\n",
    "            if not line == '':\n",
    "                final_text.append(line.strip())\n",
    "    # join the list into a single string\n",
    "    final_text = '\\n'.join(final_text)\n",
    "\n",
    "    return final_text"
   ]
  },
  {
   "cell_type": "markdown",
   "metadata": {},
   "source": [
    "### *extract_exam_details*: extract exam datails from statement\n",
    "\n",
    "Extract the exam details, like subject, year, exam and exercise number."
   ]
  },
  {
   "cell_type": "code",
   "execution_count": 6,
   "metadata": {},
   "outputs": [],
   "source": [
    "def extract_exam_details(statement):\n",
    "    # get last line with exam details\n",
    "    lines = [i for i in statement.split('\\n') if i != '']\n",
    "    exam_details = lines[-1].lower()\n",
    "   \n",
    "    # SOCIALES Il. 2017 JUNIO. EJERCICIO 2. OPCIÓN A\n",
    "    if exam_details.startswith('sociales'):\n",
    "        exam_details = exam_details.replace('sociales il', 'MATES_CCSS')\n",
    "    # split the words by ' '\n",
    "    exam_details = exam_details.split(' ')\n",
    "    # strip whitespaces\n",
    "    exam_details = [i.replace('.', '')\n",
    "                    .replace(',', '').strip()\n",
    "                    for i in exam_details]\n",
    "\n",
    "    # exam dictionary\n",
    "    details = ['subject', 'year', 'exam', 'exercise']\n",
    "    exam_dict = dict.fromkeys(details)\n",
    "    exam_dict = {k:None for k in details}\n",
    "\n",
    "    ## fill dictionary with values\n",
    "    \n",
    "    # subject\n",
    "    if exam_details[0] == 'sociales':\n",
    "        exam_dict['subject'] = 'Mates CCSS'\n",
    "        # drop 2nd element of exam_details list\n",
    "        del exam_details[1]\n",
    "    else:\n",
    "        exam_dict['subject'] = exam_details[0]\n",
    "    # year\n",
    "    exam_dict['year'] = int(exam_details[1])\n",
    "\n",
    "    # parse the exam string\n",
    "    if exam_details[2].startswith('reserva'):\n",
    "        exam_dict['exam'] = ' '.join(exam_details[2:4]).title()\n",
    "        exam_index_start = 4\n",
    "    else:\n",
    "        exam_dict['exam'] = exam_details[2].title()\n",
    "        exam_index_start = 3\n",
    "    \n",
    "    exam_dict['exercise'] = ' '.join(exam_details[exam_index_start:]).title()\n",
    "\n",
    "    \n",
    "    return exam_dict"
   ]
  },
  {
   "cell_type": "markdown",
   "metadata": {},
   "source": [
    "### Function to time the time elapsed in the processing stage"
   ]
  },
  {
   "cell_type": "code",
   "execution_count": 7,
   "metadata": {},
   "outputs": [],
   "source": [
    "import time\n",
    "def what_time():\n",
    "    now = time.localtime()\n",
    "    time_formated = time.strftime(\"%H:%M:%S on %Y-%m-%d \", now)\n",
    "    return now, time_formated\n",
    "\n",
    "def elapsed_time_minutes(start, end):\n",
    "    start_seconds = time.mktime(start)\n",
    "    end_seconds = time.mktime(end)\n",
    "    return (end_seconds - start_seconds) / 60"
   ]
  },
  {
   "cell_type": "markdown",
   "metadata": {},
   "source": [
    "### *generate_error_log*: generate a error log and add it to errors.log file"
   ]
  },
  {
   "cell_type": "code",
   "execution_count": 31,
   "metadata": {},
   "outputs": [],
   "source": [
    "def generate_error_log(file, page, error_type, statement = None, details = None):\n",
    "    log = f'Error processing {error_type}, in {file.name} at page {page+2}\\n'\n",
    "    \n",
    "    with open('errors.log', 'a') as f:\n",
    "        f.write(log)\n",
    "        f.write('*' * 10 + '\\n')\n",
    "        if statement:\n",
    "            f.write(f'{statement}\\n')\n",
    "        elif details:\n",
    "            f.write(f'{details}\\n')\n",
    "        f.write('*' * 10 + '\\n')\n",
    "    \n",
    "    print(log)"
   ]
  },
  {
   "cell_type": "markdown",
   "metadata": {},
   "source": [
    "### Testing for Mates CCSS"
   ]
  },
  {
   "cell_type": "code",
   "execution_count": 9,
   "metadata": {},
   "outputs": [],
   "source": [
    "# file = Path('./pdf_files/Funciones CCSS/2020 - Funciones CCSS.pdf')\n",
    "# pages = pdf_to_text(file)"
   ]
  },
  {
   "cell_type": "code",
   "execution_count": 10,
   "metadata": {},
   "outputs": [],
   "source": [
    "# s = [extract_statement(i) for i in pages]"
   ]
  },
  {
   "cell_type": "code",
   "execution_count": 11,
   "metadata": {},
   "outputs": [],
   "source": [
    "# for index, statement in enumerate(s):\n",
    "#     try:\n",
    "#         extract_exam_details(statement)\n",
    "#     except:\n",
    "#         print(f'page: {index + 2}') # page number (index)\n",
    "#         print(statement)\n",
    "#         break"
   ]
  },
  {
   "cell_type": "code",
   "execution_count": 12,
   "metadata": {},
   "outputs": [],
   "source": [
    "# extract_exam_details(s[3])"
   ]
  },
  {
   "cell_type": "markdown",
   "metadata": {},
   "source": [
    "## Process the pdf files"
   ]
  },
  {
   "cell_type": "code",
   "execution_count": 32,
   "metadata": {},
   "outputs": [],
   "source": [
    "def process_file(file):\n",
    "    exercises_dict = {}\n",
    "    topic = file.stem.split(' - ')[-1]   \n",
    "    \n",
    "    # lists to store the values\n",
    "    subjects = []\n",
    "    years = []\n",
    "    exams = []\n",
    "    exercises = []\n",
    "    statements = []\n",
    "    pages = pdf_to_text(file)\n",
    "\n",
    "    for index, page in enumerate(pages):\n",
    "        try:\n",
    "            statement = extract_statement(page)\n",
    "        # error with extracting statement\n",
    "        except:\n",
    "            generate_error_log(file = file, page = index, error_type= 'statement', statement=page)\n",
    "            continue\n",
    "        try:\n",
    "            details = extract_exam_details(statement)\n",
    "            subjects.append(details['subject'])\n",
    "            years.append(details['year'])\n",
    "            exams.append(details['exam'])\n",
    "            exercises.append(details['exercise'])\n",
    "            statements.append(statement)\n",
    "        # error with extracting details\n",
    "        except:\n",
    "            generate_error_log(file = file, page = index, error_type= 'details', details = statement)\n",
    "            continue\n",
    "        \n",
    "    print(f'Success parsing file: {file.stem}')\n",
    "\n",
    "\n",
    "    # generate the key and content for the exercises dictionary\n",
    "    key = details['subject'] + ' ' + str(details['year']) + ' ' + topic\n",
    "    exercises_dict[key] = {\n",
    "        'subject' : subjects,\n",
    "        'year' : years,\n",
    "        'topic' : [topic] * len(subjects),\n",
    "        'exam' : exams,\n",
    "        'exercise' : exercises,\n",
    "        'statement' : statements\n",
    "    }\n",
    "\n",
    "    return exercises_dict"
   ]
  },
  {
   "cell_type": "markdown",
   "metadata": {},
   "source": [
    "## Save the parsed content into a dataframe"
   ]
  },
  {
   "cell_type": "code",
   "execution_count": 14,
   "metadata": {},
   "outputs": [],
   "source": [
    "def create_content_dict():\n",
    "    # create the dict from keys\n",
    "    keys = ['subject', 'year', 'topic', 'exam', 'exercise', 'statement']\n",
    "    #content = dict.fromkeys(exercises_dict[first_processed_file].keys())\n",
    "    content = dict.fromkeys(keys)\n",
    "    # fill the dict with empty lists\n",
    "    for key in content.keys():\n",
    "        content[key] = []\n",
    "\n",
    "    return content"
   ]
  },
  {
   "cell_type": "code",
   "execution_count": 15,
   "metadata": {},
   "outputs": [],
   "source": [
    "folders = sorted( [i for i in Path.iterdir(Path('pdf_files'))] )"
   ]
  },
  {
   "cell_type": "code",
   "execution_count": 16,
   "metadata": {},
   "outputs": [],
   "source": [
    "def process_folder(folder):\n",
    "    df = pd.DataFrame()\n",
    "    files = sorted( [i for i in Path.iterdir(folder)\n",
    "                        if i.suffix == '.pdf'] )\n",
    "    for file in files:\n",
    "        try:\n",
    "            exercises_dict = process_file(file)\n",
    "            # each year contains a dictionary with keys containing lists of values\n",
    "            for year, dict_ in exercises_dict.items():\n",
    "                df = pd.concat([df, pd.DataFrame(dict_)], axis = 0)\n",
    "\n",
    "        except:\n",
    "            pass\n",
    "        \n",
    "    # correct wrong subjects\n",
    "    df.subject = df.subject.apply(lambda x: 'Química'\n",
    "                                    if x.endswith('mica') else x)\n",
    "    df.to_csv(f'./csv/exercises_{folder.stem}.csv', index=False)"
   ]
  },
  {
   "cell_type": "code",
   "execution_count": 47,
   "metadata": {},
   "outputs": [],
   "source": [
    "def add_row(df, row):\n",
    "    return pd.concat([df, pd.DataFrame(row, columns = df.columns, index = [0])], axis = 0)"
   ]
  },
  {
   "cell_type": "code",
   "execution_count": 48,
   "metadata": {},
   "outputs": [],
   "source": [
    "'''\n",
    "a) Calcule los valores de a y b para que la función f ( x )  \n",
    "derivable en el punto de abscisa x  1\n",
    "b) Para a  1 y b  2 , estudie su monotonía y determine las ecuaciones de sus asíntotas, si\n",
    "existen.\n",
    "SOCIALES II. 2016. JUNIO. EJERCICIO 2. OPCIÓN A\n",
    "'''\n",
    "row = {'subject' : 'Mates CCSS',\n",
    "       'year' : 2016,\n",
    "       'topic' : 'Funciones CCSS',\n",
    "       'exam' : 'Junio',\n",
    "       'exercise' : 'Ejercicio 2, Opción A',\n",
    "       'statement' : '''a) Calcule los valores de a y b para que la función f (x) sea derivable en el punto de abscisa x = 1\n",
    "b) Para a = 1 y b = 2 , estudie su monotonía y determine las ecuaciones de sus asíntotas, si existen'''\n",
    "}"
   ]
  },
  {
   "cell_type": "code",
   "execution_count": 50,
   "metadata": {},
   "outputs": [],
   "source": [
    "df = add_row(df, row)"
   ]
  },
  {
   "cell_type": "code",
   "execution_count": 51,
   "metadata": {},
   "outputs": [],
   "source": [
    "df.to_csv(f'./csv/exercises_Funciones CCSS.csv', index=False)"
   ]
  },
  {
   "cell_type": "markdown",
   "metadata": {},
   "source": [
    "### Process pdf files"
   ]
  },
  {
   "cell_type": "code",
   "execution_count": null,
   "metadata": {},
   "outputs": [],
   "source": [
    "start, start_formatted = what_time()\n",
    "send_telegram_message(f'Parsing process started at: {start_formatted}')\n",
    "\n",
    "for folder in folders:\n",
    "    try:\n",
    "        process_folder(folder)\n",
    "        print(f'Success processing folder: {folder.stem}')\n",
    "        send_telegram_message(f'Success processing folder: {folder.stem}')\n",
    "    except Exception as e:\n",
    "        send_telegram_message(f'Error processing folder: {folder.stem}' \\\n",
    "                              f'\\n{e}')\n",
    "end, end_formatted = what_time()\n",
    "\n",
    "send_telegram_message(f'Parsing process finished at: {end_formatted}'\\\n",
    "                      f'\\nTime elapsed in minutes: {elapsed_time_minutes(start, end)}')\n",
    "send_telegram_message('✅ Your files have been processed!')\n"
   ]
  },
  {
   "cell_type": "code",
   "execution_count": null,
   "metadata": {},
   "outputs": [],
   "source": []
  },
  {
   "cell_type": "code",
   "execution_count": 18,
   "metadata": {},
   "outputs": [],
   "source": [
    "# # Create a pool of worker processes (adjust number as needed)\n",
    "# with Pool(processes=os.cpu_count()) as pool:\n",
    "#     pool.map(process_folder, folders)"
   ]
  },
  {
   "cell_type": "markdown",
   "metadata": {},
   "source": [
    "Create the pandas dataframe"
   ]
  },
  {
   "cell_type": "code",
   "execution_count": 19,
   "metadata": {},
   "outputs": [],
   "source": [
    "csv_files = [i for i in Path.iterdir(Path('./csv'))\n",
    "             if i.suffix == '.csv' and not i.stem.startswith('all')]"
   ]
  },
  {
   "cell_type": "code",
   "execution_count": null,
   "metadata": {},
   "outputs": [],
   "source": [
    "csv_files"
   ]
  },
  {
   "cell_type": "code",
   "execution_count": 20,
   "metadata": {},
   "outputs": [],
   "source": [
    "df = pd.read_csv(csv_files[0])"
   ]
  },
  {
   "cell_type": "code",
   "execution_count": null,
   "metadata": {},
   "outputs": [],
   "source": [
    "# df = pd.read_csv(csv_files[0])\n",
    "# for file in csv_files[1:]:\n",
    "#     df = pd.concat([df, pd.read_csv(file)], axis = 0)\n",
    "#     #df.to_csv('./csv/all_exercises.csv', index=False)\n",
    "\n",
    "# df.sample(10)"
   ]
  },
  {
   "cell_type": "code",
   "execution_count": 21,
   "metadata": {},
   "outputs": [
    {
     "data": {
      "text/plain": [
       "subject      0\n",
       "year         0\n",
       "topic        0\n",
       "exam         0\n",
       "exercise     0\n",
       "statement    0\n",
       "dtype: int64"
      ]
     },
     "execution_count": 21,
     "metadata": {},
     "output_type": "execute_result"
    }
   ],
   "source": [
    "df.isna().sum()"
   ]
  },
  {
   "cell_type": "code",
   "execution_count": 30,
   "metadata": {},
   "outputs": [
    {
     "data": {
      "text/html": [
       "<div>\n",
       "<style scoped>\n",
       "    .dataframe tbody tr th:only-of-type {\n",
       "        vertical-align: middle;\n",
       "    }\n",
       "\n",
       "    .dataframe tbody tr th {\n",
       "        vertical-align: top;\n",
       "    }\n",
       "\n",
       "    .dataframe thead th {\n",
       "        text-align: right;\n",
       "    }\n",
       "</style>\n",
       "<table border=\"1\" class=\"dataframe\">\n",
       "  <thead>\n",
       "    <tr style=\"text-align: right;\">\n",
       "      <th></th>\n",
       "      <th>subject</th>\n",
       "      <th>year</th>\n",
       "      <th>topic</th>\n",
       "      <th>exam</th>\n",
       "      <th>exercise</th>\n",
       "      <th>statement</th>\n",
       "    </tr>\n",
       "  </thead>\n",
       "  <tbody>\n",
       "    <tr>\n",
       "      <th>0</th>\n",
       "      <td>MATES_CCSS</td>\n",
       "      <td>2001</td>\n",
       "      <td>Funciones CCSS</td>\n",
       "      <td>Junio</td>\n",
       "      <td>Ejercicio 2, Opción A</td>\n",
       "      <td>Calcule las funciones derivadas de las siguien...</td>\n",
       "    </tr>\n",
       "    <tr>\n",
       "      <th>1</th>\n",
       "      <td>MATES_CCSS</td>\n",
       "      <td>2001</td>\n",
       "      <td>Funciones CCSS</td>\n",
       "      <td>Reserva 1</td>\n",
       "      <td>Ejercicio 2, Opción A</td>\n",
       "      <td>beneficio diario, en euros, será: B(x) =-—10x?...</td>\n",
       "    </tr>\n",
       "    <tr>\n",
       "      <th>2</th>\n",
       "      <td>MATES_CCSS</td>\n",
       "      <td>2001</td>\n",
       "      <td>Funciones CCSS</td>\n",
       "      <td>Reserva 2</td>\n",
       "      <td>Ejercicio 2, Opción B</td>\n",
       "      <td>El consumo de luz (en miles de pesetas) de una...</td>\n",
       "    </tr>\n",
       "    <tr>\n",
       "      <th>3</th>\n",
       "      <td>Mates CCSS</td>\n",
       "      <td>2001</td>\n",
       "      <td>Funciones CCSS</td>\n",
       "      <td>Reserva 3</td>\n",
       "      <td>Ejercicio 2, Opción B</td>\n",
       "      <td>Determine los valores que han de tomar “a” y “...</td>\n",
       "    </tr>\n",
       "    <tr>\n",
       "      <th>4</th>\n",
       "      <td>MATES_CCSS</td>\n",
       "      <td>2001</td>\n",
       "      <td>Funciones CCSS</td>\n",
       "      <td>Reserva 4</td>\n",
       "      <td>Ejercicio 2, Opción B</td>\n",
       "      <td>El estudio de la rentabilidad de una empresa r...</td>\n",
       "    </tr>\n",
       "    <tr>\n",
       "      <th>...</th>\n",
       "      <td>...</td>\n",
       "      <td>...</td>\n",
       "      <td>...</td>\n",
       "      <td>...</td>\n",
       "      <td>...</td>\n",
       "      <td>...</td>\n",
       "    </tr>\n",
       "    <tr>\n",
       "      <th>160</th>\n",
       "      <td>MATES_CCSS</td>\n",
       "      <td>2018</td>\n",
       "      <td>Funciones CCSS</td>\n",
       "      <td>Reserva 3</td>\n",
       "      <td>Ejercicio 2, Opción B</td>\n",
       "      <td>Se considera la función f(x)= * si —-1&lt;x&lt;0\\nx+...</td>\n",
       "    </tr>\n",
       "    <tr>\n",
       "      <th>161</th>\n",
       "      <td>MATES_CCSS</td>\n",
       "      <td>2018</td>\n",
       "      <td>Funciones CCSS</td>\n",
       "      <td>Reserva 4</td>\n",
       "      <td>Ejercicio 2, Opción A</td>\n",
       "      <td>: 0% si x&lt;3\\nSe considera la función f(x)=\\n=x...</td>\n",
       "    </tr>\n",
       "    <tr>\n",
       "      <th>162</th>\n",
       "      <td>MATES_CCSS</td>\n",
       "      <td>2018</td>\n",
       "      <td>Funciones CCSS</td>\n",
       "      <td>Reserva 4</td>\n",
       "      <td>Ejercicio 2, Opción B</td>\n",
       "      <td>3 1) 2\\nDe\" (x?-5)? =e+D\"\\nFx) ( ) g(x) In(r7+...</td>\n",
       "    </tr>\n",
       "    <tr>\n",
       "      <th>163</th>\n",
       "      <td>MATES_CCSS</td>\n",
       "      <td>2018</td>\n",
       "      <td>Funciones CCSS</td>\n",
       "      <td>Septiembre</td>\n",
       "      <td>Ejercicio 2, Opción A</td>\n",
       "      <td>El consumo de cereales en una ciudad, en miles...</td>\n",
       "    </tr>\n",
       "    <tr>\n",
       "      <th>164</th>\n",
       "      <td>Mates CCSS</td>\n",
       "      <td>2018</td>\n",
       "      <td>Funciones CCSS</td>\n",
       "      <td>Septiembre</td>\n",
       "      <td>Ejercicio 2, Opción B</td>\n",
       "      <td>El beneficio, en miles de euros, que ha obteni...</td>\n",
       "    </tr>\n",
       "  </tbody>\n",
       "</table>\n",
       "<p>165 rows × 6 columns</p>\n",
       "</div>"
      ],
      "text/plain": [
       "        subject  year           topic        exam               exercise  \\\n",
       "0    MATES_CCSS  2001  Funciones CCSS       Junio  Ejercicio 2, Opción A   \n",
       "1    MATES_CCSS  2001  Funciones CCSS   Reserva 1  Ejercicio 2, Opción A   \n",
       "2    MATES_CCSS  2001  Funciones CCSS   Reserva 2  Ejercicio 2, Opción B   \n",
       "3    Mates CCSS  2001  Funciones CCSS   Reserva 3  Ejercicio 2, Opción B   \n",
       "4    MATES_CCSS  2001  Funciones CCSS   Reserva 4  Ejercicio 2, Opción B   \n",
       "..          ...   ...             ...         ...                    ...   \n",
       "160  MATES_CCSS  2018  Funciones CCSS   Reserva 3  Ejercicio 2, Opción B   \n",
       "161  MATES_CCSS  2018  Funciones CCSS   Reserva 4  Ejercicio 2, Opción A   \n",
       "162  MATES_CCSS  2018  Funciones CCSS   Reserva 4  Ejercicio 2, Opción B   \n",
       "163  MATES_CCSS  2018  Funciones CCSS  Septiembre  Ejercicio 2, Opción A   \n",
       "164  Mates CCSS  2018  Funciones CCSS  Septiembre  Ejercicio 2, Opción B   \n",
       "\n",
       "                                             statement  \n",
       "0    Calcule las funciones derivadas de las siguien...  \n",
       "1    beneficio diario, en euros, será: B(x) =-—10x?...  \n",
       "2    El consumo de luz (en miles de pesetas) de una...  \n",
       "3    Determine los valores que han de tomar “a” y “...  \n",
       "4    El estudio de la rentabilidad de una empresa r...  \n",
       "..                                                 ...  \n",
       "160  Se considera la función f(x)= * si —-1<x<0\\nx+...  \n",
       "161  : 0% si x<3\\nSe considera la función f(x)=\\n=x...  \n",
       "162  3 1) 2\\nDe\" (x?-5)? =e+D\"\\nFx) ( ) g(x) In(r7+...  \n",
       "163  El consumo de cereales en una ciudad, en miles...  \n",
       "164  El beneficio, en miles de euros, que ha obteni...  \n",
       "\n",
       "[165 rows x 6 columns]"
      ]
     },
     "execution_count": 30,
     "metadata": {},
     "output_type": "execute_result"
    }
   ],
   "source": [
    "df[~df.year.isna()]"
   ]
  },
  {
   "cell_type": "code",
   "execution_count": null,
   "metadata": {},
   "outputs": [],
   "source": [
    "df.shape"
   ]
  },
  {
   "cell_type": "code",
   "execution_count": 23,
   "metadata": {},
   "outputs": [
    {
     "data": {
      "text/plain": [
       "array(['MATES_CCSS', 'Mates CCSS'], dtype=object)"
      ]
     },
     "execution_count": 23,
     "metadata": {},
     "output_type": "execute_result"
    }
   ],
   "source": [
    "df.subject.unique()"
   ]
  },
  {
   "cell_type": "code",
   "execution_count": 29,
   "metadata": {},
   "outputs": [
    {
     "data": {
      "text/plain": [
       "array(['Ejercicio 2, Opción A', 'Ejercicio 2, Opción B'], dtype=object)"
      ]
     },
     "execution_count": 29,
     "metadata": {},
     "output_type": "execute_result"
    }
   ],
   "source": [
    "df.exercise.unique()"
   ]
  },
  {
   "cell_type": "code",
   "execution_count": 25,
   "metadata": {},
   "outputs": [],
   "source": [
    "df.exercise = df.exercise.apply(lambda x: x.replace('Opcióon', 'Opción').replace('Opcion', 'Opción'))"
   ]
  },
  {
   "cell_type": "code",
   "execution_count": 27,
   "metadata": {},
   "outputs": [],
   "source": [
    "def add_comma(string):\n",
    "    if len(string.split(' ')) == 4 and ',' not in string:\n",
    "        words = string.split(' ')\n",
    "        return f'{words[0]} {words[1]}, {words[2]} {words[3]}'\n",
    "    else:\n",
    "        return string"
   ]
  },
  {
   "cell_type": "code",
   "execution_count": 28,
   "metadata": {},
   "outputs": [],
   "source": [
    "df.exercise = df.exercise.apply(add_comma)"
   ]
  },
  {
   "cell_type": "code",
   "execution_count": null,
   "metadata": {},
   "outputs": [],
   "source": [
    "df.to_csv(f'./csv/all_exercises_{df.subject.unique()[0]}.csv', index=False)"
   ]
  }
 ],
 "metadata": {
  "kernelspec": {
   "display_name": "datavenv",
   "language": "python",
   "name": "python3"
  },
  "language_info": {
   "codemirror_mode": {
    "name": "ipython",
    "version": 3
   },
   "file_extension": ".py",
   "mimetype": "text/x-python",
   "name": "python",
   "nbconvert_exporter": "python",
   "pygments_lexer": "ipython3",
   "version": "3.12.3"
  }
 },
 "nbformat": 4,
 "nbformat_minor": 2
}
