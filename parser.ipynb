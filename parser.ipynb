{
 "cells": [
  {
   "cell_type": "markdown",
   "metadata": {},
   "source": [
    "# Selectividad Exams Parser"
   ]
  },
  {
   "cell_type": "markdown",
   "metadata": {},
   "source": [
    "## Libraries import"
   ]
  },
  {
   "cell_type": "code",
   "execution_count": 3,
   "metadata": {},
   "outputs": [],
   "source": [
    "# !sudo apt update\n",
    "# !sudo apt install tesseract-ocr tesseract-ocr-spa poppler-utils"
   ]
  },
  {
   "cell_type": "code",
   "execution_count": 4,
   "metadata": {},
   "outputs": [],
   "source": [
    "# !pip install pdf2image\n",
    "# !pip install pytesseract"
   ]
  },
  {
   "cell_type": "code",
   "execution_count": 5,
   "metadata": {},
   "outputs": [],
   "source": [
    "from pdf2image import convert_from_path\n",
    "import pytesseract\n",
    "import pandas as pd\n",
    "from pathlib import Path"
   ]
  },
  {
   "cell_type": "markdown",
   "metadata": {},
   "source": [
    "## Functions"
   ]
  },
  {
   "cell_type": "markdown",
   "metadata": {},
   "source": [
    "### Parse pdf pages into images"
   ]
  },
  {
   "cell_type": "code",
   "execution_count": 7,
   "metadata": {},
   "outputs": [],
   "source": [
    "def parse_pages_ocr(file_path):\n",
    "    images = convert_from_path(file_path)[1:]\n",
    "    # parse each page\n",
    "    pages = []\n",
    "    for i, page in enumerate(images):\n",
    "        pages.append(pytesseract.image_to_string(page, lang='spa'))\n",
    "    return pages"
   ]
  },
  {
   "cell_type": "markdown",
   "metadata": {},
   "source": [
    "### Extract statement text from page text"
   ]
  },
  {
   "cell_type": "code",
   "execution_count": 8,
   "metadata": {},
   "outputs": [],
   "source": [
    "def extract_statement(page):\n",
    "    # split the content into lines\n",
    "    text = page.split('\\n')\n",
    "    # list to store the processed lines\n",
    "    final_text = []\n",
    "    # start from the 4th line\n",
    "    for line in text[4:]:\n",
    "        # stop at RESOLUCION\n",
    "        if line.startswith('RESOLUCIÓN'):\n",
    "            break\n",
    "        # add the line to final_text\n",
    "        else:\n",
    "            if not line == '':\n",
    "                final_text.append(line.strip())\n",
    "    # join the list into a single string\n",
    "    final_text = '\\n'.join(final_text)\n",
    "\n",
    "    return final_text"
   ]
  },
  {
   "cell_type": "markdown",
   "metadata": {},
   "source": [
    "### Extract exam datails from statement"
   ]
  },
  {
   "cell_type": "code",
   "execution_count": 9,
   "metadata": {},
   "outputs": [],
   "source": [
    "def extract_exam_details(statement):\n",
    "    # get last line with exam details\n",
    "    lines = [i for i in statement.split('\\n') if i != '']\n",
    "    exam_details = lines[-1]\n",
    "    # split the words by ' '\n",
    "    exam_details = exam_details.split(' ')\n",
    "    # strip whitespaces\n",
    "    exam_details = [i.replace('.', '').replace(',', '').strip() for i in exam_details]\n",
    "\n",
    "    # exam dictionary\n",
    "    exam_dict = {}\n",
    "\n",
    "    # fill dictionary with values\n",
    "    exam_dict['subject'] = exam_details[0].title()\n",
    "    exam_dict['year'] = int(exam_details[1])\n",
    "\n",
    "    # parse the exam string\n",
    "    if exam_details[2].startswith('RESERVA'):\n",
    "        exam_dict['exam'] = ' '.join(exam_details[2:4]).title()\n",
    "        exam_index_start = 4\n",
    "    else:\n",
    "        exam_dict['exam'] = exam_details[2].title()\n",
    "        exam_index_start = 3\n",
    "    \n",
    "    exam_dict['exercise'] = ' '.join(exam_details[exam_index_start:]).title()\n",
    "    \n",
    "    return exam_dict"
   ]
  },
  {
   "cell_type": "markdown",
   "metadata": {},
   "source": [
    "## Process the pdf files"
   ]
  },
  {
   "cell_type": "code",
   "execution_count": 10,
   "metadata": {},
   "outputs": [],
   "source": [
    "exercises_dict = {}"
   ]
  },
  {
   "cell_type": "code",
   "execution_count": 11,
   "metadata": {},
   "outputs": [],
   "source": [
    "def process(file, dict_ = exercises_dict):\n",
    "    \n",
    "    topic = file.stem.split(' - ')[-1]   \n",
    "    \n",
    "    # lists to store the values\n",
    "    subjects = []\n",
    "    years = []\n",
    "    exams = []\n",
    "    exercises = []\n",
    "    statements = []\n",
    "    pages = parse_pages_ocr(file)\n",
    "\n",
    "    try:\n",
    "        for index, page in enumerate(pages):\n",
    "            statement = extract_statement(page)\n",
    "            details = extract_exam_details(statement)\n",
    "            subjects.append(details['subject'])\n",
    "            years.append(details['year'])\n",
    "            exams.append(details['exam'])\n",
    "            exercises.append(details['exercise'])\n",
    "            statements.append(statement)\n",
    "        \n",
    "        print(f'Success parsing file: {file.stem}')\n",
    "    except:\n",
    "        # safe errors to log file\n",
    "        with open('errors.log', 'a') as f:\n",
    "            string = f'Error in {file.name} at page {index+2}.\\n'\n",
    "            f.write(string)\n",
    "            \n",
    "            print('\\n' + '*' * 10)\n",
    "            print(f'Error in {file.name} at page {index+2}')\n",
    "            print('*' * 10 + '\\n')\n",
    "            return\n",
    "\n",
    "    # generate the key and content for the exercises dictionary\n",
    "    key = details['subject'] + ' ' + str(details['year']) + ' ' + topic\n",
    "    dict_[key] = {\n",
    "        'subject' : subjects,\n",
    "        'year' : years,\n",
    "        'topic' : [topic] * len(subjects),\n",
    "        'exam' : exams,\n",
    "        'exercise' : exercises,\n",
    "        'statement' : statements\n",
    "    }"
   ]
  },
  {
   "cell_type": "markdown",
   "metadata": {},
   "source": [
    "## Save the parsed content into a dataframe"
   ]
  },
  {
   "cell_type": "code",
   "execution_count": 16,
   "metadata": {},
   "outputs": [
    {
     "data": {
      "text/plain": [
       "{'subject': [],\n",
       " 'year': [],\n",
       " 'topic': [],\n",
       " 'exam': [],\n",
       " 'exercise': [],\n",
       " 'statement': []}"
      ]
     },
     "execution_count": 16,
     "metadata": {},
     "output_type": "execute_result"
    }
   ],
   "source": [
    "# get dictionary keys from the first processed file\n",
    "#first_processed_file = list(exercises_dict.keys())[0]\n",
    "# create the dict from keys\n",
    "keys = ['subject', 'year', 'topic', 'exam', 'exercise', 'statement']\n",
    "#content = dict.fromkeys(exercises_dict[first_processed_file].keys())\n",
    "content = dict.fromkeys(keys)\n",
    "# fill the dict with empty lists\n",
    "for key in content.keys():\n",
    "    content[key] = []\n",
    "content"
   ]
  },
  {
   "cell_type": "code",
   "execution_count": 14,
   "metadata": {},
   "outputs": [],
   "source": [
    "folders = sorted( [i for i in Path.iterdir(Path('pdf_files'))] )"
   ]
  },
  {
   "cell_type": "code",
   "execution_count": 17,
   "metadata": {},
   "outputs": [],
   "source": [
    "exercises_dict = {}"
   ]
  },
  {
   "cell_type": "code",
   "execution_count": null,
   "metadata": {},
   "outputs": [
    {
     "name": "stdout",
     "output_type": "stream",
     "text": [
      "Success parsing file: 2000 - Cantidad Química\n",
      "Success parsing file: 2001 - Cantidad Química\n",
      "Success parsing file: 2002 - Cantidad Química\n",
      "Success parsing file: 2003 - Cantidad Química\n",
      "Success parsing file: 2004 - Cantidad Química\n",
      "Success parsing file: 2005 - Cantidad Química\n",
      "Success parsing file: 2006 - Cantidad Química\n",
      "Success parsing file: 2007 - Cantidad Química\n",
      "Success parsing file: 2008 - Cantidad Química\n",
      "Success parsing file: 2009 - Cantidad Química\n",
      "Success parsing file: 2010 - Cantidad Química\n",
      "Success parsing file: 2011 - Cantidad Química\n",
      "Success parsing file: 2012 - Cantidad Química\n",
      "Success parsing file: 2013 - Cantidad Química\n",
      "Success parsing file: 2014 - Cantidad Química\n",
      "Success parsing file: 2015 - Cantidad Química\n",
      "Success parsing file: 2000 - Conf. Electrónica\n",
      "Success parsing file: 2001 - Conf. Electrónica\n",
      "Success parsing file: 2002 - Conf. Electrónica\n",
      "Success parsing file: 2003 - Conf. Electrónica\n",
      "Success parsing file: 2004 - Conf. Electrónica\n",
      "Success parsing file: 2005 - Conf. Electrónica\n",
      "Success parsing file: 2006 - Conf. Electrónica\n",
      "Success parsing file: 2007 - Conf. Electrónica\n",
      "Success parsing file: 2008 - Conf. Electrónica\n",
      "Success parsing file: 2009 - Conf. Electrónica\n",
      "Success parsing file: 2010 - Conf. Electrónica\n",
      "Success parsing file: 2011 - Conf. Electrónica\n",
      "Success parsing file: 2012 - Conf. Electrónica\n",
      "Success parsing file: 2013 - Conf. Electrónica\n",
      "Success parsing file: 2014 - Conf. Electrónica\n",
      "Success parsing file: 2015 - Conf. Electrónica\n",
      "Success parsing file: 2016 - Conf. Electrónica\n",
      "Success parsing file: 2017 - Conf. Electrónica\n",
      "Success parsing file: 2018 - Conf. Electrónica\n",
      "Success parsing file: 2019 - Conf. Electrónica\n",
      "Success parsing file: 2020 - Conf. Electrónica\n",
      "Success parsing file: 2021 - Conf. Electrónica\n",
      "Success parsing file: 2022 - Conf. Electrónica\n",
      "Success parsing file: 2023 - Conf. Electrónica\n",
      "Success parsing file: 2024 - Conf. Electrónica\n",
      "Success parsing file: 2000 - Enlace Químico\n",
      "Success parsing file: 2001 - Enlace Químico\n",
      "Success parsing file: 2002 - Enlace Químico\n",
      "Success parsing file: 2003 - Enlace Químico\n",
      "Success parsing file: 2004 - Enlace Químico\n",
      "Success parsing file: 2005 - Enlace Químico\n",
      "Success parsing file: 2006 - Enlace Químico\n",
      "Success parsing file: 2007 - Enlace Químico\n",
      "Success parsing file: 2008 - Enlace Químico\n",
      "Success parsing file: 2009 - Enlace Químico\n",
      "Success parsing file: 2010 - Enlace Químico\n",
      "Success parsing file: 2011 - Enlace Químico\n",
      "Success parsing file: 2012 - Enlace Químico\n",
      "Success parsing file: 2013 - Enlace Químico\n",
      "Success parsing file: 2014 - Enlace Químico\n",
      "Success parsing file: 2015 - Enlace Químico\n",
      "Success parsing file: 2016 - Enlace Químico\n",
      "Success parsing file: 2017 - Enlace Químico\n",
      "Success parsing file: 2018 - Enlace Químico\n",
      "Success parsing file: 2019 - Enlace Químico\n",
      "Success parsing file: 2020 - Enlace Químico\n",
      "\n",
      "**********\n",
      "Error in 2021 - Enlace Químico.pdf at page 3\n",
      "**********\n",
      "\n",
      "Success parsing file: 2022 - Enlace Químico\n",
      "Success parsing file: 2023 - Enlace Químico\n",
      "Success parsing file: 2024 - Enlace Químico\n",
      "Success parsing file: 2000 - Equilibrio Químico\n",
      "Success parsing file: 2001 - Equilibrio Químico\n",
      "Success parsing file: 2002 - Equilibrio Químico\n",
      "Success parsing file: 2003 - Equilibrio Químico\n",
      "Success parsing file: 2004 - Equilibrio Químico\n",
      "Success parsing file: 2005 - Equilibrio Químico\n",
      "Success parsing file: 2006 - Equilibrio Químico\n",
      "Success parsing file: 2007 - Equilibrio Químico\n",
      "Success parsing file: 2008 - Equilibrio Químico\n",
      "Success parsing file: 2009 - Equilibrio Químico\n",
      "Success parsing file: 2010 - Equilibrio Químico\n",
      "Success parsing file: 2011 - Equilibrio Químico\n",
      "Success parsing file: 2012 - Equilibrio Químico\n",
      "Success parsing file: 2013 - Equilibrio Químico\n",
      "Success parsing file: 2014 - Equilibrio Químico\n",
      "Success parsing file: 2015 - Equilibrio Químico\n",
      "Success parsing file: 2016 - Equilibrio Químico\n",
      "Success parsing file: 2017 - Equilibrio Químico\n",
      "Success parsing file: 2018 - Equilibrio Químico\n",
      "Success parsing file: 2019 - Equilibrio Químico\n",
      "Success parsing file: 2020 - Equilibrio Químico\n",
      "Success parsing file: 2021 - Equilibrio Químico\n",
      "Success parsing file: 2022 - Equilibrio Químico\n",
      "Success parsing file: 2023 - Equilibrio Químico\n",
      "Success parsing file: 2024 - Equilibrio Químico\n",
      "\n",
      "**********\n",
      "Error in 2000 - Formulación.pdf at page 2\n",
      "**********\n",
      "\n",
      "Success parsing file: 2001 - Formulación\n",
      "Success parsing file: 2002 - Formulación\n",
      "Success parsing file: 2003 - Formulación\n",
      "Success parsing file: 2004 - Formulación\n",
      "Success parsing file: 2005 - Formulación\n",
      "Success parsing file: 2006 - Formulación\n",
      "Success parsing file: 2007 - Formulación\n",
      "Success parsing file: 2008 - Formulación\n",
      "Success parsing file: 2009 - Formulación\n",
      "Success parsing file: 2010 - Formulación\n",
      "Success parsing file: 2011 - Formulación\n",
      "Success parsing file: 2012 - Formulación\n",
      "Success parsing file: 2013 - Formulación\n",
      "Success parsing file: 2014 - Formulación\n",
      "Success parsing file: 2015 - Formulación\n",
      "Success parsing file: 2016 - Formulación\n",
      "Success parsing file: 2017 - Formulación\n",
      "Success parsing file: 2018 - Formulación\n",
      "Success parsing file: 2019 - Formulación\n",
      "Success parsing file: 2020 - Formulación\n",
      "Success parsing file: 2021 - Formulación\n",
      "\n",
      "**********\n",
      "Error in 2022 - Formulación.pdf at page 9\n",
      "**********\n",
      "\n",
      "Success parsing file: 2023 - Formulación\n",
      "Success parsing file: 2024 - Formulación\n",
      "Success parsing file: 2000 - Redox\n",
      "Success parsing file: 2001 - Redox\n",
      "Success parsing file: 2002 - Redox\n",
      "Success parsing file: 2003 - Redox\n",
      "Success parsing file: 2004 - Redox\n",
      "Success parsing file: 2005 - Redox\n",
      "Success parsing file: 2006 - Redox\n",
      "Success parsing file: 2007 - Redox\n",
      "Success parsing file: 2008 - Redox\n",
      "Success parsing file: 2009 - Redox\n",
      "Success parsing file: 2010 - Redox\n",
      "Success parsing file: 2011 - Redox\n",
      "Success parsing file: 2012 - Redox\n",
      "Success parsing file: 2013 - Redox\n",
      "Success parsing file: 2014 - Redox\n",
      "Success parsing file: 2015 - Redox\n",
      "Success parsing file: 2016 - Redox\n",
      "Success parsing file: 2017 - Redox\n",
      "Success parsing file: 2018 - Redox\n",
      "Success parsing file: 2019 - Redox\n",
      "Success parsing file: 2020 - Redox\n",
      "Success parsing file: 2021 - Redox\n",
      "Success parsing file: 2022 - Redox\n",
      "Success parsing file: 2023 - Redox\n",
      "Success parsing file: 2024 - Redox\n",
      "Success parsing file: 2000 - Reactividad Orgánica\n",
      "Success parsing file: 2001 - Reactividad Orgánica\n",
      "Success parsing file: 2002 - Reactividad Orgánica\n",
      "Success parsing file: 2003 - Reactividad Orgánica\n",
      "Success parsing file: 2004 - Reactividad Orgánica\n",
      "Success parsing file: 2005 - Reactividad Orgánica\n",
      "Success parsing file: 2006 - Reactividad Orgánica\n",
      "Success parsing file: 2007 - Reactividad Orgánica\n",
      "Success parsing file: 2008 - Reactividad Orgánica\n",
      "Success parsing file: 2009 - Reactividad Orgánica\n",
      "Success parsing file: 2010 - Reactividad Orgánica\n",
      "Success parsing file: 2011 - Reactividad Orgánica\n",
      "Success parsing file: 2012 - Reactividad Orgánica\n",
      "Success parsing file: 2013 - Reactividad Orgánica\n",
      "Success parsing file: 2014 - Reactividad Orgánica\n",
      "Success parsing file: 2015 - Reactividad Orgánica\n",
      "Success parsing file: 2016 - Reactividad Orgánica\n",
      "Success parsing file: 2017 - Reactividad Orgánica\n",
      "Success parsing file: 2018 - Reactividad Orgánica\n",
      "Success parsing file: 2019 - Reactividad Orgánica\n",
      "Success parsing file: 2020 - Reactividad Orgánica\n",
      "Success parsing file: 2021 - Reactividad Orgánica\n",
      "Success parsing file: 2022 - Reactividad Orgánica\n",
      "Success parsing file: 2023 - Reactividad Orgánica\n",
      "Success parsing file: 2024 - Reactividad Orgánica\n",
      "Success parsing file: 2000 - Solubilidad\n",
      "Success parsing file: 2001 - Solubilidad\n",
      "Success parsing file: 2002 - Solubilidad\n",
      "Success parsing file: 2010 - Solubilidad\n",
      "Success parsing file: 2011 - Solubilidad\n",
      "Success parsing file: 2012 - Solubilidad\n",
      "Success parsing file: 2013 - Solubilidad\n",
      "Success parsing file: 2014 - Solubilidad\n",
      "Success parsing file: 2015 - Solubilidad\n",
      "Success parsing file: 2016 - Solubilidad\n",
      "Success parsing file: 2017 - Solubilidad\n",
      "Success parsing file: 2018 - Solubilidad\n",
      "Success parsing file: 2019 - Solubilidad\n",
      "Success parsing file: 2020 - Solubilidad\n",
      "Success parsing file: 2021 - Solubilidad\n",
      "Success parsing file: 2022 - Solubilidad\n",
      "Success parsing file: 2023 - Solubilidad\n",
      "Success parsing file: 2024 - Solubilidad\n",
      "Success parsing file: 2000 - Termoquímica\n",
      "Success parsing file: 2001 - Termoquímica\n",
      "Success parsing file: 2002 - Termoquímica\n",
      "Success parsing file: 2003 - Termoquímica\n",
      "Success parsing file: 2004 - Termoquímica\n",
      "Success parsing file: 2005 - Termoquímica\n",
      "Success parsing file: 2006 - Termoquímica\n",
      "Success parsing file: 2007 - Termoquímica\n",
      "Success parsing file: 2008 - Termoquímica\n",
      "Success parsing file: 2009 - Termoquímica\n",
      "Success parsing file: 2010 - Termoquímica\n",
      "Success parsing file: 2011 - Termoquímica\n",
      "Success parsing file: 2012 - Termoquímica\n",
      "Success parsing file: 2013 - Termoquímica\n",
      "Success parsing file: 2014 - Termoquímica\n",
      "Success parsing file: 2015 - Termoquímica\n",
      "Success parsing file: 2016 - Termoquímica\n",
      "Success parsing file: 2024 - Termoquímica\n",
      "Success parsing file: 2000 - Ácido Base\n",
      "Success parsing file: 2001 - Ácido Base\n",
      "Success parsing file: 2002 - Ácido Base\n",
      "Success parsing file: 2003 - Ácido Base\n",
      "Success parsing file: 2004 - Ácido Base\n",
      "Success parsing file: 2005 - Ácido Base\n",
      "Success parsing file: 2006 - Ácido Base\n",
      "Success parsing file: 2007 - Ácido Base\n"
     ]
    }
   ],
   "source": [
    "for folder in folders:\n",
    "    files = sorted( [i for i in Path.iterdir(folder) if i.suffix == '.pdf'] )\n",
    "    for file in files:\n",
    "        process(file, dict_= exercises_dict)\n",
    "        # each year contains a dictionary with keys containing lists of values\n",
    "        for year, dict_ in exercises_dict.items():\n",
    "            # loop through the dictionary\n",
    "            for key, value in dict_.items():\n",
    "                content[key].extend(value)"
   ]
  },
  {
   "cell_type": "markdown",
   "metadata": {},
   "source": [
    "Extract values from the dictionary for each subject/year/topic file\n"
   ]
  },
  {
   "cell_type": "code",
   "execution_count": null,
   "metadata": {},
   "outputs": [],
   "source": [
    "# each year contains a dictionary with keys containing lists of values\n",
    "for year, dict_ in exercises_dict.items():\n",
    "    # loop through the dictionary\n",
    "    for key, value in dict_.items():\n",
    "        content[key].extend(value)"
   ]
  },
  {
   "cell_type": "markdown",
   "metadata": {},
   "source": [
    "Create the pandas dataframe"
   ]
  },
  {
   "cell_type": "code",
   "execution_count": null,
   "metadata": {},
   "outputs": [],
   "source": [
    "df = pd.DataFrame(content)"
   ]
  },
  {
   "cell_type": "code",
   "execution_count": null,
   "metadata": {},
   "outputs": [],
   "source": [
    "df.shape"
   ]
  },
  {
   "cell_type": "code",
   "execution_count": null,
   "metadata": {},
   "outputs": [],
   "source": [
    "df.sample(5)"
   ]
  },
  {
   "cell_type": "code",
   "execution_count": null,
   "metadata": {},
   "outputs": [],
   "source": [
    "# correct wrong subjects\n",
    "df.subject = df.subject.apply(lambda x: 'Química' if x.endswith('mica') else x)"
   ]
  },
  {
   "cell_type": "markdown",
   "metadata": {},
   "source": [
    "## Export `exercises` to csv"
   ]
  },
  {
   "cell_type": "code",
   "execution_count": null,
   "metadata": {},
   "outputs": [],
   "source": [
    "for subject in df['subject'].unique():\n",
    "    df[df['subject'] == subject].to_csv(f'exercises_{subject}.csv', index=False)"
   ]
  }
 ],
 "metadata": {
  "kernelspec": {
   "display_name": "Python 3",
   "language": "python",
   "name": "python3"
  },
  "language_info": {
   "codemirror_mode": {
    "name": "ipython",
    "version": 3
   },
   "file_extension": ".py",
   "mimetype": "text/x-python",
   "name": "python",
   "nbconvert_exporter": "python",
   "pygments_lexer": "ipython3",
   "version": "3.12.1"
  }
 },
 "nbformat": 4,
 "nbformat_minor": 2
}
