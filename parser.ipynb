{
 "cells": [
  {
   "cell_type": "markdown",
   "metadata": {},
   "source": [
    "# Selectividad Exams Parser"
   ]
  },
  {
   "cell_type": "markdown",
   "metadata": {},
   "source": [
    "## Libraries import"
   ]
  },
  {
   "cell_type": "markdown",
   "metadata": {},
   "source": [
    "### Required packages for OCR processing:\n",
    "**Ubuntu based:**\n",
    "- tesseract-ocr\n",
    "- tesseract-ocr-spa\n",
    "- poppler-utils\n",
    "\n",
    "**Archlinux based:**\n",
    "- tesseract\n",
    "- tesseract-data-spa"
   ]
  },
  {
   "cell_type": "code",
   "execution_count": 1,
   "metadata": {},
   "outputs": [],
   "source": [
    "# !pip install pdf2image\n",
    "# !pip install pytesseract"
   ]
  },
  {
   "cell_type": "code",
   "execution_count": 2,
   "metadata": {},
   "outputs": [],
   "source": [
    "from pdf2image import convert_from_path\n",
    "import pytesseract\n",
    "import pandas as pd\n",
    "from pathlib import Path\n",
    "from multiprocessing import Pool\n",
    "import os\n",
    "import requests\n",
    "from datetime import datetime"
   ]
  },
  {
   "cell_type": "markdown",
   "metadata": {},
   "source": [
    "## Functions"
   ]
  },
  {
   "cell_type": "markdown",
   "metadata": {},
   "source": [
    "### Telegram bot\n",
    "\n",
    "Function to generate messages to a telegram bot"
   ]
  },
  {
   "cell_type": "code",
   "execution_count": 3,
   "metadata": {},
   "outputs": [],
   "source": [
    "# Replace with your bot's token and chat ID\n",
    "from bot_credentials import *\n",
    "\n",
    "def send_telegram_message(message):\n",
    "    url = f\"https://api.telegram.org/bot{BOT_TOKEN}/sendMessage\"\n",
    "    params = {\"chat_id\": CHAT_ID, \"text\": message}\n",
    "    response = requests.get(url, params=params)\n",
    "    return response.json()"
   ]
  },
  {
   "cell_type": "markdown",
   "metadata": {},
   "source": [
    "### *pdf_to_text*\n",
    "\n",
    "Extract the text from pdf files, page by page"
   ]
  },
  {
   "cell_type": "code",
   "execution_count": 4,
   "metadata": {},
   "outputs": [],
   "source": [
    "def pdf_to_text(file_path):\n",
    "    \"\"\"\n",
    "    Processes a single PDF file to extract exam information and statements.\n",
    "\n",
    "    Args:\n",
    "        file (Path): A Path object representing the PDF file to be processed.\n",
    "    \n",
    "    Returns:\n",
    "        dict: A dictionary containing the extracted information with the following structure:\n",
    "            {\n",
    "                \"key\": {\n",
    "                    \"subject\": list of subjects,\n",
    "                    \"year\": list of years,\n",
    "                    \"topic\": list of topics,\n",
    "                    \"exam\": list of exams,\n",
    "                    \"exercise\": list of exercises,\n",
    "                    \"statement\": list of statements\n",
    "                }\n",
    "            }\n",
    "\n",
    "    Workflow:\n",
    "        1. Extracts the topic from the file name.\n",
    "        2. Converts the PDF file into text, page by page.\n",
    "        3. For each page:\n",
    "            - Extracts the statement using the `extract_statement` function.\n",
    "            - Extracts exam details using the `extract_exam_details` function.\n",
    "            - Handles errors by logging them using `generate_error_log`.\n",
    "        4. Aggregates the extracted information into lists for subjects, years, topics, exams, exercises, and statements.\n",
    "        5. Returns a dictionary with the extracted data.\n",
    "\n",
    "    Notes:\n",
    "        - Logs errors to a file if there are issues with extracting statements or exam details.\n",
    "        - Skips pages with errors and continues processing the remaining pages.\n",
    "    \"\"\"\n",
    "    images = convert_from_path(file_path)[1:]\n",
    "    # parse each page\n",
    "    pages = []\n",
    "    for i, page in enumerate(images):\n",
    "        pages.append(pytesseract.image_to_string(page, lang='spa'))\n",
    "    return pages"
   ]
  },
  {
   "cell_type": "markdown",
   "metadata": {},
   "source": [
    "### *extract_statement*\n",
    "Extract the statement from a page in text format"
   ]
  },
  {
   "cell_type": "code",
   "execution_count": 5,
   "metadata": {},
   "outputs": [],
   "source": [
    "def extract_statement(page):\n",
    "    # split the content into lines\n",
    "    text = page.split('\\n')\n",
    "\n",
    "    # list to store the processed lines\n",
    "    final_text = []\n",
    "    # start from the 4th line\n",
    "    for line in text[4:]:\n",
    "\n",
    "        # check the first word of the line\n",
    "        first_word = line.replace('.', '').split(' ')[0].strip().upper()\n",
    "\n",
    "        # stop at examen details line\n",
    "        if first_word in ['SOCIALES', 'FISICA', 'MATES',\n",
    "                          'QUÍMICA', 'QUIMICA', 'QUIÍMICA']:\n",
    "            final_text.append(line.strip())\n",
    "            break\n",
    "        \n",
    "        # add the line to final_text\n",
    "        else:\n",
    "            if not line == '':\n",
    "                final_text.append(line.strip())\n",
    "\n",
    "    # join the list into a single string\n",
    "    final_text = '\\n'.join(final_text)\n",
    "\n",
    "    return final_text"
   ]
  },
  {
   "cell_type": "code",
   "execution_count": 6,
   "metadata": {},
   "outputs": [
    {
     "data": {
      "text/plain": [
       "True"
      ]
     },
     "execution_count": 6,
     "metadata": {},
     "output_type": "execute_result"
    }
   ],
   "source": [
    "'a' in ['a', 'b']"
   ]
  },
  {
   "cell_type": "markdown",
   "metadata": {},
   "source": [
    "### *extract_exam_details*\n",
    "Extract the exam details, like subject, year, exam and exercise number."
   ]
  },
  {
   "cell_type": "code",
   "execution_count": 7,
   "metadata": {},
   "outputs": [],
   "source": [
    "def extract_exam_details(statement):\n",
    "    # get last line with exam details\n",
    "    lines = [i for i in statement.split('\\n') if i != '']\n",
    "    exam_details = lines[-1].lower()\n",
    "\n",
    "    # strip whitespaces\n",
    "    exam_details = (exam_details.replace('.', '')            \n",
    "                    .replace(',', '')\n",
    "                    .replace('(', '')\n",
    "                    .replace(')', '').strip()\n",
    "    )\n",
    "    \n",
    "    # split the words by ' '\n",
    "    exam_details = exam_details.split(' ')\n",
    "\n",
    "    # MATES CCSS\n",
    "    # SOCIALES II. 2017 JUNIO. EJERCICIO 2. OPCIÓN A\n",
    "    # \n",
    "    if exam_details[0].startswith('sociales'):\n",
    "        exam_details[0] = 'MATES_CCSS'\n",
    "        # remove the second element in the list\n",
    "        del exam_details[1]\n",
    "    \n",
    "       \n",
    "    # exam dictionary\n",
    "    details = ['subject', 'year', 'exam', 'exercise']\n",
    "    exam_dict = dict.fromkeys(details)\n",
    "    exam_dict = {k:None for k in details}\n",
    "\n",
    "    ## fill dictionary with values\n",
    "    \n",
    "    # subject\n",
    "    exam_dict['subject'] = exam_details[0]\n",
    "    \n",
    "    # year\n",
    "    # SOCIALES II. PONENCIA 2009. EJERCICIO 2\n",
    "    if exam_details[1] == 'ponencia':\n",
    "        # switch ponencia and year\n",
    "        exam_details[1], exam_details[2] = exam_details[2], exam_details[1]\n",
    "\n",
    "    exam_dict['year'] = int(exam_details[1])\n",
    "\n",
    "    # parse the exam string\n",
    "    if exam_details[2].startswith('reserva'):\n",
    "        exam_dict['exam'] = ' '.join(exam_details[2:4]).title()\n",
    "        exam_index_start = 4\n",
    "    else:\n",
    "        exam_dict['exam'] = exam_details[2].title()\n",
    "        exam_index_start = 3\n",
    "    \n",
    "    exam_dict['exercise'] = ' '.join(exam_details[exam_index_start:]).title()\n",
    "\n",
    "    \n",
    "    return exam_dict"
   ]
  },
  {
   "cell_type": "markdown",
   "metadata": {},
   "source": [
    "### *time*\n",
    "Function to measure the time taken to process the files"
   ]
  },
  {
   "cell_type": "code",
   "execution_count": 8,
   "metadata": {},
   "outputs": [],
   "source": [
    "import time\n",
    "def what_time():\n",
    "    now = time.localtime()\n",
    "    time_formated = time.strftime(\"%H:%M:%S on %Y-%m-%d \", now)\n",
    "    return now, time_formated\n",
    "\n",
    "def elapsed_time_minutes(start, end):\n",
    "    start_seconds = time.mktime(start)\n",
    "    end_seconds = time.mktime(end)\n",
    "    return (end_seconds - start_seconds) / 60"
   ]
  },
  {
   "cell_type": "markdown",
   "metadata": {},
   "source": [
    "### *generate_error_log*\n",
    "generate a error log and add it to errors_timestamp.log file"
   ]
  },
  {
   "cell_type": "code",
   "execution_count": 9,
   "metadata": {},
   "outputs": [],
   "source": [
    "def generate_error_log(file, page, error_type, statement = None, details = None):\n",
    "    log = f'Error processing {error_type}, in {file.name} at page {page+2}\\n'\n",
    "    \n",
    "    # add timestamp to log file\n",
    "    current_datetime = datetime.now()\n",
    "    formatted_dt = current_datetime.strftime(\"%d-%m-%Y\")\n",
    "    with open(f'./error_logs/errors_{formatted_dt}.log', 'a') as f:\n",
    "        f.write(log)\n",
    "        f.write('*' * 10 + '\\n')\n",
    "        if statement:\n",
    "            f.write(f'{statement}\\n')\n",
    "        elif details:\n",
    "            f.write(f'{details}\\n')\n",
    "        f.write('*' * 10 + '\\n')\n",
    "    \n",
    "    # print log to console without the new line\n",
    "    print(log[:-2])"
   ]
  },
  {
   "cell_type": "markdown",
   "metadata": {},
   "source": [
    "### *add_row*\n",
    "Manually add a row to the processed exercises"
   ]
  },
  {
   "cell_type": "code",
   "execution_count": 10,
   "metadata": {},
   "outputs": [],
   "source": [
    "def add_row(df, statement, exam_details):\n",
    "    \n",
    "    row = extract_exam_details(exam_details)\n",
    "    row['statement'] = statement\n",
    "\n",
    "    return pd.concat([df, pd.DataFrame(row, columns = df.columns, index = [0])], axis = 0)"
   ]
  },
  {
   "cell_type": "markdown",
   "metadata": {},
   "source": [
    "### *process_file*\n",
    "Process a pdf files, extracting its information: statement and exam information "
   ]
  },
  {
   "cell_type": "code",
   "execution_count": null,
   "metadata": {},
   "outputs": [],
   "source": [
    "def process_file(file: str) -> dict:\n",
    "    exercises_dict = {}\n",
    "    file = Path(file)\n",
    "    topic = file.stem.split(' - ')[-1]   \n",
    "    \n",
    "    # lists to store the values\n",
    "    subjects = []\n",
    "    years = []\n",
    "    exams = []\n",
    "    exercises = []\n",
    "    statements = []\n",
    "    pages = pdf_to_text(file)\n",
    "\n",
    "    # parse each page in the pdf file\n",
    "\n",
    "    output = f'Success parsing file: {file.stem}'\n",
    "    \n",
    "    for index, page in enumerate(pages):\n",
    "\n",
    "        # extract statement from page\n",
    "        try:\n",
    "            statement = extract_statement(page)\n",
    "        # error with extracting statement\n",
    "        except:\n",
    "            for line in statement.split('\\n'):\n",
    "                if line.startswith('www.emestrada.org'):\n",
    "                    continue\n",
    "            generate_error_log(file = file, page = index, error_type= 'statement', statement=page)\n",
    "            continue\n",
    "\n",
    "        # extract exam details\n",
    "        try:\n",
    "            details = extract_exam_details(statement)\n",
    "            subjects.append(details['subject'])\n",
    "            years.append(details['year'])\n",
    "            exams.append(details['exam'])\n",
    "            exercises.append(details['exercise'])\n",
    "            statements.append(statement)\n",
    "        # error with extracting details\n",
    "        except:\n",
    "            # pages ending with www.emestrada.org are pages with solution to exercise\n",
    "            if not statement.endswith('www.emestrada.org'):\n",
    "                generate_error_log(file = file, page = index, error_type= 'details', details = statement)\n",
    "                output = f'File {file.stem} parsed but with errors'\n",
    "            continue\n",
    "        \n",
    "    print(output)\n",
    "\n",
    "    # generate the key and content for the exercises dictionary\n",
    "    if details:\n",
    "        key = details['subject'] + ' ' + str(details['year']) + ' ' + topic\n",
    "        exercises_dict[key] = {\n",
    "            'subject' : subjects,\n",
    "            'year' : years,\n",
    "            'topic' : [topic] * len(subjects),\n",
    "            'exam' : exams,\n",
    "            'exercise' : exercises,\n",
    "            'statement' : statements\n",
    "        }\n",
    "        return exercises_dict"
   ]
  },
  {
   "cell_type": "markdown",
   "metadata": {},
   "source": [
    "### *create_content_dict*\n",
    "Creates a python dictionary with the exam details and its statement"
   ]
  },
  {
   "cell_type": "code",
   "execution_count": 12,
   "metadata": {},
   "outputs": [],
   "source": [
    "def create_content_dict():\n",
    "    # create the dict from keys\n",
    "    keys = ['subject', 'year', 'topic', 'exam', 'exercise', 'statement']\n",
    "    #content = dict.fromkeys(exercises_dict[first_processed_file].keys())\n",
    "    content = dict.fromkeys(keys)\n",
    "    # fill the dict with empty lists\n",
    "    for key in content.keys():\n",
    "        content[key] = []\n",
    "\n",
    "    return content"
   ]
  },
  {
   "cell_type": "markdown",
   "metadata": {},
   "source": [
    "### *process_folder*\n",
    "Processes all files within a folder"
   ]
  },
  {
   "cell_type": "code",
   "execution_count": 13,
   "metadata": {},
   "outputs": [],
   "source": [
    "def process_folder(folder:str, csv_file:str = None, return_df: bool = False) -> pd.DataFrame:\n",
    "    df = pd.DataFrame()\n",
    "    \n",
    "    # get the list of pdf files within the folder\n",
    "    folder_Path = Path(folder)\n",
    "    files = sorted( [i for i in Path.iterdir(folder_Path)\n",
    "                        if i.suffix == '.pdf'] )\n",
    "    \n",
    "    # process each pdf file to extract its information\n",
    "    for file in files:\n",
    "        try:\n",
    "            exercises_dict = process_file(file)\n",
    "            # each year contains a dictionary with keys containing lists of values\n",
    "            for year, dict_ in exercises_dict.items():\n",
    "                df = pd.concat([df, pd.DataFrame(dict_)], axis = 0)\n",
    "\n",
    "        except:\n",
    "            pass\n",
    "        \n",
    "    # correct wrong subjects\n",
    "    #df.subject = df.subject.apply(lambda x: 'Química'\n",
    "    #                                if x.endswith('mica') else x)\n",
    "    \n",
    "    # export the output of the processed pdf files to a csv file\n",
    "    if csv_file:  # if a file name is provided\n",
    "        output_file = f'./csv/{csv_file}.csv'\n",
    "    else:\n",
    "        output_file = f'./csv/exercises_{folder_Path.stem}.csv'\n",
    "    \n",
    "    df.to_csv(output_file, index=False)\n",
    "\n",
    "    if return_df:\n",
    "        return df"
   ]
  },
  {
   "cell_type": "markdown",
   "metadata": {},
   "source": [
    "## Process pdf files"
   ]
  },
  {
   "cell_type": "code",
   "execution_count": 14,
   "metadata": {},
   "outputs": [
    {
     "data": {
      "text/plain": [
       "[PosixPath('pdf_files/FISICA'),\n",
       " PosixPath('pdf_files/MATES_CCSS'),\n",
       " PosixPath('pdf_files/QUIMICA')]"
      ]
     },
     "execution_count": 14,
     "metadata": {},
     "output_type": "execute_result"
    }
   ],
   "source": [
    "folders = sorted([i for i in Path('./pdf_files/').iterdir() if i.is_dir()])\n",
    "folders = folders[:-1]\n",
    "folders"
   ]
  },
  {
   "cell_type": "code",
   "execution_count": null,
   "metadata": {},
   "outputs": [],
   "source": [
    "def process_all_files_in_folder(folder:str) -> None:\n",
    "    start, start_formatted = what_time()\n",
    "    send_telegram_message(f'Parsing process started at: {start_formatted}')\n",
    "\n",
    "    subject_df = pd.DataFrame()\n",
    "    folder = Path(folder)\n",
    "    subfolders = sorted(folder.iterdir())\n",
    "    for subfolder in subfolders:\n",
    "        try:\n",
    "            \n",
    "            topic_df = process_folder(subfolder, return_df = True)\n",
    "            print(f'Success processing folder: {subfolder.stem}')\n",
    "            send_telegram_message(f'Success processing folder: {folder.stem}')\n",
    "            subject_df = pd.concat([subject_df, topic_df], axis = 0)\n",
    "            \n",
    "        except Exception as e:\n",
    "            send_telegram_message(f'Error processing folder: {subfolder.stem}' \\\n",
    "                                f'\\n{e}')\n",
    "    \n",
    "    return subject_df\n",
    "\n",
    "    end, end_formatted = what_time()\n",
    "\n",
    "    send_telegram_message(f'Parsing process finished at: {end_formatted}'\\\n",
    "                        f'\\nTime elapsed in minutes: {elapsed_time_minutes(start, end)}')\n",
    "    send_telegram_message('✅ Your files have been processed!')"
   ]
  },
  {
   "cell_type": "code",
   "execution_count": null,
   "metadata": {},
   "outputs": [],
   "source": [
    "# QUIMICA_df = process_all_files_in_folder('./pdf_files/QUIMICA')"
   ]
  },
  {
   "cell_type": "code",
   "execution_count": null,
   "metadata": {},
   "outputs": [],
   "source": [
    "# for col in QUIMICA_df.columns[:-1]:\n",
    "#     print(f'{col}: {QUIMICA_df[col].unique()}')"
   ]
  },
  {
   "cell_type": "code",
   "execution_count": null,
   "metadata": {},
   "outputs": [],
   "source": [
    "# df.to_csv('./csv/QUIMICA.csv', index=False)"
   ]
  },
  {
   "cell_type": "markdown",
   "metadata": {},
   "source": [
    "## Testing"
   ]
  },
  {
   "cell_type": "markdown",
   "metadata": {},
   "source": [
    "### Get random files to test parsing"
   ]
  },
  {
   "cell_type": "code",
   "execution_count": null,
   "metadata": {},
   "outputs": [],
   "source": [
    "from numpy.random import choice, seed"
   ]
  },
  {
   "cell_type": "code",
   "execution_count": null,
   "metadata": {},
   "outputs": [],
   "source": [
    "def sample_topics(files_per_folder:int = 5) -> list:\n",
    "    sample_files = []\n",
    "    seed(42)\n",
    "    subjects = sorted([i for i in Path('./pdf_files/').iterdir() if i.is_dir()])\n",
    "    # remove samples folder\n",
    "    subjects = subjects[:-1]\n",
    "\n",
    "    sample_files = []\n",
    "    for s in subjects:\n",
    "        for subfolder in s.iterdir():\n",
    "            print(f'Processing {subfolder.stem}')\n",
    "            files = list(subfolder.glob('**/*.pdf'))\n",
    "            sample_files.extend(choice(files, files_per_folder, replace = False))  \n",
    "\n",
    "    print(f'{len(sample_files)} files sampled')\n",
    "\n",
    "    return sample_files \n",
    "    "
   ]
  },
  {
   "cell_type": "code",
   "execution_count": null,
   "metadata": {},
   "outputs": [],
   "source": [
    "def sample_subjects(files_per_folder:int = 3) -> list:\n",
    "    sample_files = []\n",
    "    seed(42)\n",
    "\n",
    "    for f in folders:\n",
    "        \n",
    "        files = list(f.glob(\"**/*.pdf\"))\n",
    "        sample_files.extend(choice(files,files_per_folder, replace=False))\n",
    "\n",
    "    print(f'Files selected: {len(sample_files)}')\n",
    "    \n",
    "    return sorted(sample_files)    "
   ]
  },
  {
   "cell_type": "code",
   "execution_count": null,
   "metadata": {},
   "outputs": [],
   "source": [
    "sample_files = sample_subjects(5)"
   ]
  },
  {
   "cell_type": "code",
   "execution_count": null,
   "metadata": {},
   "outputs": [],
   "source": [
    "sample_files = sample_topics(2)"
   ]
  },
  {
   "cell_type": "markdown",
   "metadata": {},
   "source": [
    "### Save the sample files into folder"
   ]
  },
  {
   "cell_type": "code",
   "execution_count": null,
   "metadata": {},
   "outputs": [],
   "source": [
    "import shutil"
   ]
  },
  {
   "cell_type": "code",
   "execution_count": null,
   "metadata": {},
   "outputs": [],
   "source": [
    "os.makedirs('pdf_files/sample_files', exist_ok=True)"
   ]
  },
  {
   "cell_type": "code",
   "execution_count": null,
   "metadata": {},
   "outputs": [],
   "source": [
    "for file in sample_files:\n",
    "    shutil.copy(file, f'pdf_files/sample_files/')"
   ]
  },
  {
   "cell_type": "markdown",
   "metadata": {},
   "source": [
    "### Process the sample files "
   ]
  },
  {
   "cell_type": "code",
   "execution_count": null,
   "metadata": {},
   "outputs": [],
   "source": [
    "df = process_folder('pdf_files/sample_files')"
   ]
  },
  {
   "cell_type": "code",
   "execution_count": null,
   "metadata": {},
   "outputs": [],
   "source": [
    "df"
   ]
  },
  {
   "cell_type": "code",
   "execution_count": null,
   "metadata": {},
   "outputs": [],
   "source": [
    "for col in df.columns[:-1]:\n",
    "    print(f'{col}: {df[col].unique()}')"
   ]
  },
  {
   "cell_type": "code",
   "execution_count": null,
   "metadata": {},
   "outputs": [],
   "source": [
    "pages = pdf_to_text('pdf_files/folder/2003 - Conf. Electrónica.pdf')"
   ]
  },
  {
   "cell_type": "code",
   "execution_count": null,
   "metadata": {},
   "outputs": [],
   "source": [
    "st = extract_statement(pages[0])\n",
    "print(st)"
   ]
  },
  {
   "cell_type": "code",
   "execution_count": null,
   "metadata": {},
   "outputs": [],
   "source": [
    "extract_exam_details(st)"
   ]
  },
  {
   "cell_type": "code",
   "execution_count": null,
   "metadata": {},
   "outputs": [],
   "source": [
    "df = pd.read_csv('csv/exercises_sample_files.csv')"
   ]
  },
  {
   "cell_type": "markdown",
   "metadata": {},
   "source": [
    "## Check processing of files"
   ]
  },
  {
   "cell_type": "markdown",
   "metadata": {},
   "source": [
    "1. Create path to file to process\n",
    "2. Use `pdf_to_text` to process the pdf file. Store output in `pages`\n",
    "3. Extract statement using `extract_statement`"
   ]
  },
  {
   "cell_type": "code",
   "execution_count": null,
   "metadata": {},
   "outputs": [],
   "source": [
    "file = Path('pdf_files/MATES_CCSS/Contraste de Hipótesis/2016 - Contraste De Hipótesis.pdf')\n",
    "pages = pdf_to_text(file)"
   ]
  },
  {
   "cell_type": "code",
   "execution_count": null,
   "metadata": {},
   "outputs": [],
   "source": [
    "statement = extract_statement(pages[0])\n",
    "statement.split('\\n')[-1]"
   ]
  },
  {
   "cell_type": "code",
   "execution_count": null,
   "metadata": {},
   "outputs": [],
   "source": [
    "details = extract_exam_details(statement)\n",
    "details"
   ]
  },
  {
   "cell_type": "code",
   "execution_count": null,
   "metadata": {},
   "outputs": [],
   "source": [
    "statement.split('\\n')[-1]"
   ]
  },
  {
   "cell_type": "markdown",
   "metadata": {},
   "source": [
    "## Manual Addition of exercises"
   ]
  },
  {
   "cell_type": "markdown",
   "metadata": {},
   "source": [
    "#### Load csv into a dataframe"
   ]
  },
  {
   "cell_type": "code",
   "execution_count": 59,
   "metadata": {},
   "outputs": [],
   "source": [
    "df = pd.read_csv('./csv/QUIMICA/exercises_Solubilidad.csv')"
   ]
  },
  {
   "cell_type": "code",
   "execution_count": 62,
   "metadata": {},
   "outputs": [],
   "source": [
    "file = Path('pdf_files/QUIMICA/Solubilidad/2023 - Solubilidad.pdf')\n",
    "pages = pdf_to_text(file)"
   ]
  },
  {
   "cell_type": "code",
   "execution_count": 66,
   "metadata": {},
   "outputs": [
    {
     "data": {
      "text/plain": [
       "'El pH de una disolución acuosa saturada de Pb(OH), es 99 a 25\"C. Basándose en la reacción\\nquímica correspondiente, calcule:'"
      ]
     },
     "execution_count": 66,
     "metadata": {},
     "output_type": "execute_result"
    }
   ],
   "source": [
    "st = extract_statement(pages[3])\n",
    "st"
   ]
  },
  {
   "cell_type": "code",
   "execution_count": 61,
   "metadata": {},
   "outputs": [
    {
     "data": {
      "text/html": [
       "<div>\n",
       "<style scoped>\n",
       "    .dataframe tbody tr th:only-of-type {\n",
       "        vertical-align: middle;\n",
       "    }\n",
       "\n",
       "    .dataframe tbody tr th {\n",
       "        vertical-align: top;\n",
       "    }\n",
       "\n",
       "    .dataframe thead th {\n",
       "        text-align: right;\n",
       "    }\n",
       "</style>\n",
       "<table border=\"1\" class=\"dataframe\">\n",
       "  <thead>\n",
       "    <tr style=\"text-align: right;\">\n",
       "      <th></th>\n",
       "      <th>subject</th>\n",
       "      <th>year</th>\n",
       "      <th>topic</th>\n",
       "      <th>exam</th>\n",
       "      <th>exercise</th>\n",
       "      <th>statement</th>\n",
       "    </tr>\n",
       "  </thead>\n",
       "  <tbody>\n",
       "    <tr>\n",
       "      <th>0</th>\n",
       "      <td>Química</td>\n",
       "      <td>2012</td>\n",
       "      <td>Equilibrio Químico</td>\n",
       "      <td>Junio</td>\n",
       "      <td>Ejercicio 5 Opción B</td>\n",
       "      <td>PCl;(g) Z2 PCl,(g) + Cl,(g)\\nCuando se alcanza...</td>\n",
       "    </tr>\n",
       "    <tr>\n",
       "      <th>1</th>\n",
       "      <td>Química</td>\n",
       "      <td>2012</td>\n",
       "      <td>Equilibrio Químico</td>\n",
       "      <td>Reserva 1</td>\n",
       "      <td>Ejercicio 6 Opción A</td>\n",
       "      <td>a) El valor de Kc.\\nb) El grado de disociación...</td>\n",
       "    </tr>\n",
       "    <tr>\n",
       "      <th>2</th>\n",
       "      <td>Química</td>\n",
       "      <td>2012</td>\n",
       "      <td>Equilibrio Químico</td>\n",
       "      <td>Reserva 2</td>\n",
       "      <td>Ejercicio 3 Opción A</td>\n",
       "      <td>a) Aumentar la temperatura.\\nb) Retirar del re...</td>\n",
       "    </tr>\n",
       "    <tr>\n",
       "      <th>3</th>\n",
       "      <td>Química</td>\n",
       "      <td>2012</td>\n",
       "      <td>Equilibrio Químico</td>\n",
       "      <td>Reserva 2</td>\n",
       "      <td>Ejercicio 6 Opción B</td>\n",
       "      <td>temperatura de 11 *C la presión es de 0?3 atm....</td>\n",
       "    </tr>\n",
       "    <tr>\n",
       "      <th>4</th>\n",
       "      <td>Química</td>\n",
       "      <td>2012</td>\n",
       "      <td>Equilibrio Químico</td>\n",
       "      <td>Reserva 3</td>\n",
       "      <td>Ejercicio 3 Opción A</td>\n",
       "      <td>reacción en cada uno de los siguientes casos, ...</td>\n",
       "    </tr>\n",
       "    <tr>\n",
       "      <th>...</th>\n",
       "      <td>...</td>\n",
       "      <td>...</td>\n",
       "      <td>...</td>\n",
       "      <td>...</td>\n",
       "      <td>...</td>\n",
       "      <td>...</td>\n",
       "    </tr>\n",
       "    <tr>\n",
       "      <th>2</th>\n",
       "      <td>Química</td>\n",
       "      <td>2023</td>\n",
       "      <td>Enlace Químico</td>\n",
       "      <td>Reserva 2</td>\n",
       "      <td>Ejercicio B3</td>\n",
       "      <td>Los átomos A, B, C y D corresponden a elemento...</td>\n",
       "    </tr>\n",
       "    <tr>\n",
       "      <th>3</th>\n",
       "      <td>Química</td>\n",
       "      <td>2023</td>\n",
       "      <td>Enlace Químico</td>\n",
       "      <td>Reserva 3</td>\n",
       "      <td>Ejercicio B3</td>\n",
       "      <td>Justifique si las siguientes afirmaciones son ...</td>\n",
       "    </tr>\n",
       "    <tr>\n",
       "      <th>4</th>\n",
       "      <td>Química</td>\n",
       "      <td>2023</td>\n",
       "      <td>Enlace Químico</td>\n",
       "      <td>Reserva 4</td>\n",
       "      <td>Ejercicio B3</td>\n",
       "      <td>Justifique si las siguientes sustancias son co...</td>\n",
       "    </tr>\n",
       "    <tr>\n",
       "      <th>5</th>\n",
       "      <td>Química</td>\n",
       "      <td>2023</td>\n",
       "      <td>Enlace Químico</td>\n",
       "      <td>Julio</td>\n",
       "      <td>Ejercicio B3</td>\n",
       "      <td>Responda a las siguientes cuestiones de manera...</td>\n",
       "    </tr>\n",
       "    <tr>\n",
       "      <th>0</th>\n",
       "      <td>Química</td>\n",
       "      <td>2024</td>\n",
       "      <td>Enlace Químico</td>\n",
       "      <td>Junio</td>\n",
       "      <td>Ejercicio B3</td>\n",
       "      <td>Dados tres elementos cuyas configuraciones ele...</td>\n",
       "    </tr>\n",
       "  </tbody>\n",
       "</table>\n",
       "<p>1786 rows × 6 columns</p>\n",
       "</div>"
      ],
      "text/plain": [
       "    subject  year               topic       exam              exercise  \\\n",
       "0   Química  2012  Equilibrio Químico      Junio  Ejercicio 5 Opción B   \n",
       "1   Química  2012  Equilibrio Químico  Reserva 1  Ejercicio 6 Opción A   \n",
       "2   Química  2012  Equilibrio Químico  Reserva 2  Ejercicio 3 Opción A   \n",
       "3   Química  2012  Equilibrio Químico  Reserva 2  Ejercicio 6 Opción B   \n",
       "4   Química  2012  Equilibrio Químico  Reserva 3  Ejercicio 3 Opción A   \n",
       "..      ...   ...                 ...        ...                   ...   \n",
       "2   Química  2023      Enlace Químico  Reserva 2          Ejercicio B3   \n",
       "3   Química  2023      Enlace Químico  Reserva 3          Ejercicio B3   \n",
       "4   Química  2023      Enlace Químico  Reserva 4          Ejercicio B3   \n",
       "5   Química  2023      Enlace Químico      Julio          Ejercicio B3   \n",
       "0   Química  2024      Enlace Químico      Junio          Ejercicio B3   \n",
       "\n",
       "                                            statement  \n",
       "0   PCl;(g) Z2 PCl,(g) + Cl,(g)\\nCuando se alcanza...  \n",
       "1   a) El valor de Kc.\\nb) El grado de disociación...  \n",
       "2   a) Aumentar la temperatura.\\nb) Retirar del re...  \n",
       "3   temperatura de 11 *C la presión es de 0?3 atm....  \n",
       "4   reacción en cada uno de los siguientes casos, ...  \n",
       "..                                                ...  \n",
       "2   Los átomos A, B, C y D corresponden a elemento...  \n",
       "3   Justifique si las siguientes afirmaciones son ...  \n",
       "4   Justifique si las siguientes sustancias son co...  \n",
       "5   Responda a las siguientes cuestiones de manera...  \n",
       "0   Dados tres elementos cuyas configuraciones ele...  \n",
       "\n",
       "[1786 rows x 6 columns]"
      ]
     },
     "execution_count": 61,
     "metadata": {},
     "output_type": "execute_result"
    }
   ],
   "source": [
    "QUIMICA_df"
   ]
  },
  {
   "cell_type": "code",
   "execution_count": 67,
   "metadata": {},
   "outputs": [],
   "source": [
    "statement = '''El pH de una disolución acuosa saturada de Pb(OH)2 es 9’9 a 25ºC. Basándose en la reacción\n",
    "química correspondiente, calcule:\n",
    "a) La solubilidad molar en agua y el producto de solubilidad del Pb(OH) a 25ºC.\n",
    "b) La solubilidad del Pb(OH)2 en una disolución de NaOH 0’1 M.'''\n",
    "\n",
    "\n",
    "# SOCIALES II. 2017 JUNIO. EJERCICIO 2. OPCIÓN A\n",
    "exam_details = 'QUÍMICA. 2023. RESERVA 2. EJERCICIO C2'"
   ]
  },
  {
   "cell_type": "code",
   "execution_count": 68,
   "metadata": {},
   "outputs": [
    {
     "data": {
      "text/plain": [
       "{'subject': 'química',\n",
       " 'year': 2023,\n",
       " 'exam': 'Reserva 2',\n",
       " 'exercise': 'Ejercicio C2'}"
      ]
     },
     "execution_count": 68,
     "metadata": {},
     "output_type": "execute_result"
    }
   ],
   "source": [
    "extract_exam_details(exam_details)"
   ]
  },
  {
   "cell_type": "code",
   "execution_count": 69,
   "metadata": {},
   "outputs": [],
   "source": [
    "df = add_row(QUIMICA_df, statement, exam_details)"
   ]
  },
  {
   "cell_type": "code",
   "execution_count": 73,
   "metadata": {},
   "outputs": [
    {
     "data": {
      "text/html": [
       "<div>\n",
       "<style scoped>\n",
       "    .dataframe tbody tr th:only-of-type {\n",
       "        vertical-align: middle;\n",
       "    }\n",
       "\n",
       "    .dataframe tbody tr th {\n",
       "        vertical-align: top;\n",
       "    }\n",
       "\n",
       "    .dataframe thead th {\n",
       "        text-align: right;\n",
       "    }\n",
       "</style>\n",
       "<table border=\"1\" class=\"dataframe\">\n",
       "  <thead>\n",
       "    <tr style=\"text-align: right;\">\n",
       "      <th></th>\n",
       "      <th>subject</th>\n",
       "      <th>year</th>\n",
       "      <th>topic</th>\n",
       "      <th>exam</th>\n",
       "      <th>exercise</th>\n",
       "      <th>statement</th>\n",
       "    </tr>\n",
       "  </thead>\n",
       "  <tbody>\n",
       "    <tr>\n",
       "      <th>0</th>\n",
       "      <td>Química</td>\n",
       "      <td>2012</td>\n",
       "      <td>Equilibrio Químico</td>\n",
       "      <td>Junio</td>\n",
       "      <td>Ejercicio 5 Opción B</td>\n",
       "      <td>PCl;(g) Z2 PCl,(g) + Cl,(g)\\nCuando se alcanza...</td>\n",
       "    </tr>\n",
       "    <tr>\n",
       "      <th>1</th>\n",
       "      <td>Química</td>\n",
       "      <td>2012</td>\n",
       "      <td>Equilibrio Químico</td>\n",
       "      <td>Reserva 1</td>\n",
       "      <td>Ejercicio 6 Opción A</td>\n",
       "      <td>a) El valor de Kc.\\nb) El grado de disociación...</td>\n",
       "    </tr>\n",
       "    <tr>\n",
       "      <th>2</th>\n",
       "      <td>Química</td>\n",
       "      <td>2012</td>\n",
       "      <td>Equilibrio Químico</td>\n",
       "      <td>Reserva 2</td>\n",
       "      <td>Ejercicio 3 Opción A</td>\n",
       "      <td>a) Aumentar la temperatura.\\nb) Retirar del re...</td>\n",
       "    </tr>\n",
       "    <tr>\n",
       "      <th>3</th>\n",
       "      <td>Química</td>\n",
       "      <td>2012</td>\n",
       "      <td>Equilibrio Químico</td>\n",
       "      <td>Reserva 2</td>\n",
       "      <td>Ejercicio 6 Opción B</td>\n",
       "      <td>temperatura de 11 *C la presión es de 0?3 atm....</td>\n",
       "    </tr>\n",
       "    <tr>\n",
       "      <th>4</th>\n",
       "      <td>Química</td>\n",
       "      <td>2012</td>\n",
       "      <td>Equilibrio Químico</td>\n",
       "      <td>Reserva 3</td>\n",
       "      <td>Ejercicio 3 Opción A</td>\n",
       "      <td>reacción en cada uno de los siguientes casos, ...</td>\n",
       "    </tr>\n",
       "    <tr>\n",
       "      <th>...</th>\n",
       "      <td>...</td>\n",
       "      <td>...</td>\n",
       "      <td>...</td>\n",
       "      <td>...</td>\n",
       "      <td>...</td>\n",
       "      <td>...</td>\n",
       "    </tr>\n",
       "    <tr>\n",
       "      <th>3</th>\n",
       "      <td>Química</td>\n",
       "      <td>2023</td>\n",
       "      <td>Enlace Químico</td>\n",
       "      <td>Reserva 3</td>\n",
       "      <td>Ejercicio B3</td>\n",
       "      <td>Justifique si las siguientes afirmaciones son ...</td>\n",
       "    </tr>\n",
       "    <tr>\n",
       "      <th>4</th>\n",
       "      <td>Química</td>\n",
       "      <td>2023</td>\n",
       "      <td>Enlace Químico</td>\n",
       "      <td>Reserva 4</td>\n",
       "      <td>Ejercicio B3</td>\n",
       "      <td>Justifique si las siguientes sustancias son co...</td>\n",
       "    </tr>\n",
       "    <tr>\n",
       "      <th>5</th>\n",
       "      <td>Química</td>\n",
       "      <td>2023</td>\n",
       "      <td>Enlace Químico</td>\n",
       "      <td>Julio</td>\n",
       "      <td>Ejercicio B3</td>\n",
       "      <td>Responda a las siguientes cuestiones de manera...</td>\n",
       "    </tr>\n",
       "    <tr>\n",
       "      <th>0</th>\n",
       "      <td>Química</td>\n",
       "      <td>2024</td>\n",
       "      <td>Enlace Químico</td>\n",
       "      <td>Junio</td>\n",
       "      <td>Ejercicio B3</td>\n",
       "      <td>Dados tres elementos cuyas configuraciones ele...</td>\n",
       "    </tr>\n",
       "    <tr>\n",
       "      <th>0</th>\n",
       "      <td>química</td>\n",
       "      <td>2023</td>\n",
       "      <td>Solubilidad</td>\n",
       "      <td>Reserva 2</td>\n",
       "      <td>Ejercicio C2</td>\n",
       "      <td>El pH de una disolución acuosa saturada de Pb(...</td>\n",
       "    </tr>\n",
       "  </tbody>\n",
       "</table>\n",
       "<p>1787 rows × 6 columns</p>\n",
       "</div>"
      ],
      "text/plain": [
       "    subject  year               topic       exam              exercise  \\\n",
       "0   Química  2012  Equilibrio Químico      Junio  Ejercicio 5 Opción B   \n",
       "1   Química  2012  Equilibrio Químico  Reserva 1  Ejercicio 6 Opción A   \n",
       "2   Química  2012  Equilibrio Químico  Reserva 2  Ejercicio 3 Opción A   \n",
       "3   Química  2012  Equilibrio Químico  Reserva 2  Ejercicio 6 Opción B   \n",
       "4   Química  2012  Equilibrio Químico  Reserva 3  Ejercicio 3 Opción A   \n",
       "..      ...   ...                 ...        ...                   ...   \n",
       "3   Química  2023      Enlace Químico  Reserva 3          Ejercicio B3   \n",
       "4   Química  2023      Enlace Químico  Reserva 4          Ejercicio B3   \n",
       "5   Química  2023      Enlace Químico      Julio          Ejercicio B3   \n",
       "0   Química  2024      Enlace Químico      Junio          Ejercicio B3   \n",
       "0   química  2023         Solubilidad  Reserva 2          Ejercicio C2   \n",
       "\n",
       "                                            statement  \n",
       "0   PCl;(g) Z2 PCl,(g) + Cl,(g)\\nCuando se alcanza...  \n",
       "1   a) El valor de Kc.\\nb) El grado de disociación...  \n",
       "2   a) Aumentar la temperatura.\\nb) Retirar del re...  \n",
       "3   temperatura de 11 *C la presión es de 0?3 atm....  \n",
       "4   reacción en cada uno de los siguientes casos, ...  \n",
       "..                                                ...  \n",
       "3   Justifique si las siguientes afirmaciones son ...  \n",
       "4   Justifique si las siguientes sustancias son co...  \n",
       "5   Responda a las siguientes cuestiones de manera...  \n",
       "0   Dados tres elementos cuyas configuraciones ele...  \n",
       "0   El pH de una disolución acuosa saturada de Pb(...  \n",
       "\n",
       "[1787 rows x 6 columns]"
      ]
     },
     "execution_count": 73,
     "metadata": {},
     "output_type": "execute_result"
    }
   ],
   "source": [
    "df"
   ]
  },
  {
   "cell_type": "code",
   "execution_count": 72,
   "metadata": {},
   "outputs": [],
   "source": [
    "df.topic.fillna('Solubilidad', inplace=True)"
   ]
  },
  {
   "cell_type": "code",
   "execution_count": 39,
   "metadata": {},
   "outputs": [],
   "source": [
    "df.topic.fillna('Matrices y Determinantes', inplace=True)"
   ]
  },
  {
   "cell_type": "code",
   "execution_count": 41,
   "metadata": {},
   "outputs": [],
   "source": [
    "df.to_csv(f'/home/daniel/git_code/emestrada/csv/MATES CCSS/MATES_CCSS.csv', index=False)"
   ]
  },
  {
   "cell_type": "markdown",
   "metadata": {},
   "source": [
    "## Crete combined csv file for subject"
   ]
  },
  {
   "cell_type": "markdown",
   "metadata": {},
   "source": [
    "Create the pandas dataframe"
   ]
  },
  {
   "cell_type": "code",
   "execution_count": null,
   "metadata": {},
   "outputs": [],
   "source": [
    "csv_files = [i for i in Path.iterdir(Path('./csv'))\n",
    "             if i.suffix == '.csv' and not i.stem.startswith('all')]"
   ]
  },
  {
   "cell_type": "code",
   "execution_count": null,
   "metadata": {},
   "outputs": [],
   "source": [
    "csv_files"
   ]
  },
  {
   "cell_type": "code",
   "execution_count": null,
   "metadata": {},
   "outputs": [],
   "source": [
    "df = pd.read_csv(csv_files[0])"
   ]
  },
  {
   "cell_type": "code",
   "execution_count": null,
   "metadata": {},
   "outputs": [],
   "source": [
    "# df = pd.read_csv(csv_files[0])\n",
    "# for file in csv_files[1:]:\n",
    "#     df = pd.concat([df, pd.read_csv(file)], axis = 0)\n",
    "#     #df.to_csv('./csv/all_exercises.csv', index=False)\n",
    "\n",
    "# df.sample(10)"
   ]
  },
  {
   "cell_type": "code",
   "execution_count": null,
   "metadata": {},
   "outputs": [],
   "source": [
    "df.isna().sum()"
   ]
  },
  {
   "cell_type": "code",
   "execution_count": null,
   "metadata": {},
   "outputs": [],
   "source": [
    "df[~df.year.isna()]"
   ]
  },
  {
   "cell_type": "code",
   "execution_count": null,
   "metadata": {},
   "outputs": [],
   "source": [
    "df.shape"
   ]
  },
  {
   "cell_type": "code",
   "execution_count": null,
   "metadata": {},
   "outputs": [],
   "source": [
    "df.subject.unique()"
   ]
  },
  {
   "cell_type": "code",
   "execution_count": null,
   "metadata": {},
   "outputs": [],
   "source": [
    "df.exercise.unique()"
   ]
  },
  {
   "cell_type": "code",
   "execution_count": null,
   "metadata": {},
   "outputs": [],
   "source": [
    "df.exercise = df.exercise.apply(lambda x: x.replace('Opcióon', 'Opción').replace('Opcion', 'Opción'))"
   ]
  },
  {
   "cell_type": "code",
   "execution_count": null,
   "metadata": {},
   "outputs": [],
   "source": [
    "def add_comma(string):\n",
    "    if len(string.split(' ')) == 4 and ',' not in string:\n",
    "        words = string.split(' ')\n",
    "        return f'{words[0]} {words[1]}, {words[2]} {words[3]}'\n",
    "    else:\n",
    "        return string"
   ]
  },
  {
   "cell_type": "code",
   "execution_count": null,
   "metadata": {},
   "outputs": [],
   "source": [
    "df.exercise = df.exercise.apply(add_comma)"
   ]
  },
  {
   "cell_type": "code",
   "execution_count": null,
   "metadata": {},
   "outputs": [],
   "source": [
    "df.to_csv(f'./csv/all_exercises_{df.subject.unique()[0]}.csv', index=False)"
   ]
  }
 ],
 "metadata": {
  "kernelspec": {
   "display_name": "venv",
   "language": "python",
   "name": "python3"
  },
  "language_info": {
   "codemirror_mode": {
    "name": "ipython",
    "version": 3
   },
   "file_extension": ".py",
   "mimetype": "text/x-python",
   "name": "python",
   "nbconvert_exporter": "python",
   "pygments_lexer": "ipython3",
   "version": "3.13.2"
  }
 },
 "nbformat": 4,
 "nbformat_minor": 2
}
