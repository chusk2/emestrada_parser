{
 "cells": [
  {
   "cell_type": "markdown",
   "metadata": {},
   "source": [
    "# Selectividad Exams Parser"
   ]
  },
  {
   "cell_type": "markdown",
   "metadata": {},
   "source": [
    "## Libraries import"
   ]
  },
  {
   "cell_type": "code",
   "execution_count": 8,
   "metadata": {},
   "outputs": [],
   "source": [
    "# !sudo apt update\n",
    "# !sudo apt install tesseract-ocr tesseract-ocr-spa poppler-utils"
   ]
  },
  {
   "cell_type": "code",
   "execution_count": 9,
   "metadata": {},
   "outputs": [],
   "source": [
    "# !pip install pdf2image\n",
    "# !pip install pytesseract"
   ]
  },
  {
   "cell_type": "code",
   "execution_count": 10,
   "metadata": {},
   "outputs": [],
   "source": [
    "from pdf2image import convert_from_path\n",
    "import pytesseract\n",
    "import pandas as pd\n",
    "from pathlib import Path"
   ]
  },
  {
   "cell_type": "markdown",
   "metadata": {},
   "source": [
    "## Functions"
   ]
  },
  {
   "cell_type": "markdown",
   "metadata": {},
   "source": [
    "### Parse pdf pages into images"
   ]
  },
  {
   "cell_type": "code",
   "execution_count": 11,
   "metadata": {},
   "outputs": [],
   "source": [
    "def parse_pages_ocr(file_path):\n",
    "    images = convert_from_path(file_path)[1:]\n",
    "    # parse each page\n",
    "    pages = []\n",
    "    for i, page in enumerate(images):\n",
    "        pages.append(pytesseract.image_to_string(page, lang='spa'))\n",
    "    return pages"
   ]
  },
  {
   "cell_type": "markdown",
   "metadata": {},
   "source": [
    "### Extract statement text from page text"
   ]
  },
  {
   "cell_type": "code",
   "execution_count": 12,
   "metadata": {},
   "outputs": [],
   "source": [
    "def extract_statement(page):\n",
    "    # split the content into lines\n",
    "    text = page.split('\\n')\n",
    "    # list to store the processed lines\n",
    "    final_text = []\n",
    "    # start from the 4th line\n",
    "    for line in text[4:]:\n",
    "        # stop at RESOLUCION\n",
    "        if line.startswith('RESOLUCIÓN'):\n",
    "            break\n",
    "        # add the line to final_text\n",
    "        else:\n",
    "            if not line == '':\n",
    "                final_text.append(line.strip())\n",
    "    # join the list into a single string\n",
    "    final_text = '\\n'.join(final_text)\n",
    "\n",
    "    return final_text"
   ]
  },
  {
   "cell_type": "markdown",
   "metadata": {},
   "source": [
    "### Extract exam datails from statement"
   ]
  },
  {
   "cell_type": "code",
   "execution_count": 13,
   "metadata": {},
   "outputs": [],
   "source": [
    "def extract_exam_details(statement):\n",
    "    # get last line with exam details\n",
    "    lines = [i for i in statement.split('\\n') if i != '']\n",
    "    exam_details = lines[-1]\n",
    "    # split the words by ' '\n",
    "    exam_details = exam_details.split(' ')\n",
    "    # strip whitespaces\n",
    "    exam_details = [i.replace('.', '').replace(',', '').strip() for i in exam_details]\n",
    "\n",
    "    # exam dictionary\n",
    "    exam_dict = {}\n",
    "\n",
    "    # fill dictionary with values\n",
    "    exam_dict['subject'] = exam_details[0].title()\n",
    "    exam_dict['year'] = int(exam_details[1])\n",
    "\n",
    "    # parse the exam string\n",
    "    if exam_details[2].startswith('RESERVA'):\n",
    "        exam_dict['exam'] = ' '.join(exam_details[2:4]).title()\n",
    "        exam_index_start = 4\n",
    "    else:\n",
    "        exam_dict['exam'] = exam_details[2].title()\n",
    "        exam_index_start = 3\n",
    "    \n",
    "    exam_dict['exercise'] = ' '.join(exam_details[exam_index_start:]).title()\n",
    "    \n",
    "    return exam_dict"
   ]
  },
  {
   "cell_type": "markdown",
   "metadata": {},
   "source": [
    "## Process the pdf files"
   ]
  },
  {
   "cell_type": "code",
   "execution_count": 14,
   "metadata": {},
   "outputs": [],
   "source": [
    "exercises_dict = {}"
   ]
  },
  {
   "cell_type": "code",
   "execution_count": 15,
   "metadata": {},
   "outputs": [],
   "source": [
    "def process(file, dict_ = exercises_dict):\n",
    "    \n",
    "    topic = file.stem.split(' - ')[-1]   \n",
    "    \n",
    "    # lists to store the values\n",
    "    subjects = []\n",
    "    years = []\n",
    "    exams = []\n",
    "    exercises = []\n",
    "    statements = []\n",
    "    pages = parse_pages_ocr(file)\n",
    "\n",
    "    try:\n",
    "        for index, page in enumerate(pages):\n",
    "            statement = extract_statement(page)\n",
    "            details = extract_exam_details(statement)\n",
    "            subjects.append(details['subject'])\n",
    "            years.append(details['year'])\n",
    "            exams.append(details['exam'])\n",
    "            exercises.append(details['exercise'])\n",
    "            statements.append(statement)\n",
    "        \n",
    "        print(f'Success parsing file: {file.stem}')\n",
    "    except:\n",
    "        # safe errors to log file\n",
    "        with open('errors.log', 'a') as f:\n",
    "            string = f'Error in {file.name} at page {index+2}.\\n'\n",
    "            f.write(string)\n",
    "            \n",
    "            print('\\n' + '*' * 10)\n",
    "            print(f'Error in {file.name} at page {index+2}')\n",
    "            print('*' * 10 + '\\n')\n",
    "            return\n",
    "\n",
    "    # generate the key and content for the exercises dictionary\n",
    "    key = details['subject'] + ' ' + str(details['year']) + ' ' + topic\n",
    "    dict_[key] = {\n",
    "        'subject' : subjects,\n",
    "        'year' : years,\n",
    "        'topic' : [topic] * len(subjects),\n",
    "        'exam' : exams,\n",
    "        'exercise' : exercises,\n",
    "        'statement' : statements\n",
    "    }"
   ]
  },
  {
   "cell_type": "markdown",
   "metadata": {},
   "source": [
    "## Save the parsed content into a dataframe"
   ]
  },
  {
   "cell_type": "code",
   "execution_count": 24,
   "metadata": {},
   "outputs": [],
   "source": [
    "def create_content_dict():\n",
    "    # create the dict from keys\n",
    "    keys = ['subject', 'year', 'topic', 'exam', 'exercise', 'statement']\n",
    "    #content = dict.fromkeys(exercises_dict[first_processed_file].keys())\n",
    "    content = dict.fromkeys(keys)\n",
    "    # fill the dict with empty lists\n",
    "    for key in content.keys():\n",
    "        content[key] = []\n",
    "\n",
    "    return content"
   ]
  },
  {
   "cell_type": "code",
   "execution_count": 17,
   "metadata": {},
   "outputs": [],
   "source": [
    "folders = sorted( [i for i in Path.iterdir(Path('pdf_files'))] )"
   ]
  },
  {
   "cell_type": "code",
   "execution_count": null,
   "metadata": {},
   "outputs": [],
   "source": [
    "for folder in folders:\n",
    "    files = sorted( [i for i in Path.iterdir(folder) if i.suffix == '.pdf'] )\n",
    "    for file in files:\n",
    "        process(file, dict_= exercises_dict)\n",
    "        # each year contains a dictionary with keys containing lists of values\n",
    "        for year, dict_ in exercises_dict.items():\n",
    "            # loop through the dictionary\n",
    "            content = create_content_dict()\n",
    "            for key, value in dict_.items():\n",
    "                content[key].extend(value)\n",
    "    df = pd.DataFrame(content)\n",
    "    # correct wrong subjects\n",
    "    df.subject = df.subject.apply(lambda x: 'Química' if x.endswith('mica') else x)\n",
    "    df.to_csv(f'./csv/exercises_{folder.stem}.csv', index=False)"
   ]
  },
  {
   "cell_type": "markdown",
   "metadata": {},
   "source": [
    "Extract values from the dictionary for each subject/year/topic file\n"
   ]
  },
  {
   "cell_type": "markdown",
   "metadata": {},
   "source": [
    "Create the pandas dataframe"
   ]
  },
  {
   "cell_type": "code",
   "execution_count": 30,
   "metadata": {},
   "outputs": [],
   "source": [
    "csv_files = [i for i in Path.iterdir(Path('./csv')) if i.suffix == '.csv']"
   ]
  },
  {
   "cell_type": "code",
   "execution_count": null,
   "metadata": {},
   "outputs": [
    {
     "data": {
      "text/html": [
       "<div>\n",
       "<style scoped>\n",
       "    .dataframe tbody tr th:only-of-type {\n",
       "        vertical-align: middle;\n",
       "    }\n",
       "\n",
       "    .dataframe tbody tr th {\n",
       "        vertical-align: top;\n",
       "    }\n",
       "\n",
       "    .dataframe thead th {\n",
       "        text-align: right;\n",
       "    }\n",
       "</style>\n",
       "<table border=\"1\" class=\"dataframe\">\n",
       "  <thead>\n",
       "    <tr style=\"text-align: right;\">\n",
       "      <th></th>\n",
       "      <th>subject</th>\n",
       "      <th>year</th>\n",
       "      <th>topic</th>\n",
       "      <th>exam</th>\n",
       "      <th>exercise</th>\n",
       "      <th>statement</th>\n",
       "    </tr>\n",
       "  </thead>\n",
       "  <tbody>\n",
       "    <tr>\n",
       "      <th>0</th>\n",
       "      <td>Química</td>\n",
       "      <td>2000</td>\n",
       "      <td>Ácido Base</td>\n",
       "      <td>Junio</td>\n",
       "      <td>Ejercicio 4 Opción A</td>\n",
       "      <td>Complete los siguientes equilibrios ácido-base...</td>\n",
       "    </tr>\n",
       "    <tr>\n",
       "      <th>1</th>\n",
       "      <td>Química</td>\n",
       "      <td>2000</td>\n",
       "      <td>Ácido Base</td>\n",
       "      <td>Junio</td>\n",
       "      <td>Ejercicio 6 Opción B</td>\n",
       "      <td>a) Calcule los gramos del ácido acético CH,COO...</td>\n",
       "    </tr>\n",
       "    <tr>\n",
       "      <th>2</th>\n",
       "      <td>Química</td>\n",
       "      <td>2000</td>\n",
       "      <td>Ácido Base</td>\n",
       "      <td>Reserva 1</td>\n",
       "      <td>Ejercicio 3 Opción A</td>\n",
       "      <td>La fenolftaleína es un indicador ácido-base qu...</td>\n",
       "    </tr>\n",
       "    <tr>\n",
       "      <th>3</th>\n",
       "      <td>Química</td>\n",
       "      <td>2000</td>\n",
       "      <td>Ácido Base</td>\n",
       "      <td>Reserva 1</td>\n",
       "      <td>Ejercicio 6 Opción B</td>\n",
       "      <td>A 15 g de ácido acético (CH,COOH) se añade la ...</td>\n",
       "    </tr>\n",
       "    <tr>\n",
       "      <th>4</th>\n",
       "      <td>Química</td>\n",
       "      <td>2000</td>\n",
       "      <td>Ácido Base</td>\n",
       "      <td>Reserva 2</td>\n",
       "      <td>Ejercicio 3 Opción A</td>\n",
       "      <td>a) Escriba el equilibrio de hidrólisis del ión...</td>\n",
       "    </tr>\n",
       "    <tr>\n",
       "      <th>...</th>\n",
       "      <td>...</td>\n",
       "      <td>...</td>\n",
       "      <td>...</td>\n",
       "      <td>...</td>\n",
       "      <td>...</td>\n",
       "      <td>...</td>\n",
       "    </tr>\n",
       "    <tr>\n",
       "      <th>133448</th>\n",
       "      <td>Química</td>\n",
       "      <td>2023</td>\n",
       "      <td>Solubilidad</td>\n",
       "      <td>Reserva 3</td>\n",
       "      <td>Ejercicio B5</td>\n",
       "      <td>Razone si las siguientes afirmaciones son verd...</td>\n",
       "    </tr>\n",
       "    <tr>\n",
       "      <th>133449</th>\n",
       "      <td>Química</td>\n",
       "      <td>2023</td>\n",
       "      <td>Solubilidad</td>\n",
       "      <td>Reserva 3</td>\n",
       "      <td>Ejercicio C2</td>\n",
       "      <td>A una temperatura determinada, el producto de ...</td>\n",
       "    </tr>\n",
       "    <tr>\n",
       "      <th>133450</th>\n",
       "      <td>Química</td>\n",
       "      <td>2023</td>\n",
       "      <td>Solubilidad</td>\n",
       "      <td>Reserva 4</td>\n",
       "      <td>Ejercicio C2</td>\n",
       "      <td>A una temperatura determinada, la solubilidad ...</td>\n",
       "    </tr>\n",
       "    <tr>\n",
       "      <th>133451</th>\n",
       "      <td>Química</td>\n",
       "      <td>2023</td>\n",
       "      <td>Solubilidad</td>\n",
       "      <td>Julio</td>\n",
       "      <td>Ejercicio C2</td>\n",
       "      <td>Basándose en las reacciones químicas correspon...</td>\n",
       "    </tr>\n",
       "    <tr>\n",
       "      <th>133452</th>\n",
       "      <td>Química</td>\n",
       "      <td>2024</td>\n",
       "      <td>Solubilidad</td>\n",
       "      <td>Junio</td>\n",
       "      <td>C2</td>\n",
       "      <td>Para preparar 250 mL de disolución saturada de...</td>\n",
       "    </tr>\n",
       "  </tbody>\n",
       "</table>\n",
       "<p>603684 rows × 6 columns</p>\n",
       "</div>"
      ],
      "text/plain": [
       "        subject  year        topic       exam              exercise  \\\n",
       "0       Química  2000   Ácido Base      Junio  Ejercicio 4 Opción A   \n",
       "1       Química  2000   Ácido Base      Junio  Ejercicio 6 Opción B   \n",
       "2       Química  2000   Ácido Base  Reserva 1  Ejercicio 3 Opción A   \n",
       "3       Química  2000   Ácido Base  Reserva 1  Ejercicio 6 Opción B   \n",
       "4       Química  2000   Ácido Base  Reserva 2  Ejercicio 3 Opción A   \n",
       "...         ...   ...          ...        ...                   ...   \n",
       "133448  Química  2023  Solubilidad  Reserva 3          Ejercicio B5   \n",
       "133449  Química  2023  Solubilidad  Reserva 3          Ejercicio C2   \n",
       "133450  Química  2023  Solubilidad  Reserva 4          Ejercicio C2   \n",
       "133451  Química  2023  Solubilidad      Julio          Ejercicio C2   \n",
       "133452  Química  2024  Solubilidad      Junio                    C2   \n",
       "\n",
       "                                                statement  \n",
       "0       Complete los siguientes equilibrios ácido-base...  \n",
       "1       a) Calcule los gramos del ácido acético CH,COO...  \n",
       "2       La fenolftaleína es un indicador ácido-base qu...  \n",
       "3       A 15 g de ácido acético (CH,COOH) se añade la ...  \n",
       "4       a) Escriba el equilibrio de hidrólisis del ión...  \n",
       "...                                                   ...  \n",
       "133448  Razone si las siguientes afirmaciones son verd...  \n",
       "133449  A una temperatura determinada, el producto de ...  \n",
       "133450  A una temperatura determinada, la solubilidad ...  \n",
       "133451  Basándose en las reacciones químicas correspon...  \n",
       "133452  Para preparar 250 mL de disolución saturada de...  \n",
       "\n",
       "[603684 rows x 6 columns]"
      ]
     },
     "execution_count": 23,
     "metadata": {},
     "output_type": "execute_result"
    }
   ],
   "source": [
    "df = pd.read_csv(csv_files[0])\n",
    "for file in csv_files[1:]:\n",
    "    df = pd.concat([df, pd.read_csv(file)], axis = 0)\n",
    "    df.to_csv('./csv/all_exercises.csv', index=False)\n",
    "df"
   ]
  },
  {
   "cell_type": "code",
   "execution_count": 26,
   "metadata": {},
   "outputs": [],
   "source": [
    "df = df.drop_duplicates()"
   ]
  },
  {
   "cell_type": "code",
   "execution_count": 27,
   "metadata": {},
   "outputs": [],
   "source": [
    "df.to_csv('all_exercises.csv', index=False)"
   ]
  }
 ],
 "metadata": {
  "kernelspec": {
   "display_name": "datavenv",
   "language": "python",
   "name": "python3"
  },
  "language_info": {
   "codemirror_mode": {
    "name": "ipython",
    "version": 3
   },
   "file_extension": ".py",
   "mimetype": "text/x-python",
   "name": "python",
   "nbconvert_exporter": "python",
   "pygments_lexer": "ipython3",
   "version": "3.12.3"
  }
 },
 "nbformat": 4,
 "nbformat_minor": 2
}
