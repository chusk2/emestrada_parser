{
 "cells": [
  {
   "cell_type": "code",
   "execution_count": 2,
   "metadata": {},
   "outputs": [],
   "source": [
    "import pandas as pd"
   ]
  },
  {
   "cell_type": "code",
   "execution_count": 3,
   "metadata": {},
   "outputs": [],
   "source": [
    "df = pd.read_csv('./csv/all_exercises_Química.csv')"
   ]
  },
  {
   "cell_type": "code",
   "execution_count": 4,
   "metadata": {},
   "outputs": [
    {
     "data": {
      "text/html": [
       "<div>\n",
       "<style scoped>\n",
       "    .dataframe tbody tr th:only-of-type {\n",
       "        vertical-align: middle;\n",
       "    }\n",
       "\n",
       "    .dataframe tbody tr th {\n",
       "        vertical-align: top;\n",
       "    }\n",
       "\n",
       "    .dataframe thead th {\n",
       "        text-align: right;\n",
       "    }\n",
       "</style>\n",
       "<table border=\"1\" class=\"dataframe\">\n",
       "  <thead>\n",
       "    <tr style=\"text-align: right;\">\n",
       "      <th></th>\n",
       "      <th>subject</th>\n",
       "      <th>year</th>\n",
       "      <th>topic</th>\n",
       "      <th>exam</th>\n",
       "      <th>exercise</th>\n",
       "      <th>statement</th>\n",
       "    </tr>\n",
       "  </thead>\n",
       "  <tbody>\n",
       "    <tr>\n",
       "      <th>0</th>\n",
       "      <td>Química</td>\n",
       "      <td>2000</td>\n",
       "      <td>Equilibrio Químico</td>\n",
       "      <td>Junio</td>\n",
       "      <td>Ejercicio 3, Opción B</td>\n",
       "      <td>En la tabla adjunta se recogen los valores, a ...</td>\n",
       "    </tr>\n",
       "    <tr>\n",
       "      <th>1</th>\n",
       "      <td>Química</td>\n",
       "      <td>2000</td>\n",
       "      <td>Equilibrio Químico</td>\n",
       "      <td>Reserva 1</td>\n",
       "      <td>Ejercicio 5, Opción A</td>\n",
       "      <td>A 613* K, el valor de K, para la reacción: Fe,...</td>\n",
       "    </tr>\n",
       "    <tr>\n",
       "      <th>2</th>\n",
       "      <td>Química</td>\n",
       "      <td>2000</td>\n",
       "      <td>Equilibrio Químico</td>\n",
       "      <td>Reserva 1</td>\n",
       "      <td>Ejercicio 3, Opción B</td>\n",
       "      <td>Suponga el siguiente sistema en equilibrio: UO...</td>\n",
       "    </tr>\n",
       "    <tr>\n",
       "      <th>3</th>\n",
       "      <td>Química</td>\n",
       "      <td>2000</td>\n",
       "      <td>Equilibrio Químico</td>\n",
       "      <td>Reserva 1</td>\n",
       "      <td>Ejercicio 4, Opción B</td>\n",
       "      <td>a) Dibuje el diagrama de entalpía teniendo en ...</td>\n",
       "    </tr>\n",
       "    <tr>\n",
       "      <th>4</th>\n",
       "      <td>Química</td>\n",
       "      <td>2000</td>\n",
       "      <td>Equilibrio Químico</td>\n",
       "      <td>Reserva 2</td>\n",
       "      <td>Ejercicio 3, Opción B</td>\n",
       "      <td>Indique, razonadamente, si las siguientes afir...</td>\n",
       "    </tr>\n",
       "  </tbody>\n",
       "</table>\n",
       "</div>"
      ],
      "text/plain": [
       "   subject  year               topic       exam               exercise  \\\n",
       "0  Química  2000  Equilibrio Químico      Junio  Ejercicio 3, Opción B   \n",
       "1  Química  2000  Equilibrio Químico  Reserva 1  Ejercicio 5, Opción A   \n",
       "2  Química  2000  Equilibrio Químico  Reserva 1  Ejercicio 3, Opción B   \n",
       "3  Química  2000  Equilibrio Químico  Reserva 1  Ejercicio 4, Opción B   \n",
       "4  Química  2000  Equilibrio Químico  Reserva 2  Ejercicio 3, Opción B   \n",
       "\n",
       "                                           statement  \n",
       "0  En la tabla adjunta se recogen los valores, a ...  \n",
       "1  A 613* K, el valor de K, para la reacción: Fe,...  \n",
       "2  Suponga el siguiente sistema en equilibrio: UO...  \n",
       "3  a) Dibuje el diagrama de entalpía teniendo en ...  \n",
       "4  Indique, razonadamente, si las siguientes afir...  "
      ]
     },
     "execution_count": 4,
     "metadata": {},
     "output_type": "execute_result"
    }
   ],
   "source": [
    "df.head()"
   ]
  },
  {
   "cell_type": "code",
   "execution_count": 5,
   "metadata": {},
   "outputs": [
    {
     "data": {
      "text/plain": [
       "array(['Equilibrio Químico', 'Cantidad Química', 'Ácido Base',\n",
       "       'Conf. Electrónica', 'Termoquímica', 'Reactividad Orgánica',\n",
       "       'Enlace Químico', 'Formulación', 'Reacciones Redox', 'Solubilidad'],\n",
       "      dtype=object)"
      ]
     },
     "execution_count": 5,
     "metadata": {},
     "output_type": "execute_result"
    }
   ],
   "source": [
    "df.topic.unique()"
   ]
  },
  {
   "cell_type": "code",
   "execution_count": 6,
   "metadata": {},
   "outputs": [
    {
     "data": {
      "text/html": [
       "<div>\n",
       "<style scoped>\n",
       "    .dataframe tbody tr th:only-of-type {\n",
       "        vertical-align: middle;\n",
       "    }\n",
       "\n",
       "    .dataframe tbody tr th {\n",
       "        vertical-align: top;\n",
       "    }\n",
       "\n",
       "    .dataframe thead th {\n",
       "        text-align: right;\n",
       "    }\n",
       "</style>\n",
       "<table border=\"1\" class=\"dataframe\">\n",
       "  <thead>\n",
       "    <tr style=\"text-align: right;\">\n",
       "      <th></th>\n",
       "      <th>subject</th>\n",
       "      <th>year</th>\n",
       "      <th>topic</th>\n",
       "      <th>exam</th>\n",
       "      <th>exercise</th>\n",
       "      <th>statement</th>\n",
       "    </tr>\n",
       "  </thead>\n",
       "  <tbody>\n",
       "    <tr>\n",
       "      <th>1495</th>\n",
       "      <td>Química</td>\n",
       "      <td>2014</td>\n",
       "      <td>Reacciones Redox</td>\n",
       "      <td>Reserva 1</td>\n",
       "      <td>Ejercicio 3, Opción B</td>\n",
       "      <td>Responda razonadamente:\\na) ¿Reaccionará una d...</td>\n",
       "    </tr>\n",
       "    <tr>\n",
       "      <th>1575</th>\n",
       "      <td>Química</td>\n",
       "      <td>2022</td>\n",
       "      <td>Reacciones Redox</td>\n",
       "      <td>Julio</td>\n",
       "      <td>Ejercicio B5</td>\n",
       "      <td>La notación correspondiente a la pila Daniell ...</td>\n",
       "    </tr>\n",
       "    <tr>\n",
       "      <th>1542</th>\n",
       "      <td>Química</td>\n",
       "      <td>2019</td>\n",
       "      <td>Reacciones Redox</td>\n",
       "      <td>Reserva 2</td>\n",
       "      <td>Ejercicio 6, Opción A</td>\n",
       "      <td>a) Calcule la carga eléctrica necesaria para q...</td>\n",
       "    </tr>\n",
       "    <tr>\n",
       "      <th>1474</th>\n",
       "      <td>Química</td>\n",
       "      <td>2011</td>\n",
       "      <td>Reacciones Redox</td>\n",
       "      <td>Reserva 3</td>\n",
       "      <td>Ejercicio 6, Opción B</td>\n",
       "      <td>Calcule:\\na) Los gramos de cinc depositados en...</td>\n",
       "    </tr>\n",
       "    <tr>\n",
       "      <th>1561</th>\n",
       "      <td>Química</td>\n",
       "      <td>2021</td>\n",
       "      <td>Reacciones Redox</td>\n",
       "      <td>Reserva 1</td>\n",
       "      <td>Ejercicio C2</td>\n",
       "      <td>Se realiza la electrolisis completa de 500 mL ...</td>\n",
       "    </tr>\n",
       "  </tbody>\n",
       "</table>\n",
       "</div>"
      ],
      "text/plain": [
       "      subject  year             topic       exam               exercise  \\\n",
       "1495  Química  2014  Reacciones Redox  Reserva 1  Ejercicio 3, Opción B   \n",
       "1575  Química  2022  Reacciones Redox      Julio           Ejercicio B5   \n",
       "1542  Química  2019  Reacciones Redox  Reserva 2  Ejercicio 6, Opción A   \n",
       "1474  Química  2011  Reacciones Redox  Reserva 3  Ejercicio 6, Opción B   \n",
       "1561  Química  2021  Reacciones Redox  Reserva 1           Ejercicio C2   \n",
       "\n",
       "                                              statement  \n",
       "1495  Responda razonadamente:\\na) ¿Reaccionará una d...  \n",
       "1575  La notación correspondiente a la pila Daniell ...  \n",
       "1542  a) Calcule la carga eléctrica necesaria para q...  \n",
       "1474  Calcule:\\na) Los gramos de cinc depositados en...  \n",
       "1561  Se realiza la electrolisis completa de 500 mL ...  "
      ]
     },
     "execution_count": 6,
     "metadata": {},
     "output_type": "execute_result"
    }
   ],
   "source": [
    "redox = df[df.topic == 'Reacciones Redox']\n",
    "redox.sample(5)"
   ]
  },
  {
   "cell_type": "code",
   "execution_count": 21,
   "metadata": {},
   "outputs": [
    {
     "data": {
      "text/plain": [
       "{'Equilibrio Químico': None,\n",
       " 'Cantidad Química': None,\n",
       " 'Ácido Base': None,\n",
       " 'Conf. Electrónica': None,\n",
       " 'Termoquímica': None,\n",
       " 'Reactividad Orgánica': None,\n",
       " 'Enlace Químico': None,\n",
       " 'Formulación': None,\n",
       " 'Reacciones Redox': None,\n",
       " 'Solubilidad': None}"
      ]
     },
     "execution_count": 21,
     "metadata": {},
     "output_type": "execute_result"
    }
   ],
   "source": [
    "keywords = dict.fromkeys(df.topic.unique())\n",
    "keywords"
   ]
  },
  {
   "cell_type": "code",
   "execution_count": 22,
   "metadata": {},
   "outputs": [],
   "source": [
    "keywords = {\n",
    "    'Equilibrio Químico': None,\n",
    "    'Cantidad Química': None,\n",
    "    'Ácido Base': None,\n",
    "    'Conf. Electrónica': None,\n",
    "    'Termoquímica': None,\n",
    "    'Reactividad Orgánica': None,\n",
    "    'Enlace Químico': None,\n",
    "    'Formulación': None,\n",
    "    \n",
    "    'Reacciones Redox': {\n",
    "        'iónica y molecular' : 'Ajuste reacción redox',\n",
    "        \"E*\" : 'Pilas galvánicas',\n",
    "        \"E'\" : 'Pilas galvánicas',\n",
    "        'F = 96500 C' : 'Ley de Faraday'\n",
    "    },\n",
    "\n",
    "    'Solubilidad': {\n",
    "        'verdader' : 'Verdadero o Falso',\n",
    "        'veracidad' : 'Verdadero o Falso',\n",
    "        'en agua' : 'Efecto ion común problema',\n",
    "        'empiece a precipitar' : 'Cantidad a añadir para que precipite',\n",
    "        'precipitado' : '¿Se formará precipitado?',\n",
    "        ' M ': 'Efecto ion común problema',\n",
    "        'pH' : 'Efecto del pH en la solubilidad',\n",
    "    }\n",
    "\n",
    "}\n"
   ]
  },
  {
   "cell_type": "code",
   "execution_count": 19,
   "metadata": {},
   "outputs": [],
   "source": [
    "subset = redox.copy()\n",
    "exercise_types = []\n",
    "for statement in subset.statement:\n",
    "    classified = False\n",
    "    for k, v in keywords.items():\n",
    "        if k in statement:\n",
    "            exercise_types.append(v)\n",
    "            classified = True\n",
    "            break\n",
    "    if not classified:\n",
    "        exercise_types.append('other')"
   ]
  },
  {
   "cell_type": "code",
   "execution_count": 9,
   "metadata": {},
   "outputs": [
    {
     "data": {
      "text/plain": [
       "(214,)"
      ]
     },
     "execution_count": 9,
     "metadata": {},
     "output_type": "execute_result"
    }
   ],
   "source": [
    "subset.statement.shape"
   ]
  },
  {
   "cell_type": "code",
   "execution_count": 20,
   "metadata": {},
   "outputs": [
    {
     "data": {
      "text/plain": [
       "214"
      ]
     },
     "execution_count": 20,
     "metadata": {},
     "output_type": "execute_result"
    }
   ],
   "source": [
    "len(exercise_types)"
   ]
  },
  {
   "cell_type": "code",
   "execution_count": 11,
   "metadata": {},
   "outputs": [],
   "source": [
    "subset['exercise_type'] = exercise_types"
   ]
  },
  {
   "cell_type": "code",
   "execution_count": 12,
   "metadata": {},
   "outputs": [
    {
     "data": {
      "text/html": [
       "<div>\n",
       "<style scoped>\n",
       "    .dataframe tbody tr th:only-of-type {\n",
       "        vertical-align: middle;\n",
       "    }\n",
       "\n",
       "    .dataframe tbody tr th {\n",
       "        vertical-align: top;\n",
       "    }\n",
       "\n",
       "    .dataframe thead th {\n",
       "        text-align: right;\n",
       "    }\n",
       "</style>\n",
       "<table border=\"1\" class=\"dataframe\">\n",
       "  <thead>\n",
       "    <tr style=\"text-align: right;\">\n",
       "      <th></th>\n",
       "      <th>subject</th>\n",
       "      <th>year</th>\n",
       "      <th>topic</th>\n",
       "      <th>exam</th>\n",
       "      <th>exercise</th>\n",
       "      <th>statement</th>\n",
       "      <th>exercise_type</th>\n",
       "    </tr>\n",
       "  </thead>\n",
       "  <tbody>\n",
       "    <tr>\n",
       "      <th>1588</th>\n",
       "      <td>Química</td>\n",
       "      <td>2024</td>\n",
       "      <td>Reacciones Redox</td>\n",
       "      <td>Reserva 2</td>\n",
       "      <td>Ejercicio B4</td>\n",
       "      <td>Dada la pila: Al(s) | Al*(ac) | Cu*(ae) | Cuts...</td>\n",
       "      <td>Pilas galvánicas</td>\n",
       "    </tr>\n",
       "  </tbody>\n",
       "</table>\n",
       "</div>"
      ],
      "text/plain": [
       "      subject  year             topic       exam      exercise  \\\n",
       "1588  Química  2024  Reacciones Redox  Reserva 2  Ejercicio B4   \n",
       "\n",
       "                                              statement     exercise_type  \n",
       "1588  Dada la pila: Al(s) | Al*(ac) | Cu*(ae) | Cuts...  Pilas galvánicas  "
      ]
     },
     "execution_count": 12,
     "metadata": {},
     "output_type": "execute_result"
    }
   ],
   "source": [
    "subset.sample()"
   ]
  },
  {
   "cell_type": "code",
   "execution_count": 13,
   "metadata": {},
   "outputs": [
    {
     "data": {
      "text/plain": [
       "1586    El Cl, es un gas corrosivo por lo que se sinte...\n",
       "1587    El níquel metálico reacciona con ácido nítrico...\n",
       "1588    Dada la pila: Al(s) | Al*(ac) | Cu*(ae) | Cuts...\n",
       "1589    El estaño reacciona con ácido nítrico y se for...\n",
       "1590    Para cada una de las reacciones siguientes jus...\n",
       "1591    Basándose en las semirreacciones correspondien...\n",
       "1592    Se construye una pila galvánica con un electro...\n",
       "1593    En una cuba se electroliza CaCl, fundido. Basá...\n",
       "1594    El clorato de potasio reacciona con hidróxido ...\n",
       "Name: statement, dtype: object"
      ]
     },
     "execution_count": 13,
     "metadata": {},
     "output_type": "execute_result"
    }
   ],
   "source": [
    "subset[(subset.year == 2024) & (subset.topic == 'Reacciones Redox')].statement"
   ]
  },
  {
   "cell_type": "code",
   "execution_count": 17,
   "metadata": {},
   "outputs": [
    {
     "data": {
      "text/plain": [
       "\"Dada la pila: Al(s) | Al*(ac) | Cu*(ae) | Cuts)\\na) Justifique, escribiendo la semirreacción que tiene lugar en cada uno, cuál es el ánodo y cuál\\nel cátodo.\\nb) Calcule el potencial estándar de la pila.\\nc) Razone qué ocurriría si se sustituyera el electrodo de aluminio por uno de plata.\\nDatos: E* (A1* / Al)=-—1'66 V ; E*(Cu* / Cu) =0'34 V ; E'(Ag* / Ag) =0'80 V\\nQUÍMICA. 2024. RESERVA 2. EJERCICIO B4\""
      ]
     },
     "execution_count": 17,
     "metadata": {},
     "output_type": "execute_result"
    }
   ],
   "source": [
    "subset.loc[1588, 'statement']"
   ]
  },
  {
   "cell_type": "code",
   "execution_count": null,
   "metadata": {},
   "outputs": [],
   "source": []
  }
 ],
 "metadata": {
  "kernelspec": {
   "display_name": "venv",
   "language": "python",
   "name": "python3"
  },
  "language_info": {
   "codemirror_mode": {
    "name": "ipython",
    "version": 3
   },
   "file_extension": ".py",
   "mimetype": "text/x-python",
   "name": "python",
   "nbconvert_exporter": "python",
   "pygments_lexer": "ipython3",
   "version": "3.13.2"
  }
 },
 "nbformat": 4,
 "nbformat_minor": 2
}
