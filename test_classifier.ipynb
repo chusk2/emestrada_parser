{
 "cells": [
  {
   "cell_type": "code",
   "execution_count": null,
   "metadata": {},
   "outputs": [],
   "source": [
    "import pandas as pd\n",
    "import numpy as "
   ]
  },
  {
   "cell_type": "code",
   "execution_count": 2,
   "metadata": {},
   "outputs": [],
   "source": [
    "df = pd.read_csv('./csv/all_exercises_Química.csv')"
   ]
  },
  {
   "cell_type": "code",
   "execution_count": 3,
   "metadata": {},
   "outputs": [
    {
     "data": {
      "text/html": [
       "<div>\n",
       "<style scoped>\n",
       "    .dataframe tbody tr th:only-of-type {\n",
       "        vertical-align: middle;\n",
       "    }\n",
       "\n",
       "    .dataframe tbody tr th {\n",
       "        vertical-align: top;\n",
       "    }\n",
       "\n",
       "    .dataframe thead th {\n",
       "        text-align: right;\n",
       "    }\n",
       "</style>\n",
       "<table border=\"1\" class=\"dataframe\">\n",
       "  <thead>\n",
       "    <tr style=\"text-align: right;\">\n",
       "      <th></th>\n",
       "      <th>subject</th>\n",
       "      <th>year</th>\n",
       "      <th>topic</th>\n",
       "      <th>exam</th>\n",
       "      <th>exercise</th>\n",
       "      <th>statement</th>\n",
       "    </tr>\n",
       "  </thead>\n",
       "  <tbody>\n",
       "    <tr>\n",
       "      <th>0</th>\n",
       "      <td>Química</td>\n",
       "      <td>2000</td>\n",
       "      <td>Equilibrio Químico</td>\n",
       "      <td>Junio</td>\n",
       "      <td>Ejercicio 3, Opción B</td>\n",
       "      <td>En la tabla adjunta se recogen los valores, a ...</td>\n",
       "    </tr>\n",
       "    <tr>\n",
       "      <th>1</th>\n",
       "      <td>Química</td>\n",
       "      <td>2000</td>\n",
       "      <td>Equilibrio Químico</td>\n",
       "      <td>Reserva 1</td>\n",
       "      <td>Ejercicio 5, Opción A</td>\n",
       "      <td>A 613* K, el valor de K, para la reacción: Fe,...</td>\n",
       "    </tr>\n",
       "    <tr>\n",
       "      <th>2</th>\n",
       "      <td>Química</td>\n",
       "      <td>2000</td>\n",
       "      <td>Equilibrio Químico</td>\n",
       "      <td>Reserva 1</td>\n",
       "      <td>Ejercicio 3, Opción B</td>\n",
       "      <td>Suponga el siguiente sistema en equilibrio: UO...</td>\n",
       "    </tr>\n",
       "    <tr>\n",
       "      <th>3</th>\n",
       "      <td>Química</td>\n",
       "      <td>2000</td>\n",
       "      <td>Equilibrio Químico</td>\n",
       "      <td>Reserva 1</td>\n",
       "      <td>Ejercicio 4, Opción B</td>\n",
       "      <td>a) Dibuje el diagrama de entalpía teniendo en ...</td>\n",
       "    </tr>\n",
       "    <tr>\n",
       "      <th>4</th>\n",
       "      <td>Química</td>\n",
       "      <td>2000</td>\n",
       "      <td>Equilibrio Químico</td>\n",
       "      <td>Reserva 2</td>\n",
       "      <td>Ejercicio 3, Opción B</td>\n",
       "      <td>Indique, razonadamente, si las siguientes afir...</td>\n",
       "    </tr>\n",
       "  </tbody>\n",
       "</table>\n",
       "</div>"
      ],
      "text/plain": [
       "   subject  year               topic       exam               exercise  \\\n",
       "0  Química  2000  Equilibrio Químico      Junio  Ejercicio 3, Opción B   \n",
       "1  Química  2000  Equilibrio Químico  Reserva 1  Ejercicio 5, Opción A   \n",
       "2  Química  2000  Equilibrio Químico  Reserva 1  Ejercicio 3, Opción B   \n",
       "3  Química  2000  Equilibrio Químico  Reserva 1  Ejercicio 4, Opción B   \n",
       "4  Química  2000  Equilibrio Químico  Reserva 2  Ejercicio 3, Opción B   \n",
       "\n",
       "                                           statement  \n",
       "0  En la tabla adjunta se recogen los valores, a ...  \n",
       "1  A 613* K, el valor de K, para la reacción: Fe,...  \n",
       "2  Suponga el siguiente sistema en equilibrio: UO...  \n",
       "3  a) Dibuje el diagrama de entalpía teniendo en ...  \n",
       "4  Indique, razonadamente, si las siguientes afir...  "
      ]
     },
     "execution_count": 3,
     "metadata": {},
     "output_type": "execute_result"
    }
   ],
   "source": [
    "df.head()"
   ]
  },
  {
   "cell_type": "code",
   "execution_count": 4,
   "metadata": {},
   "outputs": [
    {
     "data": {
      "text/plain": [
       "array(['Equilibrio Químico', 'Cantidad Química', 'Ácido Base',\n",
       "       'Conf. Electrónica', 'Termoquímica', 'Reactividad Orgánica',\n",
       "       'Enlace Químico', 'Formulación', 'Reacciones Redox', 'Solubilidad'],\n",
       "      dtype=object)"
      ]
     },
     "execution_count": 4,
     "metadata": {},
     "output_type": "execute_result"
    }
   ],
   "source": [
    "df.topic.unique()"
   ]
  },
  {
   "cell_type": "code",
   "execution_count": 5,
   "metadata": {},
   "outputs": [],
   "source": [
    "keywords = {\n",
    "    'Equilibrio Químico': None,\n",
    "    'Cantidad Química': None,\n",
    "    'Ácido Base': None,\n",
    "    'Conf. Electrónica': None,\n",
    "    'Termoquímica': None,\n",
    "    'Reactividad Orgánica': None,\n",
    "    'Enlace Químico': None,\n",
    "    'Formulación': None,\n",
    "    \n",
    "    'Reacciones Redox': {\n",
    "        'iónica y molecular' : 'Ajuste reacción redox',\n",
    "        \"E*\" : 'Pilas galvánicas',\n",
    "        \"E'\" : 'Pilas galvánicas',\n",
    "        'F = 96500 C' : 'Ley de Faraday'\n",
    "    },\n",
    "\n",
    "    'Solubilidad': {\n",
    "        'verdader' : 'Verdadero o Falso',\n",
    "        'veracidad' : 'Verdadero o Falso',\n",
    "        'en agua' : 'Efecto ion común problema',\n",
    "        'empiece a precipitar' : 'Cantidad a añadir para que precipite',\n",
    "        'precipitado' : '¿Se formará precipitado?',\n",
    "        ' M ': 'Efecto ion común problema',\n",
    "        'pH' : 'Efecto del pH en la solubilidad',\n",
    "    },\n",
    "\n",
    "    'Termoquímica' : {\n",
    "\t'verdader' : 'Verdadero o Falso',\n",
    "\t'C-C': 'Entalpías de enlace',\n",
    "\t'S*' : 'Cálculo de entropía',\n",
    "\t\"S'\":  'Cálculo de entropía',\n",
    "\t'[' : 'Entalpías de formación',\n",
    "\t'a partir de los siguientes datos' : 'Ley de Hess',\n",
    "\t'a volumen constante' : 'Relación entalpía y energía interna',\n",
    "\t'trabajo' : '1er Principio de la Termodinámica',\n",
    "\t'interna' : '1er Principio de la Termodinámica',\n",
    "\t'entalpías de combustión' : 'Ley de Hess',\n",
    "\t'temperatura' : 'Energía libre de Gibbs teórico',\n",
    "\t}\n",
    "\n",
    "\n",
    "\n",
    "}\n"
   ]
  },
  {
   "cell_type": "code",
   "execution_count": 6,
   "metadata": {},
   "outputs": [],
   "source": [
    "topics = df.topic.unique()\n",
    "\n",
    "for i in topics:\n",
    "    exercise_types = []\n",
    "    keywords_topic = keywords[i]\n",
    "    # there are established keywords\n",
    "    # for the current topic\n",
    "    if keywords_topic:\n",
    "        subset = df[df.topic == i]\n",
    "        for statement in subset.statement:\n",
    "            classified = False\n",
    "            for k, v in keywords.items():\n",
    "                if k in statement:\n",
    "                    exercise_types.append(v)\n",
    "                    classified = True\n",
    "                    break\n",
    "            if not classified:\n",
    "                exercise_types.append('other')\n",
    "        df.loc[df.topic == i, 'exercise_type'] = exercise_types"
   ]
  },
  {
   "cell_type": "code",
   "execution_count": 21,
   "metadata": {},
   "outputs": [],
   "source": [
    "df.exercise_type = df.exercise_type.replace('nan', pd.NA)"
   ]
  },
  {
   "cell_type": "code",
   "execution_count": 22,
   "metadata": {},
   "outputs": [
    {
     "data": {
      "text/html": [
       "<div>\n",
       "<style scoped>\n",
       "    .dataframe tbody tr th:only-of-type {\n",
       "        vertical-align: middle;\n",
       "    }\n",
       "\n",
       "    .dataframe tbody tr th {\n",
       "        vertical-align: top;\n",
       "    }\n",
       "\n",
       "    .dataframe thead th {\n",
       "        text-align: right;\n",
       "    }\n",
       "</style>\n",
       "<table border=\"1\" class=\"dataframe\">\n",
       "  <thead>\n",
       "    <tr style=\"text-align: right;\">\n",
       "      <th></th>\n",
       "      <th>subject</th>\n",
       "      <th>year</th>\n",
       "      <th>topic</th>\n",
       "      <th>exam</th>\n",
       "      <th>exercise</th>\n",
       "      <th>statement</th>\n",
       "      <th>exercise_type</th>\n",
       "    </tr>\n",
       "  </thead>\n",
       "  <tbody>\n",
       "    <tr>\n",
       "      <th>762</th>\n",
       "      <td>Química</td>\n",
       "      <td>2000</td>\n",
       "      <td>Termoquímica</td>\n",
       "      <td>Reserva 1</td>\n",
       "      <td>Ejercicio 4, Opción B</td>\n",
       "      <td>a) Dibuje el diagrama de entalpía teniendo en ...</td>\n",
       "      <td>other</td>\n",
       "    </tr>\n",
       "    <tr>\n",
       "      <th>763</th>\n",
       "      <td>Química</td>\n",
       "      <td>2000</td>\n",
       "      <td>Termoquímica</td>\n",
       "      <td>Reserva 2</td>\n",
       "      <td>Ejercicio 6, Opción A</td>\n",
       "      <td>El amoniaco, a 25 “C y 1 atm, se puede oxidar ...</td>\n",
       "      <td>other</td>\n",
       "    </tr>\n",
       "    <tr>\n",
       "      <th>764</th>\n",
       "      <td>Química</td>\n",
       "      <td>2000</td>\n",
       "      <td>Termoquímica</td>\n",
       "      <td>Reserva 3</td>\n",
       "      <td>Ejercicio 5, Opción B</td>\n",
       "      <td>a) Calcule la variación de entalpía estándar c...</td>\n",
       "      <td>other</td>\n",
       "    </tr>\n",
       "    <tr>\n",
       "      <th>765</th>\n",
       "      <td>Química</td>\n",
       "      <td>2000</td>\n",
       "      <td>Termoquímica</td>\n",
       "      <td>Reserva 4</td>\n",
       "      <td>Ejercicio 5, Opción A</td>\n",
       "      <td>a) Calcule la variación de entalpía estándar d...</td>\n",
       "      <td>other</td>\n",
       "    </tr>\n",
       "    <tr>\n",
       "      <th>766</th>\n",
       "      <td>Química</td>\n",
       "      <td>2000</td>\n",
       "      <td>Termoquímica</td>\n",
       "      <td>Septiembre</td>\n",
       "      <td>Ejercicio 3, Opción B</td>\n",
       "      <td>Indique razonadamente si las siguientes afirma...</td>\n",
       "      <td>other</td>\n",
       "    </tr>\n",
       "    <tr>\n",
       "      <th>...</th>\n",
       "      <td>...</td>\n",
       "      <td>...</td>\n",
       "      <td>...</td>\n",
       "      <td>...</td>\n",
       "      <td>...</td>\n",
       "      <td>...</td>\n",
       "      <td>...</td>\n",
       "    </tr>\n",
       "    <tr>\n",
       "      <th>1677</th>\n",
       "      <td>Química</td>\n",
       "      <td>2023</td>\n",
       "      <td>Solubilidad</td>\n",
       "      <td>Reserva 3</td>\n",
       "      <td>Ejercicio B5</td>\n",
       "      <td>Razone si las siguientes afirmaciones son verd...</td>\n",
       "      <td>other</td>\n",
       "    </tr>\n",
       "    <tr>\n",
       "      <th>1678</th>\n",
       "      <td>Química</td>\n",
       "      <td>2023</td>\n",
       "      <td>Solubilidad</td>\n",
       "      <td>Reserva 3</td>\n",
       "      <td>Ejercicio C2</td>\n",
       "      <td>A una temperatura determinada, el producto de ...</td>\n",
       "      <td>other</td>\n",
       "    </tr>\n",
       "    <tr>\n",
       "      <th>1679</th>\n",
       "      <td>Química</td>\n",
       "      <td>2023</td>\n",
       "      <td>Solubilidad</td>\n",
       "      <td>Reserva 4</td>\n",
       "      <td>Ejercicio C2</td>\n",
       "      <td>A una temperatura determinada, la solubilidad ...</td>\n",
       "      <td>other</td>\n",
       "    </tr>\n",
       "    <tr>\n",
       "      <th>1680</th>\n",
       "      <td>Química</td>\n",
       "      <td>2023</td>\n",
       "      <td>Solubilidad</td>\n",
       "      <td>Julio</td>\n",
       "      <td>Ejercicio C2</td>\n",
       "      <td>Basándose en las reacciones químicas correspon...</td>\n",
       "      <td>other</td>\n",
       "    </tr>\n",
       "    <tr>\n",
       "      <th>1681</th>\n",
       "      <td>Química</td>\n",
       "      <td>2024</td>\n",
       "      <td>Solubilidad</td>\n",
       "      <td>Junio</td>\n",
       "      <td>C2</td>\n",
       "      <td>Para preparar 250 mL de disolución saturada de...</td>\n",
       "      <td>other</td>\n",
       "    </tr>\n",
       "  </tbody>\n",
       "</table>\n",
       "<p>419 rows × 7 columns</p>\n",
       "</div>"
      ],
      "text/plain": [
       "      subject  year         topic        exam               exercise  \\\n",
       "762   Química  2000  Termoquímica   Reserva 1  Ejercicio 4, Opción B   \n",
       "763   Química  2000  Termoquímica   Reserva 2  Ejercicio 6, Opción A   \n",
       "764   Química  2000  Termoquímica   Reserva 3  Ejercicio 5, Opción B   \n",
       "765   Química  2000  Termoquímica   Reserva 4  Ejercicio 5, Opción A   \n",
       "766   Química  2000  Termoquímica  Septiembre  Ejercicio 3, Opción B   \n",
       "...       ...   ...           ...         ...                    ...   \n",
       "1677  Química  2023   Solubilidad   Reserva 3           Ejercicio B5   \n",
       "1678  Química  2023   Solubilidad   Reserva 3           Ejercicio C2   \n",
       "1679  Química  2023   Solubilidad   Reserva 4           Ejercicio C2   \n",
       "1680  Química  2023   Solubilidad       Julio           Ejercicio C2   \n",
       "1681  Química  2024   Solubilidad       Junio                     C2   \n",
       "\n",
       "                                              statement exercise_type  \n",
       "762   a) Dibuje el diagrama de entalpía teniendo en ...         other  \n",
       "763   El amoniaco, a 25 “C y 1 atm, se puede oxidar ...         other  \n",
       "764   a) Calcule la variación de entalpía estándar c...         other  \n",
       "765   a) Calcule la variación de entalpía estándar d...         other  \n",
       "766   Indique razonadamente si las siguientes afirma...         other  \n",
       "...                                                 ...           ...  \n",
       "1677  Razone si las siguientes afirmaciones son verd...         other  \n",
       "1678  A una temperatura determinada, el producto de ...         other  \n",
       "1679  A una temperatura determinada, la solubilidad ...         other  \n",
       "1680  Basándose en las reacciones químicas correspon...         other  \n",
       "1681  Para preparar 250 mL de disolución saturada de...         other  \n",
       "\n",
       "[419 rows x 7 columns]"
      ]
     },
     "execution_count": 22,
     "metadata": {},
     "output_type": "execute_result"
    }
   ],
   "source": [
    "df[~df.exercise_type.isna()]"
   ]
  },
  {
   "cell_type": "code",
   "execution_count": 8,
   "metadata": {},
   "outputs": [
    {
     "data": {
      "text/plain": [
       "87"
      ]
     },
     "execution_count": 8,
     "metadata": {},
     "output_type": "execute_result"
    }
   ],
   "source": [
    "len(exercise_types)"
   ]
  },
  {
   "cell_type": "code",
   "execution_count": 9,
   "metadata": {},
   "outputs": [
    {
     "name": "stderr",
     "output_type": "stream",
     "text": [
      "/tmp/ipykernel_6098/3989028331.py:1: SettingWithCopyWarning: \n",
      "A value is trying to be set on a copy of a slice from a DataFrame.\n",
      "Try using .loc[row_indexer,col_indexer] = value instead\n",
      "\n",
      "See the caveats in the documentation: https://pandas.pydata.org/pandas-docs/stable/user_guide/indexing.html#returning-a-view-versus-a-copy\n",
      "  subset['exercise_type'] = exercise_types\n"
     ]
    }
   ],
   "source": [
    "subset['exercise_type'] = exercise_types"
   ]
  },
  {
   "cell_type": "code",
   "execution_count": 10,
   "metadata": {},
   "outputs": [
    {
     "data": {
      "text/html": [
       "<div>\n",
       "<style scoped>\n",
       "    .dataframe tbody tr th:only-of-type {\n",
       "        vertical-align: middle;\n",
       "    }\n",
       "\n",
       "    .dataframe tbody tr th {\n",
       "        vertical-align: top;\n",
       "    }\n",
       "\n",
       "    .dataframe thead th {\n",
       "        text-align: right;\n",
       "    }\n",
       "</style>\n",
       "<table border=\"1\" class=\"dataframe\">\n",
       "  <thead>\n",
       "    <tr style=\"text-align: right;\">\n",
       "      <th></th>\n",
       "      <th>subject</th>\n",
       "      <th>year</th>\n",
       "      <th>topic</th>\n",
       "      <th>exam</th>\n",
       "      <th>exercise</th>\n",
       "      <th>statement</th>\n",
       "      <th>exercise_type</th>\n",
       "    </tr>\n",
       "  </thead>\n",
       "  <tbody>\n",
       "    <tr>\n",
       "      <th>1628</th>\n",
       "      <td>Química</td>\n",
       "      <td>2015</td>\n",
       "      <td>Solubilidad</td>\n",
       "      <td>Reserva 2</td>\n",
       "      <td>Ejercicio 3, Opción A</td>\n",
       "      <td>Razone la veracidad o falsedad de las siguient...</td>\n",
       "      <td>other</td>\n",
       "    </tr>\n",
       "  </tbody>\n",
       "</table>\n",
       "</div>"
      ],
      "text/plain": [
       "      subject  year        topic       exam               exercise  \\\n",
       "1628  Química  2015  Solubilidad  Reserva 2  Ejercicio 3, Opción A   \n",
       "\n",
       "                                              statement exercise_type  \n",
       "1628  Razone la veracidad o falsedad de las siguient...         other  "
      ]
     },
     "execution_count": 10,
     "metadata": {},
     "output_type": "execute_result"
    }
   ],
   "source": [
    "subset.sample()"
   ]
  },
  {
   "cell_type": "code",
   "execution_count": 11,
   "metadata": {},
   "outputs": [
    {
     "data": {
      "text/plain": [
       "Series([], Name: statement, dtype: object)"
      ]
     },
     "execution_count": 11,
     "metadata": {},
     "output_type": "execute_result"
    }
   ],
   "source": [
    "subset[(subset.year == 2024) & (subset.topic == 'Reacciones Redox')].statement"
   ]
  },
  {
   "cell_type": "code",
   "execution_count": 12,
   "metadata": {},
   "outputs": [
    {
     "ename": "KeyError",
     "evalue": "1588",
     "output_type": "error",
     "traceback": [
      "\u001b[0;31m---------------------------------------------------------------------------\u001b[0m",
      "\u001b[0;31mKeyError\u001b[0m                                  Traceback (most recent call last)",
      "File \u001b[0;32m~/.local/lib/python3.12/site-packages/pandas/core/indexes/base.py:3805\u001b[0m, in \u001b[0;36mIndex.get_loc\u001b[0;34m(self, key)\u001b[0m\n\u001b[1;32m   3804\u001b[0m \u001b[38;5;28;01mtry\u001b[39;00m:\n\u001b[0;32m-> 3805\u001b[0m     \u001b[38;5;28;01mreturn\u001b[39;00m \u001b[38;5;28;43mself\u001b[39;49m\u001b[38;5;241;43m.\u001b[39;49m\u001b[43m_engine\u001b[49m\u001b[38;5;241;43m.\u001b[39;49m\u001b[43mget_loc\u001b[49m\u001b[43m(\u001b[49m\u001b[43mcasted_key\u001b[49m\u001b[43m)\u001b[49m\n\u001b[1;32m   3806\u001b[0m \u001b[38;5;28;01mexcept\u001b[39;00m \u001b[38;5;167;01mKeyError\u001b[39;00m \u001b[38;5;28;01mas\u001b[39;00m err:\n",
      "File \u001b[0;32mindex.pyx:167\u001b[0m, in \u001b[0;36mpandas._libs.index.IndexEngine.get_loc\u001b[0;34m()\u001b[0m\n",
      "File \u001b[0;32mindex.pyx:196\u001b[0m, in \u001b[0;36mpandas._libs.index.IndexEngine.get_loc\u001b[0;34m()\u001b[0m\n",
      "File \u001b[0;32mpandas/_libs/hashtable_class_helper.pxi:2606\u001b[0m, in \u001b[0;36mpandas._libs.hashtable.Int64HashTable.get_item\u001b[0;34m()\u001b[0m\n",
      "File \u001b[0;32mpandas/_libs/hashtable_class_helper.pxi:2630\u001b[0m, in \u001b[0;36mpandas._libs.hashtable.Int64HashTable.get_item\u001b[0;34m()\u001b[0m\n",
      "\u001b[0;31mKeyError\u001b[0m: 1588",
      "\nThe above exception was the direct cause of the following exception:\n",
      "\u001b[0;31mKeyError\u001b[0m                                  Traceback (most recent call last)",
      "Cell \u001b[0;32mIn[12], line 1\u001b[0m\n\u001b[0;32m----> 1\u001b[0m \u001b[43msubset\u001b[49m\u001b[38;5;241;43m.\u001b[39;49m\u001b[43mloc\u001b[49m\u001b[43m[\u001b[49m\u001b[38;5;241;43m1588\u001b[39;49m\u001b[43m,\u001b[49m\u001b[43m \u001b[49m\u001b[38;5;124;43m'\u001b[39;49m\u001b[38;5;124;43mstatement\u001b[39;49m\u001b[38;5;124;43m'\u001b[39;49m\u001b[43m]\u001b[49m\n",
      "File \u001b[0;32m~/.local/lib/python3.12/site-packages/pandas/core/indexing.py:1183\u001b[0m, in \u001b[0;36m_LocationIndexer.__getitem__\u001b[0;34m(self, key)\u001b[0m\n\u001b[1;32m   1181\u001b[0m     key \u001b[38;5;241m=\u001b[39m \u001b[38;5;28mtuple\u001b[39m(com\u001b[38;5;241m.\u001b[39mapply_if_callable(x, \u001b[38;5;28mself\u001b[39m\u001b[38;5;241m.\u001b[39mobj) \u001b[38;5;28;01mfor\u001b[39;00m x \u001b[38;5;129;01min\u001b[39;00m key)\n\u001b[1;32m   1182\u001b[0m     \u001b[38;5;28;01mif\u001b[39;00m \u001b[38;5;28mself\u001b[39m\u001b[38;5;241m.\u001b[39m_is_scalar_access(key):\n\u001b[0;32m-> 1183\u001b[0m         \u001b[38;5;28;01mreturn\u001b[39;00m \u001b[38;5;28;43mself\u001b[39;49m\u001b[38;5;241;43m.\u001b[39;49m\u001b[43mobj\u001b[49m\u001b[38;5;241;43m.\u001b[39;49m\u001b[43m_get_value\u001b[49m\u001b[43m(\u001b[49m\u001b[38;5;241;43m*\u001b[39;49m\u001b[43mkey\u001b[49m\u001b[43m,\u001b[49m\u001b[43m \u001b[49m\u001b[43mtakeable\u001b[49m\u001b[38;5;241;43m=\u001b[39;49m\u001b[38;5;28;43mself\u001b[39;49m\u001b[38;5;241;43m.\u001b[39;49m\u001b[43m_takeable\u001b[49m\u001b[43m)\u001b[49m\n\u001b[1;32m   1184\u001b[0m     \u001b[38;5;28;01mreturn\u001b[39;00m \u001b[38;5;28mself\u001b[39m\u001b[38;5;241m.\u001b[39m_getitem_tuple(key)\n\u001b[1;32m   1185\u001b[0m \u001b[38;5;28;01melse\u001b[39;00m:\n\u001b[1;32m   1186\u001b[0m     \u001b[38;5;66;03m# we by definition only have the 0th axis\u001b[39;00m\n",
      "File \u001b[0;32m~/.local/lib/python3.12/site-packages/pandas/core/frame.py:4221\u001b[0m, in \u001b[0;36mDataFrame._get_value\u001b[0;34m(self, index, col, takeable)\u001b[0m\n\u001b[1;32m   4215\u001b[0m engine \u001b[38;5;241m=\u001b[39m \u001b[38;5;28mself\u001b[39m\u001b[38;5;241m.\u001b[39mindex\u001b[38;5;241m.\u001b[39m_engine\n\u001b[1;32m   4217\u001b[0m \u001b[38;5;28;01mif\u001b[39;00m \u001b[38;5;129;01mnot\u001b[39;00m \u001b[38;5;28misinstance\u001b[39m(\u001b[38;5;28mself\u001b[39m\u001b[38;5;241m.\u001b[39mindex, MultiIndex):\n\u001b[1;32m   4218\u001b[0m     \u001b[38;5;66;03m# CategoricalIndex: Trying to use the engine fastpath may give incorrect\u001b[39;00m\n\u001b[1;32m   4219\u001b[0m     \u001b[38;5;66;03m#  results if our categories are integers that dont match our codes\u001b[39;00m\n\u001b[1;32m   4220\u001b[0m     \u001b[38;5;66;03m# IntervalIndex: IntervalTree has no get_loc\u001b[39;00m\n\u001b[0;32m-> 4221\u001b[0m     row \u001b[38;5;241m=\u001b[39m \u001b[38;5;28;43mself\u001b[39;49m\u001b[38;5;241;43m.\u001b[39;49m\u001b[43mindex\u001b[49m\u001b[38;5;241;43m.\u001b[39;49m\u001b[43mget_loc\u001b[49m\u001b[43m(\u001b[49m\u001b[43mindex\u001b[49m\u001b[43m)\u001b[49m\n\u001b[1;32m   4222\u001b[0m     \u001b[38;5;28;01mreturn\u001b[39;00m series\u001b[38;5;241m.\u001b[39m_values[row]\n\u001b[1;32m   4224\u001b[0m \u001b[38;5;66;03m# For MultiIndex going through engine effectively restricts us to\u001b[39;00m\n\u001b[1;32m   4225\u001b[0m \u001b[38;5;66;03m#  same-length tuples; see test_get_set_value_no_partial_indexing\u001b[39;00m\n",
      "File \u001b[0;32m~/.local/lib/python3.12/site-packages/pandas/core/indexes/base.py:3812\u001b[0m, in \u001b[0;36mIndex.get_loc\u001b[0;34m(self, key)\u001b[0m\n\u001b[1;32m   3807\u001b[0m     \u001b[38;5;28;01mif\u001b[39;00m \u001b[38;5;28misinstance\u001b[39m(casted_key, \u001b[38;5;28mslice\u001b[39m) \u001b[38;5;129;01mor\u001b[39;00m (\n\u001b[1;32m   3808\u001b[0m         \u001b[38;5;28misinstance\u001b[39m(casted_key, abc\u001b[38;5;241m.\u001b[39mIterable)\n\u001b[1;32m   3809\u001b[0m         \u001b[38;5;129;01mand\u001b[39;00m \u001b[38;5;28many\u001b[39m(\u001b[38;5;28misinstance\u001b[39m(x, \u001b[38;5;28mslice\u001b[39m) \u001b[38;5;28;01mfor\u001b[39;00m x \u001b[38;5;129;01min\u001b[39;00m casted_key)\n\u001b[1;32m   3810\u001b[0m     ):\n\u001b[1;32m   3811\u001b[0m         \u001b[38;5;28;01mraise\u001b[39;00m InvalidIndexError(key)\n\u001b[0;32m-> 3812\u001b[0m     \u001b[38;5;28;01mraise\u001b[39;00m \u001b[38;5;167;01mKeyError\u001b[39;00m(key) \u001b[38;5;28;01mfrom\u001b[39;00m \u001b[38;5;21;01merr\u001b[39;00m\n\u001b[1;32m   3813\u001b[0m \u001b[38;5;28;01mexcept\u001b[39;00m \u001b[38;5;167;01mTypeError\u001b[39;00m:\n\u001b[1;32m   3814\u001b[0m     \u001b[38;5;66;03m# If we have a listlike key, _check_indexing_error will raise\u001b[39;00m\n\u001b[1;32m   3815\u001b[0m     \u001b[38;5;66;03m#  InvalidIndexError. Otherwise we fall through and re-raise\u001b[39;00m\n\u001b[1;32m   3816\u001b[0m     \u001b[38;5;66;03m#  the TypeError.\u001b[39;00m\n\u001b[1;32m   3817\u001b[0m     \u001b[38;5;28mself\u001b[39m\u001b[38;5;241m.\u001b[39m_check_indexing_error(key)\n",
      "\u001b[0;31mKeyError\u001b[0m: 1588"
     ]
    }
   ],
   "source": [
    "subset.loc[1588, 'statement']"
   ]
  },
  {
   "cell_type": "code",
   "execution_count": null,
   "metadata": {},
   "outputs": [],
   "source": []
  }
 ],
 "metadata": {
  "kernelspec": {
   "display_name": "Python 3",
   "language": "python",
   "name": "python3"
  },
  "language_info": {
   "codemirror_mode": {
    "name": "ipython",
    "version": 3
   },
   "file_extension": ".py",
   "mimetype": "text/x-python",
   "name": "python",
   "nbconvert_exporter": "python",
   "pygments_lexer": "ipython3",
   "version": "3.12.1"
  }
 },
 "nbformat": 4,
 "nbformat_minor": 2
}
