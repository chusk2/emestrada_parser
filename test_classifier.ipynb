{
 "cells": [
  {
   "cell_type": "code",
   "execution_count": 4,
   "metadata": {},
   "outputs": [],
   "source": [
    "import pandas as pd\n",
    "import numpy as np"
   ]
  },
  {
   "cell_type": "code",
   "execution_count": 7,
   "metadata": {},
   "outputs": [],
   "source": [
    "df = pd.read_csv('./csv/all_exercises_Química.csv')"
   ]
  },
  {
   "cell_type": "code",
   "execution_count": 3,
   "metadata": {},
   "outputs": [
    {
     "data": {
      "text/html": [
       "<div>\n",
       "<style scoped>\n",
       "    .dataframe tbody tr th:only-of-type {\n",
       "        vertical-align: middle;\n",
       "    }\n",
       "\n",
       "    .dataframe tbody tr th {\n",
       "        vertical-align: top;\n",
       "    }\n",
       "\n",
       "    .dataframe thead th {\n",
       "        text-align: right;\n",
       "    }\n",
       "</style>\n",
       "<table border=\"1\" class=\"dataframe\">\n",
       "  <thead>\n",
       "    <tr style=\"text-align: right;\">\n",
       "      <th></th>\n",
       "      <th>subject</th>\n",
       "      <th>year</th>\n",
       "      <th>topic</th>\n",
       "      <th>exam</th>\n",
       "      <th>exercise</th>\n",
       "      <th>statement</th>\n",
       "    </tr>\n",
       "  </thead>\n",
       "  <tbody>\n",
       "    <tr>\n",
       "      <th>0</th>\n",
       "      <td>Química</td>\n",
       "      <td>2000</td>\n",
       "      <td>Equilibrio Químico</td>\n",
       "      <td>Junio</td>\n",
       "      <td>Ejercicio 3, Opción B</td>\n",
       "      <td>En la tabla adjunta se recogen los valores, a ...</td>\n",
       "    </tr>\n",
       "    <tr>\n",
       "      <th>1</th>\n",
       "      <td>Química</td>\n",
       "      <td>2000</td>\n",
       "      <td>Equilibrio Químico</td>\n",
       "      <td>Reserva 1</td>\n",
       "      <td>Ejercicio 5, Opción A</td>\n",
       "      <td>A 613* K, el valor de K, para la reacción: Fe,...</td>\n",
       "    </tr>\n",
       "    <tr>\n",
       "      <th>2</th>\n",
       "      <td>Química</td>\n",
       "      <td>2000</td>\n",
       "      <td>Equilibrio Químico</td>\n",
       "      <td>Reserva 1</td>\n",
       "      <td>Ejercicio 3, Opción B</td>\n",
       "      <td>Suponga el siguiente sistema en equilibrio: UO...</td>\n",
       "    </tr>\n",
       "    <tr>\n",
       "      <th>3</th>\n",
       "      <td>Química</td>\n",
       "      <td>2000</td>\n",
       "      <td>Equilibrio Químico</td>\n",
       "      <td>Reserva 1</td>\n",
       "      <td>Ejercicio 4, Opción B</td>\n",
       "      <td>a) Dibuje el diagrama de entalpía teniendo en ...</td>\n",
       "    </tr>\n",
       "    <tr>\n",
       "      <th>4</th>\n",
       "      <td>Química</td>\n",
       "      <td>2000</td>\n",
       "      <td>Equilibrio Químico</td>\n",
       "      <td>Reserva 2</td>\n",
       "      <td>Ejercicio 3, Opción B</td>\n",
       "      <td>Indique, razonadamente, si las siguientes afir...</td>\n",
       "    </tr>\n",
       "  </tbody>\n",
       "</table>\n",
       "</div>"
      ],
      "text/plain": [
       "   subject  year               topic       exam               exercise  \\\n",
       "0  Química  2000  Equilibrio Químico      Junio  Ejercicio 3, Opción B   \n",
       "1  Química  2000  Equilibrio Químico  Reserva 1  Ejercicio 5, Opción A   \n",
       "2  Química  2000  Equilibrio Químico  Reserva 1  Ejercicio 3, Opción B   \n",
       "3  Química  2000  Equilibrio Químico  Reserva 1  Ejercicio 4, Opción B   \n",
       "4  Química  2000  Equilibrio Químico  Reserva 2  Ejercicio 3, Opción B   \n",
       "\n",
       "                                           statement  \n",
       "0  En la tabla adjunta se recogen los valores, a ...  \n",
       "1  A 613* K, el valor de K, para la reacción: Fe,...  \n",
       "2  Suponga el siguiente sistema en equilibrio: UO...  \n",
       "3  a) Dibuje el diagrama de entalpía teniendo en ...  \n",
       "4  Indique, razonadamente, si las siguientes afir...  "
      ]
     },
     "execution_count": 3,
     "metadata": {},
     "output_type": "execute_result"
    }
   ],
   "source": [
    "df.head()"
   ]
  },
  {
   "cell_type": "code",
   "execution_count": null,
   "metadata": {},
   "outputs": [],
   "source": [
    "keywords = {\n",
    "    'Equilibrio Químico': None,\n",
    "    'Cantidad Química': None,\n",
    "    'Ácido Base': None,\n",
    "\n",
    "    'Conf. Electrónica': {\n",
    "        'verdader' : 'Verdadero o Falso',\n",
    "        'veracidad' : 'Verdadero o Falso',\n",
    "        'radio' : 'Propiedades periódicas',\n",
    "        'energía de ionización' : 'Propiedades periódicas',\n",
    "        'afinidad electrónica' : 'Propiedades periódicas',\n",
    "        'electronegatividad' : 'Propiedades periódicas',\n",
    "        'primera energía de ionización' : 'Comparación energías de ionización',\n",
    "        'Na+' : 'Radio / energía ionización Na+ y Ne',\n",
    "        'estable' : 'Ion más estable',\n",
    "        'números cuánticos' : 'Combinaciones de números cuánticos',\n",
    "        'posibles' : 'Combinaciones de números cuánticos',\n",
    "        'período' : 'Situar elementos en tabla periódica (grupo y período)',\n",
    "        'energía reticular' : 'Ciclo de Born-Haber',\n",
    "        'Br2 es líquido y el I2 es sólido' : 'Fuerzas de London',\n",
    "        'agua es líquida' : 'Puentes de hidrógeno',\n",
    "        'fusión' : 'Ecuación de Born-Landé',\n",
    "        'dureza' : 'Ecuación de Born-Landé',\n",
    "        'mayor energía reticular' : 'Ecuación de Born-Landé',\n",
    "\n",
    "        \n",
    "    },\n",
    "\n",
    "    'Reactividad Orgánica': None,\n",
    "    'Enlace Químico': {\n",
    "        'verdader' : 'Verdadero o Falso',\n",
    "        'veracidad' : 'Verdadero o Falso',\n",
    "        'Lewis' : 'Estructuras de Lewis',\n",
    "        'geometría' : 'Geometría según TRPECV',\n",
    "        'ebullición' : 'Comparación del punto de ebullición',\n",
    "        'hibridación' : 'Hibridación del átomo central',\n",
    "        'nitrógeno y oxígeno' : 'Tipos enlace en N2 y O2',\n",
    "        'sustancia' : 'Propiedades según tipo de enlace',\n",
    "\n",
    "\n",
    "        \n",
    "    },\n",
    "    'Formulación': None,\n",
    "    \n",
    "    'Reacciones Redox': {\n",
    "        'iónica y molecular' : 'Ajuste reacción redox',\n",
    "        \"método del ión-electrón\" : \"Ajuste reacción redox\",\n",
    "        \"E*\" : 'Pilas galvánicas',\n",
    "        \"E'\" : 'Pilas galvánicas',\n",
    "        'F = 96500 C' : 'Ley de Faraday'\n",
    "    },\n",
    "\n",
    "    'Solubilidad': {\n",
    "        'verdader' : 'Verdadero o Falso',\n",
    "        'veracidad' : 'Verdadero o Falso',\n",
    "        'en agua' : 'Efecto ion común problema',\n",
    "        'empiece a precipitar' : 'Cantidad a añadir para que precipite',\n",
    "        'precipitado' : '¿Se formará precipitado?',\n",
    "        ' M ': 'Efecto ion común problema',\n",
    "        'pH' : 'Efecto del pH en la solubilidad',\n",
    "    },\n",
    "\n",
    "    'Termoquímica' : {\n",
    "\t'verdader' : 'Verdadero o Falso',\n",
    "\t'C-C': 'Entalpías de enlace',\n",
    "\t'S*' : 'Cálculo de entropía',\n",
    "\t\"S'\":  'Cálculo de entropía',\n",
    "\t'[' : 'Entalpías de formación',\n",
    "\t'a partir de los siguientes datos' : 'Ley de Hess',\n",
    "\t'a volumen constante' : 'Relación entalpía y energía interna',\n",
    "\t'trabajo' : '1er Principio de la Termodinámica',\n",
    "\t'interna' : '1er Principio de la Termodinámica',\n",
    "\t'entalpías de combustión' : 'Ley de Hess',\n",
    "\t'temperatura' : 'Energía libre de Gibbs teórico',\n",
    "\t}\n",
    "\n",
    "\n",
    "\n",
    "}\n"
   ]
  },
  {
   "cell_type": "code",
   "execution_count": 20,
   "metadata": {},
   "outputs": [],
   "source": [
    "topics = df.topic.unique()"
   ]
  },
  {
   "cell_type": "code",
   "execution_count": 43,
   "metadata": {},
   "outputs": [],
   "source": [
    "def classify_exercise_type(topic):\n",
    "    keywords_topic = keywords[topic]\n",
    "    # there are established keywords\n",
    "    # for the current topic\n",
    "    if keywords_topic:\n",
    "        exercise_types = []\n",
    "        subset = df[df.topic == topic]\n",
    "        for statement in subset.statement:\n",
    "            classified = False\n",
    "            for k, v in keywords_topic.items():\n",
    "                if k in statement:\n",
    "                    exercise_types.append(v)\n",
    "                    classified = True\n",
    "                    break\n",
    "            if not classified:\n",
    "                exercise_types.append('varios')\n",
    "    else:\n",
    "        return pd.NA\n",
    "    \n",
    "    return exercise_types"
   ]
  },
  {
   "cell_type": "code",
   "execution_count": 44,
   "metadata": {},
   "outputs": [],
   "source": [
    "for topic in topics:\n",
    "    df.loc[df.topic == topic, 'exercise_type'] = classify_exercise_type(topic)"
   ]
  },
  {
   "cell_type": "code",
   "execution_count": 41,
   "metadata": {},
   "outputs": [
    {
     "data": {
      "text/plain": [
       "array(['Equilibrio Químico', 'Cantidad Química', 'Ácido Base',\n",
       "       'Conf. Electrónica', 'Termoquímica', 'Reactividad Orgánica',\n",
       "       'Enlace Químico', 'Formulación', 'Reacciones Redox', 'Solubilidad'],\n",
       "      dtype=object)"
      ]
     },
     "execution_count": 41,
     "metadata": {},
     "output_type": "execute_result"
    }
   ],
   "source": [
    "df.topic.unique()"
   ]
  }
 ],
 "metadata": {
  "kernelspec": {
   "display_name": "venv",
   "language": "python",
   "name": "python3"
  },
  "language_info": {
   "codemirror_mode": {
    "name": "ipython",
    "version": 3
   },
   "file_extension": ".py",
   "mimetype": "text/x-python",
   "name": "python",
   "nbconvert_exporter": "python",
   "pygments_lexer": "ipython3",
   "version": "3.13.2"
  }
 },
 "nbformat": 4,
 "nbformat_minor": 2
}
