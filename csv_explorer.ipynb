{
 "cells": [
  {
   "cell_type": "code",
   "execution_count": 46,
   "metadata": {},
   "outputs": [],
   "source": [
    "import pandas as pd\n",
    "import os"
   ]
  },
  {
   "cell_type": "code",
   "execution_count": 47,
   "metadata": {},
   "outputs": [],
   "source": [
    "os.chdir('csv/MATES CCSS')"
   ]
  },
  {
   "cell_type": "code",
   "execution_count": 52,
   "metadata": {},
   "outputs": [],
   "source": [
    "csv_files = [i for i in os.listdir() if i.endswith('.csv') ]"
   ]
  },
  {
   "cell_type": "code",
   "execution_count": 42,
   "metadata": {},
   "outputs": [],
   "source": [
    "df = pd.read_csv('./csv/MATES CCSS/exercises_Funciones_Mates_CCSS.csv')"
   ]
  },
  {
   "cell_type": "code",
   "execution_count": 43,
   "metadata": {},
   "outputs": [
    {
     "data": {
      "text/html": [
       "<div>\n",
       "<style scoped>\n",
       "    .dataframe tbody tr th:only-of-type {\n",
       "        vertical-align: middle;\n",
       "    }\n",
       "\n",
       "    .dataframe tbody tr th {\n",
       "        vertical-align: top;\n",
       "    }\n",
       "\n",
       "    .dataframe thead th {\n",
       "        text-align: right;\n",
       "    }\n",
       "</style>\n",
       "<table border=\"1\" class=\"dataframe\">\n",
       "  <thead>\n",
       "    <tr style=\"text-align: right;\">\n",
       "      <th></th>\n",
       "      <th>subject</th>\n",
       "      <th>year</th>\n",
       "      <th>topic</th>\n",
       "      <th>exam</th>\n",
       "      <th>exercise</th>\n",
       "      <th>statement</th>\n",
       "    </tr>\n",
       "  </thead>\n",
       "  <tbody>\n",
       "    <tr>\n",
       "      <th>0</th>\n",
       "      <td>Mates CCSS</td>\n",
       "      <td>2001</td>\n",
       "      <td>Funciones CCSS</td>\n",
       "      <td>Junio</td>\n",
       "      <td>Ejercicio 2 Opción A</td>\n",
       "      <td>Calcule las funciones derivadas de las siguien...</td>\n",
       "    </tr>\n",
       "    <tr>\n",
       "      <th>1</th>\n",
       "      <td>Mates CCSS</td>\n",
       "      <td>2001</td>\n",
       "      <td>Funciones CCSS</td>\n",
       "      <td>Reserva 1</td>\n",
       "      <td>Ejercicio 2 Opción A</td>\n",
       "      <td>beneficio diario, en euros, será: B(x)=-10x? +...</td>\n",
       "    </tr>\n",
       "    <tr>\n",
       "      <th>2</th>\n",
       "      <td>Mates CCSS</td>\n",
       "      <td>2001</td>\n",
       "      <td>Funciones CCSS</td>\n",
       "      <td>Reserva 2</td>\n",
       "      <td>Ejercicio 2 Opción B</td>\n",
       "      <td>El consumo de luz (en miles de pesetas) de una...</td>\n",
       "    </tr>\n",
       "    <tr>\n",
       "      <th>3</th>\n",
       "      <td>Mates CCSS</td>\n",
       "      <td>2001</td>\n",
       "      <td>Funciones CCSS</td>\n",
       "      <td>Reserva 3</td>\n",
       "      <td>Ejercicio 2 Opción B</td>\n",
       "      <td>Determine los valores que han de tomar “a” y “...</td>\n",
       "    </tr>\n",
       "    <tr>\n",
       "      <th>4</th>\n",
       "      <td>Mates CCSS</td>\n",
       "      <td>2001</td>\n",
       "      <td>Funciones CCSS</td>\n",
       "      <td>Reserva 4</td>\n",
       "      <td>Ejercicio 2 Opción B</td>\n",
       "      <td>El estudio de la rentabilidad de una empresa r...</td>\n",
       "    </tr>\n",
       "  </tbody>\n",
       "</table>\n",
       "</div>"
      ],
      "text/plain": [
       "      subject  year           topic       exam              exercise  \\\n",
       "0  Mates CCSS  2001  Funciones CCSS      Junio  Ejercicio 2 Opción A   \n",
       "1  Mates CCSS  2001  Funciones CCSS  Reserva 1  Ejercicio 2 Opción A   \n",
       "2  Mates CCSS  2001  Funciones CCSS  Reserva 2  Ejercicio 2 Opción B   \n",
       "3  Mates CCSS  2001  Funciones CCSS  Reserva 3  Ejercicio 2 Opción B   \n",
       "4  Mates CCSS  2001  Funciones CCSS  Reserva 4  Ejercicio 2 Opción B   \n",
       "\n",
       "                                           statement  \n",
       "0  Calcule las funciones derivadas de las siguien...  \n",
       "1  beneficio diario, en euros, será: B(x)=-10x? +...  \n",
       "2  El consumo de luz (en miles de pesetas) de una...  \n",
       "3  Determine los valores que han de tomar “a” y “...  \n",
       "4  El estudio de la rentabilidad de una empresa r...  "
      ]
     },
     "execution_count": 43,
     "metadata": {},
     "output_type": "execute_result"
    }
   ],
   "source": [
    "df.head()"
   ]
  },
  {
   "cell_type": "code",
   "execution_count": 44,
   "metadata": {},
   "outputs": [
    {
     "data": {
      "text/plain": [
       "array(['Mates CCSS'], dtype=object)"
      ]
     },
     "execution_count": 44,
     "metadata": {},
     "output_type": "execute_result"
    }
   ],
   "source": [
    "df.subject.unique()"
   ]
  },
  {
   "cell_type": "code",
   "execution_count": null,
   "metadata": {},
   "outputs": [],
   "source": [
    "# df.subject = 'Mates CCSS'"
   ]
  },
  {
   "cell_type": "code",
   "execution_count": 50,
   "metadata": {},
   "outputs": [
    {
     "data": {
      "text/plain": [
       "['exercises_Matrices y Determinantes.csv',\n",
       " 'exercises_Sistemas de Ecuaciones Lineales CCSS.csv',\n",
       " 'exercises_Inferencia Estadística.csv',\n",
       " 'exercises_Funciones_Mates_CCSS.csv',\n",
       " 'exercises_Programación Lineal.csv',\n",
       " 'exercises_Contraste de Hipótesis.csv',\n",
       " 'exercises_Probabilidad.csv']"
      ]
     },
     "execution_count": 50,
     "metadata": {},
     "output_type": "execute_result"
    }
   ],
   "source": [
    "csv_files"
   ]
  },
  {
   "cell_type": "code",
   "execution_count": 53,
   "metadata": {},
   "outputs": [
    {
     "name": "stdout",
     "output_type": "stream",
     "text": [
      "**********\n",
      "File: exercises_Matrices y Determinantes\n",
      "subject: ['Mates CCSS']\n",
      "year: [2001 2002 2003 2004 2005 2006 2007 2008 2009 2010 2011 2012 2013 2014\n",
      " 2015 2016 2017 2018 2019 2020 2021 2022 2023]\n",
      "topic: ['Matrices Y Determinantes']\n",
      "exam: ['Junio' 'Reserva 1' 'Reserva 2' 'Reserva 3' 'Reserva 4' 'Septiembre'\n",
      " 'Ponencia' 'Julio']\n",
      "exercise: ['Ejercicio 1 Opción B' 'Ejercicio 1 Opcion A' 'Ejercicio 1 Opción A'\n",
      " 'Ejercicio 1 Opcion B' ' Ejercicio 1 Opcion A' 'Ejercicio 1B Opción B'\n",
      " '1' '2' '3' '4' '5' '6' '7' '$' 'Ejercicio A1' 'Ejercicio A2']\n",
      "**********\n",
      "\n",
      "**********\n",
      "File: exercises_Sistemas de Ecuaciones Lineales CCSS\n",
      "subject: ['Mates CCSS']\n",
      "year: [2001 2002 2003 2004 2005 2006 2007 2009]\n",
      "topic: ['MCCSS-T2-2001' 'MCCSS-T2-2002' 'MCCSS-T2-2003' 'MCCSS-T2-2004'\n",
      " 'MCCSS-T2-2005' 'MCCSS-T2-2006' 'MCCSS-T2-2007' 'MCCSS-T2-2009']\n",
      "exam: ['Reserva 4' 'Septiembre' 'Junio' 'Reserva 2' 'Reserva 3' 'Reserva 1']\n",
      "exercise: ['Ejercicio 1 Opción B' 'Ejercicio 1 Opción A' 'Ejercicio 1 Opcion A']\n",
      "**********\n",
      "\n",
      "**********\n",
      "File: exercises_Inferencia Estadística\n",
      "subject: ['Mates CCSS']\n",
      "year: [2001 2002 2003 2004 2005 2006 2007 2008 2009 2010 2011 2012 2013 2014\n",
      " 2015 2016 2017 2018 2019 2020 2021 2022 2023]\n",
      "topic: ['Inferencia Estadística']\n",
      "exam: ['Junio' 'Reserva 1' 'Reserva 2' 'Reserva 3' 'Reserva 4' 'Septiembre'\n",
      " 'Julio']\n",
      "exercise: ['Ejercicio 3 Parte It Opción A' 'Ejercicio 3 Parte Ii Opción B'\n",
      " 'Ejercicio 3 Parte Ii Opción A' 'Ejercicio 3 Parte Iil Opción B'\n",
      " 'Ejercicio 3 Parte Il Opcion A' 'Ejercicio 3 Parte Il Opción B'\n",
      " 'Ejercicio 3 Parte Il Opción A' 'Ejercicio 3 Parte Ii Opcióon A'\n",
      " 'Ejercicio 3 Parte Iil Opción A' 'Ejercicio 3 Parte I Opción A'\n",
      " 'Ejercicio 3 Parte Il Opcióon A' 'Ejercicio 3 Parte Ii Opcion A'\n",
      " 'Ejercicio 4 Opcion A' 'Ejercicio 4 Opción A' 'Ejercicio 4 Opción B'\n",
      " 'Ejercicio 4 Opcion B' 'Ejercicio D7' 'Ejercicio D8']\n",
      "**********\n",
      "\n",
      "**********\n",
      "File: exercises_Funciones_Mates_CCSS\n",
      "subject: ['Mates CCSS']\n",
      "year: [2001 2002 2003 2004 2005 2006 2007 2008 2009 2010 2011 2012 2013 2014\n",
      " 2015 2016 2017 2018 2019 2020 2021 2022 2023 2024]\n",
      "topic: ['Funciones CCSS' nan]\n",
      "exam: ['Junio' 'Reserva 1' 'Reserva 2' 'Reserva 3' 'Reserva 4' 'Septiembre'\n",
      " 'Ponencia' 'Julio' 'Modelo']\n",
      "exercise: ['Ejercicio 2 Opción A' 'Ejercicio 2 Opción B' 'Ejercicio 2 Opcion A'\n",
      " 'Ejercicio 2 Opcion B' 'Ejercicio 2 Opcióon A' '16' '17' '18' '19' '20'\n",
      " '21' 'Ejercicio B3' 'Ejercicio B4' 'Ejercicio 2']\n",
      "**********\n",
      "\n",
      "**********\n",
      "File: exercises_Programación Lineal\n",
      "subject: ['Mates CCSS']\n",
      "year: [2001 2002 2003 2004 2005 2006 2007 2008 2009 2010 2011 2012 2013 2014\n",
      " 2015 2016 2017 2018 2019 2020 2021 2022 2023 2024]\n",
      "topic: ['Programación Lineal']\n",
      "exam: ['Junio' 'Reserva 1' 'Reserva 2' 'Reserva 3' 'Reserva 4' 'Septiembre'\n",
      " 'Ponencia' 'Julio']\n",
      "exercise: ['Ejercicio 1 Opción A' 'Ejercicio 1 Opción B' 'Ejercicio 1 Opcion B'\n",
      " 'Ejercicio 1 Opcion A' 'Ejercicio 1B Opción B' '9' '10' '11' '12' '13'\n",
      " '14' '15' 'Ejercicio A2' 'Ejercicio A1']\n",
      "**********\n",
      "\n",
      "**********\n",
      "File: exercises_Contraste de Hipótesis\n",
      "subject: ['Mates CCSS']\n",
      "year: [2010 2011 2012 2013 2014 2015 2016]\n",
      "topic: ['Contraste De Hipótesis']\n",
      "exam: ['Junio' 'Reserva 1' 'Reserva 2' 'Reserva 4' 'Septiembre' 'Reserva 3']\n",
      "exercise: ['Ejercicio 4 Opción B' 'Ejercicio 4 Opcióon A' 'Ejercicio 4 Opción A'\n",
      " 'Ejercicio 4 Opcion A' 'Ejercicio 4 Opcion B']\n",
      "**********\n",
      "\n",
      "**********\n",
      "File: exercises_Probabilidad\n",
      "subject: ['Mates CCSS']\n",
      "year: [2001 2002 2003 2004 2005 2006 2007 2008 2009 2010 2011 2012 2013 2014\n",
      " 2015 2016 2017 2018 2019 2020 2021 2022 2023]\n",
      "topic: ['Probabilidad']\n",
      "exam: ['Junio' 'Reserva 1' 'Reserva 2' 'Reserva 3' 'Reserva 4' 'Septiembre'\n",
      " 'Julio']\n",
      "exercise: ['Ejercicio 3 Parte I Opción A' 'Ejercicio 3 Parte I Opción B'\n",
      " 'Ejercicio 3 Parte I Opcióon A' 'Ejercicio 3 Parte I Opcion A'\n",
      " 'Ejercicio 3 Parte 1 Opción B' '4 Ejercicio 3 Parte I Opción A'\n",
      " 'Ejercicio 3 Opción A' 'Ejercicio 3 Opción B' 'Ejercicio 3 Opcion A'\n",
      " 'Ejercicio 3 Opcióon A' 'Ejercicio 3 Opcion B' 'Ejercicio Cs'\n",
      " 'Ejercicio C6' 'Ejercicio Cs5' 'Ejercicio C5']\n",
      "**********\n",
      "\n"
     ]
    }
   ],
   "source": [
    "for file in csv_files:\n",
    "    df = pd.read_csv(file)\n",
    "    print('*' * 10)\n",
    "    print(f'File: {file[:-4]}')\n",
    "\n",
    "    for col in df.columns:\n",
    "        if col != 'statement':\n",
    "            print(f'{col}: {df[col].unique()}')\n",
    "\n",
    "    print('*' * 10 + '\\n')"
   ]
  },
  {
   "cell_type": "code",
   "execution_count": 37,
   "metadata": {},
   "outputs": [],
   "source": [
    "df.loc[df.exam == 'Tunto', 'exam'] = 'Junio'"
   ]
  },
  {
   "cell_type": "code",
   "execution_count": 38,
   "metadata": {},
   "outputs": [
    {
     "data": {
      "text/plain": [
       "min    2001\n",
       "max    2024\n",
       "Name: year, dtype: int64"
      ]
     },
     "execution_count": 38,
     "metadata": {},
     "output_type": "execute_result"
    }
   ],
   "source": [
    "df.year.agg(['min', 'max'])"
   ]
  },
  {
   "cell_type": "code",
   "execution_count": 39,
   "metadata": {},
   "outputs": [],
   "source": [
    "df.to_csv('./csv/exercises_Funciones_Mates_CCSS.csv', index=False)"
   ]
  },
  {
   "cell_type": "code",
   "execution_count": 41,
   "metadata": {},
   "outputs": [
    {
     "data": {
      "text/html": [
       "<div>\n",
       "<style scoped>\n",
       "    .dataframe tbody tr th:only-of-type {\n",
       "        vertical-align: middle;\n",
       "    }\n",
       "\n",
       "    .dataframe tbody tr th {\n",
       "        vertical-align: top;\n",
       "    }\n",
       "\n",
       "    .dataframe thead th {\n",
       "        text-align: right;\n",
       "    }\n",
       "</style>\n",
       "<table border=\"1\" class=\"dataframe\">\n",
       "  <thead>\n",
       "    <tr style=\"text-align: right;\">\n",
       "      <th></th>\n",
       "      <th>subject</th>\n",
       "      <th>year</th>\n",
       "      <th>topic</th>\n",
       "      <th>exam</th>\n",
       "      <th>exercise</th>\n",
       "      <th>statement</th>\n",
       "    </tr>\n",
       "  </thead>\n",
       "  <tbody>\n",
       "    <tr>\n",
       "      <th>141</th>\n",
       "      <td>Mates CCSS</td>\n",
       "      <td>2016</td>\n",
       "      <td>Funciones CCSS</td>\n",
       "      <td>Junio</td>\n",
       "      <td>Ejercicio 2 Opción B</td>\n",
       "      <td>La cantidad, C, que una entidad bancaria dedic...</td>\n",
       "    </tr>\n",
       "    <tr>\n",
       "      <th>142</th>\n",
       "      <td>Mates CCSS</td>\n",
       "      <td>2016</td>\n",
       "      <td>Funciones CCSS</td>\n",
       "      <td>Reserva 1</td>\n",
       "      <td>Ejercicio 2 Opción A</td>\n",
       "      <td>En un ensayo clínico de 10 meses de duración, ...</td>\n",
       "    </tr>\n",
       "    <tr>\n",
       "      <th>143</th>\n",
       "      <td>Mates CCSS</td>\n",
       "      <td>2016</td>\n",
       "      <td>Funciones CCSS</td>\n",
       "      <td>Reserva 1</td>\n",
       "      <td>Ejercicio 2 Opción B</td>\n",
       "      <td>3x+1\\nx—1\\na) Estudie su continuidad y derivab...</td>\n",
       "    </tr>\n",
       "    <tr>\n",
       "      <th>144</th>\n",
       "      <td>Mates CCSS</td>\n",
       "      <td>2016</td>\n",
       "      <td>Funciones CCSS</td>\n",
       "      <td>Reserva 2</td>\n",
       "      <td>Ejercicio 2 Opcion A</td>\n",
       "      <td>Una fábrica produce entre 1000 y 6000 bombilla...</td>\n",
       "    </tr>\n",
       "    <tr>\n",
       "      <th>145</th>\n",
       "      <td>Mates CCSS</td>\n",
       "      <td>2016</td>\n",
       "      <td>Funciones CCSS</td>\n",
       "      <td>Reserva 2</td>\n",
       "      <td>Ejercicio 2 Opcion B</td>\n",
       "      <td>Los beneficios de una empresa, en miles de eur...</td>\n",
       "    </tr>\n",
       "    <tr>\n",
       "      <th>146</th>\n",
       "      <td>Mates CCSS</td>\n",
       "      <td>2016</td>\n",
       "      <td>Funciones CCSS</td>\n",
       "      <td>Reserva 3</td>\n",
       "      <td>Ejercicio 2 Opcion A</td>\n",
       "      <td>a) Calcule las derivadas de las siguientes fun...</td>\n",
       "    </tr>\n",
       "    <tr>\n",
       "      <th>147</th>\n",
       "      <td>Mates CCSS</td>\n",
       "      <td>2016</td>\n",
       "      <td>Funciones CCSS</td>\n",
       "      <td>Reserva 3</td>\n",
       "      <td>Ejercicio 2 Opcion B</td>\n",
       "      <td>La función de costes de una fábrica, f (x), en...</td>\n",
       "    </tr>\n",
       "    <tr>\n",
       "      <th>148</th>\n",
       "      <td>Mates CCSS</td>\n",
       "      <td>2016</td>\n",
       "      <td>Funciones CCSS</td>\n",
       "      <td>Reserva 4</td>\n",
       "      <td>Ejercicio 2 Opcion A</td>\n",
       "      <td>1., .\\n— 1 &lt;2\\nSea la función f(x)= ax N , con...</td>\n",
       "    </tr>\n",
       "    <tr>\n",
       "      <th>149</th>\n",
       "      <td>Mates CCSS</td>\n",
       "      <td>2016</td>\n",
       "      <td>Funciones CCSS</td>\n",
       "      <td>Reserva 4</td>\n",
       "      <td>Ejercicio 2 Opcion B</td>\n",
       "      <td>4\\nSe considera la función f(x)= r\\nx?-2x+2 si...</td>\n",
       "    </tr>\n",
       "    <tr>\n",
       "      <th>150</th>\n",
       "      <td>Mates CCSS</td>\n",
       "      <td>2016</td>\n",
       "      <td>Funciones CCSS</td>\n",
       "      <td>Septiembre</td>\n",
       "      <td>Ejercicio 2 Opcióon A</td>\n",
       "      <td>De una función continua y derivable, f, se sab...</td>\n",
       "    </tr>\n",
       "    <tr>\n",
       "      <th>151</th>\n",
       "      <td>Mates CCSS</td>\n",
       "      <td>2016</td>\n",
       "      <td>Funciones CCSS</td>\n",
       "      <td>Septiembre</td>\n",
       "      <td>Ejercicio 2 Opción B</td>\n",
       "      <td>x*-4x+a\\nSea la función f(x)= 1\\nx—1\\na) Calcu...</td>\n",
       "    </tr>\n",
       "  </tbody>\n",
       "</table>\n",
       "</div>"
      ],
      "text/plain": [
       "        subject  year           topic        exam               exercise  \\\n",
       "141  Mates CCSS  2016  Funciones CCSS       Junio   Ejercicio 2 Opción B   \n",
       "142  Mates CCSS  2016  Funciones CCSS   Reserva 1   Ejercicio 2 Opción A   \n",
       "143  Mates CCSS  2016  Funciones CCSS   Reserva 1   Ejercicio 2 Opción B   \n",
       "144  Mates CCSS  2016  Funciones CCSS   Reserva 2   Ejercicio 2 Opcion A   \n",
       "145  Mates CCSS  2016  Funciones CCSS   Reserva 2   Ejercicio 2 Opcion B   \n",
       "146  Mates CCSS  2016  Funciones CCSS   Reserva 3   Ejercicio 2 Opcion A   \n",
       "147  Mates CCSS  2016  Funciones CCSS   Reserva 3   Ejercicio 2 Opcion B   \n",
       "148  Mates CCSS  2016  Funciones CCSS   Reserva 4   Ejercicio 2 Opcion A   \n",
       "149  Mates CCSS  2016  Funciones CCSS   Reserva 4   Ejercicio 2 Opcion B   \n",
       "150  Mates CCSS  2016  Funciones CCSS  Septiembre  Ejercicio 2 Opcióon A   \n",
       "151  Mates CCSS  2016  Funciones CCSS  Septiembre   Ejercicio 2 Opción B   \n",
       "\n",
       "                                             statement  \n",
       "141  La cantidad, C, que una entidad bancaria dedic...  \n",
       "142  En un ensayo clínico de 10 meses de duración, ...  \n",
       "143  3x+1\\nx—1\\na) Estudie su continuidad y derivab...  \n",
       "144  Una fábrica produce entre 1000 y 6000 bombilla...  \n",
       "145  Los beneficios de una empresa, en miles de eur...  \n",
       "146  a) Calcule las derivadas de las siguientes fun...  \n",
       "147  La función de costes de una fábrica, f (x), en...  \n",
       "148  1., .\\n— 1 <2\\nSea la función f(x)= ax N , con...  \n",
       "149  4\\nSe considera la función f(x)= r\\nx?-2x+2 si...  \n",
       "150  De una función continua y derivable, f, se sab...  \n",
       "151  x*-4x+a\\nSea la función f(x)= 1\\nx—1\\na) Calcu...  "
      ]
     },
     "execution_count": 41,
     "metadata": {},
     "output_type": "execute_result"
    }
   ],
   "source": [
    "df[df.year == 2016]"
   ]
  },
  {
   "cell_type": "code",
   "execution_count": null,
   "metadata": {},
   "outputs": [],
   "source": []
  }
 ],
 "metadata": {
  "kernelspec": {
   "display_name": "venv",
   "language": "python",
   "name": "python3"
  },
  "language_info": {
   "codemirror_mode": {
    "name": "ipython",
    "version": 3
   },
   "file_extension": ".py",
   "mimetype": "text/x-python",
   "name": "python",
   "nbconvert_exporter": "python",
   "pygments_lexer": "ipython3",
   "version": "3.13.2"
  }
 },
 "nbformat": 4,
 "nbformat_minor": 2
}
